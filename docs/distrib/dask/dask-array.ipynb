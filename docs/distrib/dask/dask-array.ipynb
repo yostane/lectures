{
 "cells": [
  {
   "cell_type": "markdown",
   "id": "bdcd4e9b",
   "metadata": {},
   "source": [
    "# Dask array\n",
    "\n",
    "Permet de manipuler des tableau multi-dimensionnels."
   ]
  },
  {
   "cell_type": "code",
   "execution_count": null,
   "id": "c60d13f2",
   "metadata": {},
   "outputs": [],
   "source": [
    "import numpy as np\n",
    "import dask.array as da\n",
    "\n",
    "data = np.arange(100_000).reshape(200, 500)\n",
    "a = da.from_array(data, chunks=(100, 100))\n",
    "a"
   ]
  }
 ],
 "metadata": {
  "kernelspec": {
   "display_name": ".venv",
   "language": "python",
   "name": "python3"
  },
  "language_info": {
   "name": "python",
   "version": "3.13.3"
  }
 },
 "nbformat": 4,
 "nbformat_minor": 5
}
