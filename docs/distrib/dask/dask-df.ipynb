{
 "cells": [
  {
   "cell_type": "markdown",
   "id": "34c407fb",
   "metadata": {},
   "source": [
    "# Dask dataframe demonstration"
   ]
  },
  {
   "cell_type": "code",
   "execution_count": 58,
   "id": "9a74ee83",
   "metadata": {},
   "outputs": [],
   "source": [
    "import numpy as np\n",
    "import pandas as pd\n",
    "\n",
    "import dask.dataframe as dd"
   ]
  },
  {
   "cell_type": "markdown",
   "id": "d215d273",
   "metadata": {},
   "source": [
    "Création de 2400 dates séaprées de 1h"
   ]
  },
  {
   "cell_type": "code",
   "execution_count": 59,
   "id": "25863024",
   "metadata": {},
   "outputs": [
    {
     "data": {
      "text/plain": [
       "DatetimeIndex(['2021-09-01 00:00:00', '2021-09-01 01:00:00',\n",
       "               '2021-09-01 02:00:00', '2021-09-01 03:00:00',\n",
       "               '2021-09-01 04:00:00', '2021-09-01 05:00:00',\n",
       "               '2021-09-01 06:00:00', '2021-09-01 07:00:00',\n",
       "               '2021-09-01 08:00:00', '2021-09-01 09:00:00',\n",
       "               ...\n",
       "               '2021-12-09 14:00:00', '2021-12-09 15:00:00',\n",
       "               '2021-12-09 16:00:00', '2021-12-09 17:00:00',\n",
       "               '2021-12-09 18:00:00', '2021-12-09 19:00:00',\n",
       "               '2021-12-09 20:00:00', '2021-12-09 21:00:00',\n",
       "               '2021-12-09 22:00:00', '2021-12-09 23:00:00'],\n",
       "              dtype='datetime64[ns]', length=2400, freq='h')"
      ]
     },
     "execution_count": 59,
     "metadata": {},
     "output_type": "execute_result"
    }
   ],
   "source": [
    "index = pd.date_range(\"2021-09-01\", periods=2400, freq=\"1h\")\n",
    "index"
   ]
  },
  {
   "cell_type": "markdown",
   "id": "507faa49",
   "metadata": {},
   "source": [
    "Création d'un dataframe pandas de dates avec 3 colonnes.\n",
    "\n",
    "1. \"a\" : un indetifiant de 0 à 2399\n",
    "1. \"b\" : un caratère pris de la liste `\"abcaddbe\" * 300` (8 caractères * 300 = 2400 lignes) un par un et répartis sur chaque ligne\n",
    "1. la colonne index : une date parmi les 2400 dates générées plus haut (peremt de labéliser ou identifier la ligne de façon unique, comme la clé primaire dans une BDD relationnelle)"
   ]
  },
  {
   "cell_type": "code",
   "execution_count": 60,
   "id": "54a0b167",
   "metadata": {},
   "outputs": [
    {
     "data": {
      "text/html": [
       "<div>\n",
       "<style scoped>\n",
       "    .dataframe tbody tr th:only-of-type {\n",
       "        vertical-align: middle;\n",
       "    }\n",
       "\n",
       "    .dataframe tbody tr th {\n",
       "        vertical-align: top;\n",
       "    }\n",
       "\n",
       "    .dataframe thead th {\n",
       "        text-align: right;\n",
       "    }\n",
       "</style>\n",
       "<table border=\"1\" class=\"dataframe\">\n",
       "  <thead>\n",
       "    <tr style=\"text-align: right;\">\n",
       "      <th></th>\n",
       "      <th>a</th>\n",
       "      <th>b</th>\n",
       "    </tr>\n",
       "  </thead>\n",
       "  <tbody>\n",
       "    <tr>\n",
       "      <th>2021-09-01 00:00:00</th>\n",
       "      <td>0</td>\n",
       "      <td>a</td>\n",
       "    </tr>\n",
       "    <tr>\n",
       "      <th>2021-09-01 01:00:00</th>\n",
       "      <td>1</td>\n",
       "      <td>b</td>\n",
       "    </tr>\n",
       "    <tr>\n",
       "      <th>2021-09-01 02:00:00</th>\n",
       "      <td>2</td>\n",
       "      <td>c</td>\n",
       "    </tr>\n",
       "    <tr>\n",
       "      <th>2021-09-01 03:00:00</th>\n",
       "      <td>3</td>\n",
       "      <td>a</td>\n",
       "    </tr>\n",
       "    <tr>\n",
       "      <th>2021-09-01 04:00:00</th>\n",
       "      <td>4</td>\n",
       "      <td>d</td>\n",
       "    </tr>\n",
       "    <tr>\n",
       "      <th>...</th>\n",
       "      <td>...</td>\n",
       "      <td>...</td>\n",
       "    </tr>\n",
       "    <tr>\n",
       "      <th>2021-12-09 19:00:00</th>\n",
       "      <td>2395</td>\n",
       "      <td>a</td>\n",
       "    </tr>\n",
       "    <tr>\n",
       "      <th>2021-12-09 20:00:00</th>\n",
       "      <td>2396</td>\n",
       "      <td>d</td>\n",
       "    </tr>\n",
       "    <tr>\n",
       "      <th>2021-12-09 21:00:00</th>\n",
       "      <td>2397</td>\n",
       "      <td>d</td>\n",
       "    </tr>\n",
       "    <tr>\n",
       "      <th>2021-12-09 22:00:00</th>\n",
       "      <td>2398</td>\n",
       "      <td>b</td>\n",
       "    </tr>\n",
       "    <tr>\n",
       "      <th>2021-12-09 23:00:00</th>\n",
       "      <td>2399</td>\n",
       "      <td>e</td>\n",
       "    </tr>\n",
       "  </tbody>\n",
       "</table>\n",
       "<p>2400 rows × 2 columns</p>\n",
       "</div>"
      ],
      "text/plain": [
       "                        a  b\n",
       "2021-09-01 00:00:00     0  a\n",
       "2021-09-01 01:00:00     1  b\n",
       "2021-09-01 02:00:00     2  c\n",
       "2021-09-01 03:00:00     3  a\n",
       "2021-09-01 04:00:00     4  d\n",
       "...                   ... ..\n",
       "2021-12-09 19:00:00  2395  a\n",
       "2021-12-09 20:00:00  2396  d\n",
       "2021-12-09 21:00:00  2397  d\n",
       "2021-12-09 22:00:00  2398  b\n",
       "2021-12-09 23:00:00  2399  e\n",
       "\n",
       "[2400 rows x 2 columns]"
      ]
     },
     "execution_count": 60,
     "metadata": {},
     "output_type": "execute_result"
    }
   ],
   "source": [
    "df = pd.DataFrame({\"a\": np.arange(2400), \"b\": list(\"abcaddbe\" * 300)}, index=index)\n",
    "df"
   ]
  },
  {
   "cell_type": "markdown",
   "id": "4d7d7720",
   "metadata": {},
   "source": [
    "Création d'un dataframe dask à partir du dataframe pandas en demandant de répartir les données sur 10 paprtitions."
   ]
  },
  {
   "cell_type": "code",
   "execution_count": 61,
   "id": "61fb2f67",
   "metadata": {},
   "outputs": [
    {
     "data": {
      "text/html": [
       "<div><strong>Dask DataFrame Structure:</strong></div>\n",
       "<table border=\"1\" class=\"dataframe\">\n",
       "  <thead>\n",
       "    <tr style=\"text-align: right;\">\n",
       "      <th></th>\n",
       "      <th>a</th>\n",
       "      <th>b</th>\n",
       "    </tr>\n",
       "    <tr>\n",
       "      <th>npartitions=10</th>\n",
       "      <th></th>\n",
       "      <th></th>\n",
       "    </tr>\n",
       "  </thead>\n",
       "  <tbody>\n",
       "    <tr>\n",
       "      <th>2021-09-01 00:00:00</th>\n",
       "      <td>int64</td>\n",
       "      <td>string</td>\n",
       "    </tr>\n",
       "    <tr>\n",
       "      <th>2021-09-11 00:00:00</th>\n",
       "      <td>...</td>\n",
       "      <td>...</td>\n",
       "    </tr>\n",
       "    <tr>\n",
       "      <th>...</th>\n",
       "      <td>...</td>\n",
       "      <td>...</td>\n",
       "    </tr>\n",
       "    <tr>\n",
       "      <th>2021-11-30 00:00:00</th>\n",
       "      <td>...</td>\n",
       "      <td>...</td>\n",
       "    </tr>\n",
       "    <tr>\n",
       "      <th>2021-12-09 23:00:00</th>\n",
       "      <td>...</td>\n",
       "      <td>...</td>\n",
       "    </tr>\n",
       "  </tbody>\n",
       "</table>\n",
       "<div>Dask Name: frompandas, 1 expression</div>"
      ],
      "text/plain": [
       "Dask DataFrame Structure:\n",
       "                         a       b\n",
       "npartitions=10                    \n",
       "2021-09-01 00:00:00  int64  string\n",
       "2021-09-11 00:00:00    ...     ...\n",
       "...                    ...     ...\n",
       "2021-11-30 00:00:00    ...     ...\n",
       "2021-12-09 23:00:00    ...     ...\n",
       "Dask Name: frompandas, 1 expression\n",
       "Expr=df"
      ]
     },
     "execution_count": 61,
     "metadata": {},
     "output_type": "execute_result"
    }
   ],
   "source": [
    "ddf = dd.from_pandas(df, npartitions=10)\n",
    "ddf"
   ]
  },
  {
   "cell_type": "markdown",
   "id": "59486dcf",
   "metadata": {},
   "source": [
    "Vérification des indicdes de début et de fin de chaque partition (l'indice de fin d'une partition est l'indice de début de la partition suivante - 1)."
   ]
  },
  {
   "cell_type": "code",
   "execution_count": 62,
   "id": "606096ac",
   "metadata": {},
   "outputs": [
    {
     "data": {
      "text/plain": [
       "(Timestamp('2021-09-01 00:00:00'),\n",
       " Timestamp('2021-09-11 00:00:00'),\n",
       " Timestamp('2021-09-21 00:00:00'),\n",
       " Timestamp('2021-10-01 00:00:00'),\n",
       " Timestamp('2021-10-11 00:00:00'),\n",
       " Timestamp('2021-10-21 00:00:00'),\n",
       " Timestamp('2021-10-31 00:00:00'),\n",
       " Timestamp('2021-11-10 00:00:00'),\n",
       " Timestamp('2021-11-20 00:00:00'),\n",
       " Timestamp('2021-11-30 00:00:00'),\n",
       " Timestamp('2021-12-09 23:00:00'))"
      ]
     },
     "execution_count": 62,
     "metadata": {},
     "output_type": "execute_result"
    }
   ],
   "source": [
    "ddf.divisions"
   ]
  },
  {
   "cell_type": "markdown",
   "id": "b7617646",
   "metadata": {},
   "source": [
    "Accès à une partition particulière"
   ]
  },
  {
   "cell_type": "code",
   "execution_count": 63,
   "id": "5435af54",
   "metadata": {},
   "outputs": [
    {
     "data": {
      "text/html": [
       "<div><strong>Dask DataFrame Structure:</strong></div>\n",
       "<table border=\"1\" class=\"dataframe\">\n",
       "  <thead>\n",
       "    <tr style=\"text-align: right;\">\n",
       "      <th></th>\n",
       "      <th>a</th>\n",
       "      <th>b</th>\n",
       "    </tr>\n",
       "    <tr>\n",
       "      <th>npartitions=1</th>\n",
       "      <th></th>\n",
       "      <th></th>\n",
       "    </tr>\n",
       "  </thead>\n",
       "  <tbody>\n",
       "    <tr>\n",
       "      <th>2021-09-11</th>\n",
       "      <td>int64</td>\n",
       "      <td>string</td>\n",
       "    </tr>\n",
       "    <tr>\n",
       "      <th>2021-09-21</th>\n",
       "      <td>...</td>\n",
       "      <td>...</td>\n",
       "    </tr>\n",
       "  </tbody>\n",
       "</table>\n",
       "<div>Dask Name: partitions, 2 expressions</div>"
      ],
      "text/plain": [
       "Dask DataFrame Structure:\n",
       "                   a       b\n",
       "npartitions=1               \n",
       "2021-09-11     int64  string\n",
       "2021-09-21       ...     ...\n",
       "Dask Name: partitions, 2 expressions\n",
       "Expr=Partitions(frame=df, partitions=[1])"
      ]
     },
     "execution_count": 63,
     "metadata": {},
     "output_type": "execute_result"
    }
   ],
   "source": [
    "ddf.partitions[1]"
   ]
  },
  {
   "cell_type": "markdown",
   "id": "579a3fa9",
   "metadata": {},
   "source": [
    "## Indexation\n",
    "\n",
    "API simiaire à celle du DataFrame pandas et de des tableaus NumPy.\n",
    "\n",
    "L'exemple suivant sélectionne la colonne \"b\" avec le DataFrame dask et le DataFrame pandas."
   ]
  },
  {
   "cell_type": "code",
   "execution_count": 64,
   "id": "8a8d8b98",
   "metadata": {},
   "outputs": [
    {
     "data": {
      "text/plain": [
       "2021-09-01 00:00:00    a\n",
       "2021-09-01 01:00:00    b\n",
       "2021-09-01 02:00:00    c\n",
       "2021-09-01 03:00:00    a\n",
       "2021-09-01 04:00:00    d\n",
       "                      ..\n",
       "2021-12-09 19:00:00    a\n",
       "2021-12-09 20:00:00    d\n",
       "2021-12-09 21:00:00    d\n",
       "2021-12-09 22:00:00    b\n",
       "2021-12-09 23:00:00    e\n",
       "Freq: h, Name: b, Length: 2400, dtype: object"
      ]
     },
     "execution_count": 64,
     "metadata": {},
     "output_type": "execute_result"
    }
   ],
   "source": [
    "df[\"b\"] # Ou df.b"
   ]
  },
  {
   "cell_type": "code",
   "execution_count": 65,
   "id": "d8310b50",
   "metadata": {},
   "outputs": [
    {
     "data": {
      "text/plain": [
       "Dask Series Structure:\n",
       "npartitions=10\n",
       "2021-09-01 00:00:00    string\n",
       "2021-09-11 00:00:00       ...\n",
       "                        ...  \n",
       "2021-11-30 00:00:00       ...\n",
       "2021-12-09 23:00:00       ...\n",
       "Dask Name: getitem, 2 expressions\n",
       "Expr=df['b']"
      ]
     },
     "execution_count": 65,
     "metadata": {},
     "output_type": "execute_result"
    }
   ],
   "source": [
    "ddf.b # ou ddf[\"a\"]"
   ]
  },
  {
   "cell_type": "markdown",
   "id": "9d690d1b",
   "metadata": {},
   "source": [
    "Sélection d'un intervalles d'indices"
   ]
  },
  {
   "cell_type": "code",
   "execution_count": 66,
   "id": "ebca1957",
   "metadata": {},
   "outputs": [
    {
     "data": {
      "text/html": [
       "<div>\n",
       "<style scoped>\n",
       "    .dataframe tbody tr th:only-of-type {\n",
       "        vertical-align: middle;\n",
       "    }\n",
       "\n",
       "    .dataframe tbody tr th {\n",
       "        vertical-align: top;\n",
       "    }\n",
       "\n",
       "    .dataframe thead th {\n",
       "        text-align: right;\n",
       "    }\n",
       "</style>\n",
       "<table border=\"1\" class=\"dataframe\">\n",
       "  <thead>\n",
       "    <tr style=\"text-align: right;\">\n",
       "      <th></th>\n",
       "      <th>a</th>\n",
       "      <th>b</th>\n",
       "    </tr>\n",
       "  </thead>\n",
       "  <tbody>\n",
       "    <tr>\n",
       "      <th>2021-10-01 00:00:00</th>\n",
       "      <td>720</td>\n",
       "      <td>a</td>\n",
       "    </tr>\n",
       "    <tr>\n",
       "      <th>2021-10-01 01:00:00</th>\n",
       "      <td>721</td>\n",
       "      <td>b</td>\n",
       "    </tr>\n",
       "    <tr>\n",
       "      <th>2021-10-01 02:00:00</th>\n",
       "      <td>722</td>\n",
       "      <td>c</td>\n",
       "    </tr>\n",
       "    <tr>\n",
       "      <th>2021-10-01 03:00:00</th>\n",
       "      <td>723</td>\n",
       "      <td>a</td>\n",
       "    </tr>\n",
       "    <tr>\n",
       "      <th>2021-10-01 04:00:00</th>\n",
       "      <td>724</td>\n",
       "      <td>d</td>\n",
       "    </tr>\n",
       "    <tr>\n",
       "      <th>...</th>\n",
       "      <td>...</td>\n",
       "      <td>...</td>\n",
       "    </tr>\n",
       "    <tr>\n",
       "      <th>2021-10-09 01:00:00</th>\n",
       "      <td>913</td>\n",
       "      <td>b</td>\n",
       "    </tr>\n",
       "    <tr>\n",
       "      <th>2021-10-09 02:00:00</th>\n",
       "      <td>914</td>\n",
       "      <td>c</td>\n",
       "    </tr>\n",
       "    <tr>\n",
       "      <th>2021-10-09 03:00:00</th>\n",
       "      <td>915</td>\n",
       "      <td>a</td>\n",
       "    </tr>\n",
       "    <tr>\n",
       "      <th>2021-10-09 04:00:00</th>\n",
       "      <td>916</td>\n",
       "      <td>d</td>\n",
       "    </tr>\n",
       "    <tr>\n",
       "      <th>2021-10-09 05:00:00</th>\n",
       "      <td>917</td>\n",
       "      <td>d</td>\n",
       "    </tr>\n",
       "  </tbody>\n",
       "</table>\n",
       "<p>198 rows × 2 columns</p>\n",
       "</div>"
      ],
      "text/plain": [
       "                       a  b\n",
       "2021-10-01 00:00:00  720  a\n",
       "2021-10-01 01:00:00  721  b\n",
       "2021-10-01 02:00:00  722  c\n",
       "2021-10-01 03:00:00  723  a\n",
       "2021-10-01 04:00:00  724  d\n",
       "...                  ... ..\n",
       "2021-10-09 01:00:00  913  b\n",
       "2021-10-09 02:00:00  914  c\n",
       "2021-10-09 03:00:00  915  a\n",
       "2021-10-09 04:00:00  916  d\n",
       "2021-10-09 05:00:00  917  d\n",
       "\n",
       "[198 rows x 2 columns]"
      ]
     },
     "execution_count": 66,
     "metadata": {},
     "output_type": "execute_result"
    }
   ],
   "source": [
    "df[\"2021-10-01\": \"2021-10-09 5:00\"]"
   ]
  },
  {
   "cell_type": "code",
   "execution_count": 67,
   "id": "fd5f4b76",
   "metadata": {},
   "outputs": [
    {
     "data": {
      "text/html": [
       "<div><strong>Dask DataFrame Structure:</strong></div>\n",
       "<table border=\"1\" class=\"dataframe\">\n",
       "  <thead>\n",
       "    <tr style=\"text-align: right;\">\n",
       "      <th></th>\n",
       "      <th>a</th>\n",
       "      <th>b</th>\n",
       "    </tr>\n",
       "    <tr>\n",
       "      <th>npartitions=1</th>\n",
       "      <th></th>\n",
       "      <th></th>\n",
       "    </tr>\n",
       "  </thead>\n",
       "  <tbody>\n",
       "    <tr>\n",
       "      <th>2021-10-01 00:00:00.000000000</th>\n",
       "      <td>int64</td>\n",
       "      <td>string</td>\n",
       "    </tr>\n",
       "    <tr>\n",
       "      <th>2021-10-09 05:00:59.999999999</th>\n",
       "      <td>...</td>\n",
       "      <td>...</td>\n",
       "    </tr>\n",
       "  </tbody>\n",
       "</table>\n",
       "<div>Dask Name: loc, 2 expressions</div>"
      ],
      "text/plain": [
       "Dask DataFrame Structure:\n",
       "                                   a       b\n",
       "npartitions=1                               \n",
       "2021-10-01 00:00:00.000000000  int64  string\n",
       "2021-10-09 05:00:59.999999999    ...     ...\n",
       "Dask Name: loc, 2 expressions\n",
       "Expr=LocSlice(frame=df, iindexer=slice(Timestamp('2021-10-01 00:00:00'), Timestamp('2021-10-09 05:00:59.999999999'), None))"
      ]
     },
     "execution_count": 67,
     "metadata": {},
     "output_type": "execute_result"
    }
   ],
   "source": [
    "ddf[\"2021-10-01\": \"2021-10-09 5:00\"]"
   ]
  },
  {
   "cell_type": "markdown",
   "id": "42ba91ae",
   "metadata": {},
   "source": [
    "On remarque que dask n'évalue pas tout de suite l'opération (lazy)."
   ]
  },
  {
   "cell_type": "markdown",
   "id": "79c339b8",
   "metadata": {},
   "source": [
    "## Calcul ou évaluation des résultats"
   ]
  },
  {
   "cell_type": "markdown",
   "id": "55b5f184",
   "metadata": {},
   "source": [
    "Dask est paresseux (lazy). Il faut donc appeler la méthode `compute()` pour évaluer les résultats."
   ]
  },
  {
   "cell_type": "code",
   "execution_count": 68,
   "id": "dbc78f58",
   "metadata": {},
   "outputs": [
    {
     "data": {
      "text/html": [
       "<div>\n",
       "<style scoped>\n",
       "    .dataframe tbody tr th:only-of-type {\n",
       "        vertical-align: middle;\n",
       "    }\n",
       "\n",
       "    .dataframe tbody tr th {\n",
       "        vertical-align: top;\n",
       "    }\n",
       "\n",
       "    .dataframe thead th {\n",
       "        text-align: right;\n",
       "    }\n",
       "</style>\n",
       "<table border=\"1\" class=\"dataframe\">\n",
       "  <thead>\n",
       "    <tr style=\"text-align: right;\">\n",
       "      <th></th>\n",
       "      <th>a</th>\n",
       "      <th>b</th>\n",
       "    </tr>\n",
       "  </thead>\n",
       "  <tbody>\n",
       "    <tr>\n",
       "      <th>2021-10-01 00:00:00</th>\n",
       "      <td>720</td>\n",
       "      <td>a</td>\n",
       "    </tr>\n",
       "    <tr>\n",
       "      <th>2021-10-01 01:00:00</th>\n",
       "      <td>721</td>\n",
       "      <td>b</td>\n",
       "    </tr>\n",
       "    <tr>\n",
       "      <th>2021-10-01 02:00:00</th>\n",
       "      <td>722</td>\n",
       "      <td>c</td>\n",
       "    </tr>\n",
       "    <tr>\n",
       "      <th>2021-10-01 03:00:00</th>\n",
       "      <td>723</td>\n",
       "      <td>a</td>\n",
       "    </tr>\n",
       "    <tr>\n",
       "      <th>2021-10-01 04:00:00</th>\n",
       "      <td>724</td>\n",
       "      <td>d</td>\n",
       "    </tr>\n",
       "    <tr>\n",
       "      <th>...</th>\n",
       "      <td>...</td>\n",
       "      <td>...</td>\n",
       "    </tr>\n",
       "    <tr>\n",
       "      <th>2021-10-09 01:00:00</th>\n",
       "      <td>913</td>\n",
       "      <td>b</td>\n",
       "    </tr>\n",
       "    <tr>\n",
       "      <th>2021-10-09 02:00:00</th>\n",
       "      <td>914</td>\n",
       "      <td>c</td>\n",
       "    </tr>\n",
       "    <tr>\n",
       "      <th>2021-10-09 03:00:00</th>\n",
       "      <td>915</td>\n",
       "      <td>a</td>\n",
       "    </tr>\n",
       "    <tr>\n",
       "      <th>2021-10-09 04:00:00</th>\n",
       "      <td>916</td>\n",
       "      <td>d</td>\n",
       "    </tr>\n",
       "    <tr>\n",
       "      <th>2021-10-09 05:00:00</th>\n",
       "      <td>917</td>\n",
       "      <td>d</td>\n",
       "    </tr>\n",
       "  </tbody>\n",
       "</table>\n",
       "<p>198 rows × 2 columns</p>\n",
       "</div>"
      ],
      "text/plain": [
       "                       a  b\n",
       "2021-10-01 00:00:00  720  a\n",
       "2021-10-01 01:00:00  721  b\n",
       "2021-10-01 02:00:00  722  c\n",
       "2021-10-01 03:00:00  723  a\n",
       "2021-10-01 04:00:00  724  d\n",
       "...                  ... ..\n",
       "2021-10-09 01:00:00  913  b\n",
       "2021-10-09 02:00:00  914  c\n",
       "2021-10-09 03:00:00  915  a\n",
       "2021-10-09 04:00:00  916  d\n",
       "2021-10-09 05:00:00  917  d\n",
       "\n",
       "[198 rows x 2 columns]"
      ]
     },
     "execution_count": 68,
     "metadata": {},
     "output_type": "execute_result"
    }
   ],
   "source": [
    "ddf[\"2021-10-01\": \"2021-10-09 5:00\"].compute()"
   ]
  },
  {
   "cell_type": "markdown",
   "id": "79791b98",
   "metadata": {},
   "source": [
    "## Méthodes (ou api)"
   ]
  },
  {
   "cell_type": "markdown",
   "id": "eb391a11",
   "metadata": {},
   "source": [
    "Simlaire à NumPy et pandas, sauf qu'il faut considérer que Dask est paresseux (lazy) et qu'il faut appeler la méthode `compute()` pour évaluer les résultats."
   ]
  },
  {
   "cell_type": "code",
   "execution_count": 69,
   "id": "a5395db2",
   "metadata": {},
   "outputs": [
    {
     "data": {
      "text/html": [
       "<div>\n",
       "<style scoped>\n",
       "    .dataframe tbody tr th:only-of-type {\n",
       "        vertical-align: middle;\n",
       "    }\n",
       "\n",
       "    .dataframe tbody tr th {\n",
       "        vertical-align: top;\n",
       "    }\n",
       "\n",
       "    .dataframe thead th {\n",
       "        text-align: right;\n",
       "    }\n",
       "</style>\n",
       "<table border=\"1\" class=\"dataframe\">\n",
       "  <thead>\n",
       "    <tr style=\"text-align: right;\">\n",
       "      <th></th>\n",
       "      <th>a</th>\n",
       "      <th>b</th>\n",
       "    </tr>\n",
       "  </thead>\n",
       "  <tbody>\n",
       "    <tr>\n",
       "      <th>2021-09-01 00:00:00</th>\n",
       "      <td>0</td>\n",
       "      <td>a</td>\n",
       "    </tr>\n",
       "    <tr>\n",
       "      <th>2021-09-01 01:00:00</th>\n",
       "      <td>1</td>\n",
       "      <td>b</td>\n",
       "    </tr>\n",
       "    <tr>\n",
       "      <th>2021-09-01 02:00:00</th>\n",
       "      <td>2</td>\n",
       "      <td>c</td>\n",
       "    </tr>\n",
       "    <tr>\n",
       "      <th>2021-09-01 03:00:00</th>\n",
       "      <td>3</td>\n",
       "      <td>a</td>\n",
       "    </tr>\n",
       "    <tr>\n",
       "      <th>2021-09-01 04:00:00</th>\n",
       "      <td>4</td>\n",
       "      <td>d</td>\n",
       "    </tr>\n",
       "  </tbody>\n",
       "</table>\n",
       "</div>"
      ],
      "text/plain": [
       "                     a  b\n",
       "2021-09-01 00:00:00  0  a\n",
       "2021-09-01 01:00:00  1  b\n",
       "2021-09-01 02:00:00  2  c\n",
       "2021-09-01 03:00:00  3  a\n",
       "2021-09-01 04:00:00  4  d"
      ]
     },
     "execution_count": 69,
     "metadata": {},
     "output_type": "execute_result"
    }
   ],
   "source": [
    "ddf.head()"
   ]
  },
  {
   "cell_type": "code",
   "execution_count": 70,
   "id": "f91a361e",
   "metadata": {},
   "outputs": [
    {
     "data": {
      "text/plain": [
       "<dask_expr.expr.Scalar: expr=df['a'].mean(), dtype=float64>"
      ]
     },
     "execution_count": 70,
     "metadata": {},
     "output_type": "execute_result"
    }
   ],
   "source": [
    "ddf.a.mean() # Non ca"
   ]
  },
  {
   "cell_type": "code",
   "execution_count": 71,
   "id": "a180c572",
   "metadata": {},
   "outputs": [
    {
     "data": {
      "text/plain": [
       "np.float64(1199.5)"
      ]
     },
     "execution_count": 71,
     "metadata": {},
     "output_type": "execute_result"
    }
   ],
   "source": [
    "ddf.a.mean().compute()"
   ]
  },
  {
   "cell_type": "code",
   "execution_count": 72,
   "id": "7a19a873",
   "metadata": {},
   "outputs": [
    {
     "data": {
      "text/plain": [
       "Dask Series Structure:\n",
       "npartitions=10\n",
       "    string\n",
       "       ...\n",
       "     ...  \n",
       "       ...\n",
       "       ...\n",
       "Dask Name: unique, 3 expressions\n",
       "Expr=Unique(frame=df['b'])"
      ]
     },
     "execution_count": 72,
     "metadata": {},
     "output_type": "execute_result"
    }
   ],
   "source": [
    "ddf.b.unique()"
   ]
  },
  {
   "cell_type": "code",
   "execution_count": 73,
   "id": "8a6f3f8e",
   "metadata": {},
   "outputs": [
    {
     "data": {
      "text/plain": [
       "0    e\n",
       "0    c\n",
       "1    d\n",
       "0    a\n",
       "0    b\n",
       "Name: b, dtype: string"
      ]
     },
     "execution_count": 73,
     "metadata": {},
     "output_type": "execute_result"
    }
   ],
   "source": [
    "ddf.b.unique().compute()"
   ]
  },
  {
   "cell_type": "markdown",
   "id": "8210b2cc",
   "metadata": {},
   "source": [
    "On peut chainer les appels de méthodes. \n",
    "\n",
    "Ici, on récupère la somme cumulée de la colonne \"a\" pour l'intervalle `[\"2021-10-01\": \"2021-10-09 5:00\"]` et on lui soustrait 100."
   ]
  },
  {
   "cell_type": "code",
   "execution_count": 74,
   "id": "f8a3feba",
   "metadata": {},
   "outputs": [
    {
     "data": {
      "text/plain": [
       "Dask Series Structure:\n",
       "npartitions=1\n",
       "2021-10-01 00:00:00.000000000    int64\n",
       "2021-10-09 05:00:59.999999999      ...\n",
       "Dask Name: sub, 5 expressions\n",
       "Expr=CumSum(frame=(LocSlice(frame=df, iindexer=slice(Timestamp('2021-10-01 00:00:00'), Timestamp('2021-10-09 05:00:59.999999999'), None)))['a'], skipna=True) - 100"
      ]
     },
     "execution_count": 74,
     "metadata": {},
     "output_type": "execute_result"
    }
   ],
   "source": [
    "result = ddf[\"2021-10-01\": \"2021-10-09 5:00\"].a.cumsum() - 100\n",
    "result"
   ]
  },
  {
   "cell_type": "code",
   "execution_count": 75,
   "id": "730e1902",
   "metadata": {},
   "outputs": [
    {
     "data": {
      "text/plain": [
       "2021-10-01 00:00:00       620\n",
       "2021-10-01 01:00:00      1341\n",
       "2021-10-01 02:00:00      2063\n",
       "2021-10-01 03:00:00      2786\n",
       "2021-10-01 04:00:00      3510\n",
       "                        ...  \n",
       "2021-10-09 01:00:00    158301\n",
       "2021-10-09 02:00:00    159215\n",
       "2021-10-09 03:00:00    160130\n",
       "2021-10-09 04:00:00    161046\n",
       "2021-10-09 05:00:00    161963\n",
       "Freq: h, Name: a, Length: 198, dtype: int64"
      ]
     },
     "execution_count": 75,
     "metadata": {},
     "output_type": "execute_result"
    }
   ],
   "source": [
    "result.compute()"
   ]
  },
  {
   "cell_type": "markdown",
   "id": "e43f23f9",
   "metadata": {},
   "source": [
    "### Somme cumulée\n",
    "\n",
    "Calcule la somme au fut et à mesure des lignes. La somme totale ou final se situera à la dernière ligne.\n",
    "\n",
    "Voici un exemple avec Pandas (Series et une DataFrame en une seule dimension, ou une colonne d'un DataFrame)."
   ]
  },
  {
   "cell_type": "code",
   "execution_count": 76,
   "id": "e573e34a",
   "metadata": {},
   "outputs": [
    {
     "data": {
      "text/plain": [
       "0    2.0\n",
       "1    NaN\n",
       "2    5.0\n",
       "3   -1.0\n",
       "4    0.0\n",
       "dtype: float64"
      ]
     },
     "execution_count": 76,
     "metadata": {},
     "output_type": "execute_result"
    }
   ],
   "source": [
    "s = pd.Series([2, np.nan, 5, -1, 0])\n",
    "s"
   ]
  },
  {
   "cell_type": "code",
   "execution_count": 77,
   "id": "d979b5a2",
   "metadata": {},
   "outputs": [
    {
     "data": {
      "text/plain": [
       "0    2.0\n",
       "1    NaN\n",
       "2    7.0\n",
       "3    6.0\n",
       "4    6.0\n",
       "dtype: float64"
      ]
     },
     "execution_count": 77,
     "metadata": {},
     "output_type": "execute_result"
    }
   ],
   "source": [
    "s.cumsum()"
   ]
  },
  {
   "cell_type": "markdown",
   "id": "01ce5d07",
   "metadata": {},
   "source": [
    "## Graphe de tâches"
   ]
  },
  {
   "cell_type": "markdown",
   "id": "8cee1e18",
   "metadata": {},
   "source": [
    "Grâhe de tâches de la variable `result` qui correspond à la somme cumulée calculée précédemment. La méthode `visualize()` nécessite d'installer le binaire de `graphviz` (via votre gestionnaire de paquets ou via un installeur fourni [sur le site officiel](https://graphviz.org/download/)) ainsiq que le module qui porte le même nom."
   ]
  },
  {
   "cell_type": "code",
   "execution_count": 78,
   "id": "5522bdf5",
   "metadata": {},
   "outputs": [
    {
     "data": {
      "text/plain": [
       "{('sub-5a8ce658ce881b9a168109251a3109de',\n",
       "  0): <Task ('sub-5a8ce658ce881b9a168109251a3109de', 0) sub(...)>,\n",
       " ('cumulativefinalize-26a6f68b010d9b3b81956d1fe88e1d08',\n",
       "  0): ('cumsum-dc13e540bc07335397aa375278c5fa3f', 0),\n",
       " ('operation-5630c696a59039a7a9170475b5e6abe8',\n",
       "  0): <Task ('operation-5630c696a59039a7a9170475b5e6abe8', 0) operation(...)>,\n",
       " ('cumsum-dc13e540bc07335397aa375278c5fa3f',\n",
       "  0): <Task ('cumsum-dc13e540bc07335397aa375278c5fa3f', 0) cumsum(...)>,\n",
       " ('getitem-f1025e3e21b7f218b241648926d54bdc',\n",
       "  0): <Task ('getitem-f1025e3e21b7f218b241648926d54bdc', 0) getitem(...)>,\n",
       " ('loc-fff6b95ce0f38ef749afb35f08fb5c77',\n",
       "  0): <Task ('loc-fff6b95ce0f38ef749afb35f08fb5c77', 0) loc(...)>,\n",
       " ('partitions-bf0af511f3f618def961c7abe2804060',\n",
       "  0): Alias(('partitions-bf0af511f3f618def961c7abe2804060', 0)->('frompandas-9e3ad60c306d3e285fbbed807f12dcbe', 3)),\n",
       " ('frompandas-9e3ad60c306d3e285fbbed807f12dcbe',\n",
       "  0): DataNode(                       a  b\n",
       " 2021-09-01 00:00:00    0  a\n",
       " 2021-09-01 01:00:00    1  b\n",
       " 2021-09-01 02:00:00    2  c\n",
       " 2021-09-01 03:00:00    3  a\n",
       " 2021-09-01 04:00:00    4  d\n",
       " ...                  ... ..\n",
       " 2021-09-10 19:00:00  235  a\n",
       " 2021-09-10 20:00:00  236  d\n",
       " 2021-09-10 21:00:00  237  d\n",
       " 2021-09-10 22:00:00  238  b\n",
       " 2021-09-10 23:00:00  239  e\n",
       " \n",
       " [240 rows x 2 columns]),\n",
       " ('frompandas-9e3ad60c306d3e285fbbed807f12dcbe',\n",
       "  1): DataNode(                       a  b\n",
       " 2021-09-11 00:00:00  240  a\n",
       " 2021-09-11 01:00:00  241  b\n",
       " 2021-09-11 02:00:00  242  c\n",
       " 2021-09-11 03:00:00  243  a\n",
       " 2021-09-11 04:00:00  244  d\n",
       " ...                  ... ..\n",
       " 2021-09-20 19:00:00  475  a\n",
       " 2021-09-20 20:00:00  476  d\n",
       " 2021-09-20 21:00:00  477  d\n",
       " 2021-09-20 22:00:00  478  b\n",
       " 2021-09-20 23:00:00  479  e\n",
       " \n",
       " [240 rows x 2 columns]),\n",
       " ('frompandas-9e3ad60c306d3e285fbbed807f12dcbe',\n",
       "  2): DataNode(                       a  b\n",
       " 2021-09-21 00:00:00  480  a\n",
       " 2021-09-21 01:00:00  481  b\n",
       " 2021-09-21 02:00:00  482  c\n",
       " 2021-09-21 03:00:00  483  a\n",
       " 2021-09-21 04:00:00  484  d\n",
       " ...                  ... ..\n",
       " 2021-09-30 19:00:00  715  a\n",
       " 2021-09-30 20:00:00  716  d\n",
       " 2021-09-30 21:00:00  717  d\n",
       " 2021-09-30 22:00:00  718  b\n",
       " 2021-09-30 23:00:00  719  e\n",
       " \n",
       " [240 rows x 2 columns]),\n",
       " ('frompandas-9e3ad60c306d3e285fbbed807f12dcbe',\n",
       "  3): DataNode(                       a  b\n",
       " 2021-10-01 00:00:00  720  a\n",
       " 2021-10-01 01:00:00  721  b\n",
       " 2021-10-01 02:00:00  722  c\n",
       " 2021-10-01 03:00:00  723  a\n",
       " 2021-10-01 04:00:00  724  d\n",
       " ...                  ... ..\n",
       " 2021-10-10 19:00:00  955  a\n",
       " 2021-10-10 20:00:00  956  d\n",
       " 2021-10-10 21:00:00  957  d\n",
       " 2021-10-10 22:00:00  958  b\n",
       " 2021-10-10 23:00:00  959  e\n",
       " \n",
       " [240 rows x 2 columns]),\n",
       " ('frompandas-9e3ad60c306d3e285fbbed807f12dcbe',\n",
       "  4): DataNode(                        a  b\n",
       " 2021-10-11 00:00:00   960  a\n",
       " 2021-10-11 01:00:00   961  b\n",
       " 2021-10-11 02:00:00   962  c\n",
       " 2021-10-11 03:00:00   963  a\n",
       " 2021-10-11 04:00:00   964  d\n",
       " ...                   ... ..\n",
       " 2021-10-20 19:00:00  1195  a\n",
       " 2021-10-20 20:00:00  1196  d\n",
       " 2021-10-20 21:00:00  1197  d\n",
       " 2021-10-20 22:00:00  1198  b\n",
       " 2021-10-20 23:00:00  1199  e\n",
       " \n",
       " [240 rows x 2 columns]),\n",
       " ('frompandas-9e3ad60c306d3e285fbbed807f12dcbe',\n",
       "  5): DataNode(                        a  b\n",
       " 2021-10-21 00:00:00  1200  a\n",
       " 2021-10-21 01:00:00  1201  b\n",
       " 2021-10-21 02:00:00  1202  c\n",
       " 2021-10-21 03:00:00  1203  a\n",
       " 2021-10-21 04:00:00  1204  d\n",
       " ...                   ... ..\n",
       " 2021-10-30 19:00:00  1435  a\n",
       " 2021-10-30 20:00:00  1436  d\n",
       " 2021-10-30 21:00:00  1437  d\n",
       " 2021-10-30 22:00:00  1438  b\n",
       " 2021-10-30 23:00:00  1439  e\n",
       " \n",
       " [240 rows x 2 columns]),\n",
       " ('frompandas-9e3ad60c306d3e285fbbed807f12dcbe',\n",
       "  6): DataNode(                        a  b\n",
       " 2021-10-31 00:00:00  1440  a\n",
       " 2021-10-31 01:00:00  1441  b\n",
       " 2021-10-31 02:00:00  1442  c\n",
       " 2021-10-31 03:00:00  1443  a\n",
       " 2021-10-31 04:00:00  1444  d\n",
       " ...                   ... ..\n",
       " 2021-11-09 19:00:00  1675  a\n",
       " 2021-11-09 20:00:00  1676  d\n",
       " 2021-11-09 21:00:00  1677  d\n",
       " 2021-11-09 22:00:00  1678  b\n",
       " 2021-11-09 23:00:00  1679  e\n",
       " \n",
       " [240 rows x 2 columns]),\n",
       " ('frompandas-9e3ad60c306d3e285fbbed807f12dcbe',\n",
       "  7): DataNode(                        a  b\n",
       " 2021-11-10 00:00:00  1680  a\n",
       " 2021-11-10 01:00:00  1681  b\n",
       " 2021-11-10 02:00:00  1682  c\n",
       " 2021-11-10 03:00:00  1683  a\n",
       " 2021-11-10 04:00:00  1684  d\n",
       " ...                   ... ..\n",
       " 2021-11-19 19:00:00  1915  a\n",
       " 2021-11-19 20:00:00  1916  d\n",
       " 2021-11-19 21:00:00  1917  d\n",
       " 2021-11-19 22:00:00  1918  b\n",
       " 2021-11-19 23:00:00  1919  e\n",
       " \n",
       " [240 rows x 2 columns]),\n",
       " ('frompandas-9e3ad60c306d3e285fbbed807f12dcbe',\n",
       "  8): DataNode(                        a  b\n",
       " 2021-11-20 00:00:00  1920  a\n",
       " 2021-11-20 01:00:00  1921  b\n",
       " 2021-11-20 02:00:00  1922  c\n",
       " 2021-11-20 03:00:00  1923  a\n",
       " 2021-11-20 04:00:00  1924  d\n",
       " ...                   ... ..\n",
       " 2021-11-29 19:00:00  2155  a\n",
       " 2021-11-29 20:00:00  2156  d\n",
       " 2021-11-29 21:00:00  2157  d\n",
       " 2021-11-29 22:00:00  2158  b\n",
       " 2021-11-29 23:00:00  2159  e\n",
       " \n",
       " [240 rows x 2 columns]),\n",
       " ('frompandas-9e3ad60c306d3e285fbbed807f12dcbe',\n",
       "  9): DataNode(                        a  b\n",
       " 2021-11-30 00:00:00  2160  a\n",
       " 2021-11-30 01:00:00  2161  b\n",
       " 2021-11-30 02:00:00  2162  c\n",
       " 2021-11-30 03:00:00  2163  a\n",
       " 2021-11-30 04:00:00  2164  d\n",
       " ...                   ... ..\n",
       " 2021-12-09 19:00:00  2395  a\n",
       " 2021-12-09 20:00:00  2396  d\n",
       " 2021-12-09 21:00:00  2397  d\n",
       " 2021-12-09 22:00:00  2398  b\n",
       " 2021-12-09 23:00:00  2399  e\n",
       " \n",
       " [240 rows x 2 columns])}"
      ]
     },
     "execution_count": 78,
     "metadata": {},
     "output_type": "execute_result"
    }
   ],
   "source": [
    "result.dask"
   ]
  },
  {
   "cell_type": "code",
   "execution_count": 79,
   "id": "bef0ec50",
   "metadata": {},
   "outputs": [
    {
     "data": {
      "image/svg+xml": [
       "<?xml version=\"1.0\" encoding=\"UTF-8\" standalone=\"no\"?>\n",
       "<!DOCTYPE svg PUBLIC \"-//W3C//DTD SVG 1.1//EN\"\n",
       " \"http://www.w3.org/Graphics/SVG/1.1/DTD/svg11.dtd\">\n",
       "<!-- Generated by graphviz version 12.2.1 (20241206.2353)\n",
       " -->\n",
       "<!-- Pages: 1 -->\n",
       "<svg width=\"228pt\" height=\"332pt\"\n",
       " viewBox=\"0.00 0.00 228.00 332.00\" xmlns=\"http://www.w3.org/2000/svg\" xmlns:xlink=\"http://www.w3.org/1999/xlink\">\n",
       "<g id=\"graph0\" class=\"graph\" transform=\"scale(1 1) rotate(0) translate(4 328)\">\n",
       "<polygon fill=\"white\" stroke=\"none\" points=\"-4,4 -4,-328 224,-328 224,4 -4,4\"/>\n",
       "<!-- &#45;1876883796554451716 -->\n",
       "<g id=\"node1\" class=\"node\">\n",
       "<title>&#45;1876883796554451716</title>\n",
       "<polygon fill=\"none\" stroke=\"black\" points=\"206.5,-324 13.5,-324 13.5,-288 206.5,-288 206.5,-324\"/>\n",
       "<text text-anchor=\"middle\" x=\"110\" y=\"-298.62\" font-family=\"Helvetica,sans-Serif\" font-size=\"20.00\">Sub(CumSum, 100)</text>\n",
       "</g>\n",
       "<!-- &#45;3671559655710674756 -->\n",
       "<g id=\"node2\" class=\"node\">\n",
       "<title>&#45;3671559655710674756</title>\n",
       "<polygon fill=\"none\" stroke=\"black\" points=\"211,-252 9,-252 9,-216 211,-216 211,-252\"/>\n",
       "<text text-anchor=\"middle\" x=\"110\" y=\"-226.62\" font-family=\"Helvetica,sans-Serif\" font-size=\"20.00\">CumSum(Projection)</text>\n",
       "</g>\n",
       "<!-- &#45;3671559655710674756&#45;&gt;&#45;1876883796554451716 -->\n",
       "<g id=\"edge1\" class=\"edge\">\n",
       "<title>&#45;3671559655710674756&#45;&gt;&#45;1876883796554451716</title>\n",
       "<path fill=\"none\" stroke=\"black\" d=\"M110,-252.3C110,-259.59 110,-268.27 110,-276.46\"/>\n",
       "<polygon fill=\"black\" stroke=\"black\" points=\"106.5,-276.38 110,-286.38 113.5,-276.38 106.5,-276.38\"/>\n",
       "</g>\n",
       "<!-- &#45;1187721165262851585 -->\n",
       "<g id=\"node3\" class=\"node\">\n",
       "<title>&#45;1187721165262851585</title>\n",
       "<polygon fill=\"none\" stroke=\"black\" points=\"218.12,-180 1.88,-180 1.88,-144 218.12,-144 218.12,-180\"/>\n",
       "<text text-anchor=\"middle\" x=\"110\" y=\"-154.62\" font-family=\"Helvetica,sans-Serif\" font-size=\"20.00\">Projection(LocSlice, a)</text>\n",
       "</g>\n",
       "<!-- &#45;1187721165262851585&#45;&gt;&#45;3671559655710674756 -->\n",
       "<g id=\"edge2\" class=\"edge\">\n",
       "<title>&#45;1187721165262851585&#45;&gt;&#45;3671559655710674756</title>\n",
       "<path fill=\"none\" stroke=\"black\" d=\"M110,-180.3C110,-187.59 110,-196.27 110,-204.46\"/>\n",
       "<polygon fill=\"black\" stroke=\"black\" points=\"106.5,-204.38 110,-214.38 113.5,-204.38 106.5,-204.38\"/>\n",
       "</g>\n",
       "<!-- &#45;6786889894303156096 -->\n",
       "<g id=\"node4\" class=\"node\">\n",
       "<title>&#45;6786889894303156096</title>\n",
       "<polygon fill=\"none\" stroke=\"black\" points=\"220,-108 0,-108 0,-72 220,-72 220,-108\"/>\n",
       "<text text-anchor=\"middle\" x=\"110\" y=\"-82.62\" font-family=\"Helvetica,sans-Serif\" font-size=\"20.00\">LocSlice(FromPandas)</text>\n",
       "</g>\n",
       "<!-- &#45;6786889894303156096&#45;&gt;&#45;1187721165262851585 -->\n",
       "<g id=\"edge3\" class=\"edge\">\n",
       "<title>&#45;6786889894303156096&#45;&gt;&#45;1187721165262851585</title>\n",
       "<path fill=\"none\" stroke=\"black\" d=\"M110,-108.3C110,-115.59 110,-124.27 110,-132.46\"/>\n",
       "<polygon fill=\"black\" stroke=\"black\" points=\"106.5,-132.38 110,-142.38 113.5,-132.38 106.5,-132.38\"/>\n",
       "</g>\n",
       "<!-- 8901237719638903019 -->\n",
       "<g id=\"node5\" class=\"node\">\n",
       "<title>8901237719638903019</title>\n",
       "<polygon fill=\"none\" stroke=\"black\" points=\"175.38,-36 44.62,-36 44.62,0 175.38,0 175.38,-36\"/>\n",
       "<text text-anchor=\"middle\" x=\"110\" y=\"-10.62\" font-family=\"Helvetica,sans-Serif\" font-size=\"20.00\">FromPandas</text>\n",
       "</g>\n",
       "<!-- 8901237719638903019&#45;&gt;&#45;6786889894303156096 -->\n",
       "<g id=\"edge4\" class=\"edge\">\n",
       "<title>8901237719638903019&#45;&gt;&#45;6786889894303156096</title>\n",
       "<path fill=\"none\" stroke=\"black\" d=\"M110,-36.3C110,-43.59 110,-52.27 110,-60.46\"/>\n",
       "<polygon fill=\"black\" stroke=\"black\" points=\"106.5,-60.38 110,-70.38 113.5,-60.38 106.5,-60.38\"/>\n",
       "</g>\n",
       "</g>\n",
       "</svg>\n"
      ],
      "text/plain": [
       "<graphviz.graphs.Digraph at 0x1bf1e149d00>"
      ]
     },
     "execution_count": 79,
     "metadata": {},
     "output_type": "execute_result"
    }
   ],
   "source": [
    "result.visualize()"
   ]
  },
  {
   "cell_type": "code",
   "execution_count": 80,
   "id": "478b34c5",
   "metadata": {},
   "outputs": [
    {
     "data": {
      "image/svg+xml": [
       "<?xml version=\"1.0\" encoding=\"UTF-8\" standalone=\"no\"?>\n",
       "<!DOCTYPE svg PUBLIC \"-//W3C//DTD SVG 1.1//EN\"\n",
       " \"http://www.w3.org/Graphics/SVG/1.1/DTD/svg11.dtd\">\n",
       "<!-- Generated by graphviz version 12.2.1 (20241206.2353)\n",
       " -->\n",
       "<!-- Pages: 1 -->\n",
       "<svg width=\"263pt\" height=\"188pt\"\n",
       " viewBox=\"0.00 0.00 263.25 188.00\" xmlns=\"http://www.w3.org/2000/svg\" xmlns:xlink=\"http://www.w3.org/1999/xlink\">\n",
       "<g id=\"graph0\" class=\"graph\" transform=\"scale(1 1) rotate(0) translate(4 184)\">\n",
       "<polygon fill=\"white\" stroke=\"none\" points=\"-4,4 -4,-184 259.25,-184 259.25,4 -4,4\"/>\n",
       "<!-- 8870107582381670041 -->\n",
       "<g id=\"node1\" class=\"node\">\n",
       "<title>8870107582381670041</title>\n",
       "<polygon fill=\"none\" stroke=\"black\" points=\"218.88,-180 36.38,-180 36.38,-144 218.88,-144 218.88,-180\"/>\n",
       "<text text-anchor=\"middle\" x=\"127.62\" y=\"-154.62\" font-family=\"Helvetica,sans-Serif\" font-size=\"20.00\">Unique(Projection)</text>\n",
       "</g>\n",
       "<!-- 2833714747485172075 -->\n",
       "<g id=\"node2\" class=\"node\">\n",
       "<title>2833714747485172075</title>\n",
       "<polygon fill=\"none\" stroke=\"black\" points=\"255.25,-108 0,-108 0,-72 255.25,-72 255.25,-108\"/>\n",
       "<text text-anchor=\"middle\" x=\"127.62\" y=\"-82.62\" font-family=\"Helvetica,sans-Serif\" font-size=\"20.00\">Projection(FromPandas, b)</text>\n",
       "</g>\n",
       "<!-- 2833714747485172075&#45;&gt;8870107582381670041 -->\n",
       "<g id=\"edge1\" class=\"edge\">\n",
       "<title>2833714747485172075&#45;&gt;8870107582381670041</title>\n",
       "<path fill=\"none\" stroke=\"black\" d=\"M127.62,-108.3C127.62,-115.59 127.62,-124.27 127.62,-132.46\"/>\n",
       "<polygon fill=\"black\" stroke=\"black\" points=\"124.13,-132.38 127.63,-142.38 131.13,-132.38 124.13,-132.38\"/>\n",
       "</g>\n",
       "<!-- 8901237719638903019 -->\n",
       "<g id=\"node3\" class=\"node\">\n",
       "<title>8901237719638903019</title>\n",
       "<polygon fill=\"none\" stroke=\"black\" points=\"193,-36 62.25,-36 62.25,0 193,0 193,-36\"/>\n",
       "<text text-anchor=\"middle\" x=\"127.62\" y=\"-10.62\" font-family=\"Helvetica,sans-Serif\" font-size=\"20.00\">FromPandas</text>\n",
       "</g>\n",
       "<!-- 8901237719638903019&#45;&gt;2833714747485172075 -->\n",
       "<g id=\"edge2\" class=\"edge\">\n",
       "<title>8901237719638903019&#45;&gt;2833714747485172075</title>\n",
       "<path fill=\"none\" stroke=\"black\" d=\"M127.62,-36.3C127.62,-43.59 127.62,-52.27 127.62,-60.46\"/>\n",
       "<polygon fill=\"black\" stroke=\"black\" points=\"124.13,-60.38 127.63,-70.38 131.13,-60.38 124.13,-60.38\"/>\n",
       "</g>\n",
       "</g>\n",
       "</svg>\n"
      ],
      "text/plain": [
       "<graphviz.graphs.Digraph at 0x1bf1e89c650>"
      ]
     },
     "execution_count": 80,
     "metadata": {},
     "output_type": "execute_result"
    }
   ],
   "source": [
    "uq = ddf.b.unique()\n",
    "uq.compute()\n",
    "uq.visualize()"
   ]
  }
 ],
 "metadata": {
  "kernelspec": {
   "display_name": ".venv",
   "language": "python",
   "name": "python3"
  },
  "language_info": {
   "codemirror_mode": {
    "name": "ipython",
    "version": 3
   },
   "file_extension": ".py",
   "mimetype": "text/x-python",
   "name": "python",
   "nbconvert_exporter": "python",
   "pygments_lexer": "ipython3",
   "version": "3.13.3"
  }
 },
 "nbformat": 4,
 "nbformat_minor": 5
}
