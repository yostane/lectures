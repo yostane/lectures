{
 "cells": [
  {
   "cell_type": "markdown",
   "id": "34c407fb",
   "metadata": {},
   "source": [
    "# Dask dataframe demonstration"
   ]
  },
  {
   "cell_type": "code",
   "execution_count": null,
   "id": "9a74ee83",
   "metadata": {},
   "outputs": [],
   "source": [
    "import numpy as np\n",
    "import pandas as pd\n",
    "\n",
    "import dask.dataframe as dd"
   ]
  },
  {
   "cell_type": "markdown",
   "id": "d215d273",
   "metadata": {},
   "source": [
    "Création de 2400 dates séaprées de 1h"
   ]
  },
  {
   "cell_type": "code",
   "execution_count": 3,
   "id": "25863024",
   "metadata": {},
   "outputs": [
    {
     "data": {
      "text/plain": [
       "DatetimeIndex(['2021-09-01 00:00:00', '2021-09-01 01:00:00',\n",
       "               '2021-09-01 02:00:00', '2021-09-01 03:00:00',\n",
       "               '2021-09-01 04:00:00', '2021-09-01 05:00:00',\n",
       "               '2021-09-01 06:00:00', '2021-09-01 07:00:00',\n",
       "               '2021-09-01 08:00:00', '2021-09-01 09:00:00',\n",
       "               ...\n",
       "               '2021-12-09 14:00:00', '2021-12-09 15:00:00',\n",
       "               '2021-12-09 16:00:00', '2021-12-09 17:00:00',\n",
       "               '2021-12-09 18:00:00', '2021-12-09 19:00:00',\n",
       "               '2021-12-09 20:00:00', '2021-12-09 21:00:00',\n",
       "               '2021-12-09 22:00:00', '2021-12-09 23:00:00'],\n",
       "              dtype='datetime64[ns]', length=2400, freq='h')"
      ]
     },
     "execution_count": 3,
     "metadata": {},
     "output_type": "execute_result"
    }
   ],
   "source": [
    "index = pd.date_range(\"2021-09-01\", periods=2400, freq=\"1h\")\n",
    "index"
   ]
  },
  {
   "cell_type": "markdown",
   "id": "507faa49",
   "metadata": {},
   "source": [
    "Création d'un dataframe pandas de dates avec 3 colonnes.\n",
    "\n",
    "1. \"a\" : un indetifiant de 0 à 2399\n",
    "1. \"b\" : un caratère pris de la liste `\"abcaddbe\" * 300` (8 caractères * 300 = 2400 lignes) un par un et répartis sur chaque ligne\n",
    "1. la colonne index : une date parmi les 2400 dates générées plus haut (peremt de labéliser ou identifier la ligne de façon unique, comme la clé primaire dans une BDD relationnelle)"
   ]
  },
  {
   "cell_type": "code",
   "execution_count": 8,
   "id": "54a0b167",
   "metadata": {},
   "outputs": [
    {
     "data": {
      "text/html": [
       "<div>\n",
       "<style scoped>\n",
       "    .dataframe tbody tr th:only-of-type {\n",
       "        vertical-align: middle;\n",
       "    }\n",
       "\n",
       "    .dataframe tbody tr th {\n",
       "        vertical-align: top;\n",
       "    }\n",
       "\n",
       "    .dataframe thead th {\n",
       "        text-align: right;\n",
       "    }\n",
       "</style>\n",
       "<table border=\"1\" class=\"dataframe\">\n",
       "  <thead>\n",
       "    <tr style=\"text-align: right;\">\n",
       "      <th></th>\n",
       "      <th>a</th>\n",
       "      <th>b</th>\n",
       "    </tr>\n",
       "  </thead>\n",
       "  <tbody>\n",
       "    <tr>\n",
       "      <th>2021-09-01 00:00:00</th>\n",
       "      <td>0</td>\n",
       "      <td>a</td>\n",
       "    </tr>\n",
       "    <tr>\n",
       "      <th>2021-09-01 01:00:00</th>\n",
       "      <td>1</td>\n",
       "      <td>b</td>\n",
       "    </tr>\n",
       "    <tr>\n",
       "      <th>2021-09-01 02:00:00</th>\n",
       "      <td>2</td>\n",
       "      <td>c</td>\n",
       "    </tr>\n",
       "    <tr>\n",
       "      <th>2021-09-01 03:00:00</th>\n",
       "      <td>3</td>\n",
       "      <td>a</td>\n",
       "    </tr>\n",
       "    <tr>\n",
       "      <th>2021-09-01 04:00:00</th>\n",
       "      <td>4</td>\n",
       "      <td>d</td>\n",
       "    </tr>\n",
       "    <tr>\n",
       "      <th>...</th>\n",
       "      <td>...</td>\n",
       "      <td>...</td>\n",
       "    </tr>\n",
       "    <tr>\n",
       "      <th>2021-12-09 19:00:00</th>\n",
       "      <td>2395</td>\n",
       "      <td>a</td>\n",
       "    </tr>\n",
       "    <tr>\n",
       "      <th>2021-12-09 20:00:00</th>\n",
       "      <td>2396</td>\n",
       "      <td>d</td>\n",
       "    </tr>\n",
       "    <tr>\n",
       "      <th>2021-12-09 21:00:00</th>\n",
       "      <td>2397</td>\n",
       "      <td>d</td>\n",
       "    </tr>\n",
       "    <tr>\n",
       "      <th>2021-12-09 22:00:00</th>\n",
       "      <td>2398</td>\n",
       "      <td>b</td>\n",
       "    </tr>\n",
       "    <tr>\n",
       "      <th>2021-12-09 23:00:00</th>\n",
       "      <td>2399</td>\n",
       "      <td>e</td>\n",
       "    </tr>\n",
       "  </tbody>\n",
       "</table>\n",
       "<p>2400 rows × 2 columns</p>\n",
       "</div>"
      ],
      "text/plain": [
       "                        a  b\n",
       "2021-09-01 00:00:00     0  a\n",
       "2021-09-01 01:00:00     1  b\n",
       "2021-09-01 02:00:00     2  c\n",
       "2021-09-01 03:00:00     3  a\n",
       "2021-09-01 04:00:00     4  d\n",
       "...                   ... ..\n",
       "2021-12-09 19:00:00  2395  a\n",
       "2021-12-09 20:00:00  2396  d\n",
       "2021-12-09 21:00:00  2397  d\n",
       "2021-12-09 22:00:00  2398  b\n",
       "2021-12-09 23:00:00  2399  e\n",
       "\n",
       "[2400 rows x 2 columns]"
      ]
     },
     "execution_count": 8,
     "metadata": {},
     "output_type": "execute_result"
    }
   ],
   "source": [
    "df = pd.DataFrame({\"a\": np.arange(2400), \"b\": list(\"abcaddbe\" * 300)}, index=index)\n",
    "df"
   ]
  },
  {
   "cell_type": "markdown",
   "id": "4d7d7720",
   "metadata": {},
   "source": [
    "Création d'un dataframe dask à partir du dataframe pandas en demandant de répartir les données sur 10 paprtitions."
   ]
  },
  {
   "cell_type": "code",
   "execution_count": 4,
   "id": "61fb2f67",
   "metadata": {},
   "outputs": [
    {
     "data": {
      "text/html": [
       "<div><strong>Dask DataFrame Structure:</strong></div>\n",
       "<table border=\"1\" class=\"dataframe\">\n",
       "  <thead>\n",
       "    <tr style=\"text-align: right;\">\n",
       "      <th></th>\n",
       "      <th>a</th>\n",
       "      <th>b</th>\n",
       "    </tr>\n",
       "    <tr>\n",
       "      <th>npartitions=10</th>\n",
       "      <th></th>\n",
       "      <th></th>\n",
       "    </tr>\n",
       "  </thead>\n",
       "  <tbody>\n",
       "    <tr>\n",
       "      <th>2021-09-01 00:00:00</th>\n",
       "      <td>int64</td>\n",
       "      <td>string</td>\n",
       "    </tr>\n",
       "    <tr>\n",
       "      <th>2021-09-11 00:00:00</th>\n",
       "      <td>...</td>\n",
       "      <td>...</td>\n",
       "    </tr>\n",
       "    <tr>\n",
       "      <th>...</th>\n",
       "      <td>...</td>\n",
       "      <td>...</td>\n",
       "    </tr>\n",
       "    <tr>\n",
       "      <th>2021-11-30 00:00:00</th>\n",
       "      <td>...</td>\n",
       "      <td>...</td>\n",
       "    </tr>\n",
       "    <tr>\n",
       "      <th>2021-12-09 23:00:00</th>\n",
       "      <td>...</td>\n",
       "      <td>...</td>\n",
       "    </tr>\n",
       "  </tbody>\n",
       "</table>\n",
       "<div>Dask Name: frompandas, 1 expression</div>"
      ],
      "text/plain": [
       "Dask DataFrame Structure:\n",
       "                         a       b\n",
       "npartitions=10                    \n",
       "2021-09-01 00:00:00  int64  string\n",
       "2021-09-11 00:00:00    ...     ...\n",
       "...                    ...     ...\n",
       "2021-11-30 00:00:00    ...     ...\n",
       "2021-12-09 23:00:00    ...     ...\n",
       "Dask Name: frompandas, 1 expression\n",
       "Expr=df"
      ]
     },
     "execution_count": 4,
     "metadata": {},
     "output_type": "execute_result"
    }
   ],
   "source": [
    "ddf = dd.from_pandas(df, npartitions=10)\n",
    "ddf"
   ]
  },
  {
   "cell_type": "markdown",
   "id": "59486dcf",
   "metadata": {},
   "source": [
    "Vérification des indicdes de début et de fin de chaque partition (l'indice de fin d'une partition est l'indice de début de la partition suivante - 1)."
   ]
  },
  {
   "cell_type": "code",
   "execution_count": 5,
   "id": "606096ac",
   "metadata": {},
   "outputs": [
    {
     "data": {
      "text/plain": [
       "(Timestamp('2021-09-01 00:00:00'),\n",
       " Timestamp('2021-09-11 00:00:00'),\n",
       " Timestamp('2021-09-21 00:00:00'),\n",
       " Timestamp('2021-10-01 00:00:00'),\n",
       " Timestamp('2021-10-11 00:00:00'),\n",
       " Timestamp('2021-10-21 00:00:00'),\n",
       " Timestamp('2021-10-31 00:00:00'),\n",
       " Timestamp('2021-11-10 00:00:00'),\n",
       " Timestamp('2021-11-20 00:00:00'),\n",
       " Timestamp('2021-11-30 00:00:00'),\n",
       " Timestamp('2021-12-09 23:00:00'))"
      ]
     },
     "execution_count": 5,
     "metadata": {},
     "output_type": "execute_result"
    }
   ],
   "source": [
    "ddf.divisions"
   ]
  },
  {
   "cell_type": "markdown",
   "id": "b7617646",
   "metadata": {},
   "source": [
    "Accès à une partition particulière"
   ]
  },
  {
   "cell_type": "code",
   "execution_count": 6,
   "id": "5435af54",
   "metadata": {},
   "outputs": [
    {
     "data": {
      "text/html": [
       "<div><strong>Dask DataFrame Structure:</strong></div>\n",
       "<table border=\"1\" class=\"dataframe\">\n",
       "  <thead>\n",
       "    <tr style=\"text-align: right;\">\n",
       "      <th></th>\n",
       "      <th>a</th>\n",
       "      <th>b</th>\n",
       "    </tr>\n",
       "    <tr>\n",
       "      <th>npartitions=1</th>\n",
       "      <th></th>\n",
       "      <th></th>\n",
       "    </tr>\n",
       "  </thead>\n",
       "  <tbody>\n",
       "    <tr>\n",
       "      <th>2021-09-11</th>\n",
       "      <td>int64</td>\n",
       "      <td>string</td>\n",
       "    </tr>\n",
       "    <tr>\n",
       "      <th>2021-09-21</th>\n",
       "      <td>...</td>\n",
       "      <td>...</td>\n",
       "    </tr>\n",
       "  </tbody>\n",
       "</table>\n",
       "<div>Dask Name: partitions, 2 expressions</div>"
      ],
      "text/plain": [
       "Dask DataFrame Structure:\n",
       "                   a       b\n",
       "npartitions=1               \n",
       "2021-09-11     int64  string\n",
       "2021-09-21       ...     ...\n",
       "Dask Name: partitions, 2 expressions\n",
       "Expr=Partitions(frame=df, partitions=[1])"
      ]
     },
     "execution_count": 6,
     "metadata": {},
     "output_type": "execute_result"
    }
   ],
   "source": [
    "ddf.partitions[1]"
   ]
  },
  {
   "cell_type": "markdown",
   "id": "579a3fa9",
   "metadata": {},
   "source": [
    "## Indexation\n",
    "\n",
    "API simiaire à celle du DataFrame pandas et de des tableaus NumPy.\n",
    "\n",
    "L'exemple suivant sélectionne la colonne \"b\" avec le DataFrame dask et le DataFrame pandas."
   ]
  },
  {
   "cell_type": "code",
   "execution_count": null,
   "id": "8a8d8b98",
   "metadata": {},
   "outputs": [
    {
     "data": {
      "text/plain": [
       "2021-09-01 00:00:00    a\n",
       "2021-09-01 01:00:00    b\n",
       "2021-09-01 02:00:00    c\n",
       "2021-09-01 03:00:00    a\n",
       "2021-09-01 04:00:00    d\n",
       "                      ..\n",
       "2021-12-09 19:00:00    a\n",
       "2021-12-09 20:00:00    d\n",
       "2021-12-09 21:00:00    d\n",
       "2021-12-09 22:00:00    b\n",
       "2021-12-09 23:00:00    e\n",
       "Freq: h, Name: b, Length: 2400, dtype: object"
      ]
     },
     "execution_count": 14,
     "metadata": {},
     "output_type": "execute_result"
    }
   ],
   "source": [
    "df[\"b\"] # Ou df.b"
   ]
  },
  {
   "cell_type": "code",
   "execution_count": null,
   "id": "d8310b50",
   "metadata": {},
   "outputs": [
    {
     "data": {
      "text/plain": [
       "Dask Series Structure:\n",
       "npartitions=10\n",
       "2021-09-01 00:00:00    string\n",
       "2021-09-11 00:00:00       ...\n",
       "                        ...  \n",
       "2021-11-30 00:00:00       ...\n",
       "2021-12-09 23:00:00       ...\n",
       "Dask Name: getitem, 2 expressions\n",
       "Expr=df['b']"
      ]
     },
     "execution_count": 11,
     "metadata": {},
     "output_type": "execute_result"
    }
   ],
   "source": [
    "ddf.b # ou ddf[\"a\"]"
   ]
  },
  {
   "cell_type": "markdown",
   "id": "9d690d1b",
   "metadata": {},
   "source": [
    "Sélection d'un intervalles d'indices"
   ]
  },
  {
   "cell_type": "code",
   "execution_count": 15,
   "id": "ebca1957",
   "metadata": {},
   "outputs": [
    {
     "data": {
      "text/html": [
       "<div>\n",
       "<style scoped>\n",
       "    .dataframe tbody tr th:only-of-type {\n",
       "        vertical-align: middle;\n",
       "    }\n",
       "\n",
       "    .dataframe tbody tr th {\n",
       "        vertical-align: top;\n",
       "    }\n",
       "\n",
       "    .dataframe thead th {\n",
       "        text-align: right;\n",
       "    }\n",
       "</style>\n",
       "<table border=\"1\" class=\"dataframe\">\n",
       "  <thead>\n",
       "    <tr style=\"text-align: right;\">\n",
       "      <th></th>\n",
       "      <th>a</th>\n",
       "      <th>b</th>\n",
       "    </tr>\n",
       "  </thead>\n",
       "  <tbody>\n",
       "    <tr>\n",
       "      <th>2021-10-01 00:00:00</th>\n",
       "      <td>720</td>\n",
       "      <td>a</td>\n",
       "    </tr>\n",
       "    <tr>\n",
       "      <th>2021-10-01 01:00:00</th>\n",
       "      <td>721</td>\n",
       "      <td>b</td>\n",
       "    </tr>\n",
       "    <tr>\n",
       "      <th>2021-10-01 02:00:00</th>\n",
       "      <td>722</td>\n",
       "      <td>c</td>\n",
       "    </tr>\n",
       "    <tr>\n",
       "      <th>2021-10-01 03:00:00</th>\n",
       "      <td>723</td>\n",
       "      <td>a</td>\n",
       "    </tr>\n",
       "    <tr>\n",
       "      <th>2021-10-01 04:00:00</th>\n",
       "      <td>724</td>\n",
       "      <td>d</td>\n",
       "    </tr>\n",
       "    <tr>\n",
       "      <th>...</th>\n",
       "      <td>...</td>\n",
       "      <td>...</td>\n",
       "    </tr>\n",
       "    <tr>\n",
       "      <th>2021-10-09 01:00:00</th>\n",
       "      <td>913</td>\n",
       "      <td>b</td>\n",
       "    </tr>\n",
       "    <tr>\n",
       "      <th>2021-10-09 02:00:00</th>\n",
       "      <td>914</td>\n",
       "      <td>c</td>\n",
       "    </tr>\n",
       "    <tr>\n",
       "      <th>2021-10-09 03:00:00</th>\n",
       "      <td>915</td>\n",
       "      <td>a</td>\n",
       "    </tr>\n",
       "    <tr>\n",
       "      <th>2021-10-09 04:00:00</th>\n",
       "      <td>916</td>\n",
       "      <td>d</td>\n",
       "    </tr>\n",
       "    <tr>\n",
       "      <th>2021-10-09 05:00:00</th>\n",
       "      <td>917</td>\n",
       "      <td>d</td>\n",
       "    </tr>\n",
       "  </tbody>\n",
       "</table>\n",
       "<p>198 rows × 2 columns</p>\n",
       "</div>"
      ],
      "text/plain": [
       "                       a  b\n",
       "2021-10-01 00:00:00  720  a\n",
       "2021-10-01 01:00:00  721  b\n",
       "2021-10-01 02:00:00  722  c\n",
       "2021-10-01 03:00:00  723  a\n",
       "2021-10-01 04:00:00  724  d\n",
       "...                  ... ..\n",
       "2021-10-09 01:00:00  913  b\n",
       "2021-10-09 02:00:00  914  c\n",
       "2021-10-09 03:00:00  915  a\n",
       "2021-10-09 04:00:00  916  d\n",
       "2021-10-09 05:00:00  917  d\n",
       "\n",
       "[198 rows x 2 columns]"
      ]
     },
     "execution_count": 15,
     "metadata": {},
     "output_type": "execute_result"
    }
   ],
   "source": [
    "df[\"2021-10-01\": \"2021-10-09 5:00\"]"
   ]
  },
  {
   "cell_type": "code",
   "execution_count": 16,
   "id": "fd5f4b76",
   "metadata": {},
   "outputs": [
    {
     "data": {
      "text/html": [
       "<div><strong>Dask DataFrame Structure:</strong></div>\n",
       "<table border=\"1\" class=\"dataframe\">\n",
       "  <thead>\n",
       "    <tr style=\"text-align: right;\">\n",
       "      <th></th>\n",
       "      <th>a</th>\n",
       "      <th>b</th>\n",
       "    </tr>\n",
       "    <tr>\n",
       "      <th>npartitions=1</th>\n",
       "      <th></th>\n",
       "      <th></th>\n",
       "    </tr>\n",
       "  </thead>\n",
       "  <tbody>\n",
       "    <tr>\n",
       "      <th>2021-10-01 00:00:00.000000000</th>\n",
       "      <td>int64</td>\n",
       "      <td>string</td>\n",
       "    </tr>\n",
       "    <tr>\n",
       "      <th>2021-10-09 05:00:59.999999999</th>\n",
       "      <td>...</td>\n",
       "      <td>...</td>\n",
       "    </tr>\n",
       "  </tbody>\n",
       "</table>\n",
       "<div>Dask Name: loc, 2 expressions</div>"
      ],
      "text/plain": [
       "Dask DataFrame Structure:\n",
       "                                   a       b\n",
       "npartitions=1                               \n",
       "2021-10-01 00:00:00.000000000  int64  string\n",
       "2021-10-09 05:00:59.999999999    ...     ...\n",
       "Dask Name: loc, 2 expressions\n",
       "Expr=LocSlice(frame=df, iindexer=slice(Timestamp('2021-10-01 00:00:00'), Timestamp('2021-10-09 05:00:59.999999999'), None))"
      ]
     },
     "execution_count": 16,
     "metadata": {},
     "output_type": "execute_result"
    }
   ],
   "source": [
    "ddf[\"2021-10-01\": \"2021-10-09 5:00\"]"
   ]
  },
  {
   "cell_type": "markdown",
   "id": "42ba91ae",
   "metadata": {},
   "source": [
    "On remarque que dask n'évalue pas tout de suite l'opération (lazy)."
   ]
  },
  {
   "cell_type": "markdown",
   "id": "79c339b8",
   "metadata": {},
   "source": [
    "## Calcul ou évaluation des résultats"
   ]
  },
  {
   "cell_type": "markdown",
   "id": "55b5f184",
   "metadata": {},
   "source": [
    "Dask est paresseux (lazy). Il faut donc appeler la méthode `compute()` pour évaluer les résultats."
   ]
  },
  {
   "cell_type": "code",
   "execution_count": 17,
   "id": "dbc78f58",
   "metadata": {},
   "outputs": [
    {
     "data": {
      "text/html": [
       "<div>\n",
       "<style scoped>\n",
       "    .dataframe tbody tr th:only-of-type {\n",
       "        vertical-align: middle;\n",
       "    }\n",
       "\n",
       "    .dataframe tbody tr th {\n",
       "        vertical-align: top;\n",
       "    }\n",
       "\n",
       "    .dataframe thead th {\n",
       "        text-align: right;\n",
       "    }\n",
       "</style>\n",
       "<table border=\"1\" class=\"dataframe\">\n",
       "  <thead>\n",
       "    <tr style=\"text-align: right;\">\n",
       "      <th></th>\n",
       "      <th>a</th>\n",
       "      <th>b</th>\n",
       "    </tr>\n",
       "  </thead>\n",
       "  <tbody>\n",
       "    <tr>\n",
       "      <th>2021-10-01 00:00:00</th>\n",
       "      <td>720</td>\n",
       "      <td>a</td>\n",
       "    </tr>\n",
       "    <tr>\n",
       "      <th>2021-10-01 01:00:00</th>\n",
       "      <td>721</td>\n",
       "      <td>b</td>\n",
       "    </tr>\n",
       "    <tr>\n",
       "      <th>2021-10-01 02:00:00</th>\n",
       "      <td>722</td>\n",
       "      <td>c</td>\n",
       "    </tr>\n",
       "    <tr>\n",
       "      <th>2021-10-01 03:00:00</th>\n",
       "      <td>723</td>\n",
       "      <td>a</td>\n",
       "    </tr>\n",
       "    <tr>\n",
       "      <th>2021-10-01 04:00:00</th>\n",
       "      <td>724</td>\n",
       "      <td>d</td>\n",
       "    </tr>\n",
       "    <tr>\n",
       "      <th>...</th>\n",
       "      <td>...</td>\n",
       "      <td>...</td>\n",
       "    </tr>\n",
       "    <tr>\n",
       "      <th>2021-10-09 01:00:00</th>\n",
       "      <td>913</td>\n",
       "      <td>b</td>\n",
       "    </tr>\n",
       "    <tr>\n",
       "      <th>2021-10-09 02:00:00</th>\n",
       "      <td>914</td>\n",
       "      <td>c</td>\n",
       "    </tr>\n",
       "    <tr>\n",
       "      <th>2021-10-09 03:00:00</th>\n",
       "      <td>915</td>\n",
       "      <td>a</td>\n",
       "    </tr>\n",
       "    <tr>\n",
       "      <th>2021-10-09 04:00:00</th>\n",
       "      <td>916</td>\n",
       "      <td>d</td>\n",
       "    </tr>\n",
       "    <tr>\n",
       "      <th>2021-10-09 05:00:00</th>\n",
       "      <td>917</td>\n",
       "      <td>d</td>\n",
       "    </tr>\n",
       "  </tbody>\n",
       "</table>\n",
       "<p>198 rows × 2 columns</p>\n",
       "</div>"
      ],
      "text/plain": [
       "                       a  b\n",
       "2021-10-01 00:00:00  720  a\n",
       "2021-10-01 01:00:00  721  b\n",
       "2021-10-01 02:00:00  722  c\n",
       "2021-10-01 03:00:00  723  a\n",
       "2021-10-01 04:00:00  724  d\n",
       "...                  ... ..\n",
       "2021-10-09 01:00:00  913  b\n",
       "2021-10-09 02:00:00  914  c\n",
       "2021-10-09 03:00:00  915  a\n",
       "2021-10-09 04:00:00  916  d\n",
       "2021-10-09 05:00:00  917  d\n",
       "\n",
       "[198 rows x 2 columns]"
      ]
     },
     "execution_count": 17,
     "metadata": {},
     "output_type": "execute_result"
    }
   ],
   "source": [
    "ddf[\"2021-10-01\": \"2021-10-09 5:00\"].compute()"
   ]
  },
  {
   "cell_type": "markdown",
   "id": "79791b98",
   "metadata": {},
   "source": [
    "## Méthodes (ou api)"
   ]
  },
  {
   "cell_type": "markdown",
   "id": "eb391a11",
   "metadata": {},
   "source": [
    "Simlaire à NumPy et pandas, sauf qu'il faut considérer que Dask est paresseux (lazy) et qu'il faut appeler la méthode `compute()` pour évaluer les résultats."
   ]
  },
  {
   "cell_type": "code",
   "execution_count": 18,
   "id": "a5395db2",
   "metadata": {},
   "outputs": [
    {
     "data": {
      "text/html": [
       "<div>\n",
       "<style scoped>\n",
       "    .dataframe tbody tr th:only-of-type {\n",
       "        vertical-align: middle;\n",
       "    }\n",
       "\n",
       "    .dataframe tbody tr th {\n",
       "        vertical-align: top;\n",
       "    }\n",
       "\n",
       "    .dataframe thead th {\n",
       "        text-align: right;\n",
       "    }\n",
       "</style>\n",
       "<table border=\"1\" class=\"dataframe\">\n",
       "  <thead>\n",
       "    <tr style=\"text-align: right;\">\n",
       "      <th></th>\n",
       "      <th>a</th>\n",
       "      <th>b</th>\n",
       "    </tr>\n",
       "  </thead>\n",
       "  <tbody>\n",
       "    <tr>\n",
       "      <th>2021-09-01 00:00:00</th>\n",
       "      <td>0</td>\n",
       "      <td>a</td>\n",
       "    </tr>\n",
       "    <tr>\n",
       "      <th>2021-09-01 01:00:00</th>\n",
       "      <td>1</td>\n",
       "      <td>b</td>\n",
       "    </tr>\n",
       "    <tr>\n",
       "      <th>2021-09-01 02:00:00</th>\n",
       "      <td>2</td>\n",
       "      <td>c</td>\n",
       "    </tr>\n",
       "    <tr>\n",
       "      <th>2021-09-01 03:00:00</th>\n",
       "      <td>3</td>\n",
       "      <td>a</td>\n",
       "    </tr>\n",
       "    <tr>\n",
       "      <th>2021-09-01 04:00:00</th>\n",
       "      <td>4</td>\n",
       "      <td>d</td>\n",
       "    </tr>\n",
       "  </tbody>\n",
       "</table>\n",
       "</div>"
      ],
      "text/plain": [
       "                     a  b\n",
       "2021-09-01 00:00:00  0  a\n",
       "2021-09-01 01:00:00  1  b\n",
       "2021-09-01 02:00:00  2  c\n",
       "2021-09-01 03:00:00  3  a\n",
       "2021-09-01 04:00:00  4  d"
      ]
     },
     "execution_count": 18,
     "metadata": {},
     "output_type": "execute_result"
    }
   ],
   "source": [
    "ddf.head()"
   ]
  },
  {
   "cell_type": "code",
   "execution_count": null,
   "id": "f91a361e",
   "metadata": {},
   "outputs": [
    {
     "data": {
      "text/plain": [
       "<dask_expr.expr.Scalar: expr=df['a'].mean(), dtype=float64>"
      ]
     },
     "execution_count": 19,
     "metadata": {},
     "output_type": "execute_result"
    }
   ],
   "source": [
    "ddf.a.mean() # Non ca"
   ]
  },
  {
   "cell_type": "code",
   "execution_count": 20,
   "id": "a180c572",
   "metadata": {},
   "outputs": [
    {
     "data": {
      "text/plain": [
       "np.float64(1199.5)"
      ]
     },
     "execution_count": 20,
     "metadata": {},
     "output_type": "execute_result"
    }
   ],
   "source": [
    "ddf.a.mean().compute()"
   ]
  },
  {
   "cell_type": "code",
   "execution_count": 23,
   "id": "7a19a873",
   "metadata": {},
   "outputs": [
    {
     "data": {
      "text/plain": [
       "Dask Series Structure:\n",
       "npartitions=10\n",
       "    string\n",
       "       ...\n",
       "     ...  \n",
       "       ...\n",
       "       ...\n",
       "Dask Name: unique, 3 expressions\n",
       "Expr=Unique(frame=df['b'])"
      ]
     },
     "execution_count": 23,
     "metadata": {},
     "output_type": "execute_result"
    }
   ],
   "source": [
    "ddf.b.unique()"
   ]
  },
  {
   "cell_type": "code",
   "execution_count": 22,
   "id": "8a6f3f8e",
   "metadata": {},
   "outputs": [
    {
     "data": {
      "text/plain": [
       "0    e\n",
       "0    c\n",
       "1    d\n",
       "0    a\n",
       "0    b\n",
       "Name: b, dtype: string"
      ]
     },
     "execution_count": 22,
     "metadata": {},
     "output_type": "execute_result"
    }
   ],
   "source": [
    "ddf.b.unique().compute()"
   ]
  },
  {
   "cell_type": "markdown",
   "id": "8210b2cc",
   "metadata": {},
   "source": [
    "On peut chainer les appels de méthodes. \n",
    "\n",
    "Ici, on récupère"
   ]
  },
  {
   "cell_type": "code",
   "execution_count": 24,
   "id": "f8a3feba",
   "metadata": {},
   "outputs": [
    {
     "data": {
      "text/plain": [
       "Dask Series Structure:\n",
       "npartitions=1\n",
       "2021-10-01 00:00:00.000000000    int64\n",
       "2021-10-09 05:00:59.999999999      ...\n",
       "Dask Name: sub, 5 expressions\n",
       "Expr=CumSum(frame=(LocSlice(frame=df, iindexer=slice(Timestamp('2021-10-01 00:00:00'), Timestamp('2021-10-09 05:00:59.999999999'), None)))['a'], skipna=True) - 100"
      ]
     },
     "execution_count": 24,
     "metadata": {},
     "output_type": "execute_result"
    }
   ],
   "source": [
    "result = ddf[\"2021-10-01\": \"2021-10-09 5:00\"].a.cumsum() - 100\n",
    "result"
   ]
  },
  {
   "cell_type": "code",
   "execution_count": 25,
   "id": "730e1902",
   "metadata": {},
   "outputs": [
    {
     "data": {
      "text/plain": [
       "2021-10-01 00:00:00       620\n",
       "2021-10-01 01:00:00      1341\n",
       "2021-10-01 02:00:00      2063\n",
       "2021-10-01 03:00:00      2786\n",
       "2021-10-01 04:00:00      3510\n",
       "                        ...  \n",
       "2021-10-09 01:00:00    158301\n",
       "2021-10-09 02:00:00    159215\n",
       "2021-10-09 03:00:00    160130\n",
       "2021-10-09 04:00:00    161046\n",
       "2021-10-09 05:00:00    161963\n",
       "Freq: h, Name: a, Length: 198, dtype: int64"
      ]
     },
     "execution_count": 25,
     "metadata": {},
     "output_type": "execute_result"
    }
   ],
   "source": [
    "result.compute()"
   ]
  }
 ],
 "metadata": {
  "kernelspec": {
   "display_name": ".venv",
   "language": "python",
   "name": "python3"
  },
  "language_info": {
   "codemirror_mode": {
    "name": "ipython",
    "version": 3
   },
   "file_extension": ".py",
   "mimetype": "text/x-python",
   "name": "python",
   "nbconvert_exporter": "python",
   "pygments_lexer": "ipython3",
   "version": "3.13.3"
  }
 },
 "nbformat": 4,
 "nbformat_minor": 5
}
