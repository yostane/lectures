{
 "cells": [
  {
   "cell_type": "markdown",
   "id": "bdcd4e9b",
   "metadata": {},
   "source": [
    "# Dask Bag\n",
    "\n"
   ]
  },
  {
   "cell_type": "markdown",
   "id": "8df49fe3",
   "metadata": {},
   "source": [
    "Collection non ordonnée avec répéition et donc sans index. Cela ne ressemble à une liste car cette dernière est indexée et ordonnée, et cela ne ressemble pas à un ensemble (set) car ce dernier n'a pas de répétition."
   ]
  },
  {
   "cell_type": "code",
   "execution_count": null,
   "id": "28eef594",
   "metadata": {},
   "outputs": [],
   "source": [
    "import numpy as np\n",
    "import pandas as pd\n",
    "import dask.bag as db\n",
    "\n",
    "b = db.from_sequence([1, 2, 3, 4, 5, 6, 2, 1], npartitions=2)\n",
    "b"
   ]
  },
  {
   "cell_type": "code",
   "execution_count": null,
   "id": "9cf34591",
   "metadata": {},
   "outputs": [],
   "source": [
    "b.compute()"
   ]
  },
  {
   "cell_type": "markdown",
   "id": "b745db63",
   "metadata": {},
   "source": [
    "Les opérateur de manipulation de collections sont disponibles sur les Bag. Vous pouvez voir une docmentation visuelle de ces opérateurs sur le site de [reactiveX](https://reactivex.io/documentation/). Par exemple, voici la doc visuelle de [zip](https://reactivex.io/documentation/operators/zip.html) et de [map](https://reactivex.io/documentation/operators/map.html)."
   ]
  }
 ],
 "metadata": {
  "kernelspec": {
   "display_name": ".venv",
   "language": "python",
   "name": "python3"
  },
  "language_info": {
   "name": "python",
   "version": "3.13.3"
  }
 },
 "nbformat": 4,
 "nbformat_minor": 5
}
