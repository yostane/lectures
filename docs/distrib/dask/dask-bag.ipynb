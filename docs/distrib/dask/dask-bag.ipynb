{
 "cells": [
  {
   "cell_type": "markdown",
   "id": "bdcd4e9b",
   "metadata": {},
   "source": [
    "# Dask Bag\n",
    "\n"
   ]
  }
 ],
 "metadata": {
  "kernelspec": {
   "display_name": ".venv",
   "language": "python",
   "name": "python3"
  },
  "language_info": {
   "name": "python",
   "version": "3.13.3"
  }
 },
 "nbformat": 4,
 "nbformat_minor": 5
}
