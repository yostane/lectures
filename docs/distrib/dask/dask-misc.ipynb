{
 "cells": [
  {
   "cell_type": "markdown",
   "id": "7d8b20be",
   "metadata": {},
   "source": [
    "# Autres fonctionnalités"
   ]
  },
  {
   "cell_type": "markdown",
   "id": "9883250a",
   "metadata": {},
   "source": [
    "## Traitement retardé avec @dask.delayed\n",
    "\n",
    "Permet de rajouter des tâches lazy à la queue de calcul. Les fonctions annontées avec `@dask.delayed` sont exécutées suite à un `compute()`."
   ]
  },
  {
   "cell_type": "code",
   "execution_count": 1,
   "id": "815ef8dd",
   "metadata": {},
   "outputs": [
    {
     "data": {
      "text/plain": [
       "5"
      ]
     },
     "execution_count": 1,
     "metadata": {},
     "output_type": "execute_result"
    }
   ],
   "source": [
    "import dask\n",
    "\n",
    "@dask.delayed\n",
    "def inc(x):\n",
    "   return x + 1\n",
    "\n",
    "@dask.delayed\n",
    "def add(x, y):\n",
    "   return x + y\n",
    "\n",
    "a = inc(1)       # no work has happened yet\n",
    "b = inc(2)       # no work has happened yet\n",
    "c = add(a, b)    # no work has happened yet\n",
    "\n",
    "c.compute()  # This triggers all of the above computations"
   ]
  },
  {
   "cell_type": "code",
   "execution_count": 2,
   "id": "20e7744d",
   "metadata": {},
   "outputs": [
    {
     "data": {
      "image/png": "[encoded data removed]",
      "text/plain": [
       "<IPython.core.display.Image object>"
      ]
     },
     "execution_count": 2,
     "metadata": {},
     "output_type": "execute_result"
    }
   ],
   "source": [
    "c.visualize()"
   ]
  },
  {
   "cell_type": "markdown",
   "id": "2dc30c19",
   "metadata": {},
   "source": [
    "## Traitement immédiat avec les futures"
   ]
  },
  {
   "cell_type": "markdown",
   "id": "6f38502f",
   "metadata": {},
   "source": [
    "Démarrage du client et préparation des fonctions."
   ]
  },
  {
   "cell_type": "code",
   "execution_count": 1,
   "id": "59d64f06",
   "metadata": {},
   "outputs": [],
   "source": [
    "from dask.distributed import Client\n",
    "\n",
    "client = Client()\n",
    "\n",
    "def inc(x):\n",
    "   return x + 1\n",
    "\n",
    "def add(x, y):\n",
    "   return x + y"
   ]
  },
  {
   "cell_type": "code",
   "execution_count": 2,
   "id": "43720f2d",
   "metadata": {},
   "outputs": [
    {
     "data": {
      "text/plain": [
       "'http://127.0.0.1:8787/status'"
      ]
     },
     "execution_count": 2,
     "metadata": {},
     "output_type": "execute_result"
    }
   ],
   "source": [
    "client.dashboard_link"
   ]
  },
  {
   "cell_type": "markdown",
   "id": "82e06cb5",
   "metadata": {},
   "source": [
    "Envoi des tâches au client."
   ]
  },
  {
   "cell_type": "code",
   "execution_count": 7,
   "id": "5511cdcb",
   "metadata": {},
   "outputs": [
    {
     "data": {
      "text/plain": [
       "5"
      ]
     },
     "execution_count": 7,
     "metadata": {},
     "output_type": "execute_result"
    }
   ],
   "source": [
    "a = client.submit(inc, 1)     # work starts immediately\n",
    "b = client.submit(inc, 2)     # work starts immediately\n",
    "c = client.submit(add, a, b)  # work starts immediately\n",
    "\n",
    "c.result()                # block until work finishes, then gather result"
   ]
  },
  {
   "cell_type": "markdown",
   "id": "9afd0be9",
   "metadata": {},
   "source": [
    "Incrémente les entiers de 0 à 99 en parallèle."
   ]
  },
  {
   "cell_type": "code",
   "execution_count": 2,
   "id": "e4886975",
   "metadata": {},
   "outputs": [
    {
     "data": {
      "text/plain": [
       "[1,\n",
       " 2,\n",
       " 3,\n",
       " 4,\n",
       " 5,\n",
       " 6,\n",
       " 7,\n",
       " 8,\n",
       " 9,\n",
       " 10,\n",
       " 11,\n",
       " 12,\n",
       " 13,\n",
       " 14,\n",
       " 15,\n",
       " 16,\n",
       " 17,\n",
       " 18,\n",
       " 19,\n",
       " 20,\n",
       " 21,\n",
       " 22,\n",
       " 23,\n",
       " 24,\n",
       " 25,\n",
       " 26,\n",
       " 27,\n",
       " 28,\n",
       " 29,\n",
       " 30,\n",
       " 31,\n",
       " 32,\n",
       " 33,\n",
       " 34,\n",
       " 35,\n",
       " 36,\n",
       " 37,\n",
       " 38,\n",
       " 39,\n",
       " 40,\n",
       " 41,\n",
       " 42,\n",
       " 43,\n",
       " 44,\n",
       " 45,\n",
       " 46,\n",
       " 47,\n",
       " 48,\n",
       " 49,\n",
       " 50,\n",
       " 51,\n",
       " 52,\n",
       " 53,\n",
       " 54,\n",
       " 55,\n",
       " 56,\n",
       " 57,\n",
       " 58,\n",
       " 59,\n",
       " 60,\n",
       " 61,\n",
       " 62,\n",
       " 63,\n",
       " 64,\n",
       " 65,\n",
       " 66,\n",
       " 67,\n",
       " 68,\n",
       " 69,\n",
       " 70,\n",
       " 71,\n",
       " 72,\n",
       " 73,\n",
       " 74,\n",
       " 75,\n",
       " 76,\n",
       " 77,\n",
       " 78,\n",
       " 79,\n",
       " 80,\n",
       " 81,\n",
       " 82,\n",
       " 83,\n",
       " 84,\n",
       " 85,\n",
       " 86,\n",
       " 87,\n",
       " 88,\n",
       " 89,\n",
       " 90,\n",
       " 91,\n",
       " 92,\n",
       " 93,\n",
       " 94,\n",
       " 95,\n",
       " 96,\n",
       " 97,\n",
       " 98,\n",
       " 99,\n",
       " 100]"
      ]
     },
     "execution_count": 2,
     "metadata": {},
     "output_type": "execute_result"
    }
   ],
   "source": [
    "def f(x):\n",
    "    return x + 1\n",
    "\n",
    "# Run your code in parallel\n",
    "futures = client.map(f, range(100))\n",
    "results = client.gather(futures)\n",
    "results"
   ]
  },
  {
   "cell_type": "code",
   "execution_count": 3,
   "id": "aff32b27",
   "metadata": {},
   "outputs": [],
   "source": [
    "client.close()"
   ]
  }
 ],
 "metadata": {
  "kernelspec": {
   "display_name": ".venv",
   "language": "python",
   "name": "python3"
  },
  "language_info": {
   "codemirror_mode": {
    "name": "ipython",
    "version": 3
   },
   "file_extension": ".py",
   "mimetype": "text/x-python",
   "name": "python",
   "nbconvert_exporter": "python",
   "pygments_lexer": "ipython3",
   "version": "3.13.3"
  }
 },
 "nbformat": 4,
 "nbformat_minor": 5
}
