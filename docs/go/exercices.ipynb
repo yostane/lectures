{
 "cells": [
  {
   "cell_type": "markdown",
   "id": "0defb8d8",
   "metadata": {},
   "source": [
    "## Exercices\n",
    "\n",
    "1. Ecrire un programme qui crée deux variables avec des valeurs entières aléatoires entre 0 et 30. Ensuite, permuter leurs valeurs via une fonction. (utiliser `\"math/rand\"` et sa fonction `rand.Intn`)\n",
    "1. Implémenter une fonction qui claclule la racine carrée d'un entier. Méthode proposée: chercher l'entier z pour lequel `z * z = x`. Si x n'est pas un carré parfait, retourner 0.\n",
    "1. Implémenter une fonction qui claclule la racine carrée d'un float64. Méthode proposée: ajuster une valeur de départ z avec cette formule: `z -= (z*z - x) / (2*z)` à chaque itération jusqu'à ce que la différence entre `z * z` et `x` soit inférieure à une certaine précision epsilon. Démarrer avec `z = 1.0` et prendre `epsilon = 0.00001`.\n",
    "1. Créer un package `mysqrt` et y déplacer les deux fonctions définies plus haut.\n",
    "1. Créer une fonction qui prend une string en argument et donne le nombre d'occurences de ses mots (utiliser [strings.Fields](https://pkg.go.dev/strings#Fields)) pour séparer les mots dans un slice.\n",
    "1. Créer un programme qui lit un fichier texte et affiche le nombre de mots qu'il contient.\n"
   ]
  },
  {
   "cell_type": "markdown",
   "id": "b66b1ef3",
   "metadata": {},
   "source": [
    "## Solutions"
   ]
  },
  {
   "cell_type": "markdown",
   "id": "8e6f4d53",
   "metadata": {},
   "source": [
    "Ecrire un programme qui crée deux variables avec des valeurs aléatoires et ensuite permute leurs valeurs via une fonction."
   ]
  },
  {
   "cell_type": "code",
   "execution_count": 14,
   "id": "e7f1a955",
   "metadata": {},
   "outputs": [
    {
     "name": "stdout",
     "output_type": "stream",
     "text": [
      "10 9\n",
      "9 10\n",
      "9 10\n"
     ]
    }
   ],
   "source": [
    "package main\n",
    "\n",
    "import (\n",
    "\t\"fmt\"\n",
    "  \"math/rand\"\n",
    ")\n",
    "\n",
    "func swap(x, y int) (int, int) {\n",
    "  return y, x\n",
    "}\n",
    "\n",
    "func main() {\n",
    "\ta := rand.Intn(30)\n",
    "  b := rand.Intn(30)\n",
    "  fmt.Println(a, b)\n",
    "  fmt.Println(swap(a, b))\n",
    "  i, j := swap(a, b) // i prend la valeur b et j celle de a\n",
    "  fmt.Println(i, j)\n",
    "}"
   ]
  },
  {
   "cell_type": "markdown",
   "id": "df3cf5a7",
   "metadata": {},
   "source": [
    "Implémenter une fonction qui claclule la racine carrée d'un entier (en cherchant l'entier n pour lequel x * x = z)."
   ]
  },
  {
   "cell_type": "code",
   "execution_count": null,
   "id": "20b73168",
   "metadata": {},
   "outputs": [],
   "source": [
    "package main\n",
    "\n",
    "import (\n",
    "\t\"fmt\"\n",
    ")\n",
    "\n",
    "func Sqrt(x int) int {\n",
    "}\n",
    "\n",
    "func main() {\n",
    "\tfmt.Println(Sqrt(4), Sqrt(9), Sqrt(10))\n",
    "}"
   ]
  },
  {
   "cell_type": "markdown",
   "id": "aaca292f",
   "metadata": {},
   "source": [
    "Créer une fonction qui prend une string en argument et donne le nombre d'occurences de ses mots (utiliser [strings.Fields](https://pkg.go.dev/strings#Fields)) pour séparer les mots dans un slice."
   ]
  },
  {
   "cell_type": "code",
   "execution_count": null,
   "id": "17e05ee8",
   "metadata": {},
   "outputs": [
    {
     "name": "stdout",
     "output_type": "stream",
     "text": [
      "I love Go. Let's go map[x:1]\n"
     ]
    }
   ],
   "source": [
    "package main\n",
    "\n",
    "import (\n",
    "\t\"strings\"\n",
    "  \"fmt\"\n",
    ")\n",
    "\n",
    "func WordCount(s string) map[string]int {\n",
    "\treturn map[string]int{\"x\": 1}\n",
    "}\n",
    "\n",
    "func main() {\n",
    "  s1 := \"I love go. Let's go\"\n",
    "\tfmt.Println(s1, WordCount(s1))\n",
    "  s2 := \"to go, or not to go. That it the question, or not that is the question\"\n",
    "\tfmt.Println(s2, WordCount(s2))\n",
    "}\n"
   ]
  }
 ],
 "metadata": {
  "kernelspec": {
   "display_name": "Go (gonb)",
   "language": "go",
   "name": "gonb"
  },
  "language_info": {
   "codemirror_mode": "",
   "file_extension": ".go",
   "mimetype": "text/x-go",
   "name": "go",
   "nbconvert_exporter": "",
   "pygments_lexer": "",
   "version": "go1.25.1"
  }
 },
 "nbformat": 4,
 "nbformat_minor": 5
}
