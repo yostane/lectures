{
 "cells": [
  {
   "cell_type": "markdown",
   "id": "0defb8d8",
   "metadata": {},
   "source": [
    "## Exercices\n",
    "\n",
    "1. Ecrire un programme qui crée deux variables avec des valeurs entières aléatoires entre 0 et 30. Ensuite, permuter leurs valeurs via une fonction. (utiliser `\"math/rand\"` et sa fonction `rand.Intn`)\n",
    "1. Implémenter une fonction qui claclule la racine carrée d'un entier. Méthode proposée: chercher l'entier z pour lequel `z * z = x`. Si x n'est pas un carré parfait, retourner 0.\n",
    "1. Implémenter une fonction qui claclule la racine carrée d'un float64. Méthode proposée: ajuster une valeur de départ z avec cette formule: `z -= (z*z - x) / (2*z)` à chaque itération jusqu'à ce que la différence entre `z * z` et `x` soit inférieure à une certaine précision epsilon. Démarrer avec `z = 1.0` et prendre `epsilon = 0.00001`.\n",
    "1. Créer un package `mysqrt` et y déplacer les deux fonctions définies plus haut.\n",
    "1. Créer une fonction qui prend une string en argument et donne le nombre d'occurences de ses mots (utiliser [strings.Fields](https://pkg.go.dev/strings#Fields)) pour séparer les mots dans un slice.\n",
    "1. Créer un programme qui lit un fichier texte et affiche le nombre de mots qu'il contient.\n"
   ]
  },
  {
   "cell_type": "markdown",
   "id": "b66b1ef3",
   "metadata": {},
   "source": [
    "## Solutions"
   ]
  },
  {
   "cell_type": "markdown",
   "id": "8e6f4d53",
   "metadata": {},
   "source": [
    "Ecrire un programme qui crée deux variables avec des valeurs aléatoires et ensuite permute leurs valeurs via une fonction."
   ]
  },
  {
   "cell_type": "code",
   "execution_count": 14,
   "id": "e7f1a955",
   "metadata": {},
   "outputs": [
    {
     "name": "stdout",
     "output_type": "stream",
     "text": [
      "10 9\n",
      "9 10\n",
      "9 10\n"
     ]
    }
   ],
   "source": [
    "package main\n",
    "\n",
    "import (\n",
    "\t\"fmt\"\n",
    "  \"math/rand\"\n",
    ")\n",
    "\n",
    "func swap(x, y int) (int, int) {\n",
    "  return y, x\n",
    "}\n",
    "\n",
    "func main() {\n",
    "\ta := rand.Intn(30)\n",
    "  b := rand.Intn(30)\n",
    "  fmt.Println(a, b)\n",
    "  fmt.Println(swap(a, b))\n",
    "  i, j := swap(a, b) // i prend la valeur b et j celle de a\n",
    "  fmt.Println(i, j)\n",
    "}"
   ]
  },
  {
   "cell_type": "markdown",
   "id": "df3cf5a7",
   "metadata": {},
   "source": [
    "Implémenter une fonction qui claclule la racine carrée d'un entier. Méthode proposée: chercher l'entier z pour lequel `z * z = x`. Si x n'est pas un carré parfait, retourner 0."
   ]
  },
  {
   "cell_type": "code",
   "execution_count": 15,
   "id": "20b73168",
   "metadata": {},
   "outputs": [
    {
     "name": "stdout",
     "output_type": "stream",
     "text": [
      "2 3 0\n"
     ]
    }
   ],
   "source": [
    "package main\n",
    "\n",
    "import (\n",
    "\t\"fmt\"\n",
    ")\n",
    "\n",
    "func Sqrt(x int) int {\n",
    "  for i := 1; i * i <= x ; i += 1 {\n",
    "    if i * i == x {\n",
    "      return i\n",
    "    }\n",
    "  }\n",
    "  return 0\n",
    "}\n",
    "\n",
    "func main() {\n",
    "\tfmt.Println(Sqrt(4), Sqrt(9), Sqrt(10))\n",
    "}"
   ]
  },
  {
   "cell_type": "markdown",
   "id": "759904d1",
   "metadata": {},
   "source": [
    "Implémenter une fonction qui claclule la racine carrée d'un float64. Méthode proposée: ajuster une valeur de départ z avec cette formule: `z -= (z*z - x) / (2*z)` à chaque itération jusqu'à ce que la différence entre `z * z` et `x` soit inférieure à une certaine précision epsilon. Démarrer avec `z = 1.0` et prendre `epsilon = 0.00001`."
   ]
  },
  {
   "cell_type": "code",
   "execution_count": 21,
   "id": "874c4ed3",
   "metadata": {},
   "outputs": [
    {
     "name": "stdout",
     "output_type": "stream",
     "text": [
      "computing sqrt of 4 with start 1 epsilon 0.0001\n",
      "2.5 6.25 math.abs(z*z - x) 2.25\n",
      "2.05 4.2025 math.abs(z*z - x) 0.20249999999999926\n",
      "2.000609756097561 4.002439396192742 math.abs(z*z - x) 0.0024393961927419733\n",
      "2.0000000929222947 4.000000371689188 math.abs(z*z - x) 3.7168918762521686e-07\n",
      "computing sqrt of 9 with start 1 epsilon 0.0001\n",
      "5 25 math.abs(z*z - x) 16\n",
      "3.4 11.559999999999999 math.abs(z*z - x) 2.5599999999999996\n",
      "3.023529411764706 9.141730103806228 math.abs(z*z - x) 0.14173010380622786\n",
      "3.00009155413138 9.00054933317044 math.abs(z*z - x) 0.000549333170440042\n",
      "3.000000001396984 9.000000008381903 math.abs(z*z - x) 8.38190317349087e-09\n",
      "computing sqrt of 10 with start 1 epsilon 0.0001\n",
      "5.5 30.25 math.abs(z*z - x) 20.25\n",
      "3.659090909090909 13.388946280991735 math.abs(z*z - x) 3.3889462809917363\n",
      "3.196005081874647 10.21444848336857 math.abs(z*z - x) 0.21444848336856936\n",
      "3.1624556228038903 10.00112556620394 math.abs(z*z - x) 0.0011255662039413904\n",
      "3.162277665175675 10.000000031668918 math.abs(z*z - x) 3.1668918418998053e-08\n",
      "2.0000000929222947 3.000000001396984 3.162277665175675\n"
     ]
    }
   ],
   "source": [
    "package main\n",
    "\n",
    "import (\n",
    "\t\"fmt\"\n",
    "  \"math\"\n",
    ")\n",
    "\n",
    "func Sqrt(x, start, epsilon float64) float64 {\n",
    "  z := start\n",
    "  fmt.Println(\"computing sqrt of\", x, \"with start\", start, \"epsilon\", epsilon)\n",
    "  for math.Abs(z*z - x) > epsilon {\n",
    "    z -= (z*z - x) / (2*z)\n",
    "    fmt.Println(z, z*z, \"math.abs(z*z - x)\", math.Abs(z*z - x))\n",
    "  }\n",
    "  return z\n",
    "}\n",
    "\n",
    "func main() {\n",
    "\tfmt.Println(Sqrt(4, 1.0, 0.0001), Sqrt(9, 1.0, 0.0001), Sqrt(10, 1.0, 0.0001))\n",
    "}"
   ]
  },
  {
   "cell_type": "markdown",
   "id": "366767ca",
   "metadata": {},
   "source": [
    "Créer un package `mysqrt` et y déplacer les deux fonctions définies plus haut."
   ]
  },
  {
   "cell_type": "markdown",
   "id": "aaca292f",
   "metadata": {},
   "source": [
    "Créer une fonction qui prend une string en argument et donne le nombre d'occurences de ses mots (utiliser [strings.Fields](https://pkg.go.dev/strings#Fields)) pour séparer les mots dans un slice."
   ]
  },
  {
   "cell_type": "code",
   "execution_count": 2,
   "id": "17e05ee8",
   "metadata": {},
   "outputs": [
    {
     "name": "stdout",
     "output_type": "stream",
     "text": [
      "I love Go. Let's go map[x:1]\n"
     ]
    }
   ],
   "source": [
    "package main\n",
    "\n",
    "import (\n",
    "\t\"strings\"\n",
    "  \"fmt\"\n",
    ")\n",
    "\n",
    "func WordCount(s string) map[string]int {\n",
    "\treturn map[string]int{\"x\": 1}\n",
    "}\n",
    "\n",
    "func main() {\n",
    "  s1 := \"I love go. Let's go\"\n",
    "\tfmt.Println(s1, WordCount(s1))\n",
    "  s2 := \"to go, or not to go. That it the question, or not that is the question\"\n",
    "\tfmt.Println(s2, WordCount(s2))\n",
    "}\n"
   ]
  }
 ],
 "metadata": {
  "kernelspec": {
   "display_name": "Go (gonb)",
   "language": "go",
   "name": "gonb"
  },
  "language_info": {
   "codemirror_mode": "",
   "file_extension": ".go",
   "mimetype": "text/x-go",
   "name": "go",
   "nbconvert_exporter": "",
   "pygments_lexer": "",
   "version": "go1.25.1"
  }
 },
 "nbformat": 4,
 "nbformat_minor": 5
}
