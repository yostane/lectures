{
 "cells": [
  {
   "cell_type": "markdown",
   "id": "0defb8d8",
   "metadata": {},
   "source": [
    "## Exercices\n",
    "\n",
    "1. Ecrire un programme qui crée deux variables avec des valeurs aléatoires et ensuite permute leurs valeurs.\n",
    "1. Implémenter une fonction qui claclule la racine carrée d'un entier. Méthode proposée: chercher l'entier z pour lequel `z * z = x`. Si x n'est pas un carré parfait, retourner 0.\n",
    "1. Implémenter une fonction qui claclule la racine carrée d'un float64. Méthode proposée: ajuster une valeur de départ z avec cette formule: `z -= (z*z - x) / (2*z)` à chaque itération jusqu'à ce que la différence entre `z * z` et `x` soit inférieure à une certaine précision epsilon. Démarrer avec `z = 1.0` et prendre `epsilon = 0.00001`.\n",
    "1. Créer un package `mysqrt` et y déplacer les deux fonctions définies plus haut.\n",
    "1. Créer un programme qui lit un fichier texte et affiche le nombre de mots qu'il contient.\n"
   ]
  },
  {
   "cell_type": "markdown",
   "id": "b66b1ef3",
   "metadata": {},
   "source": [
    "## Solutions\n",
    "\n",
    "- Implémenter une fonction qui claclule la racine carrée d'un entier (en cherchant l'entier n pour lequel x * x = z)."
   ]
  },
  {
   "cell_type": "code",
   "execution_count": null,
   "id": "20b73168",
   "metadata": {},
   "outputs": [],
   "source": [
    "package main\n",
    "\n",
    "import (\n",
    "\t\"fmt\"\n",
    ")\n",
    "\n",
    "func Sqrt(x int) int {\n",
    "}\n",
    "\n",
    "func main() {\n",
    "\tfmt.Println(Sqrt(4), Sqrt(9), Sqrt(10))\n",
    "}"
   ]
  }
 ],
 "metadata": {
  "kernelspec": {
   "display_name": "Go (gonb)",
   "language": "go",
   "name": "gonb"
  },
  "language_info": {
   "name": "go"
  }
 },
 "nbformat": 4,
 "nbformat_minor": 5
}
