{
 "cells": [
  {
   "cell_type": "markdown",
   "id": "fbabaa09",
   "metadata": {},
   "source": [
    "## Méthodes et interfaces en Go"
   ]
  },
  {
   "cell_type": "markdown",
   "id": "06e229d4",
   "metadata": {},
   "source": [
    "Go n'est pas orienté objet (pas de notion de class ou d'hérirage). Par contre, on peut définir des méthodes sur des types existants. Les méthodes sur des pointeurs permettent de modifier l'état de l'objet."
   ]
  },
  {
   "cell_type": "code",
   "execution_count": 2,
   "id": "bf97f283",
   "metadata": {},
   "outputs": [
    {
     "name": "stdout",
     "output_type": "stream",
     "text": [
      "5\n",
      "{4 3}\n"
     ]
    }
   ],
   "source": [
    "package main\n",
    "\n",
    "import (\n",
    "\t\"fmt\"\n",
    "\t\"math\"\n",
    ")\n",
    "\n",
    "type Vertex struct {\n",
    "\tX, Y float64\n",
    "}\n",
    "\n",
    "func (v Vertex) Abs() float64 {\n",
    "\treturn math.Sqrt(v.X*v.X + v.Y*v.Y)\n",
    "}\n",
    "\n",
    "func (v *Vertex) swap() {\n",
    "\tv.X, v.Y = v.Y, v.X\n",
    "}\n",
    "\n",
    "func main() {\n",
    "\tv := Vertex{3, 4}\n",
    "\tfmt.Println(v.Abs())\n",
    "  v.swap()\n",
    "  fmt.Println(v)\n",
    "}\n"
   ]
  },
  {
   "cell_type": "markdown",
   "id": "c65261c2",
   "metadata": {},
   "source": [
    "On peut définir des méthodes sur uniquement sur des types locaux (définis dans le même package)."
   ]
  },
  {
   "cell_type": "code",
   "execution_count": 6,
   "id": "fc2de4b6",
   "metadata": {},
   "outputs": [
    {
     "name": "stdout",
     "output_type": "stream",
     "text": [
      "-10\n"
     ]
    }
   ],
   "source": [
    "package main\n",
    "\n",
    "import (\n",
    "\t\"fmt\"\n",
    "\t\"math\"\n",
    ")\n",
    "\n",
    "type MyInt int\n",
    "\n",
    "func (i MyInt) reverseSign() int {\n",
    "\treturn int(-i)\n",
    "}\n",
    "\n",
    "func main() {\n",
    "\ti := MyInt(10)\n",
    "\tfmt.Println(i.reverseSign())\n",
    "}\n"
   ]
  },
  {
   "cell_type": "markdown",
   "id": "3cff4e91",
   "metadata": {},
   "source": [
    "## Interfaces\n",
    "\n",
    "Est un ensemble de signatures de méthodes. La convention en Go est de finir le nom d'une interface par \"er\" (ex: Reader, Writer, etc.). L'implémentation d'une interface est implicite: un type implémente une interface s'il définit toutes les méthodes de cette interface (assimilable au duck typing)."
   ]
  },
  {
   "cell_type": "code",
   "execution_count": null,
   "id": "d7dceefb",
   "metadata": {},
   "outputs": [
    {
     "name": "stdout",
     "output_type": "stream",
     "text": [
      "5\n"
     ]
    }
   ],
   "source": [
    "package main\n",
    "\n",
    "import (\n",
    "\t\"fmt\"\n",
    "\t\"math\"\n",
    ")\n",
    "\n",
    "type Abser interface {\n",
    "\tAbs() float64\n",
    "}\n",
    "\n",
    "type MyFloat float64\n",
    "\n",
    "func (f MyFloat) Abs() float64 {\n",
    "\tif f < 0 {\n",
    "\t\treturn float64(-f)\n",
    "\t}\n",
    "\treturn float64(f)\n",
    "}\n",
    "\n",
    "type Vertex struct {\n",
    "\tX, Y float64\n",
    "}\n",
    "\n",
    "func (v *Vertex) Abs() float64 {\n",
    "\treturn math.Sqrt(v.X*v.X + v.Y*v.Y)\n",
    "}\n",
    "\n",
    "func main() {\n",
    "\tvar a Abser\n",
    "\tf := MyFloat(-math.Sqrt2)\n",
    "\tv := Vertex{3, 4}\n",
    "\n",
    "\ta = f  // a MyFloat implements Abser\n",
    "\ta = &v // a *Vertex implements Abser\n",
    "\n",
    "\t// In the following line, v is a Vertex (not *Vertex)\n",
    "\t// and does NOT implement Abser.\n",
    "\t//a = v\n",
    "\n",
    "\tfmt.Println(a.Abs())\n",
    "}\n"
   ]
  },
  {
   "cell_type": "markdown",
   "id": "4258186c",
   "metadata": {},
   "source": [
    "## Gestion de la nullabilité\n",
    "\n",
    "Une interface a une valeur `nil` par défaut. Appeler une méthode sur un `nil` engendre une erreur à l'exécution (au runtime)."
   ]
  },
  {
   "cell_type": "code",
   "execution_count": 4,
   "id": "45fcbf32",
   "metadata": {},
   "outputs": [
    {
     "name": "stdout",
     "output_type": "stream",
     "text": [
      "(<nil>, <nil>)\n"
     ]
    },
    {
     "name": "stderr",
     "output_type": "stream",
     "text": [
      "panic: runtime error: invalid memory address or nil pointer dereference\n",
      "[signal SIGSEGV: segmentation violation code=0x2 addr=0x0 pc=0x10463ea38]\n",
      "\n",
      "goroutine 1 [running]:\n",
      "main.main()\n",
      "\t \u001b[7m[[ Cell [4] Line 12 ]]\u001b[0m /var/folders/sj/67508vy94d1346kyt0w_kcjw0000gn/T/gonb_d8a79db2/main.go:30 +0x28\n",
      "exit status 2\n"
     ]
    }
   ],
   "source": [
    "package main\n",
    "\n",
    "import \"fmt\"\n",
    "\n",
    "type I interface {\n",
    "\tM()\n",
    "}\n",
    "\n",
    "func main() {\n",
    "\tvar i I\n",
    "\tdescribe(i)\n",
    "\ti.M()\n",
    "}\n",
    "\n",
    "func describe(i I) {\n",
    "\tfmt.Printf(\"(%v, %T)\\n\", i, i)\n",
    "}\n"
   ]
  },
  {
   "cell_type": "markdown",
   "id": "f76071a8",
   "metadata": {},
   "source": [
    "Il est possible de gérer les valeur null de l'interface dans l'implémentation de ses méthodes. Ces méthodes doivent dans ce cas iplémenter une méthode sur un pointeur de l'interface."
   ]
  },
  {
   "cell_type": "code",
   "execution_count": 5,
   "id": "f1f08067",
   "metadata": {},
   "outputs": [
    {
     "name": "stdout",
     "output_type": "stream",
     "text": [
      "(<nil>, *main.T)\n",
      "<nil>\n",
      "(&{hello}, *main.T)\n",
      "hello\n"
     ]
    }
   ],
   "source": [
    "package main\n",
    "\n",
    "import \"fmt\"\n",
    "\n",
    "type I interface {\n",
    "\tM()\n",
    "}\n",
    "\n",
    "type T struct {\n",
    "\tS string\n",
    "}\n",
    "\n",
    "func (t *T) M() {\n",
    "\tif t == nil {\n",
    "\t\tfmt.Println(\"<nil>\")\n",
    "\t\treturn\n",
    "\t}\n",
    "\tfmt.Println(t.S)\n",
    "}\n",
    "\n",
    "func main() {\n",
    "\tvar i I\n",
    "\n",
    "\tvar t *T\n",
    "\ti = t\n",
    "\tdescribe(i)\n",
    "\ti.M()\n",
    "\n",
    "\ti = &T{\"hello\"}\n",
    "\tdescribe(i)\n",
    "\ti.M()\n",
    "}\n",
    "\n",
    "func describe(i I) {\n",
    "\tfmt.Printf(\"(%v, %T)\\n\", i, i)\n",
    "}"
   ]
  }
 ],
 "metadata": {
  "kernelspec": {
   "display_name": "Go (gonb)",
   "language": "go",
   "name": "gonb"
  },
  "language_info": {
   "codemirror_mode": "",
   "file_extension": ".go",
   "mimetype": "text/x-go",
   "name": "go",
   "nbconvert_exporter": "",
   "pygments_lexer": "",
   "version": "go1.25.1"
  }
 },
 "nbformat": 4,
 "nbformat_minor": 5
}
