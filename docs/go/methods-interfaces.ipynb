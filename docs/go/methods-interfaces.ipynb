{
 "cells": [
  {
   "cell_type": "markdown",
   "id": "fbabaa09",
   "metadata": {},
   "source": [
    "## Méthodes et interfaces en Go"
   ]
  },
  {
   "cell_type": "markdown",
   "id": "06e229d4",
   "metadata": {},
   "source": [
    "Go n'est pas orienté objet (pas de notion de class ou d'hérirage). Par contre, on peut définir des méthodes sur des types existants."
   ]
  },
  {
   "cell_type": "code",
   "execution_count": null,
   "id": "bf97f283",
   "metadata": {},
   "outputs": [
    {
     "name": "stdout",
     "output_type": "stream",
     "text": [
      "5\n"
     ]
    }
   ],
   "source": [
    "package main\n",
    "\n",
    "import (\n",
    "\t\"fmt\"\n",
    "\t\"math\"\n",
    ")\n",
    "\n",
    "type Vertex struct {\n",
    "\tX, Y float64\n",
    "}\n",
    "\n",
    "func (v Vertex) Abs() float64 {\n",
    "\treturn math.Sqrt(v.X*v.X + v.Y*v.Y)\n",
    "}\n",
    "\n",
    "func main() {\n",
    "\tv := Vertex{3, 4}\n",
    "\tfmt.Println(v.Abs())\n",
    "}\n"
   ]
  },
  {
   "cell_type": "markdown",
   "id": "c65261c2",
   "metadata": {},
   "source": [
    "On peut définir des méthodes sur uniquement sur des types locaux (définis dans le même package)."
   ]
  },
  {
   "cell_type": "code",
   "execution_count": 6,
   "id": "fc2de4b6",
   "metadata": {},
   "outputs": [
    {
     "name": "stdout",
     "output_type": "stream",
     "text": [
      "-10\n"
     ]
    }
   ],
   "source": [
    "package main\n",
    "\n",
    "import (\n",
    "\t\"fmt\"\n",
    "\t\"math\"\n",
    ")\n",
    "\n",
    "type MyInt int\n",
    "\n",
    "func (i MyInt) reverseSign() int {\n",
    "\treturn int(-i)\n",
    "}\n",
    "\n",
    "func main() {\n",
    "\ti := MyInt(10)\n",
    "\tfmt.Println(i.reverseSign())\n",
    "}\n"
   ]
  }
 ],
 "metadata": {
  "kernelspec": {
   "display_name": "Go (gonb)",
   "language": "go",
   "name": "gonb"
  },
  "language_info": {
   "codemirror_mode": "",
   "file_extension": ".go",
   "mimetype": "text/x-go",
   "name": "go",
   "nbconvert_exporter": "",
   "pygments_lexer": "",
   "version": "go1.25.1"
  }
 },
 "nbformat": 4,
 "nbformat_minor": 5
}
