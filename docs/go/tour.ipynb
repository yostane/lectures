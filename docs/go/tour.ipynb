{
 "cells": [
  {
   "cell_type": "markdown",
   "id": "f85f8a6c",
   "metadata": {},
   "source": [
    "# Tour de Go\n",
    "\n",
    "Basé sur le [tour officiel de Go](https://go.dev/tour/)."
   ]
  },
  {
   "cell_type": "markdown",
   "id": "c727acd4",
   "metadata": {},
   "source": [
    "Le point d'entrée de toute application Go est la fonction `main` du package `main`.\n",
    "\n",
    "Cet exemple affiche \"Hello, 世界\" à la console (世界 signifie \"monde\" et se prononce \"sékay\" en japonais)."
   ]
  },
  {
   "cell_type": "code",
   "execution_count": 15,
   "id": "c080379b",
   "metadata": {},
   "outputs": [
    {
     "name": "stdout",
     "output_type": "stream",
     "text": [
      "Hello, 世界\n"
     ]
    }
   ],
   "source": [
    "package main\n",
    "\n",
    "import \"fmt\"\n",
    "\n",
    "func main() {\n",
    "\tfmt.Println(\"Hello, 世界\")\n",
    "}"
   ]
  },
  {
   "cell_type": "markdown",
   "id": "49cefda2",
   "metadata": {},
   "source": [
    "On peut regrouper les imports entre parenthèses pour importer plusieurs packages."
   ]
  },
  {
   "cell_type": "code",
   "execution_count": 16,
   "id": "bc5c85dd",
   "metadata": {},
   "outputs": [
    {
     "name": "stdout",
     "output_type": "stream",
     "text": [
      "Now you have 2.6457513110645907 problems.\n"
     ]
    }
   ],
   "source": [
    "package main\n",
    "\n",
    "import (\n",
    "\t\"fmt\"\n",
    "\t\"math\"\n",
    ")\n",
    "\n",
    "func main() {\n",
    "\tfmt.Printf(\"Now you have %g problems.\\n\", math.Sqrt(7))\n",
    "}"
   ]
  },
  {
   "cell_type": "markdown",
   "id": "f04b69ad",
   "metadata": {},
   "source": [
    "## Variables"
   ]
  },
  {
   "cell_type": "markdown",
   "id": "b0b2ded8",
   "metadata": {},
   "source": [
    "La capitale initiale des noms de fonctions ou de variables rend ces éléments exportés et donc accessibles depuis d'autres packages. Donc, ce n'est pas juste une convention.\n",
    "\n",
    "Dans cet exemple `Println` est accessible depuis le package `fmt` car son nom commence par une majuscule."
   ]
  },
  {
   "cell_type": "code",
   "execution_count": 21,
   "id": "86baa467",
   "metadata": {},
   "outputs": [
    {
     "name": "stdout",
     "output_type": "stream",
     "text": [
      "3.141592653589793\n"
     ]
    }
   ],
   "source": [
    "package main\n",
    "\n",
    "import (\n",
    "\t\"fmt\"\n",
    "\t\"math\"\n",
    ")\n",
    "\n",
    "func main() {\n",
    "\tfmt.Println(math.Pi)\n",
    "}"
   ]
  },
  {
   "cell_type": "markdown",
   "id": "f8c498e8",
   "metadata": {},
   "source": [
    "- `:=` permet de déclarer et d'initialiser une variable en une seule instruction sans spécifier son type explicitement.\n",
    "- `=` permet d'affecter une nouvelle valeur à une variable déjà déclarée."
   ]
  },
  {
   "cell_type": "code",
   "execution_count": null,
   "id": "9a069aac",
   "metadata": {},
   "outputs": [
    {
     "name": "stdout",
     "output_type": "stream",
     "text": [
      "10\n",
      "Hello\n",
      "Monde\n"
     ]
    }
   ],
   "source": [
    "package main\n",
    "\n",
    "import \"fmt\"\n",
    "\n",
    "func main() {\n",
    "  a := 10 // int\n",
    "  f := 3.142        // float64\n",
    "  g := 0.867 + 0.5i // complex128\n",
    "  b := \"Hello\"\n",
    "\tfmt.Println(a, f, g)\n",
    "  fmt.Println(b)\n",
    "  b = \"Monde\"\n",
    "  fmt.Println(b)\n",
    "}"
   ]
  },
  {
   "cell_type": "markdown",
   "id": "32f31973",
   "metadata": {},
   "source": [
    "Alternativement, `var` permet de déclarer des variables sans les initialiser (on peut toujours initialiser si on veut). Il est nécessaire de spécifier le type dans ce cas. Je recommande d'utiliser `:=` autant que possible, et `var` lorsque la valeur initiale ne peut être obtenue."
   ]
  },
  {
   "cell_type": "code",
   "execution_count": null,
   "id": "b47e44e3",
   "metadata": {},
   "outputs": [
    {
     "name": "stdout",
     "output_type": "stream",
     "text": [
      "0 false false false\n",
      "1.4 2.999\n"
     ]
    }
   ],
   "source": [
    "package main\n",
    "\n",
    "import \"fmt\"\n",
    "\n",
    "var c, python, java bool\n",
    "var a, b float64 = 1.4, 2.999\n",
    "\n",
    "func main() {\n",
    "\tvar i int\n",
    "\tfmt.Println(i, c, python, java)\n",
    "  fmt.Println(a, b)\n",
    "}"
   ]
  },
  {
   "cell_type": "markdown",
   "id": "ba086a4d",
   "metadata": {},
   "source": [
    "Les variables déclarées sans valeur initiale explicite reçoivent leur **valeur zéro**.\n",
    "\n",
    "- 0 pour les types numériques,\n",
    "- false pour le type booléen, et\n",
    "- \"\" (la chaîne vide) pour les chaînes de caractères."
   ]
  },
  {
   "cell_type": "code",
   "execution_count": 18,
   "id": "0910785d",
   "metadata": {},
   "outputs": [
    {
     "name": "stdout",
     "output_type": "stream",
     "text": [
      "0 0 false \"\"\n"
     ]
    }
   ],
   "source": [
    "package main\n",
    "\n",
    "import \"fmt\"\n",
    "\n",
    "func main() {\n",
    "\tvar i int\n",
    "\tvar f float64\n",
    "\tvar b bool\n",
    "\tvar s string\n",
    "\tfmt.Printf(\"%v %v %v %q\\n\", i, f, b, s)\n",
    "}"
   ]
  },
  {
   "cell_type": "markdown",
   "id": "aa889c67",
   "metadata": {},
   "source": [
    "## Fonctions"
   ]
  },
  {
   "cell_type": "markdown",
   "id": "14784fec",
   "metadata": {},
   "source": [
    "Le type des variables, des arguments et des valeurs de retour est déclaré après le nom de la variable et du nom de la fonction. Si les types sont les mêmes, on peut les regrouper."
   ]
  },
  {
   "cell_type": "code",
   "execution_count": null,
   "id": "62909334",
   "metadata": {},
   "outputs": [
    {
     "name": "stdout",
     "output_type": "stream",
     "text": [
      "55\n",
      "546\n"
     ]
    }
   ],
   "source": [
    "package main\n",
    "\n",
    "import \"fmt\"\n",
    "\n",
    "func add(x int, y int) int {\n",
    "\treturn x + y\n",
    "}\n",
    "\n",
    "func multiply(x, y int) int {\n",
    "\treturn x * y\n",
    "}\n",
    "\n",
    "func main() {\n",
    "\tfmt.Println(add(42, 13))\n",
    "  fmt.Println(multiply(42, 13))\n",
    "}"
   ]
  },
  {
   "cell_type": "markdown",
   "id": "dd7de9f2",
   "metadata": {},
   "source": [
    "Les fonctions peuvent retourner plusieurs valeurs."
   ]
  },
  {
   "cell_type": "code",
   "execution_count": null,
   "id": "e3be89fd",
   "metadata": {},
   "outputs": [
    {
     "name": "stdout",
     "output_type": "stream",
     "text": [
      "world hello\n"
     ]
    }
   ],
   "source": [
    "package main\n",
    "\n",
    "import \"fmt\"\n",
    "\n",
    "func swap(x, y string) (string, string) {\n",
    "\treturn y, x\n",
    "}\n",
    "\n",
    "func main() {\n",
    "\ta, b := swap(\"hello\", \"world\")\n",
    "\tfmt.Println(a, b)\n",
    "}"
   ]
  },
  {
   "cell_type": "markdown",
   "id": "d137f285",
   "metadata": {},
   "source": [
    "On peut nommer les valeurs de retour d'une fonction. Cela permet de documenter le code et de retourner les valeurs en utilisant simplement l'instruction `return` sans spécifier les variables à retourner."
   ]
  },
  {
   "cell_type": "code",
   "execution_count": null,
   "id": "7cc30ae9",
   "metadata": {},
   "outputs": [
    {
     "name": "stdout",
     "output_type": "stream",
     "text": [
      "7 10\n"
     ]
    }
   ],
   "source": [
    "package main\n",
    "\n",
    "import \"fmt\"\n",
    "\n",
    "func split(sum int) (x, y int) {\n",
    "\tx = sum * 4 / 9\n",
    "\ty = sum - x\n",
    "\treturn\n",
    "}\n",
    "\n",
    "func main() {\n",
    "\tfmt.Println(split(17))\n",
    "}"
   ]
  },
  {
   "cell_type": "markdown",
   "id": "771616cd",
   "metadata": {},
   "source": [
    "## Les types de base\n",
    "\n",
    "```txt\n",
    "bool\n",
    "\n",
    "string\n",
    "\n",
    "int  int8  int16  int32  int64\n",
    "uint uint8 uint16 uint32 uint64 uintptr\n",
    "\n",
    "byte // alias for uint8\n",
    "\n",
    "rune // alias for int32\n",
    "     // represents a Unicode code point\n",
    "\n",
    "float32 float64\n",
    "\n",
    "complex64 complex128\n",
    "```"
   ]
  },
  {
   "cell_type": "code",
   "execution_count": null,
   "id": "f2917c31",
   "metadata": {},
   "outputs": [],
   "source": [
    "package main\n",
    "\n",
    "import (\n",
    "\t\"fmt\"\n",
    "\t\"math/cmplx\"\n",
    ")\n",
    "\n",
    "var (\n",
    "\tToBe   bool       = false\n",
    "\tMaxInt uint64     = 1<<64 - 1\n",
    "\tz      complex128 = cmplx.Sqrt(-5 + 12i)\n",
    ")\n",
    "\n",
    "func main() {\n",
    "\tfmt.Printf(\"Type: %T Value: %v\\n\", ToBe, ToBe)\n",
    "\tfmt.Printf(\"Type: %T Value: %v\\n\", MaxInt, MaxInt)\n",
    "\tfmt.Printf(\"Type: %T Value: %v\\n\", z, z)\n",
    "}"
   ]
  },
  {
   "cell_type": "markdown",
   "id": "9f7399cb",
   "metadata": {},
   "source": [
    "## Typage fort\n",
    "\n",
    "Go est un langage à typage fort. Les conversions de types doivent être explicites (contrairement au C et au JavaScript)."
   ]
  },
  {
   "cell_type": "code",
   "execution_count": 19,
   "id": "c6174254",
   "metadata": {},
   "outputs": [
    {
     "name": "stdout",
     "output_type": "stream",
     "text": [
      "3 4 5\n"
     ]
    }
   ],
   "source": [
    "package main\n",
    "\n",
    "import (\n",
    "\t\"fmt\"\n",
    "\t\"math\"\n",
    ")\n",
    "\n",
    "func main() {\n",
    "\tvar x, y int = 3, 4\n",
    "\tvar f float64 = math.Sqrt(float64(x*x + y*y))\n",
    "\tvar z uint = uint(f)\n",
    "\tfmt.Println(x, y, z)\n",
    "}"
   ]
  },
  {
   "cell_type": "markdown",
   "id": "24bc1e36",
   "metadata": {},
   "source": [
    "## Rappels sur quelques concepts\n",
    "\n",
    "- Typage statique: le type des variables est connu à la compilation et ne change pas.\n",
    "- Typage fort: les conversions de types doivent être explicites.\n",
    "- Type explicite: le type des variables est déclaré explicitement.\n",
    "- Type inféré: le type des variables est déduit par le compilateur à partir de la valeur initiale."
   ]
  }
 ],
 "metadata": {
  "kernelspec": {
   "display_name": "Go (gonb)",
   "language": "go",
   "name": "gonb"
  },
  "language_info": {
   "codemirror_mode": "",
   "file_extension": ".go",
   "mimetype": "text/x-go",
   "name": "go",
   "nbconvert_exporter": "",
   "pygments_lexer": "",
   "version": "go1.25.1"
  }
 },
 "nbformat": 4,
 "nbformat_minor": 5
}
