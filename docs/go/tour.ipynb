{
 "cells": [
  {
   "cell_type": "markdown",
   "id": "f85f8a6c",
   "metadata": {},
   "source": [
    "# Tour de Go\n",
    "\n",
    "Basé sur le [tour officiel de Go](https://go.dev/tour/)."
   ]
  },
  {
   "cell_type": "markdown",
   "id": "c727acd4",
   "metadata": {},
   "source": [
    "Le point d'entrée de toute application Go est la fonction `main` du package `main`.\n",
    "\n",
    "Cet exemple affiche \"Hello, 世界\" à la console (世界 signifie \"monde\" et se prononce \"sékay\" en japonais)."
   ]
  },
  {
   "cell_type": "code",
   "execution_count": 4,
   "id": "c080379b",
   "metadata": {},
   "outputs": [
    {
     "name": "stdout",
     "output_type": "stream",
     "text": [
      "Hello, 世界\n"
     ]
    }
   ],
   "source": [
    "package main\n",
    "\n",
    "import \"fmt\"\n",
    "\n",
    "func main() {\n",
    "\tfmt.Println(\"Hello, 世界\")\n",
    "}"
   ]
  },
  {
   "cell_type": "markdown",
   "id": "49cefda2",
   "metadata": {},
   "source": [
    "On peut regrouper les imports entre parenthèses pour importer plusieurs packages."
   ]
  },
  {
   "cell_type": "code",
   "execution_count": 5,
   "id": "bc5c85dd",
   "metadata": {},
   "outputs": [
    {
     "name": "stdout",
     "output_type": "stream",
     "text": [
      "Now you have 2.6457513110645907 problems.\n"
     ]
    }
   ],
   "source": [
    "package main\n",
    "\n",
    "import (\n",
    "\t\"fmt\"\n",
    "\t\"math\"\n",
    ")\n",
    "\n",
    "func main() {\n",
    "\tfmt.Printf(\"Now you have %g problems.\\n\", math.Sqrt(7))\n",
    "}"
   ]
  },
  {
   "cell_type": "markdown",
   "id": "b0b2ded8",
   "metadata": {},
   "source": [
    "La capitale initiale des noms de fonctions ou de variables rend ces éléments exportés et donc accessibles depuis d'autres packages. Donc, ce n'est pas juste une convention.\n",
    "\n",
    "Dans cet exemple `Println` est accessible depuis le package `fmt` car son nom commence par une majuscule."
   ]
  },
  {
   "cell_type": "code",
   "execution_count": null,
   "id": "86baa467",
   "metadata": {},
   "outputs": [],
   "source": [
    "package main\n",
    "\n",
    "import (\n",
    "\t\"fmt\"\n",
    "\t\"math\"\n",
    ")\n",
    "\n",
    "func main() {\n",
    "\tfmt.Println(math.pi)\n",
    "}"
   ]
  },
  {
   "cell_type": "markdown",
   "id": "f8c498e8",
   "metadata": {},
   "source": [
    "- `:=` permet de déclarer et d'initialiser une variable en une seule instruction sans spécifier son type explicitement.\n",
    "- `=` permet d'affecter une nouvelle valeur à une variable déjà déclarée."
   ]
  },
  {
   "cell_type": "code",
   "execution_count": 9,
   "id": "9a069aac",
   "metadata": {},
   "outputs": [
    {
     "name": "stdout",
     "output_type": "stream",
     "text": [
      "10\n",
      "Hello\n",
      "Monde\n"
     ]
    }
   ],
   "source": [
    "package main\n",
    "\n",
    "import \"fmt\"\n",
    "\n",
    "func main() {\n",
    "  a := 10\n",
    "  b := \"Hello\"\n",
    "\tfmt.Println(a)\n",
    "  fmt.Println(b)\n",
    "  b = \"Monde\"\n",
    "  fmt.Println(b)\n",
    "}"
   ]
  },
  {
   "cell_type": "markdown",
   "id": "32f31973",
   "metadata": {},
   "source": [
    "Alternativement, `var` permet de déclarer des variables sans les initialiser (on peut toujours initialiser si on veut). Il est nécessaire de spécifier le type dans ce cas. Je recommande d'utiliser `:=` autant que possible, et `var` lorsque la valeur initiale ne peut être obtenue."
   ]
  },
  {
   "cell_type": "code",
   "execution_count": 14,
   "id": "b47e44e3",
   "metadata": {},
   "outputs": [
    {
     "name": "stdout",
     "output_type": "stream",
     "text": [
      "0 false false false\n",
      "1.4 2.999\n"
     ]
    }
   ],
   "source": [
    "package main\n",
    "\n",
    "import \"fmt\"\n",
    "\n",
    "var c, python, java bool\n",
    "var a, b float64 = 1.4, 2.999\n",
    "\n",
    "func main() {\n",
    "\tvar i int\n",
    "\tfmt.Println(i, c, python, java)\n",
    "  fmt.Println(a, b)\n",
    "}"
   ]
  },
  {
   "cell_type": "markdown",
   "id": "14784fec",
   "metadata": {},
   "source": [
    "Le type des variables, des arguments et des valeurs de retour est déclaré après le nom de la variable et du nom de la fonction. Si les types sont les mêmes, on peut les regrouper."
   ]
  },
  {
   "cell_type": "code",
   "execution_count": 7,
   "id": "62909334",
   "metadata": {},
   "outputs": [
    {
     "name": "stdout",
     "output_type": "stream",
     "text": [
      "55\n",
      "546\n"
     ]
    }
   ],
   "source": [
    "package main\n",
    "\n",
    "import \"fmt\"\n",
    "\n",
    "func add(x int, y int) int {\n",
    "\treturn x + y\n",
    "}\n",
    "\n",
    "func multiply(x, y int) int {\n",
    "\treturn x * y\n",
    "}\n",
    "\n",
    "func main() {\n",
    "\tfmt.Println(add(42, 13))\n",
    "  fmt.Println(multiply(42, 13))\n",
    "}"
   ]
  },
  {
   "cell_type": "markdown",
   "id": "dd7de9f2",
   "metadata": {},
   "source": [
    "Les fonctions peuvent retourner plusieurs valeurs."
   ]
  },
  {
   "cell_type": "code",
   "execution_count": 10,
   "id": "e3be89fd",
   "metadata": {},
   "outputs": [
    {
     "name": "stdout",
     "output_type": "stream",
     "text": [
      "world hello\n"
     ]
    }
   ],
   "source": [
    "package main\n",
    "\n",
    "import \"fmt\"\n",
    "\n",
    "func swap(x, y string) (string, string) {\n",
    "\treturn y, x\n",
    "}\n",
    "\n",
    "func main() {\n",
    "\ta, b := swap(\"hello\", \"world\")\n",
    "\tfmt.Println(a, b)\n",
    "}"
   ]
  },
  {
   "cell_type": "markdown",
   "id": "d137f285",
   "metadata": {},
   "source": [
    "On peut nommer les valeurs de retour d'une fonction. Cela permet de documenter le code et de retourner les valeurs en utilisant simplement l'instruction `return` sans spécifier les variables à retourner."
   ]
  },
  {
   "cell_type": "code",
   "execution_count": 11,
   "id": "7cc30ae9",
   "metadata": {},
   "outputs": [
    {
     "name": "stdout",
     "output_type": "stream",
     "text": [
      "7 10\n"
     ]
    }
   ],
   "source": [
    "package main\n",
    "\n",
    "import \"fmt\"\n",
    "\n",
    "func split(sum int) (x, y int) {\n",
    "\tx = sum * 4 / 9\n",
    "\ty = sum - x\n",
    "\treturn\n",
    "}\n",
    "\n",
    "func main() {\n",
    "\tfmt.Println(split(17))\n",
    "}"
   ]
  }
 ],
 "metadata": {
  "kernelspec": {
   "display_name": "Go (gonb)",
   "language": "go",
   "name": "gonb"
  },
  "language_info": {
   "codemirror_mode": "",
   "file_extension": ".go",
   "mimetype": "text/x-go",
   "name": "go",
   "nbconvert_exporter": "",
   "pygments_lexer": "",
   "version": "go1.25.1"
  }
 },
 "nbformat": 4,
 "nbformat_minor": 5
}
