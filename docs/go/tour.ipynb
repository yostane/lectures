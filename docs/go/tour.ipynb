{
 "cells": [
  {
   "cell_type": "markdown",
   "id": "f85f8a6c",
   "metadata": {},
   "source": [
    "# Tour de Go\n",
    "\n",
    "Basé sur le [tour officiel de Go](https://go.dev/tour/)."
   ]
  },
  {
   "cell_type": "markdown",
   "id": "c727acd4",
   "metadata": {},
   "source": [
    "Le point d'entrée de toute application Go est la fonction `main` du package `main`.\n",
    "\n",
    "Cet exemple affiche \"Hello, 世界\" à la console (世界 signifie \"monde\" et se prononce \"sékay\" en japonais)."
   ]
  },
  {
   "cell_type": "code",
   "execution_count": 1,
   "id": "c080379b",
   "metadata": {},
   "outputs": [
    {
     "name": "stdout",
     "output_type": "stream",
     "text": [
      "Hello, 世界\n"
     ]
    }
   ],
   "source": [
    "package main\n",
    "\n",
    "import \"fmt\"\n",
    "\n",
    "func main() {\n",
    "\tfmt.Println(\"Hello, 世界\")\n",
    "}"
   ]
  },
  {
   "cell_type": "markdown",
   "id": "49cefda2",
   "metadata": {},
   "source": [
    "On peut regrouper les imports entre parenthèses pour importer plusieurs packages."
   ]
  },
  {
   "cell_type": "code",
   "execution_count": 2,
   "id": "bc5c85dd",
   "metadata": {},
   "outputs": [
    {
     "name": "stdout",
     "output_type": "stream",
     "text": [
      "Now you have 2.6457513110645907 problems.\n"
     ]
    }
   ],
   "source": [
    "package main\n",
    "\n",
    "import (\n",
    "\t\"fmt\"\n",
    "\t\"math\"\n",
    ")\n",
    "\n",
    "func main() {\n",
    "\tfmt.Printf(\"Now you have %g problems.\\n\", math.Sqrt(7))\n",
    "}"
   ]
  },
  {
   "cell_type": "markdown",
   "id": "f04b69ad",
   "metadata": {},
   "source": [
    "## Variables"
   ]
  },
  {
   "cell_type": "markdown",
   "id": "b0b2ded8",
   "metadata": {},
   "source": [
    "La capitale initiale des noms de fonctions ou de variables rend ces éléments exportés et donc accessibles depuis d'autres packages. Donc, ce n'est pas juste une convention.\n",
    "\n",
    "Dans cet exemple `Println` est accessible depuis le package `fmt` car son nom commence par une majuscule."
   ]
  },
  {
   "cell_type": "code",
   "execution_count": 3,
   "id": "86baa467",
   "metadata": {},
   "outputs": [
    {
     "name": "stdout",
     "output_type": "stream",
     "text": [
      "3.141592653589793\n"
     ]
    }
   ],
   "source": [
    "package main\n",
    "\n",
    "import (\n",
    "\t\"fmt\"\n",
    "\t\"math\"\n",
    ")\n",
    "\n",
    "func main() {\n",
    "\tfmt.Println(math.Pi)\n",
    "}"
   ]
  },
  {
   "cell_type": "markdown",
   "id": "f8c498e8",
   "metadata": {},
   "source": [
    "- `:=` permet de déclarer et d'initialiser une variable en une seule instruction sans spécifier son type explicitement.\n",
    "- `=` permet d'affecter une nouvelle valeur à une variable déjà déclarée."
   ]
  },
  {
   "cell_type": "code",
   "execution_count": 4,
   "id": "9a069aac",
   "metadata": {},
   "outputs": [
    {
     "name": "stdout",
     "output_type": "stream",
     "text": [
      "10 3.142 (0.867+0.5i)\n",
      "Hello\n",
      "Monde\n"
     ]
    }
   ],
   "source": [
    "package main\n",
    "\n",
    "import \"fmt\"\n",
    "\n",
    "func main() {\n",
    "  a := 10 // int\n",
    "  f := 3.142        // float64\n",
    "  g := 0.867 + 0.5i // complex128\n",
    "  b := \"Hello\"\n",
    "\tfmt.Println(a, f, g)\n",
    "  fmt.Println(b)\n",
    "  b = \"Monde\"\n",
    "  fmt.Println(b)\n",
    "}"
   ]
  },
  {
   "cell_type": "markdown",
   "id": "32f31973",
   "metadata": {},
   "source": [
    "Alternativement, `var` permet de déclarer des variables sans les initialiser (on peut toujours initialiser si on veut). Il est nécessaire de spécifier le type dans ce cas. Je recommande d'utiliser `:=` autant que possible, et `var` lorsque la valeur initiale ne peut être obtenue."
   ]
  },
  {
   "cell_type": "code",
   "execution_count": 5,
   "id": "b47e44e3",
   "metadata": {},
   "outputs": [
    {
     "name": "stdout",
     "output_type": "stream",
     "text": [
      "0 false false false\n",
      "1.4 2.999\n"
     ]
    }
   ],
   "source": [
    "package main\n",
    "\n",
    "import \"fmt\"\n",
    "\n",
    "var c, python, java bool\n",
    "var a, b float64 = 1.4, 2.999\n",
    "\n",
    "func main() {\n",
    "\tvar i int\n",
    "\tfmt.Println(i, c, python, java)\n",
    "  fmt.Println(a, b)\n",
    "}"
   ]
  },
  {
   "cell_type": "markdown",
   "id": "ba086a4d",
   "metadata": {},
   "source": [
    "Les variables déclarées sans valeur initiale explicite reçoivent leur **valeur zéro**.\n",
    "\n",
    "- 0 pour les types numériques,\n",
    "- false pour le type booléen, et\n",
    "- \"\" (la chaîne vide) pour les chaînes de caractères."
   ]
  },
  {
   "cell_type": "code",
   "execution_count": 6,
   "id": "0910785d",
   "metadata": {},
   "outputs": [
    {
     "name": "stdout",
     "output_type": "stream",
     "text": [
      "0 0 false \"\"\n"
     ]
    }
   ],
   "source": [
    "package main\n",
    "\n",
    "import \"fmt\"\n",
    "\n",
    "func main() {\n",
    "\tvar i int\n",
    "\tvar f float64\n",
    "\tvar b bool\n",
    "\tvar s string\n",
    "\tfmt.Printf(\"%v %v %v %q\\n\", i, f, b, s)\n",
    "}"
   ]
  },
  {
   "cell_type": "markdown",
   "id": "3b58580e",
   "metadata": {},
   "source": [
    "Les constantes sont déclarées avec le mot-clé `const`. Leur valeur doit être connue à la compilation et ne peut pas changer. Je recommande d'utiliser des constantes par défaut et autant que possible pour éviter les erreurs."
   ]
  },
  {
   "cell_type": "code",
   "execution_count": 7,
   "id": "d6c415ba",
   "metadata": {},
   "outputs": [
    {
     "name": "stdout",
     "output_type": "stream",
     "text": [
      "Hello 世界\n",
      "Happy 3.14 Day\n",
      "Go rules? true\n"
     ]
    }
   ],
   "source": [
    "package main\n",
    "\n",
    "import \"fmt\"\n",
    "\n",
    "const Pi = 3.14\n",
    "\n",
    "func main() {\n",
    "\tconst World = \"世界\"\n",
    "\tfmt.Println(\"Hello\", World)\n",
    "\tfmt.Println(\"Happy\", Pi, \"Day\")\n",
    "\n",
    "\tconst Truth = true\n",
    "\tfmt.Println(\"Go rules?\", Truth)\n",
    "}"
   ]
  },
  {
   "cell_type": "markdown",
   "id": "84b36b15",
   "metadata": {},
   "source": [
    "Les constantes en Go supportent les grands entiers."
   ]
  },
  {
   "cell_type": "code",
   "execution_count": 8,
   "id": "ae1c6c39",
   "metadata": {},
   "outputs": [
    {
     "name": "stdout",
     "output_type": "stream",
     "text": [
      "21\n",
      "0.2\n",
      "1.2676506002282295e+29\n"
     ]
    }
   ],
   "source": [
    "package main\n",
    "\n",
    "import \"fmt\"\n",
    "\n",
    "const (\n",
    "\t// Create a huge number by shifting a 1 bit left 100 places.\n",
    "\t// In other words, the binary number that is 1 followed by 100 zeroes.\n",
    "\tBig = 1 << 100 \n",
    "\t// Shift it right again 99 places, so we end up with 1<<1, or 2.\n",
    "\tSmall = Big >> 99\n",
    ")\n",
    "\n",
    "func needInt(x int) int { return x*10 + 1 }\n",
    "func needFloat(x float64) float64 {\n",
    "\treturn x * 0.1\n",
    "}\n",
    "\n",
    "func main() {\n",
    "\tfmt.Println(needInt(Small))\n",
    "\tfmt.Println(needFloat(Small))\n",
    "\tfmt.Println(needFloat(Big))\n",
    "\t// fmt.Println(needInt(Big)) // erreur car bigInt ne peut pas rentrer dans un int\n",
    "}\n"
   ]
  },
  {
   "cell_type": "markdown",
   "id": "aa889c67",
   "metadata": {},
   "source": [
    "## Fonctions"
   ]
  },
  {
   "cell_type": "markdown",
   "id": "14784fec",
   "metadata": {},
   "source": [
    "Le type des variables, des arguments et des valeurs de retour est déclaré après le nom de la variable et du nom de la fonction. Si les types sont les mêmes, on peut les regrouper."
   ]
  },
  {
   "cell_type": "code",
   "execution_count": 9,
   "id": "62909334",
   "metadata": {},
   "outputs": [
    {
     "name": "stdout",
     "output_type": "stream",
     "text": [
      "55\n",
      "546\n"
     ]
    }
   ],
   "source": [
    "package main\n",
    "\n",
    "import \"fmt\"\n",
    "\n",
    "func add(x int, y int) int {\n",
    "\treturn x + y\n",
    "}\n",
    "\n",
    "func multiply(x, y int) int {\n",
    "\treturn x * y\n",
    "}\n",
    "\n",
    "func main() {\n",
    "\tfmt.Println(add(42, 13))\n",
    "  fmt.Println(multiply(42, 13))\n",
    "}"
   ]
  },
  {
   "cell_type": "markdown",
   "id": "dd7de9f2",
   "metadata": {},
   "source": [
    "Les fonctions peuvent retourner plusieurs valeurs."
   ]
  },
  {
   "cell_type": "code",
   "execution_count": 10,
   "id": "e3be89fd",
   "metadata": {},
   "outputs": [
    {
     "name": "stdout",
     "output_type": "stream",
     "text": [
      "world hello\n"
     ]
    }
   ],
   "source": [
    "package main\n",
    "\n",
    "import \"fmt\"\n",
    "\n",
    "func swap(x, y string) (string, string) {\n",
    "\treturn y, x\n",
    "}\n",
    "\n",
    "func main() {\n",
    "\ta, b := swap(\"hello\", \"world\")\n",
    "\tfmt.Println(a, b)\n",
    "}"
   ]
  },
  {
   "cell_type": "markdown",
   "id": "d137f285",
   "metadata": {},
   "source": [
    "On peut nommer les valeurs de retour d'une fonction. Cela permet de documenter le code et de retourner les valeurs en utilisant simplement l'instruction `return` sans spécifier les variables à retourner."
   ]
  },
  {
   "cell_type": "code",
   "execution_count": 11,
   "id": "7cc30ae9",
   "metadata": {},
   "outputs": [
    {
     "name": "stdout",
     "output_type": "stream",
     "text": [
      "7 10\n"
     ]
    }
   ],
   "source": [
    "package main\n",
    "\n",
    "import \"fmt\"\n",
    "\n",
    "func split(sum int) (x, y int) {\n",
    "\tx = sum * 4 / 9\n",
    "\ty = sum - x\n",
    "\treturn\n",
    "}\n",
    "\n",
    "func main() {\n",
    "\tfmt.Println(split(17))\n",
    "}"
   ]
  },
  {
   "cell_type": "markdown",
   "id": "2953eb74",
   "metadata": {},
   "source": [
    "### Fonctions comme des citoyens de première classe\n",
    "\n",
    "On peut les assigner à des variables, les passer en arguments à d'autres fonctions et les retourner depuis des fonctions. On dit que les fonctions sont aussi des valeurs."
   ]
  },
  {
   "cell_type": "code",
   "execution_count": 12,
   "id": "8b8bfe76",
   "metadata": {},
   "outputs": [
    {
     "name": "stdout",
     "output_type": "stream",
     "text": [
      "13\n",
      "5\n",
      "81\n"
     ]
    }
   ],
   "source": [
    "package main\n",
    "\n",
    "import (\n",
    "\t\"fmt\"\n",
    "\t\"math\"\n",
    ")\n",
    "\n",
    "func compute(fn func(float64, float64) float64) float64 {\n",
    "\treturn fn(3, 4)\n",
    "}\n",
    "\n",
    "func main() {\n",
    "\thypot := func(x, y float64) float64 {\n",
    "\t\treturn math.Sqrt(x*x + y*y)\n",
    "\t}\n",
    "\tfmt.Println(hypot(5, 12))\n",
    "\n",
    "\tfmt.Println(compute(hypot))\n",
    "\tfmt.Println(compute(math.Pow))\n",
    "}"
   ]
  },
  {
   "cell_type": "markdown",
   "id": "771616cd",
   "metadata": {},
   "source": [
    "## Les types de base\n",
    "\n",
    "```txt\n",
    "bool\n",
    "\n",
    "string\n",
    "\n",
    "int  int8  int16  int32  int64\n",
    "uint uint8 uint16 uint32 uint64 uintptr\n",
    "\n",
    "byte // alias for uint8\n",
    "\n",
    "rune // alias for int32\n",
    "     // represents a Unicode code point\n",
    "\n",
    "float32 float64\n",
    "\n",
    "complex64 complex128\n",
    "```"
   ]
  },
  {
   "cell_type": "code",
   "execution_count": 13,
   "id": "f2917c31",
   "metadata": {},
   "outputs": [
    {
     "name": "stdout",
     "output_type": "stream",
     "text": [
      "Type: bool Value: false\n",
      "Type: uint64 Value: 18446744073709551615\n",
      "Type: complex128 Value: (2+3i)\n"
     ]
    }
   ],
   "source": [
    "package main\n",
    "\n",
    "import (\n",
    "\t\"fmt\"\n",
    "\t\"math/cmplx\"\n",
    ")\n",
    "\n",
    "var (\n",
    "\tToBe   bool       = false\n",
    "\tMaxInt uint64     = 1<<64 - 1\n",
    "\tz      complex128 = cmplx.Sqrt(-5 + 12i)\n",
    ")\n",
    "\n",
    "func main() {\n",
    "\tfmt.Printf(\"Type: %T Value: %v\\n\", ToBe, ToBe)\n",
    "\tfmt.Printf(\"Type: %T Value: %v\\n\", MaxInt, MaxInt)\n",
    "\tfmt.Printf(\"Type: %T Value: %v\\n\", z, z)\n",
    "}"
   ]
  },
  {
   "cell_type": "markdown",
   "id": "9f7399cb",
   "metadata": {},
   "source": [
    "## Typage fort\n",
    "\n",
    "Go est un langage à typage fort. Les conversions de types doivent être explicites (contrairement au C et au JavaScript)."
   ]
  },
  {
   "cell_type": "code",
   "execution_count": 14,
   "id": "c6174254",
   "metadata": {},
   "outputs": [
    {
     "name": "stdout",
     "output_type": "stream",
     "text": [
      "3 4 5\n"
     ]
    }
   ],
   "source": [
    "package main\n",
    "\n",
    "import (\n",
    "\t\"fmt\"\n",
    "\t\"math\"\n",
    ")\n",
    "\n",
    "func main() {\n",
    "\tvar x, y int = 3, 4\n",
    "\tvar f float64 = math.Sqrt(float64(x*x + y*y))\n",
    "\tvar z uint = uint(f)\n",
    "\tfmt.Println(x, y, z)\n",
    "}"
   ]
  },
  {
   "cell_type": "markdown",
   "id": "01c862e1",
   "metadata": {},
   "source": [
    "## Structures de contrôle\n",
    "\n",
    "Boucles avec une variable qui s'incrémente à chaque itération. Dans cette forme, `i := 0;` s'appelle une **instruction d'initialisation**, `i < 10;` est la **condition de boucle**, et `i++` est l'**instruction post** qui s'exécute à la fin de chaque itération. Les instructions d'initialisation et post sont optionnelles."
   ]
  },
  {
   "cell_type": "code",
   "execution_count": 15,
   "id": "7b3f1709",
   "metadata": {},
   "outputs": [
    {
     "name": "stdout",
     "output_type": "stream",
     "text": [
      "45\n"
     ]
    }
   ],
   "source": [
    "package main\n",
    "\n",
    "import \"fmt\"\n",
    "\n",
    "func main() {\n",
    "\tsum := 0\n",
    "\tfor i := 0; i < 10; i++ {\n",
    "\t\tsum += i\n",
    "\t}\n",
    "\tfmt.Println(sum)\n",
    "}"
   ]
  },
  {
   "cell_type": "markdown",
   "id": "b2d6d8a2",
   "metadata": {},
   "source": [
    "Boucle sans variable d'itération où les instructions d'initialisation et post sont absentes."
   ]
  },
  {
   "cell_type": "code",
   "execution_count": 16,
   "id": "bd9199d8",
   "metadata": {},
   "outputs": [
    {
     "name": "stdout",
     "output_type": "stream",
     "text": [
      "1024\n"
     ]
    }
   ],
   "source": [
    "package main\n",
    "\n",
    "import \"fmt\"\n",
    "\n",
    "func main() {\n",
    "\tsum := 1\n",
    "\tfor sum < 1000 {\n",
    "\t\tsum += sum\n",
    "\t}\n",
    "\tfmt.Println(sum)\n",
    "}"
   ]
  },
  {
   "cell_type": "markdown",
   "id": "eb87c114",
   "metadata": {},
   "source": [
    "`if` ne nécessite pas de parenthèses autour de la condition, mais nécessite des accolades autour du bloc de code."
   ]
  },
  {
   "cell_type": "code",
   "execution_count": 17,
   "id": "c65106f6",
   "metadata": {},
   "outputs": [
    {
     "name": "stdout",
     "output_type": "stream",
     "text": [
      "1.4142135623730951 2i\n"
     ]
    }
   ],
   "source": [
    "package main\n",
    "\n",
    "import (\n",
    "\t\"fmt\"\n",
    "\t\"math\"\n",
    ")\n",
    "\n",
    "func sqrt(x float64) string {\n",
    "\tif x < 0 {\n",
    "\t\treturn sqrt(-x) + \"i\"\n",
    "\t}\n",
    "\treturn fmt.Sprint(math.Sqrt(x))\n",
    "}\n",
    "\n",
    "func main() {\n",
    "\tfmt.Println(sqrt(2), sqrt(-4))\n",
    "}"
   ]
  },
  {
   "cell_type": "markdown",
   "id": "38a079bb",
   "metadata": {},
   "source": [
    "`if` supporte une instruction d'initialisation avant la condition assez utile pour intialiser des variables limitées au scope du `if` et de son `else`."
   ]
  },
  {
   "cell_type": "code",
   "execution_count": 18,
   "id": "0688bf29",
   "metadata": {},
   "outputs": [
    {
     "name": "stdout",
     "output_type": "stream",
     "text": [
      "27 >= 20\n",
      "9 20\n"
     ]
    }
   ],
   "source": [
    "package main\n",
    "\n",
    "import (\n",
    "\t\"fmt\"\n",
    "\t\"math\"\n",
    ")\n",
    "\n",
    "func pow(x, n, lim float64) float64 {\n",
    "\tif v := math.Pow(x, n); v < lim {\n",
    "\t\treturn v\n",
    "\t} else {\n",
    "\t\tfmt.Printf(\"%g >= %g\\n\", v, lim)\n",
    "\t}\n",
    "  // v n'est pas dispo ici\n",
    "\treturn lim\n",
    "}\n",
    "\n",
    "func main() {\n",
    "\tfmt.Println(\n",
    "\t\tpow(3, 2, 10),\n",
    "\t\tpow(3, 3, 20),\n",
    "\t)\n",
    "}\n"
   ]
  },
  {
   "cell_type": "markdown",
   "id": "4f6121d6",
   "metadata": {},
   "source": [
    "`switch` est un `if` raccourci. Les `break` sont implicites à la fin de chaque cas."
   ]
  },
  {
   "cell_type": "code",
   "execution_count": 19,
   "id": "3567ef90",
   "metadata": {},
   "outputs": [
    {
     "name": "stdout",
     "output_type": "stream",
     "text": [
      "Go runs on macOS.\n"
     ]
    }
   ],
   "source": [
    "package main\n",
    "\n",
    "import (\n",
    "\t\"fmt\"\n",
    "\t\"runtime\"\n",
    ")\n",
    "\n",
    "func main() {\n",
    "\tfmt.Print(\"Go runs on \")\n",
    "\tswitch os := runtime.GOOS; os {\n",
    "\tcase \"darwin\":\n",
    "\t\tfmt.Println(\"macOS.\")\n",
    "\tcase \"linux\":\n",
    "\t\tfmt.Println(\"Linux.\")\n",
    "\tdefault:\n",
    "\t\t// freebsd, openbsd,\n",
    "\t\t// plan9, windows...\n",
    "\t\tfmt.Printf(\"%s.\\n\", os)\n",
    "\t}\n",
    "}"
   ]
  },
  {
   "cell_type": "markdown",
   "id": "c4870b57",
   "metadata": {},
   "source": [
    "On peut omettre l'expression dans un `switch` pour faire un `switch` sur `true`. Cela permet d'écrire des conditions plus complexes."
   ]
  },
  {
   "cell_type": "code",
   "execution_count": 20,
   "id": "e97e68f7",
   "metadata": {},
   "outputs": [
    {
     "name": "stdout",
     "output_type": "stream",
     "text": [
      "Good afternoon.\n"
     ]
    }
   ],
   "source": [
    "package main\n",
    "\n",
    "import (\n",
    "\t\"fmt\"\n",
    "\t\"time\"\n",
    ")\n",
    "\n",
    "func main() {\n",
    "\tt := time.Now()\n",
    "\tswitch {\n",
    "\tcase t.Hour() < 12:\n",
    "\t\tfmt.Println(\"Good morning!\")\n",
    "\tcase t.Hour() < 17:\n",
    "\t\tfmt.Println(\"Good afternoon.\")\n",
    "\tdefault:\n",
    "\t\tfmt.Println(\"Good evening.\")\n",
    "\t}\n",
    "}"
   ]
  },
  {
   "cell_type": "markdown",
   "id": "ef2d9f46",
   "metadata": {},
   "source": [
    "`defer` permet de différer l'exécution d'une fonction jusqu'à la fin de la fonction englobante. C'est particulièrement utile pour fermer des ressources (fichiers, connexions réseau, etc.) de manière sûre et lisible."
   ]
  },
  {
   "cell_type": "code",
   "execution_count": 21,
   "id": "d19362c6",
   "metadata": {},
   "outputs": [
    {
     "name": "stdout",
     "output_type": "stream",
     "text": [
      "hello\n",
      "world\n"
     ]
    }
   ],
   "source": [
    "package main\n",
    "\n",
    "import \"fmt\"\n",
    "\n",
    "func main() {\n",
    "\tdefer fmt.Println(\"world\")\n",
    "\n",
    "\tfmt.Println(\"hello\")\n",
    "}"
   ]
  },
  {
   "cell_type": "markdown",
   "id": "ccb77cdc",
   "metadata": {},
   "source": [
    "## Pointeurs\n",
    "\n",
    "Un pointeur est une variable qui stocke l'adresse mémoire d'une autre variable. Les pointeurs sont utiles pour partager des données entre différentes parties du code sans faire de copies.\n",
    "\n",
    "Pour une variable `x` de type `T` :\n",
    "- `&x` est un pointeur vers `x`, de type `*T`\n",
    "- `*p` est la valeur pointée par le pointeur `p`, de type `T`. On appelle cela la **déréférenciation** ou l'**indirection**.\n",
    "\n",
    "Go ne propose pas d'arithmétique de pointeurs comme en C."
   ]
  },
  {
   "cell_type": "code",
   "execution_count": 22,
   "id": "04583b96",
   "metadata": {},
   "outputs": [
    {
     "name": "stdout",
     "output_type": "stream",
     "text": [
      "42\n",
      "21\n",
      "73\n"
     ]
    }
   ],
   "source": [
    "package main\n",
    "\n",
    "import \"fmt\"\n",
    "\n",
    "func main() {\n",
    "\ti, j := 42, 2701\n",
    "\n",
    "\tp := &i         // point to i\n",
    "\tfmt.Println(*p) // read i through the pointer\n",
    "\t*p = 21         // set i through the pointer\n",
    "\tfmt.Println(i)  // see the new value of i\n",
    "\n",
    "\tp = &j         // point to j\n",
    "\t*p = *p / 37   // divide j through the pointer\n",
    "\tfmt.Println(j) // see the new value of j\n",
    "}"
   ]
  },
  {
   "cell_type": "markdown",
   "id": "170c12e3",
   "metadata": {},
   "source": [
    "## struct\n",
    "\n",
    "Collection de champs. Peuvent être compararés aux structs en C ou aux classes en Python/Java (sans les méthodes)."
   ]
  },
  {
   "cell_type": "code",
   "execution_count": 23,
   "id": "c459f3b7",
   "metadata": {},
   "outputs": [
    {
     "name": "stdout",
     "output_type": "stream",
     "text": [
      "4\n"
     ]
    }
   ],
   "source": [
    "package main\n",
    "\n",
    "import \"fmt\"\n",
    "\n",
    "type Vertex struct {\n",
    "\tX int\n",
    "\tY int\n",
    "}\n",
    "\n",
    "func main() {\n",
    "\tv := Vertex{1, 2}\n",
    "\tv.X = 4\n",
    "\tfmt.Println(v.X)\n",
    "}"
   ]
  },
  {
   "cell_type": "markdown",
   "id": "71777ed8",
   "metadata": {},
   "source": [
    "Si on a un pointeur vers une struct, on peut accéder à ses champs directement avec le point (`.`) sans avoir à déréférencer explicitement le pointeur."
   ]
  },
  {
   "cell_type": "code",
   "execution_count": 24,
   "id": "0d3c56d0",
   "metadata": {},
   "outputs": [
    {
     "name": "stdout",
     "output_type": "stream",
     "text": [
      "{1000000000 2}\n"
     ]
    }
   ],
   "source": [
    "package main\n",
    "\n",
    "import \"fmt\"\n",
    "\n",
    "type Vertex struct {\n",
    "\tX int\n",
    "\tY int\n",
    "}\n",
    "\n",
    "func main() {\n",
    "\tv := Vertex{1, 2}\n",
    "\tp := &v\n",
    "\tp.X = 1e9 // au lieu de (*p).X\n",
    "\tfmt.Println(v)\n",
    "}"
   ]
  },
  {
   "cell_type": "markdown",
   "id": "21fc4180",
   "metadata": {},
   "source": [
    "Différentes façons de création d'une struct via les littéraux de struct :"
   ]
  },
  {
   "cell_type": "code",
   "execution_count": 25,
   "id": "b78e97b7",
   "metadata": {},
   "outputs": [
    {
     "name": "stdout",
     "output_type": "stream",
     "text": [
      "{1 2} &{1 2} {1 0} {0 0}\n"
     ]
    }
   ],
   "source": [
    "package main\n",
    "\n",
    "import \"fmt\"\n",
    "\n",
    "type Vertex struct {\n",
    "\tX, Y int\n",
    "}\n",
    "\n",
    "var (\n",
    "\tv1 = Vertex{1, 2}  // has type Vertex\n",
    "\tv2 = Vertex{X: 1}  // Y:0 is implicit\n",
    "\tv3 = Vertex{}      // X:0 and Y:0\n",
    "\tp  = &Vertex{1, 2} // has type *Vertex\n",
    ")\n",
    "\n",
    "func main() {\n",
    "\tfmt.Println(v1, p, v2, v3)\n",
    "}"
   ]
  },
  {
   "cell_type": "markdown",
   "id": "681e8e32",
   "metadata": {},
   "source": [
    "## Tableaux et slices\n",
    "\n",
    "Les tableaux ont une taille fixe en Go. Le type s'écrit `[n]T` où `n` est la taille et `T` le type des éléments."
   ]
  },
  {
   "cell_type": "code",
   "execution_count": 26,
   "id": "c77f146a",
   "metadata": {},
   "outputs": [
    {
     "name": "stdout",
     "output_type": "stream",
     "text": [
      "Hello World\n",
      "[Hello World]\n",
      "[2 3 5 7 11 13]\n"
     ]
    }
   ],
   "source": [
    "package main\n",
    "\n",
    "import \"fmt\"\n",
    "\n",
    "func main() {\n",
    "\tvar a [2]string\n",
    "\ta[0] = \"Hello\"\n",
    "\ta[1] = \"World\"\n",
    "\tfmt.Println(a[0], a[1])\n",
    "\tfmt.Println(a)\n",
    "\n",
    "\tprimes := [6]int{2, 3, 5, 7, 11, 13}\n",
    "\tfmt.Println(primes)\n",
    "}"
   ]
  },
  {
   "cell_type": "markdown",
   "id": "ad308760",
   "metadata": {},
   "source": [
    "Un slice est une référence vers un tableau ou un sous-tableau existant. On peut récupérer un slice d'un tableau avec `a[low : high]` où `low` est l'indice de début (inclusif) et `high` l'indice de fin (exclusif). `low` et `high` sont optionnels : si `low` est omis, il vaut 0, et si `high` est omis, il vaut la longueur du tableau. Les slices suivants sont équivalents :\n",
    "\n",
    "```go\n",
    "a[0:10]\n",
    "a[:10]\n",
    "a[0:]\n",
    "a[:] \n",
    "```"
   ]
  },
  {
   "cell_type": "code",
   "execution_count": 27,
   "id": "23d6bb40",
   "metadata": {},
   "outputs": [
    {
     "name": "stdout",
     "output_type": "stream",
     "text": [
      "[3 5 7]\n"
     ]
    }
   ],
   "source": [
    "package main\n",
    "\n",
    "import \"fmt\"\n",
    "\n",
    "func main() {\n",
    "\tprimes := [6]int{2, 3, 5, 7, 11, 13}\n",
    "\n",
    "\tvar s []int = primes[1:4]\n",
    "\tfmt.Println(s)\n",
    "}"
   ]
  },
  {
   "cell_type": "code",
   "execution_count": 28,
   "id": "175f1a9f",
   "metadata": {},
   "outputs": [
    {
     "name": "stdout",
     "output_type": "stream",
     "text": [
      "[John Paul George Ringo]\n",
      "[John Paul] [Paul George]\n",
      "[John XXX] [XXX George]\n",
      "[John XXX George Ringo]\n"
     ]
    }
   ],
   "source": [
    "package main\n",
    "\n",
    "import \"fmt\"\n",
    "\n",
    "func main() {\n",
    "\tnames := [4]string{\n",
    "\t\t\"John\",\n",
    "\t\t\"Paul\",\n",
    "\t\t\"George\",\n",
    "\t\t\"Ringo\",\n",
    "\t}\n",
    "\tfmt.Println(names)\n",
    "\n",
    "\ta := names[0:2]\n",
    "\tb := names[1:3]\n",
    "\tfmt.Println(a, b)\n",
    "\n",
    "\tb[0] = \"XXX\"\n",
    "\tfmt.Println(a, b)\n",
    "\tfmt.Println(names)\n",
    "}\n"
   ]
  },
  {
   "cell_type": "markdown",
   "id": "c0048214",
   "metadata": {},
   "source": [
    "On peut creér un slice avec les littéraux de slice qui ressemblent aux littéaux de tableaux sans le type. Dans ce cas, un tableau sous-jacent est créé automatiquement et on n'a pas accès à ce tableau directement, mais on peut manipuler le slice comme n'importe quel autre tableau. La syntaxe `[]Type{valeurs}`"
   ]
  },
  {
   "cell_type": "code",
   "execution_count": 29,
   "id": "597cabd2",
   "metadata": {},
   "outputs": [
    {
     "name": "stdout",
     "output_type": "stream",
     "text": [
      "[2 3 5 7 11 13]\n",
      "[true false true true false true]\n",
      "[{2 true} {3 false} {5 true} {7 true} {11 false} {13 true}]\n"
     ]
    }
   ],
   "source": [
    "package main\n",
    "\n",
    "import \"fmt\"\n",
    "\n",
    "func main() {\n",
    "\tq := []int{2, 3, 5, 7, 11, 13}\n",
    "\tfmt.Println(q)\n",
    "\n",
    "\tr := []bool{true, false, true, true, false, true}\n",
    "\tfmt.Println(r)\n",
    "\n",
    "\ts := []struct {\n",
    "\t\ti int\n",
    "\t\tb bool\n",
    "\t}{\n",
    "\t\t{2, true},\n",
    "\t\t{3, false},\n",
    "\t\t{5, true},\n",
    "\t\t{7, true},\n",
    "\t\t{11, false},\n",
    "\t\t{13, true},\n",
    "\t}\n",
    "\tfmt.Println(s)\n",
    "}"
   ]
  },
  {
   "cell_type": "markdown",
   "id": "8667571b",
   "metadata": {},
   "source": [
    "- La longueur d'un slice est le nombre d'éléments qu'il contient et se récupère avec la fonction intégrée `len`.\n",
    "- La capacité d'un slice est la taille du tableau sous-jacent **à partir de l'indice de début du slice** et se récupère avec la fonction intégrée `cap`."
   ]
  },
  {
   "cell_type": "code",
   "execution_count": 30,
   "id": "cebaa972",
   "metadata": {},
   "outputs": [
    {
     "name": "stdout",
     "output_type": "stream",
     "text": [
      "len=6 cap=6 [2 3 5 7 11 13]\n",
      "len=0 cap=6 []\n",
      "len=4 cap=6 [2 3 5 7]\n",
      "len=2 cap=4 [5 7]\n"
     ]
    }
   ],
   "source": [
    "package main\n",
    "\n",
    "import \"fmt\"\n",
    "\n",
    "func main() {\n",
    "\ts := []int{2, 3, 5, 7, 11, 13}\n",
    "\tprintSlice(s)\n",
    "\n",
    "\t// Slice the slice to give it zero length.\n",
    "\ts = s[:0]\n",
    "\tprintSlice(s)\n",
    "\n",
    "\t// Extend its length.\n",
    "\ts = s[:4]\n",
    "\tprintSlice(s)\n",
    "\n",
    "\t// Drop its first two values.\n",
    "\ts = s[2:]\n",
    "\tprintSlice(s)\n",
    "}\n",
    "\n",
    "func printSlice(s []int) {\n",
    "\tfmt.Printf(\"len=%d cap=%d %v\\n\", len(s), cap(s), s)\n",
    "}\n"
   ]
  },
  {
   "cell_type": "markdown",
   "id": "4e5ec609",
   "metadata": {},
   "source": [
    "La valeur zéro d'un slice est `nil`. Un slice `nil` n'a ni tableau sous-jacent, ni longueur, ni capacité."
   ]
  },
  {
   "cell_type": "code",
   "execution_count": 31,
   "id": "013b534a",
   "metadata": {},
   "outputs": [
    {
     "name": "stdout",
     "output_type": "stream",
     "text": [
      "[] 0 0\n",
      "nil!\n"
     ]
    }
   ],
   "source": [
    "package main\n",
    "\n",
    "import \"fmt\"\n",
    "\n",
    "func main() {\n",
    "\tvar s []int\n",
    "\tfmt.Println(s, len(s), cap(s))\n",
    "\tif s == nil {\n",
    "\t\tfmt.Println(\"nil!\")\n",
    "\t}\n",
    "}\n"
   ]
  },
  {
   "cell_type": "markdown",
   "id": "87d8bdef",
   "metadata": {},
   "source": [
    "`make` permet de créer des slices, des maps et des channels. Pour les slices, on peut spécifier la longueur et la capacité initiales.\n",
    "\n",
    "```go\n",
    "a := make([]int, 5)  // len(a)=5\n",
    "b := make([]int, 1, 5) // len(b)=1, cap(b)=5\n",
    "```"
   ]
  },
  {
   "cell_type": "code",
   "execution_count": 32,
   "id": "05583497",
   "metadata": {},
   "outputs": [
    {
     "name": "stdout",
     "output_type": "stream",
     "text": [
      "a len=5 cap=5 [0 0 0 0 0]\n",
      "b len=0 cap=5 []\n",
      "c len=2 cap=5 [0 0]\n",
      "d len=3 cap=3 [0 0 0]\n"
     ]
    }
   ],
   "source": [
    "package main\n",
    "\n",
    "import \"fmt\"\n",
    "\n",
    "func main() {\n",
    "\ta := make([]int, 5)\n",
    "\tprintSlice(\"a\", a)\n",
    "\n",
    "\tb := make([]int, 0, 5)\n",
    "\tprintSlice(\"b\", b)\n",
    "\n",
    "\tc := b[:2]\n",
    "\tprintSlice(\"c\", c)\n",
    "\n",
    "\td := c[2:5]\n",
    "\tprintSlice(\"d\", d)\n",
    "}\n",
    "\n",
    "func printSlice(s string, x []int) {\n",
    "\tfmt.Printf(\"%s len=%d cap=%d %v\\n\",\n",
    "\t\ts, len(x), cap(x), x)\n",
    "}\n"
   ]
  },
  {
   "cell_type": "markdown",
   "id": "9ff99578",
   "metadata": {},
   "source": [
    "On peut utiliser l'opérateur `append` pour ajouter des éléments à un slice. Si la capacité du slice est dépassée, un nouveau tableau sous-jacent est alloué automatiquement."
   ]
  },
  {
   "cell_type": "code",
   "execution_count": 33,
   "id": "81495549",
   "metadata": {},
   "outputs": [
    {
     "name": "stdout",
     "output_type": "stream",
     "text": [
      "len=0 cap=0 []\n",
      "len=1 cap=1 [0]\n",
      "len=2 cap=2 [0 1]\n",
      "len=5 cap=6 [0 1 2 3 4]\n"
     ]
    }
   ],
   "source": [
    "package main\n",
    "\n",
    "import \"fmt\"\n",
    "\n",
    "func main() {\n",
    "\tvar s []int\n",
    "\tprintSlice(s)\n",
    "\n",
    "\t// append works on nil slices.\n",
    "\ts = append(s, 0)\n",
    "\tprintSlice(s)\n",
    "\n",
    "\t// The slice grows as needed.\n",
    "\ts = append(s, 1)\n",
    "\tprintSlice(s)\n",
    "\n",
    "\t// We can add more than one element at a time.\n",
    "\ts = append(s, 2, 3, 4)\n",
    "\tprintSlice(s)\n",
    "}\n",
    "\n",
    "func printSlice(s []int) {\n",
    "\tfmt.Printf(\"len=%d cap=%d %v\\n\", len(s), cap(s), s)\n",
    "}\n"
   ]
  },
  {
   "cell_type": "markdown",
   "id": "af94df85",
   "metadata": {},
   "source": [
    "Exemples de slice multidimensionnel (un slice sont les éléments sont des slices eux-mêmes) :"
   ]
  },
  {
   "cell_type": "code",
   "execution_count": 34,
   "id": "e77f3673",
   "metadata": {},
   "outputs": [
    {
     "name": "stdout",
     "output_type": "stream",
     "text": [
      "X _ X\n",
      "O _ X\n",
      "_ _ O\n"
     ]
    }
   ],
   "source": [
    "package main\n",
    "\n",
    "import (\n",
    "\t\"fmt\"\n",
    "\t\"strings\"\n",
    ")\n",
    "\n",
    "func main() {\n",
    "\t// Create a tic-tac-toe board.\n",
    "\tboard := [][]string{\n",
    "\t\t[]string{\"_\", \"_\", \"_\"},\n",
    "\t\t[]string{\"_\", \"_\", \"_\"},\n",
    "\t\t[]string{\"_\", \"_\", \"_\"},\n",
    "\t}\n",
    "\n",
    "\t// The players take turns.\n",
    "\tboard[0][0] = \"X\"\n",
    "\tboard[2][2] = \"O\"\n",
    "\tboard[1][2] = \"X\"\n",
    "\tboard[1][0] = \"O\"\n",
    "\tboard[0][2] = \"X\"\n",
    "\n",
    "\tfor i := 0; i < len(board); i++ {\n",
    "\t\tfmt.Printf(\"%s\\n\", strings.Join(board[i], \" \"))\n",
    "\t}\n",
    "}\n"
   ]
  },
  {
   "cell_type": "markdown",
   "id": "270c509b",
   "metadata": {},
   "source": [
    "## Range\n",
    "\n",
    "Permet d'itérer sur les éléments d'un tableau, d'un slice, d'une map ou d'une chaîne de caractères. Chaque itération retourne deux valeurs : l'index (ou la clé pour les maps) et la valeur de l'élément courant. On peut ignorer l'une des deux valeurs en utilisant le caractère `_`."
   ]
  },
  {
   "cell_type": "code",
   "execution_count": 35,
   "id": "1b3525e8",
   "metadata": {},
   "outputs": [
    {
     "name": "stdout",
     "output_type": "stream",
     "text": [
      "2**0 = 1\n",
      "2**1 = 2\n",
      "2**2 = 4\n",
      "2**3 = 8\n",
      "2**4 = 16\n",
      "2**5 = 32\n",
      "2**6 = 64\n",
      "2**7 = 128\n",
      "1\n",
      "2\n",
      "4\n",
      "8\n",
      "16\n",
      "32\n",
      "64\n",
      "128\n"
     ]
    }
   ],
   "source": [
    "package main\n",
    "\n",
    "import \"fmt\"\n",
    "\n",
    "func main() {\n",
    "  var pow = []int{1, 2, 4, 8, 16, 32, 64, 128}\n",
    "  \n",
    "\tfor i, v := range pow {\n",
    "\t\tfmt.Printf(\"2**%d = %d\\n\", i, v)\n",
    "\t}\n",
    "\n",
    "\tfor i := range pow {\n",
    "\t\tpow[i] = 1 << uint(i) // == 2**i\n",
    "\t}\n",
    "\tfor _, value := range pow {\n",
    "\t\tfmt.Printf(\"%d\\n\", value)\n",
    "\t}\n",
    "}"
   ]
  },
  {
   "cell_type": "markdown",
   "id": "ef2a2546",
   "metadata": {},
   "source": [
    "## Maps (dictionnaires)\n",
    "\n",
    "Les maps sont des collections de paires clé-valeur. Les littéraux de map permettent de créer et d'initialiser une map en une seule instruction sans avoir à préciser son type."
   ]
  },
  {
   "cell_type": "code",
   "execution_count": 36,
   "id": "477ec252",
   "metadata": {},
   "outputs": [
    {
     "data": {
      "text/html": [
       "\n",
       "<style>\n",
       ".gonb-err-location {\n",
       "\tbackground: var(--jp-err-color2);  \n",
       "\tborder-radius: 3px;\n",
       "\tborder-style: dotted;\n",
       "\tborder-width: 1px;\n",
       "\tborder-color: var(--jp-border-color2);\n",
       "}\n",
       ".gonb-err-location:hover {\n",
       "\tborder-width: 2px;\n",
       "\tborder-style: solid;\n",
       "\tborder-color: var(--jp-border-color2);\n",
       "}\n",
       ".gonb-err-context {\n",
       "\tdisplay: none;\n",
       "}\n",
       ".gonb-err-location:hover + .gonb-err-context {\n",
       "\tbackground: var(--jp-dialog-background);  \n",
       "\tborder-radius: 3px;\n",
       "\tborder-style: solid;\n",
       "\tborder-width: 1px;\n",
       "\tborder-color: var(--jp-border-color2);\n",
       "\tdisplay: block;\n",
       "\twhite-space: pre;\n",
       "\tfont-family: monospace;\n",
       "}\n",
       ".gonb-err-line {\n",
       "\tborder-radius: 3px;\n",
       "\tborder-style: dotted;\n",
       "\tborder-width: 1px;\t\n",
       "\tborder-color: var(--jp-border-color2);\n",
       "\tbackground-color: var(--jp-rendermime-err-background);\n",
       "\tfont-weight: bold;\n",
       "}\n",
       ".gonb-cell-line-info {\n",
       "\tbackground: var(--jp-layout-color2);\n",
       "\tcolor: #999;\n",
       "\tmargin: 0.1em;\n",
       "\tborder: 1px solid var(--jp-border-color1);\n",
       "\tpadding-left: 0.2em;\n",
       "\tpadding-right: 0.2em;\n",
       "}\n",
       "</style>\n",
       "<div class=\"lm-Widget p-Widget lm-Panel p-Panel jp-OutputArea-child\">\n",
       "<div class=\"lm-Widget p-Widget jp-RenderedText jp-mod-trusted jp-OutputArea-output\" data-mime-type=\"application/vnd.jupyter.stderr\" style=\"font-family: monospace;\">\n",
       "\n",
       "\n",
       "<span style=\"white-space: pre;\"> # gonb_9f099a67</span>\n",
       "\n",
       "<br/>\n",
       "\n",
       "<span class=\"gonb-cell-line-info\">Cell[36]: Line 28</span>\n",
       "<span class=\"gonb-err-location\">./main.go:108:7: </span> m redeclared in this block\n",
       "<div class=\"gonb-err-context\">\n",
       "  }\n",
       "\n",
       "  // Forme la plus simple\n",
       "<div class=\"gonb-err-line\">  var m = map[string]Vertex{\n",
       "</div>    &#34;Bell Labs&#34;: {40.68433, -74.39967},\n",
       "    &#34;Google&#34;:    {37.42202, -122.08408},\n",
       "\n",
       "</div>\n",
       "\n",
       "<br/>\n",
       "\n",
       "<span class=\"gonb-cell-line-info\">Cell[36]: Line 10</span>\n",
       "<span class=\"gonb-err-location\">\t./main.go:90:7: </span> other declaration of m\n",
       "<div class=\"gonb-err-context\">\n",
       "    Lat, Long float64\n",
       "  }\n",
       "\n",
       "<div class=\"gonb-err-line\">  var m map[string]Vertex\n",
       "</div>\n",
       "\tm = make(map[string]Vertex)\n",
       "\n",
       "</div>\n",
       "\n",
       "<br/>\n",
       "\n",
       "\n",
       "<span style=\"white-space: pre;\"> </span>\n",
       "\n",
       "<br/>\n",
       "\n",
       "</div>\n"
      ]
     },
     "metadata": {},
     "output_type": "display_data"
    },
    {
     "ename": "ERROR",
     "evalue": "failed to run \"/opt/homebrew/bin/go build -o /var/folders/sj/67508vy94d1346kyt0w_kcjw0000gn/T/gonb_9f099a67/gonb_9f099a67\": exit status 1",
     "output_type": "error",
     "traceback": [
      "failed to run \"/opt/homebrew/bin/go build -o /var/folders/sj/67508vy94d1346kyt0w_kcjw0000gn/T/gonb_9f099a67/gonb_9f099a67\": exit status 1"
     ]
    }
   ],
   "source": [
    "package main\n",
    "\n",
    "import \"fmt\"\n",
    "\n",
    "func main() {\n",
    "  type Vertex struct {\n",
    "    Lat, Long float64\n",
    "  }\n",
    "\n",
    "  var m map[string]Vertex\n",
    "\n",
    "\tm = make(map[string]Vertex)\n",
    "\tm[\"Bell Labs\"] = Vertex{\n",
    "\t\t40.68433, -74.39967,\n",
    "\t}\n",
    "\tfmt.Println(m[\"Bell Labs\"])\n",
    "\n",
    "  var m2 = map[string]Vertex{\n",
    "    \"Bell Labs\": Vertex{\n",
    "      40.68433, -74.39967,\n",
    "    },\n",
    "    \"Google\": Vertex{\n",
    "      37.42202, -122.08408,\n",
    "    },\n",
    "  }\n",
    "\n",
    "  // Forme la plus simple\n",
    "  var m = map[string]Vertex{\n",
    "    \"Bell Labs\": {40.68433, -74.39967},\n",
    "    \"Google\":    {37.42202, -122.08408},\n",
    "  }\n",
    "  fmt.Println(m2)\n",
    "}\n"
   ]
  },
  {
   "cell_type": "markdown",
   "id": "4e07e73d",
   "metadata": {},
   "source": [
    "Manipulation d'une map :"
   ]
  },
  {
   "cell_type": "code",
   "execution_count": null,
   "id": "e10d91fe",
   "metadata": {},
   "outputs": [
    {
     "name": "stdout",
     "output_type": "stream",
     "text": [
      "The value: 42\n",
      "The value: 48\n",
      "The value: 0\n",
      "The value: 0 Present? false\n"
     ]
    }
   ],
   "source": [
    "package main\n",
    "\n",
    "import \"fmt\"\n",
    "\n",
    "func main() {\n",
    "\tm := make(map[string]int)\n",
    "\n",
    "\tm[\"Answer\"] = 42\n",
    "\tfmt.Println(\"The value:\", m[\"Answer\"])\n",
    "\n",
    "\tm[\"Answer\"] = 48\n",
    "\tfmt.Println(\"The value:\", m[\"Answer\"])\n",
    "\n",
    "\tdelete(m, \"Answer\")\n",
    "\tfmt.Println(\"The value:\", m[\"Answer\"])\n",
    "\n",
    "\tv, ok := m[\"Answer\"]\n",
    "\tfmt.Println(\"The value:\", v, \"Present?\", ok)\n",
    "}"
   ]
  },
  {
   "cell_type": "markdown",
   "id": "24bc1e36",
   "metadata": {},
   "source": [
    "## Rappels sur quelques concepts\n",
    "\n",
    "- Typage statique: le type des variables est connu à la compilation et ne change pas.\n",
    "- Typage fort: les conversions de types doivent être explicites.\n",
    "- Type explicite: le type des variables est déclaré explicitement.\n",
    "- Type inféré: le type des variables est déduit par le compilateur à partir de la valeur initiale."
   ]
  }
 ],
 "metadata": {
  "kernelspec": {
   "display_name": "Go (gonb)",
   "language": "go",
   "name": "gonb"
  },
  "language_info": {
   "codemirror_mode": "",
   "file_extension": ".go",
   "mimetype": "text/x-go",
   "name": "go",
   "nbconvert_exporter": "",
   "pygments_lexer": "",
   "version": "go1.25.1"
  }
 },
 "nbformat": 4,
 "nbformat_minor": 5
}
