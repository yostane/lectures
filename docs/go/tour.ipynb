{
 "cells": [
  {
   "cell_type": "markdown",
   "id": "f85f8a6c",
   "metadata": {},
   "source": [
    "# Tour de Go"
   ]
  },
  {
   "cell_type": "markdown",
   "id": "c727acd4",
   "metadata": {},
   "source": [
    "Le point d'entrée de toute application Go est la fonction `main` du package `main`.\n",
    "\n",
    "Cet exemple affiche \"Hello, 世界\" à la console (世界 signifie \"monde\" et se prononce \"sékay\" en japonais)."
   ]
  },
  {
   "cell_type": "code",
   "execution_count": 1,
   "id": "c080379b",
   "metadata": {},
   "outputs": [
    {
     "name": "stdout",
     "output_type": "stream",
     "text": [
      "Hello, 世界\n"
     ]
    }
   ],
   "source": [
    "package main\n",
    "\n",
    "import \"fmt\"\n",
    "\n",
    "func main() {\n",
    "\tfmt.Println(\"Hello, 世界\")\n",
    "}"
   ]
  },
  {
   "cell_type": "markdown",
   "id": "49cefda2",
   "metadata": {},
   "source": []
  }
 ],
 "metadata": {
  "kernelspec": {
   "display_name": "Go (gonb)",
   "language": "go",
   "name": "gonb"
  },
  "language_info": {
   "codemirror_mode": "",
   "file_extension": ".go",
   "mimetype": "text/x-go",
   "name": "go",
   "nbconvert_exporter": "",
   "pygments_lexer": "",
   "version": "go1.25.1"
  }
 },
 "nbformat": 4,
 "nbformat_minor": 5
}
