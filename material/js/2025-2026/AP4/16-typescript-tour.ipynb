{
 "cells": [
  {
   "cell_type": "markdown",
   "id": "3cca830a",
   "metadata": {},
   "source": [
    "# Intro à typescript"
   ]
  },
  {
   "cell_type": "markdown",
   "id": "633866c3",
   "metadata": {},
   "source": [
    "Attention, certains outils ne vérifient le typage de TypeScript. Par exemple, ce notebook ne vérifie pas le typage."
   ]
  },
  {
   "cell_type": "code",
   "execution_count": 1,
   "id": "53c8cb8c",
   "metadata": {},
   "outputs": [
    {
     "data": {
      "text/plain": [
       "\u001b[32m\"Hello\"\u001b[39m"
      ]
     },
     "execution_count": 1,
     "metadata": {},
     "output_type": "execute_result"
    }
   ],
   "source": [
    "let a = \"Hello\";\n",
    "// a = 12; // erreur si on utilise tsc\n",
    "a"
   ]
  },
  {
   "cell_type": "code",
   "execution_count": null,
   "id": "2816e2b8",
   "metadata": {},
   "outputs": [
    {
     "ename": "ReferenceError",
     "evalue": "b is not defined",
     "output_type": "error",
     "traceback": [
      "Stack trace:",
      "ReferenceError: b is not defined",
      "    at <anonymous>:4:8"
     ]
    }
   ],
   "source": [
    "function add(a: number, b: number): number{\n",
    "  return a + b;\n",
    "}\n",
    "\n",
    "add(10, 14);"
   ]
  },
  {
   "cell_type": "code",
   "execution_count": null,
   "id": "6cc6eddf",
   "metadata": {},
   "outputs": [],
   "source": [
    "type State = {\n",
    "  darkMode: boolean\n",
    "}\n",
    "const state: State = {\n",
    "  darkMode: false\n",
    "}\n",
    "\n",
    "const handler: ProxyHandler<State> = {\n",
    "  set(obj: State, prop: string | symbol, value: any): boolean{\n",
    "    obj[prop] = value;\n",
    "    return true;\n",
    "  }\n",
    "}\n",
    "\n",
    "const proxy = new Proxy<State>(state, handler);\n",
    "proxy.darkMode = true;\n"
   ]
  }
 ],
 "metadata": {
  "kernelspec": {
   "display_name": "Deno",
   "language": "typescript",
   "name": "deno"
  },
  "language_info": {
   "codemirror_mode": "typescript",
   "file_extension": ".ts",
   "mimetype": "text/x.typescript",
   "name": "typescript",
   "nbconvert_exporter": "script",
   "pygments_lexer": "typescript",
   "version": "5.9.2"
  }
 },
 "nbformat": 4,
 "nbformat_minor": 5
}
