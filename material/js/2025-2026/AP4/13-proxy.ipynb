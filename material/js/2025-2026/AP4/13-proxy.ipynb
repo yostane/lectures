{
 "cells": [
  {
   "cell_type": "markdown",
   "id": "14034c76",
   "metadata": {},
   "source": [
    "# Observation avec les proxys\n",
    "\n",
    "Base sur ce [guide](https://developer.mozilla.org/en-US/docs/Web/JavaScript/Reference/Global_Objects/Proxy)."
   ]
  },
  {
   "cell_type": "code",
   "execution_count": 1,
   "id": "fe2724da",
   "metadata": {},
   "outputs": [
    {
     "name": "stdout",
     "output_type": "stream",
     "text": [
      "{ message1: \"hello\", message2: \"everyone\" } message1 I love\n",
      "{ message1: \"I love\", message2: \"everyone\" } message2 Javascript\n"
     ]
    },
    {
     "data": {
      "text/plain": [
       "\u001b[32m\"Javascript\"\u001b[39m"
      ]
     },
     "execution_count": 1,
     "metadata": {},
     "output_type": "execute_result"
    }
   ],
   "source": [
    "const target = {\n",
    "  message1: \"hello\",\n",
    "  message2: \"everyone\",\n",
    "};\n",
    "\n",
    "const handler1 = {\n",
    "  set(obj, prop, value) {\n",
    "    console.log(obj, prop, value);\n",
    "    obj[prop] = value;\n",
    "    return true;\n",
    "  }\n",
    "};\n",
    "\n",
    "const proxy1 = new Proxy(target, handler1);\n",
    "\n",
    "proxy1.message1 = \"I love\";\n",
    "proxy1.message2 = \"Javascript\";"
   ]
  },
  {
   "cell_type": "code",
   "execution_count": null,
   "id": "ce433a86",
   "metadata": {},
   "outputs": [
    {
     "name": "stdout",
     "output_type": "stream",
     "text": [
      "user name change. New name: Zoro\n",
      "meals changed. New content [ \"Banana\", \"Meat\" ]\n"
     ]
    },
    {
     "data": {
      "text/plain": [
       "[ \u001b[32m\"Banana\"\u001b[39m, \u001b[32m\"Meat\"\u001b[39m ]"
      ]
     },
     "execution_count": 2,
     "metadata": {},
     "output_type": "execute_result"
    }
   ],
   "source": [
    "const state = {\n",
    "  meals: [\"Coffee\", \"Fish\", \"Salad\"],\n",
    "  userName: \"Luffy\"\n",
    "};\n",
    "\n",
    "const stateProxyHandler = {\n",
    "  set(obj, prop, value) {\n",
    "    if(prop == \"meals\"){\n",
    "      console.log(\"meals changed. New content\", value);\n",
    "    }else if(prop == \"userName\"){\n",
    "      console.log(\"user name change. New name:\", value);\n",
    "    }\n",
    "    obj[prop] = value;\n",
    "    return true;\n",
    "  }\n",
    "};\n",
    "\n",
    "const stateProxy = new Proxy(state, stateProxyHandler);\n",
    "\n",
    "stateProxy.userName = \"Zoro\";\n",
    "stateProxy.meals = [\"Banana\", \"Meat\"]"
   ]
  }
 ],
 "metadata": {
  "kernelspec": {
   "display_name": "Deno",
   "language": "typescript",
   "name": "deno"
  },
  "language_info": {
   "codemirror_mode": "typescript",
   "file_extension": ".ts",
   "mimetype": "text/x.typescript",
   "name": "typescript",
   "nbconvert_exporter": "script",
   "pygments_lexer": "typescript",
   "version": "5.9.2"
  }
 },
 "nbformat": 4,
 "nbformat_minor": 5
}
