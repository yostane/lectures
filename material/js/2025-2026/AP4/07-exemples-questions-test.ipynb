{
 "cells": [
  {
   "cell_type": "markdown",
   "id": "30a1f253",
   "metadata": {},
   "source": [
    "# Exemples de questions\n",
    "\n",
    "1. Est-ce que JavaScript est typé dynamiquement ou statiquement ?\n",
    "1. Pourquoi dit-on que JavaScript est dynamiquement typé ?\n",
    "1. Pourquoi dit-on que JavaScript est faiblement typé ?\n",
    "1. Comment s'appelle le moteur JS de Chrome ?\n",
    "1. Donner 4 exemples de types standards en JavaScript.\n",
    "1. Quelle est la différence entre `null` et `undefined` ?\n",
    "1. Quelle est la valeur de la variable `x` après l'exécution du code suivant :\n",
    "   ```javascript\n",
    "   let x = 5;\n",
    "   x = \"hello\";\n",
    "   x = true;\n",
    "   ```\n",
    "1. Que verrait-on dans la console après l'exécution du code suivant :\n",
    "   ```javascript\n",
    "   console.log(\"B\" + \"a\" + +\"a\" + \"a\");\n",
    "   ```\n",
    "1. Que verrait-on dans la console après l'exécution du code suivant :\n",
    "   ```javascript\n",
    "   const items = [\"a\", \"b\", \"c\"];\n",
    "   items.filter(item => item !== \"b\");\n",
    "   console.log(items);\n",
    "   ```\n",
    "\n",
    "Pour les réponses, soit ce sera en réponse libre, soit en QCM."
   ]
  }
 ],
 "metadata": {
  "language_info": {
   "name": "python"
  }
 },
 "nbformat": 4,
 "nbformat_minor": 5
}
