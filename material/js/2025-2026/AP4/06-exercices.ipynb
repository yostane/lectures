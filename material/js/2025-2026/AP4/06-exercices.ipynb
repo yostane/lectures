{
 "cells": [
  {
   "cell_type": "markdown",
   "id": "57d75c0b",
   "metadata": {},
   "source": [
    "# Exercices\n",
    "\n",
    "Utiliser filter, map et reduce autant que possible.\n",
    "\n",
    "Utiliser [l'api star](https://swapi.dev/) wars pour afficher de façon épurée les informations suivantes :\n",
    "\n",
    "- Les noms des planètes de la première page\n",
    "- La hauteur moyenne des personnages de la première page\n",
    "- Le nombre de répétitions de chaque couleur d'yeux des personnages de la première page\n",
    "- Les noms, date de sortie et nombres de personnages des films triés par date de sortie de la première page\n",
    "- Le film sorti en premier de la première page\n",
    "- Le film avec le plus de personnages de la première page"
   ]
  },
  {
   "cell_type": "markdown",
   "id": "bfe3460a",
   "metadata": {},
   "source": [
    "## Personnages"
   ]
  },
  {
   "cell_type": "code",
   "execution_count": 2,
   "id": "6c3923bd",
   "metadata": {},
   "outputs": [],
   "source": [
    "const baseUrl = \"https://swapi.dev/api\";"
   ]
  },
  {
   "cell_type": "code",
   "execution_count": 3,
   "id": "b44f2dd4",
   "metadata": {},
   "outputs": [],
   "source": [
    "async function getPeople(){\n",
    "  const peopleResponse = await fetch(`${baseUrl}/people`);\n",
    "  return await peopleResponse.json();\n",
    "}"
   ]
  },
  {
   "cell_type": "markdown",
   "id": "8f2e8240",
   "metadata": {},
   "source": [
    "- Les noms des personnages de la première page"
   ]
  },
  {
   "cell_type": "code",
   "execution_count": 4,
   "id": "ff02c86d",
   "metadata": {},
   "outputs": [
    {
     "data": {
      "text/plain": [
       "[\n",
       "  \u001b[32m\"Luke Skywalker\"\u001b[39m,\n",
       "  \u001b[32m\"C-3PO\"\u001b[39m,\n",
       "  \u001b[32m\"R2-D2\"\u001b[39m,\n",
       "  \u001b[32m\"Darth Vader\"\u001b[39m,\n",
       "  \u001b[32m\"Leia Organa\"\u001b[39m,\n",
       "  \u001b[32m\"Owen Lars\"\u001b[39m,\n",
       "  \u001b[32m\"Beru Whitesun lars\"\u001b[39m,\n",
       "  \u001b[32m\"R5-D4\"\u001b[39m,\n",
       "  \u001b[32m\"Biggs Darklighter\"\u001b[39m,\n",
       "  \u001b[32m\"Obi-Wan Kenobi\"\u001b[39m\n",
       "]"
      ]
     },
     "execution_count": 4,
     "metadata": {},
     "output_type": "execute_result"
    }
   ],
   "source": [
    "const people = await getPeople();\n",
    "people.results.map(person => person.name);"
   ]
  },
  {
   "cell_type": "markdown",
   "id": "8814c869",
   "metadata": {},
   "source": [
    "## Planètes"
   ]
  },
  {
   "cell_type": "code",
   "execution_count": 5,
   "id": "1bc45443",
   "metadata": {},
   "outputs": [],
   "source": [
    "async function getPlanets(){\n",
    "  const response = await fetch(`${baseUrl}/planets`);\n",
    "  return await response.json();\n",
    "}"
   ]
  },
  {
   "cell_type": "markdown",
   "id": "6551df6b",
   "metadata": {},
   "source": [
    "- Les noms des planètes de la première page"
   ]
  },
  {
   "cell_type": "code",
   "execution_count": 6,
   "id": "69b6c8be",
   "metadata": {},
   "outputs": [
    {
     "data": {
      "text/plain": [
       "[\n",
       "  \u001b[32m\"Tatooine\"\u001b[39m,  \u001b[32m\"Alderaan\"\u001b[39m,\n",
       "  \u001b[32m\"Yavin IV\"\u001b[39m,  \u001b[32m\"Hoth\"\u001b[39m,\n",
       "  \u001b[32m\"Dagobah\"\u001b[39m,   \u001b[32m\"Bespin\"\u001b[39m,\n",
       "  \u001b[32m\"Endor\"\u001b[39m,     \u001b[32m\"Naboo\"\u001b[39m,\n",
       "  \u001b[32m\"Coruscant\"\u001b[39m, \u001b[32m\"Kamino\"\u001b[39m\n",
       "]"
      ]
     },
     "execution_count": 6,
     "metadata": {},
     "output_type": "execute_result"
    }
   ],
   "source": [
    "const planets = await getPlanets();\n",
    "planets.results.map(planet => planet.name);"
   ]
  }
 ],
 "metadata": {
  "kernelspec": {
   "display_name": "Deno",
   "language": "typescript",
   "name": "deno"
  },
  "language_info": {
   "codemirror_mode": "typescript",
   "file_extension": ".ts",
   "mimetype": "text/x.typescript",
   "name": "typescript",
   "nbconvert_exporter": "script",
   "pygments_lexer": "typescript",
   "version": "5.9.2"
  }
 },
 "nbformat": 4,
 "nbformat_minor": 5
}
