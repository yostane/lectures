{
 "cells": [
  {
   "cell_type": "markdown",
   "id": "57d75c0b",
   "metadata": {},
   "source": [
    "# Exercices\n",
    "\n",
    "Utiliser filter, map et reduce autant que possible.\n",
    "\n",
    "Utiliser [l'api star](https://swapi.dev/) wars pour afficher de façon épurée les informations suivantes :\n",
    "\n",
    "- Les noms des personnages de la première page\n",
    "- Les noms des planètes de la première page\n",
    "- La hauteur moyenne des personnages de la première page\n",
    "- Le nombre de répétitions de chaque couleur d'yeux des personnages de la première page\n",
    "- Les noms, date de sortie et nombres de personnages des films triés par date de sortie de la première page\n",
    "- Le film sorti en premier de la première page\n",
    "- Le film avec le plus de personnages de la première page"
   ]
  }
 ],
 "metadata": {
  "language_info": {
   "name": "python"
  }
 },
 "nbformat": 4,
 "nbformat_minor": 5
}
