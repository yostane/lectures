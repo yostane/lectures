{
 "cells": [
  {
   "cell_type": "markdown",
   "id": "57d75c0b",
   "metadata": {},
   "source": [
    "# Exercices\n",
    "\n",
    "Utiliser filter, map et reduce autant que possible ([animation](https://navin-moorthy.github.io/blog/map-filter-reduce-animated/)).\n",
    "\n",
    "Utiliser [l'api star](https://swapi.dev/) wars pour afficher de façon épurée les informations suivantes :"
   ]
  },
  {
   "cell_type": "markdown",
   "id": "bfe3460a",
   "metadata": {},
   "source": [
    "## Personnages"
   ]
  },
  {
   "cell_type": "code",
   "execution_count": 1,
   "id": "6c3923bd",
   "metadata": {},
   "outputs": [],
   "source": [
    "const baseUrl = \"https://swapi.dev/api\";"
   ]
  },
  {
   "cell_type": "code",
   "execution_count": 2,
   "id": "b44f2dd4",
   "metadata": {},
   "outputs": [],
   "source": [
    "async function getPeople(){\n",
    "  const peopleResponse = await fetch(`${baseUrl}/people`);\n",
    "  return await peopleResponse.json();\n",
    "}"
   ]
  },
  {
   "cell_type": "markdown",
   "id": "8f2e8240",
   "metadata": {},
   "source": [
    "- Les noms des personnages de la première page"
   ]
  },
  {
   "cell_type": "code",
   "execution_count": 3,
   "id": "ff02c86d",
   "metadata": {},
   "outputs": [
    {
     "data": {
      "text/plain": [
       "[\n",
       "  \u001b[32m\"Luke Skywalker\"\u001b[39m,\n",
       "  \u001b[32m\"C-3PO\"\u001b[39m,\n",
       "  \u001b[32m\"R2-D2\"\u001b[39m,\n",
       "  \u001b[32m\"Darth Vader\"\u001b[39m,\n",
       "  \u001b[32m\"Leia Organa\"\u001b[39m,\n",
       "  \u001b[32m\"Owen Lars\"\u001b[39m,\n",
       "  \u001b[32m\"Beru Whitesun lars\"\u001b[39m,\n",
       "  \u001b[32m\"R5-D4\"\u001b[39m,\n",
       "  \u001b[32m\"Biggs Darklighter\"\u001b[39m,\n",
       "  \u001b[32m\"Obi-Wan Kenobi\"\u001b[39m\n",
       "]"
      ]
     },
     "execution_count": 3,
     "metadata": {},
     "output_type": "execute_result"
    }
   ],
   "source": [
    "const people = await getPeople();\n",
    "people.results.map(person => person.name);"
   ]
  },
  {
   "cell_type": "markdown",
   "id": "9c1b32e0",
   "metadata": {},
   "source": [
    "- La hauteur moyenne des personnages de la première page"
   ]
  },
  {
   "cell_type": "code",
   "execution_count": 4,
   "id": "ddbb893a",
   "metadata": {},
   "outputs": [
    {
     "name": "stdout",
     "output_type": "stream",
     "text": [
      "heights [\n",
      "  172, 167,  96, 202,\n",
      "  150, 178, 165,  97,\n",
      "  183, 182\n",
      "]\n"
     ]
    },
    {
     "data": {
      "text/plain": [
       "\u001b[33m159.2\u001b[39m"
      ]
     },
     "execution_count": 4,
     "metadata": {},
     "output_type": "execute_result"
    }
   ],
   "source": [
    "const people = await getPeople();\n",
    "// +person.height convertit la string en number\n",
    "const heights = people.results.map(person => +person.height);\n",
    "console.log(\"heights\", heights);\n",
    "const heightsSum = heights.reduce((acc, cur) => acc + cur)\n",
    "heightsSum / heights.length"
   ]
  },
  {
   "cell_type": "markdown",
   "id": "1e9ec139",
   "metadata": {},
   "source": [
    "- Le nombre de répétitions de chaque couleur d'yeux des personnages de la première page"
   ]
  },
  {
   "cell_type": "code",
   "execution_count": 5,
   "id": "398fecc1",
   "metadata": {},
   "outputs": [
    {
     "name": "stdout",
     "output_type": "stream",
     "text": [
      "Elément courant blue Accumulateur à jour Map(1) { \"blue\" => 1 }\n",
      "Elément courant yellow Accumulateur à jour Map(2) { \"blue\" => 1, \"yellow\" => 1 }\n",
      "Elément courant red Accumulateur à jour Map(3) { \"blue\" => 1, \"yellow\" => 1, \"red\" => 1 }\n",
      "Elément courant yellow Accumulateur à jour Map(3) { \"blue\" => 1, \"yellow\" => 2, \"red\" => 1 }\n",
      "Elément courant brown Accumulateur à jour Map(4) { \"blue\" => 1, \"yellow\" => 2, \"red\" => 1, \"brown\" => 1 }\n",
      "Elément courant blue Accumulateur à jour Map(4) { \"blue\" => 2, \"yellow\" => 2, \"red\" => 1, \"brown\" => 1 }\n",
      "Elément courant blue Accumulateur à jour Map(4) { \"blue\" => 3, \"yellow\" => 2, \"red\" => 1, \"brown\" => 1 }\n",
      "Elément courant red Accumulateur à jour Map(4) { \"blue\" => 3, \"yellow\" => 2, \"red\" => 2, \"brown\" => 1 }\n",
      "Elément courant brown Accumulateur à jour Map(4) { \"blue\" => 3, \"yellow\" => 2, \"red\" => 2, \"brown\" => 2 }\n",
      "Elément courant blue-gray Accumulateur à jour Map(5) {\n",
      "  \"blue\" => 3,\n",
      "  \"yellow\" => 2,\n",
      "  \"red\" => 2,\n",
      "  \"brown\" => 2,\n",
      "  \"blue-gray\" => 1\n",
      "}\n"
     ]
    },
    {
     "data": {
      "text/plain": [
       "Map(5) {\n",
       "  \u001b[32m\"blue\"\u001b[39m => \u001b[33m3\u001b[39m,\n",
       "  \u001b[32m\"yellow\"\u001b[39m => \u001b[33m2\u001b[39m,\n",
       "  \u001b[32m\"red\"\u001b[39m => \u001b[33m2\u001b[39m,\n",
       "  \u001b[32m\"brown\"\u001b[39m => \u001b[33m2\u001b[39m,\n",
       "  \u001b[32m\"blue-gray\"\u001b[39m => \u001b[33m1\u001b[39m\n",
       "}"
      ]
     },
     "execution_count": 5,
     "metadata": {},
     "output_type": "execute_result"
    }
   ],
   "source": [
    "const people = await getPeople();\n",
    "const eye_colors = people.results.map(person => person.eye_color);\n",
    "eye_colors\n",
    "\n",
    "eye_colors.reduce((acc, cur) => {\n",
    "  const currentCount = acc.get(cur) ?? 0\n",
    "  acc.set(cur, currentCount + 1)\n",
    "  console.log(\"Elément courant\", cur, \"Accumulateur à jour\", acc);\n",
    "  return acc\n",
    "}, new Map())"
   ]
  },
  {
   "cell_type": "markdown",
   "id": "8814c869",
   "metadata": {},
   "source": [
    "## Planètes"
   ]
  },
  {
   "cell_type": "code",
   "execution_count": 6,
   "id": "1bc45443",
   "metadata": {},
   "outputs": [],
   "source": [
    "async function getPlanets(){\n",
    "  const response = await fetch(`${baseUrl}/planets`);\n",
    "  return await response.json();\n",
    "}"
   ]
  },
  {
   "cell_type": "markdown",
   "id": "6551df6b",
   "metadata": {},
   "source": [
    "- Les noms des planètes de la première page"
   ]
  },
  {
   "cell_type": "code",
   "execution_count": 7,
   "id": "69b6c8be",
   "metadata": {},
   "outputs": [
    {
     "data": {
      "text/plain": [
       "[\n",
       "  \u001b[32m\"Tatooine\"\u001b[39m,  \u001b[32m\"Alderaan\"\u001b[39m,\n",
       "  \u001b[32m\"Yavin IV\"\u001b[39m,  \u001b[32m\"Hoth\"\u001b[39m,\n",
       "  \u001b[32m\"Dagobah\"\u001b[39m,   \u001b[32m\"Bespin\"\u001b[39m,\n",
       "  \u001b[32m\"Endor\"\u001b[39m,     \u001b[32m\"Naboo\"\u001b[39m,\n",
       "  \u001b[32m\"Coruscant\"\u001b[39m, \u001b[32m\"Kamino\"\u001b[39m\n",
       "]"
      ]
     },
     "execution_count": 7,
     "metadata": {},
     "output_type": "execute_result"
    }
   ],
   "source": [
    "const planets = await getPlanets();\n",
    "planets.results.map(planet => planet.name);"
   ]
  },
  {
   "cell_type": "markdown",
   "id": "3ff80639",
   "metadata": {},
   "source": [
    "## Films\n"
   ]
  },
  {
   "cell_type": "code",
   "execution_count": 8,
   "id": "c74a4536",
   "metadata": {},
   "outputs": [],
   "source": [
    "async function getFilms(){\n",
    "  const response = await fetch(`${baseUrl}/films`);\n",
    "  return await response.json();\n",
    "}"
   ]
  },
  {
   "cell_type": "markdown",
   "id": "1eb8b473",
   "metadata": {},
   "source": [
    "- Les noms, date de sortie et nombres de personnages des films triés par date de sortie de la première page"
   ]
  },
  {
   "cell_type": "code",
   "execution_count": 9,
   "id": "30111917",
   "metadata": {},
   "outputs": [
    {
     "data": {
      "text/plain": [
       "[\n",
       "  {\n",
       "    title: \u001b[32m\"A New Hope\"\u001b[39m,\n",
       "    releasedTimeStamp: \u001b[33m233366400000\u001b[39m,\n",
       "    released: \u001b[32m\"1977-05-25T00:00:00.000Z\"\u001b[39m,\n",
       "    charactersCount: \u001b[33m18\u001b[39m\n",
       "  },\n",
       "  {\n",
       "    title: \u001b[32m\"The Empire Strikes Back\"\u001b[39m,\n",
       "    releasedTimeStamp: \u001b[33m327369600000\u001b[39m,\n",
       "    released: \u001b[32m\"1980-05-17T00:00:00.000Z\"\u001b[39m,\n",
       "    charactersCount: \u001b[33m16\u001b[39m\n",
       "  },\n",
       "  {\n",
       "    title: \u001b[32m\"Return of the Jedi\"\u001b[39m,\n",
       "    releasedTimeStamp: \u001b[33m422668800000\u001b[39m,\n",
       "    released: \u001b[32m\"1983-05-25T00:00:00.000Z\"\u001b[39m,\n",
       "    charactersCount: \u001b[33m20\u001b[39m\n",
       "  },\n",
       "  {\n",
       "    title: \u001b[32m\"The Phantom Menace\"\u001b[39m,\n",
       "    releasedTimeStamp: \u001b[33m927072000000\u001b[39m,\n",
       "    released: \u001b[32m\"1999-05-19T00:00:00.000Z\"\u001b[39m,\n",
       "    charactersCount: \u001b[33m34\u001b[39m\n",
       "  },\n",
       "  {\n",
       "    title: \u001b[32m\"Attack of the Clones\"\u001b[39m,\n",
       "    releasedTimeStamp: \u001b[33m1021507200000\u001b[39m,\n",
       "    released: \u001b[32m\"2002-05-16T00:00:00.000Z\"\u001b[39m,\n",
       "    charactersCount: \u001b[33m40\u001b[39m\n",
       "  },\n",
       "  {\n",
       "    title: \u001b[32m\"Revenge of the Sith\"\u001b[39m,\n",
       "    releasedTimeStamp: \u001b[33m1116460800000\u001b[39m,\n",
       "    released: \u001b[32m\"2005-05-19T00:00:00.000Z\"\u001b[39m,\n",
       "    charactersCount: \u001b[33m34\u001b[39m\n",
       "  }\n",
       "]"
      ]
     },
     "execution_count": 9,
     "metadata": {},
     "output_type": "execute_result"
    }
   ],
   "source": [
    "const films = await getFilms();\n",
    "\n",
    "// Entourer l'objet de () pour signifier que c'est la valeur de retour et pas un block de code\n",
    "const myFilms = films.results.map(film => ({\n",
    "    title: film.title,\n",
    "    releasedTimeStamp: Date.parse(film.release_date),\n",
    "    released: new Date(Date.parse(film.release_date)).toISOString(),\n",
    "    charactersCount: film.characters.length\n",
    "  })\n",
    ");\n",
    "\n",
    "myFilms"
   ]
  },
  {
   "cell_type": "markdown",
   "id": "013114ae",
   "metadata": {},
   "source": [
    "- Le film sorti en premier de la première page"
   ]
  },
  {
   "cell_type": "code",
   "execution_count": 10,
   "id": "41295ecd",
   "metadata": {},
   "outputs": [
    {
     "data": {
      "text/plain": [
       "[\n",
       "  {\n",
       "    title: \u001b[32m\"A New Hope\"\u001b[39m,\n",
       "    releasedTimeStamp: \u001b[33m233366400000\u001b[39m,\n",
       "    released: \u001b[32m\"1977-05-25T00:00:00.000Z\"\u001b[39m,\n",
       "    charactersCount: \u001b[33m18\u001b[39m\n",
       "  },\n",
       "  {\n",
       "    title: \u001b[32m\"The Empire Strikes Back\"\u001b[39m,\n",
       "    releasedTimeStamp: \u001b[33m327369600000\u001b[39m,\n",
       "    released: \u001b[32m\"1980-05-17T00:00:00.000Z\"\u001b[39m,\n",
       "    charactersCount: \u001b[33m16\u001b[39m\n",
       "  },\n",
       "  {\n",
       "    title: \u001b[32m\"Return of the Jedi\"\u001b[39m,\n",
       "    releasedTimeStamp: \u001b[33m422668800000\u001b[39m,\n",
       "    released: \u001b[32m\"1983-05-25T00:00:00.000Z\"\u001b[39m,\n",
       "    charactersCount: \u001b[33m20\u001b[39m\n",
       "  },\n",
       "  {\n",
       "    title: \u001b[32m\"The Phantom Menace\"\u001b[39m,\n",
       "    releasedTimeStamp: \u001b[33m927072000000\u001b[39m,\n",
       "    released: \u001b[32m\"1999-05-19T00:00:00.000Z\"\u001b[39m,\n",
       "    charactersCount: \u001b[33m34\u001b[39m\n",
       "  },\n",
       "  {\n",
       "    title: \u001b[32m\"Attack of the Clones\"\u001b[39m,\n",
       "    releasedTimeStamp: \u001b[33m1021507200000\u001b[39m,\n",
       "    released: \u001b[32m\"2002-05-16T00:00:00.000Z\"\u001b[39m,\n",
       "    charactersCount: \u001b[33m40\u001b[39m\n",
       "  },\n",
       "  {\n",
       "    title: \u001b[32m\"Revenge of the Sith\"\u001b[39m,\n",
       "    releasedTimeStamp: \u001b[33m1116460800000\u001b[39m,\n",
       "    released: \u001b[32m\"2005-05-19T00:00:00.000Z\"\u001b[39m,\n",
       "    charactersCount: \u001b[33m34\u001b[39m\n",
       "  }\n",
       "]"
      ]
     },
     "execution_count": 10,
     "metadata": {},
     "output_type": "execute_result"
    }
   ],
   "source": [
    "const sortedFilms = myFilms.toSorted((film1, film2) => film1.releasedTimeStamp - film2.releasedTimeStamp)\n",
    "sortedFilms"
   ]
  },
  {
   "cell_type": "code",
   "execution_count": 11,
   "id": "08a6add8",
   "metadata": {},
   "outputs": [
    {
     "data": {
      "text/plain": [
       "{\n",
       "  title: \u001b[32m\"A New Hope\"\u001b[39m,\n",
       "  releasedTimeStamp: \u001b[33m233366400000\u001b[39m,\n",
       "  released: \u001b[32m\"1977-05-25T00:00:00.000Z\"\u001b[39m,\n",
       "  charactersCount: \u001b[33m18\u001b[39m\n",
       "}"
      ]
     },
     "execution_count": 11,
     "metadata": {},
     "output_type": "execute_result"
    }
   ],
   "source": [
    "sortedFilms[0]"
   ]
  },
  {
   "cell_type": "markdown",
   "id": "9683f95f",
   "metadata": {},
   "source": [
    "- Le film avec le plus de personnages de la première page"
   ]
  },
  {
   "cell_type": "code",
   "execution_count": 12,
   "id": "d60e3136",
   "metadata": {},
   "outputs": [
    {
     "data": {
      "text/plain": [
       "[\n",
       "  {\n",
       "    title: \u001b[32m\"The Empire Strikes Back\"\u001b[39m,\n",
       "    releasedTimeStamp: \u001b[33m327369600000\u001b[39m,\n",
       "    released: \u001b[32m\"1980-05-17T00:00:00.000Z\"\u001b[39m,\n",
       "    charactersCount: \u001b[33m16\u001b[39m\n",
       "  },\n",
       "  {\n",
       "    title: \u001b[32m\"A New Hope\"\u001b[39m,\n",
       "    releasedTimeStamp: \u001b[33m233366400000\u001b[39m,\n",
       "    released: \u001b[32m\"1977-05-25T00:00:00.000Z\"\u001b[39m,\n",
       "    charactersCount: \u001b[33m18\u001b[39m\n",
       "  },\n",
       "  {\n",
       "    title: \u001b[32m\"Return of the Jedi\"\u001b[39m,\n",
       "    releasedTimeStamp: \u001b[33m422668800000\u001b[39m,\n",
       "    released: \u001b[32m\"1983-05-25T00:00:00.000Z\"\u001b[39m,\n",
       "    charactersCount: \u001b[33m20\u001b[39m\n",
       "  },\n",
       "  {\n",
       "    title: \u001b[32m\"The Phantom Menace\"\u001b[39m,\n",
       "    releasedTimeStamp: \u001b[33m927072000000\u001b[39m,\n",
       "    released: \u001b[32m\"1999-05-19T00:00:00.000Z\"\u001b[39m,\n",
       "    charactersCount: \u001b[33m34\u001b[39m\n",
       "  },\n",
       "  {\n",
       "    title: \u001b[32m\"Revenge of the Sith\"\u001b[39m,\n",
       "    releasedTimeStamp: \u001b[33m1116460800000\u001b[39m,\n",
       "    released: \u001b[32m\"2005-05-19T00:00:00.000Z\"\u001b[39m,\n",
       "    charactersCount: \u001b[33m34\u001b[39m\n",
       "  },\n",
       "  {\n",
       "    title: \u001b[32m\"Attack of the Clones\"\u001b[39m,\n",
       "    releasedTimeStamp: \u001b[33m1021507200000\u001b[39m,\n",
       "    released: \u001b[32m\"2002-05-16T00:00:00.000Z\"\u001b[39m,\n",
       "    charactersCount: \u001b[33m40\u001b[39m\n",
       "  }\n",
       "]"
      ]
     },
     "execution_count": 12,
     "metadata": {},
     "output_type": "execute_result"
    }
   ],
   "source": [
    "const sortedByCharCount = myFilms.toSorted((f1, f2) => f1.charactersCount - f2.charactersCount);\n",
    "sortedByCharCount"
   ]
  },
  {
   "cell_type": "code",
   "execution_count": 13,
   "id": "66237318",
   "metadata": {},
   "outputs": [
    {
     "data": {
      "text/plain": [
       "{\n",
       "  title: \u001b[32m\"Attack of the Clones\"\u001b[39m,\n",
       "  releasedTimeStamp: \u001b[33m1021507200000\u001b[39m,\n",
       "  released: \u001b[32m\"2002-05-16T00:00:00.000Z\"\u001b[39m,\n",
       "  charactersCount: \u001b[33m40\u001b[39m\n",
       "}"
      ]
     },
     "execution_count": 13,
     "metadata": {},
     "output_type": "execute_result"
    }
   ],
   "source": [
    "sortedByCharCount[sortedByCharCount.length - 1]"
   ]
  }
 ],
 "metadata": {
  "kernelspec": {
   "display_name": "Deno",
   "language": "typescript",
   "name": "deno"
  },
  "language_info": {
   "codemirror_mode": "typescript",
   "file_extension": ".ts",
   "mimetype": "text/x.typescript",
   "name": "typescript",
   "nbconvert_exporter": "script",
   "pygments_lexer": "typescript",
   "version": "5.9.2"
  }
 },
 "nbformat": 4,
 "nbformat_minor": 5
}
