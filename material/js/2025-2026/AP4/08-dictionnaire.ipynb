{
 "cells": [
  {
   "cell_type": "markdown",
   "id": "11844d89",
   "metadata": {},
   "source": [
    "# Dictionnaire\n",
    "\n",
    "Les dictionnaires permettent de stocker des paires clé-valeur. JavaScript propose de base deux façons de mettre en oeuvre les dictionnaires : les objets et les Maps."
   ]
  },
  {
   "cell_type": "markdown",
   "id": "eeffb33e",
   "metadata": {},
   "source": [
    "## Map\n",
    "\n",
    "Méthode moderne et recommandée.\n",
    "\n",
    "Attention: Map a deux significations en programmation: la struture de données (`Map`) et la fonction de transformation (`map`). Ici, on parle de la structure de données."
   ]
  },
  {
   "cell_type": "markdown",
   "id": "6f428eac",
   "metadata": {},
   "source": [
    "Exemple de dictionnaire qui associe des pokémons à leurs types:"
   ]
  },
  {
   "cell_type": "code",
   "execution_count": 10,
   "id": "b91308aa",
   "metadata": {},
   "outputs": [
    {
     "data": {
      "text/plain": [
       "Map(2) { \u001b[32m\"Pikachu\"\u001b[39m => \u001b[32m\"Foudre\"\u001b[39m, \u001b[32m\"Salamèche\"\u001b[39m => \u001b[32m\"Feu\"\u001b[39m }"
      ]
     },
     "execution_count": 10,
     "metadata": {},
     "output_type": "execute_result"
    }
   ],
   "source": [
    "const pokemonElements = new Map();\n",
    "pokemonElements.set(\"Pikachu\", \"Foudre\");\n",
    "pokemonElements.set(\"Salamèche\", \"Feu\");\n",
    "pokemonElements"
   ]
  },
  {
   "cell_type": "markdown",
   "id": "739122f1",
   "metadata": {},
   "source": [
    "`get` permet de récupérer la valeur associée à une clé. Un element qui n'existe pas retourne `undefined`:"
   ]
  },
  {
   "cell_type": "code",
   "execution_count": 11,
   "id": "d03d3cfb",
   "metadata": {},
   "outputs": [
    {
     "name": "stdout",
     "output_type": "stream",
     "text": [
      "Foudre undefined\n"
     ]
    }
   ],
   "source": [
    "console.log(pokemonElements.get(\"Pikachu\"), pokemonElements.get(\"Bulibzarre\"));"
   ]
  },
  {
   "cell_type": "markdown",
   "id": "ec804acf",
   "metadata": {},
   "source": [
    "On peut itérer sur les paires clé-valeur d'une Map avec une boucle `for ... of`"
   ]
  },
  {
   "cell_type": "code",
   "execution_count": 12,
   "id": "9be8c830",
   "metadata": {},
   "outputs": [
    {
     "name": "stdout",
     "output_type": "stream",
     "text": [
      "clé Pikachu valuer Foudre\n",
      "clé Salamèche valuer Feu\n"
     ]
    }
   ],
   "source": [
    "for (const entry of pokemonElements) {\n",
    "  console.log(\"clé\", entry[0], \"valuer\", entry[1]);\n",
    "}"
   ]
  },
  {
   "cell_type": "markdown",
   "id": "c1c517c5",
   "metadata": {},
   "source": [
    "Pour un `filter`, `map`, ou d'autres méthodes d'itération, il n'y a pas de méthode directe sur les Maps."
   ]
  },
  {
   "cell_type": "markdown",
   "id": "d249ac7a",
   "metadata": {},
   "source": [
    "## Dictionnaire avec des objets\n",
    "\n",
    "Les objects JavaScript sont polyvalents et peuvent être utilisés comme dictionnaires simples."
   ]
  },
  {
   "cell_type": "code",
   "execution_count": 13,
   "id": "018f3d45",
   "metadata": {},
   "outputs": [
    {
     "data": {
      "text/plain": [
       "{ \u001b[32m\"Boogie Bomeb\"\u001b[39m: \u001b[33m10000000\u001b[39m, Scar: \u001b[33m120\u001b[39m }"
      ]
     },
     "execution_count": 13,
     "metadata": {},
     "output_type": "execute_result"
    }
   ],
   "source": [
    "const forniteWeaponPower = {};\n",
    "forniteWeaponPower[\"Boogie Bomeb\"] = 10_000_000;\n",
    "forniteWeaponPower[\"Scar\"] = 120;\n",
    "\n",
    "forniteWeaponPower"
   ]
  },
  {
   "cell_type": "markdown",
   "id": "8c495f67",
   "metadata": {},
   "source": [
    "On a toujours `undefined` pour une clé qui n'existe pas:"
   ]
  },
  {
   "cell_type": "code",
   "execution_count": 14,
   "id": "1f419bc2",
   "metadata": {},
   "outputs": [
    {
     "name": "stdout",
     "output_type": "stream",
     "text": [
      "120 undefined\n"
     ]
    }
   ],
   "source": [
    "console.log(forniteWeaponPower[\"Scar\"], forniteWeaponPower[\"Foobar\"]);"
   ]
  },
  {
   "cell_type": "markdown",
   "id": "f49fd8ac",
   "metadata": {},
   "source": [
    "Pour itérer sur les clés, on utilise une boucle `for ... in`:"
   ]
  },
  {
   "cell_type": "code",
   "execution_count": 16,
   "id": "f410c26b",
   "metadata": {},
   "outputs": [
    {
     "name": "stdout",
     "output_type": "stream",
     "text": [
      "weapon Boogie Bomeb power 10000000\n",
      "weapon Scar power 120\n"
     ]
    }
   ],
   "source": [
    "for (const key in forniteWeaponPower) {\n",
    "  if (!Object.hasOwn(forniteWeaponPower, key)) continue;\n",
    "  const weaponPower = forniteWeaponPower[key];\n",
    "  console.log(\"weapon\", key, \"power\", weaponPower);\n",
    "  \n",
    "}"
   ]
  }
 ],
 "metadata": {
  "kernelspec": {
   "display_name": "Deno",
   "language": "typescript",
   "name": "deno"
  },
  "language_info": {
   "codemirror_mode": "typescript",
   "file_extension": ".ts",
   "mimetype": "text/x.typescript",
   "name": "typescript",
   "nbconvert_exporter": "script",
   "pygments_lexer": "typescript",
   "version": "5.9.2"
  }
 },
 "nbformat": 4,
 "nbformat_minor": 5
}
