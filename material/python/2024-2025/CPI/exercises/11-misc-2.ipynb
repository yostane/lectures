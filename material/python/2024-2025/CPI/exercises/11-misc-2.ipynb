{
 "cells": [
  {
   "cell_type": "markdown",
   "metadata": {
    "notebookRunGroups": {
     "groupValue": "2"
    }
   },
   "source": [
    "# Miscelanuous Problems\n",
    "\n",
    "## Part 1\n",
    "\n",
    "1. What is the result of each expression:\n",
    "    - `10 > 5 and 5 > 10`\n",
    "    - `10 > 5 or 5 > 10`\n",
    "    - `13541654161 % 2 == 0`\n",
    "    - `'a' + 'b' == \"ab\"`\n",
    "    - `len(str(98748416479 % 9))`\n",
    "    - `len(range(99))`\n",
    "    - `len(range(0, 99, 1))`\n",
    "    - `len(range(0, 99, 2))`\n",
    "    - `range(-8, 33, 7)`\n",
    "    - `len(range(-8, 33, 7))`\n",
    "1. What is the value of `t` in each of the following code snippets:\n",
    "    - ```python\n",
    "        a = 'b'\n",
    "        b = 'a'\n",
    "        t = f\"a{a}{b}b\"\n",
    "        ```\n",
    "    - ```python\n",
    "        a = '2025'\n",
    "        b = 2025\n",
    "        t = (len(a) == b)\n",
    "        ```\n",
    "    - ```python\n",
    "        a = '2025'\n",
    "        b = 2025\n",
    "        t = (a == b)\n",
    "        ```\n",
    "    - ```python\n",
    "        a = '2025'\n",
    "        b = 2025\n",
    "        t = (a == b)\n",
    "        ```"
   ]
  },
  {
   "cell_type": "markdown",
   "metadata": {},
   "source": [
    "## Part 2\n",
    "\n",
    "It is forbidden to use `max`, `min`, `sum`.\n",
    "\n",
    "1. Create a function that takes an integer argument and returns the numbers of digits in it. For example, `count_digits(\"1234\")` returns `4`.\n",
    "1. Create a function that takes an integer argument and returns the sum of its digits. For example, `sum_digits(\"1234\")` returns `10`.\n",
    "1. Create a function that takes two arguments, a list of integers and an integer, and returns the number of times the integer appears in the list. For example, `count_occurrences([1, 2, 3, 4, 5, 1], 1)` returns `2`."
   ]
  }
 ],
 "metadata": {
  "language_info": {
   "name": "python"
  }
 },
 "nbformat": 4,
 "nbformat_minor": 2
}
