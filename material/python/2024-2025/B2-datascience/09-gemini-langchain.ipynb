{
 "cells": [
  {
   "cell_type": "markdown",
   "metadata": {},
   "source": [
    "# Gemini lanchain demo"
   ]
  },
  {
   "cell_type": "code",
   "execution_count": 1,
   "metadata": {},
   "outputs": [
    {
     "data": {
      "text/plain": [
       "AIMessage(content='The translation of \"binding\" in French depends on the context:\\n\\n*   **For bookbinding:** reliure\\n*   **For a connection or attachment:** attache, liaison, lien\\n*   **For a legal agreement:** engagement, contrat\\n*   **For a grammatical term:** liaison\\n*   **For a ski binding:** fixation\\n*   **For a hem binding:** bordure, ganse\\n\\nIf you can provide more context, I can give you a more precise translation.', additional_kwargs={}, response_metadata={'prompt_feedback': {'block_reason': 0, 'safety_ratings': []}, 'finish_reason': 'STOP', 'safety_ratings': []}, id='run-257f5e46-88ed-421c-9c2a-6f90d5af4072-0', usage_metadata={'input_tokens': 18, 'output_tokens': 103, 'total_tokens': 121, 'input_token_details': {'cache_read': 0}})"
      ]
     },
     "execution_count": 1,
     "metadata": {},
     "output_type": "execute_result"
    }
   ],
   "source": [
    "from langchain_google_genai import ChatGoogleGenerativeAI\n",
    "\n",
    "llm = ChatGoogleGenerativeAI(model=\"gemini-2.0-flash-lite\")\n",
    "\n",
    "system_message = (\n",
    "    \"system\", \"You are an assistant that translated Eglish to French. Translate the user sentence\")\n",
    "human_message = (\n",
    "    \"human\", \"Binding in French\"\n",
    ")\n",
    "messages = [\n",
    "    system_message,\n",
    "    human_message\n",
    "]\n",
    "ai_msg = llm.invoke(messages)\n",
    "ai_msg"
   ]
  },
  {
   "cell_type": "code",
   "execution_count": 2,
   "metadata": {},
   "outputs": [
    {
     "name": "stdout",
     "output_type": "stream",
     "text": [
      "The translation of \"binding\" in French depends on the context:\n",
      "\n",
      "*   **For bookbinding:** reliure\n",
      "*   **For a connection or attachment:** attache, liaison, lien\n",
      "*   **For a legal agreement:** engagement, contrat\n",
      "*   **For a grammatical term:** liaison\n",
      "*   **For a ski binding:** fixation\n",
      "*   **For a hem binding:** bordure, ganse\n",
      "\n",
      "If you can provide more context, I can give you a more precise translation.\n"
     ]
    }
   ],
   "source": [
    "print(ai_msg.content)"
   ]
  },
  {
   "cell_type": "code",
   "execution_count": 3,
   "metadata": {},
   "outputs": [
    {
     "data": {
      "text/plain": [
       "'The translation of \"binding\" in French depends on the context:\\n\\n*   **For bookbinding:** reliure\\n*   **For a connection or attachment:** attache, liaison, lien\\n*   **For a legal agreement:** engagement, contrat\\n*   **For a grammatical term:** liaison\\n*   **For a ski binding:** fixation\\n*   **For a hem binding:** bordure, ganse\\n\\nIf you can provide more context, I can give you a more precise translation.'"
      ]
     },
     "execution_count": 3,
     "metadata": {},
     "output_type": "execute_result"
    }
   ],
   "source": [
    "ai_msg.content"
   ]
  }
 ],
 "metadata": {
  "kernelspec": {
   "display_name": ".venv",
   "language": "python",
   "name": "python3"
  },
  "language_info": {
   "codemirror_mode": {
    "name": "ipython",
    "version": 3
   },
   "file_extension": ".py",
   "mimetype": "text/x-python",
   "name": "python",
   "nbconvert_exporter": "python",
   "pygments_lexer": "ipython3",
   "version": "3.12.9"
  }
 },
 "nbformat": 4,
 "nbformat_minor": 2
}
