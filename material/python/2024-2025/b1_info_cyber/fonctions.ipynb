{
 "cells": [
  {
   "cell_type": "markdown",
   "metadata": {},
   "source": [
    "# Fonctions\n",
    "\n",
    "Les fonctions englobent des traitements derrèire un nom. Quand on appelle la fonction, ses traitements sont exécutés. Les fonctions sont des blocs de code réutilisables. Elles permettent de simplifier le code en évitant de répéter les mêmes traitements.\n",
    "\n",
    "```\n",
    "def [nom de la fonction]([arguments (les entrées)]):\n",
    "    [corps de la fonction]\n",
    "    return [sortie ou résultat] qui est optionnel\n",
    "```"
   ]
  },
  {
   "cell_type": "code",
   "execution_count": 3,
   "metadata": {},
   "outputs": [
    {
     "name": "stdout",
     "output_type": "stream",
     "text": [
      "True False\n",
      "239 -3 20399\n"
     ]
    }
   ],
   "source": [
    "def is_even(x):\n",
    "    #Le texte en dessous sert just de documentation\n",
    "    \"\"\"Fonction qui retourne True si x % 2 == 0 ou False sinon\"\"\"\n",
    "    return x % 2 == 0\n",
    "\n",
    "print(is_even(10), is_even(23))\n",
    "\n",
    "# Soit la fonction mathématique f(x) = 2x² + 4x - 1\n",
    "def f(x):\n",
    "    return 2 * x**2 + 4 * x - 1\n",
    "\n",
    "print(f(10), f(-1), f(100)) "
   ]
  },
  {
   "cell_type": "markdown",
   "metadata": {},
   "source": [
    "## Exemples de fonctions"
   ]
  },
  {
   "cell_type": "code",
   "execution_count": 1,
   "metadata": {},
   "outputs": [
    {
     "name": "stdout",
     "output_type": "stream",
     "text": [
      "hello\n",
      "hello\n",
      "I love 🐍\n",
      "I love 🐍\n",
      "I love 🐍\n",
      "I love 💰\n",
      "I love 💰\n",
      "I love 💰\n",
      "I love 💰\n",
      "\n"
     ]
    }
   ],
   "source": [
    "def say_hello():\n",
    "    print(\"hello\")\n",
    "\n",
    "# On peut appeler une fonction autant de fois qu'on veut\n",
    "say_hello()\n",
    "say_hello()\n",
    "\n",
    "# Les fonctions peuvent prendre des arguments. La fonction suivante prend un argument\n",
    "def print_message(message):\n",
    "    print(message)\n",
    "    \n",
    "# Cette fonction prend deux arguments\n",
    "def print_message_repeated(message, times):\n",
    "    \"\"\"Fonction qui affiche un message autant de fois que l'argument times\"\"\"\n",
    "    for i in range(times):\n",
    "        print(message)\n",
    "\n",
    "# Cette fonction a le même comportement que la fonction précédente\n",
    "def print_message_repeated_2(message, times):\n",
    "    \"\"\"Fonction qui affiche un message autant de fois que l'argument times\"\"\"\n",
    "    line = f\"{message}\\n\" # message + \"\\n\"\n",
    "    print(line * times)\n",
    "\n",
    "# On dit print_message_repeated_2 et print_message_repeated ont le même comportement mais des implémentations différentes\n",
    "\n",
    "print_message_repeated(\"I love 🐍\", 3)\n",
    "print_message_repeated_2(\"I love 💰\", 4)"
   ]
  }
 ],
 "metadata": {
  "kernelspec": {
   "display_name": "Python 3",
   "language": "python",
   "name": "python3"
  },
  "language_info": {
   "codemirror_mode": {
    "name": "ipython",
    "version": 3
   },
   "file_extension": ".py",
   "mimetype": "text/x-python",
   "name": "python",
   "nbconvert_exporter": "python",
   "pygments_lexer": "ipython3",
   "version": "3.12.8"
  }
 },
 "nbformat": 4,
 "nbformat_minor": 2
}
