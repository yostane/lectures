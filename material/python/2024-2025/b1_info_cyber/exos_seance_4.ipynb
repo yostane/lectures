{
 "cells": [
  {
   "cell_type": "markdown",
   "metadata": {},
   "source": [
    "# Exercices séance 4\n",
    "\n",
    "## Questions d'interprêtation\t\n",
    "\n",
    "Répondre sans exécuter le code et sans calculatrice.\n",
    "\n",
    "1. Quelle est la valeur de chaque expression ?\n",
    "    - `3 + 2 * 4`\n",
    "    - `f\"Hello {2024 + 1}\"`\n",
    "    - `len(str(41654614654156 % 7))`\n",
    "    - `2025 == \"2025\"`\n",
    "    - `range(22)[-1]`\n",
    "    - `2025 == int(\"2025\")`\n",
    "    - `len(str(2025))`\n",
    "    - `len(str(2025)) == 4`\n",
    "1. Quelle est la valeur de `t` après l'exécution du code suivant ?\n",
    "    ```python\n",
    "    t = 0\n",
    "    i = range(-2, 22, 5)\n",
    "    for j in i:\n",
    "        t += j\n",
    "    ```\n",
    "1. Quelle est la valeur de `t` après l'exécution du code suivant ?\n",
    "    ```python\n",
    "    x = 1\n",
    "    def f(x):\n",
    "        return x + 1\n",
    "    x = 1\n",
    "    t = f(10)\n",
    "    ```\n",
    "1. Quelle est la valeur de `t` après l'exécution du code suivant ?\n",
    "    ```python\n",
    "    def g(x, y, z):\n",
    "        return len(x) > y + len(z)\n",
    "    t = g([1, 2], 2, \"World\") and g(\"Helloooooo\", 2, \"Worlddddddd\")\n",
    "    ```"
   ]
  },
  {
   "cell_type": "markdown",
   "metadata": {},
   "source": [
    "## Questions de programmation\n",
    "\n",
    "1. Écrire une fonction `calculer_somme(n)` qui prend en paramètre un entier `n` et qui renvoie la somme des entiers de 1 à `n`. Par exemple, `calculer_somme(5)` doit renvoyer 15.\n",
    "1. Écrire une fonction `calculer_somme_carres(n)` qui prend en paramètre un entier `n` et qui renvoie la somme des carrés des entiers de 1 à `n`. Par exemple, `calculer_somme_carres(5)` doit renvoyer 55.\n",
    "1. Écrire une fonction `calculer_somme_pairs(n)` qui prend en paramètre un entier `n` et qui renvoie la somme des entiers pairs de 1 à `n`. Par exemple, `calculer_somme_pairs(5)` doit renvoyer 6."
   ]
  },
  {
   "cell_type": "markdown",
   "metadata": {},
   "source": [
    "## Question de programmation partie 2\n",
    "\n",
    "1. Ecrire une fonction `est_premier(n)` qui renvoie `True` si `n` est un nombre premier et `False` sinon.\n",
    "1. Ecrire une fonction `liste_premiers_jusqua(n)` qui renvoie la liste des nombres premiers inférieurs à `n`.\n",
    "1. Ecrire une fonction `liste_n_premiers(n)` qui renvoie les `n` premiers nombres premiers."
   ]
  },
  {
   "cell_type": "markdown",
   "metadata": {},
   "source": [
    "## Question de programmation partie 3\n",
    "\n",
    "1. Ecrire une fonction `deviner(x, tentatives)`. Une fois appelée, cette fonction demande à  l'utilisateur de deviner saisir un nombre. Si le nombre est égal à `x`, la fonction renvoie `True`, sinon elle re-demande autant de fois que de nombre de `tentatives`. Si l'utilisateur n'a pas trouvé après `tentatives` tentatives, la fonction renvoie `False`.\n",
    "1. Ecrire une fonction `deviner_aleatoire(tentatives)` qui choisit un nombre aléatoire entre 1 et 100 et appelle la fonction `deviner` avec ce nombre. \n",
    "1. Ecrire une fonction `calculer_moyenne(notes)` qui prend en paramètre une liste de notes et renvoie la moyenne de ces notes.\n",
    "1. Ecrire une fonction `calculer_moyenne_ponderee(notes, poids)` qui prend en paramètre une liste de notes et une liste de poids et renvoie la moyenne pondérée de ces notes. Par exemple, `calculer_moyenne_ponderee([10, 12, 14], [1, 2, 3])` doit renvoyer 12.5.\n",
    "    - Si les deux tableaux n'ont pas les mêmes dimensions, la fonction renvoie `None`.\n",
    "1. Ecrire une fonction `fib(n)` qui calcule le `n`-ième terme de la suite de Fibonacci. Les termes de cette suite sont calculés de cette façon : `fib(0) = 0`, `fib(1) = 1` et `fib(n) = fib(n-1) + fib(n-2)` pour `n > 1`. Par exemple, `fib(10)` doit renvoyer 55."
   ]
  },
  {
   "cell_type": "markdown",
   "metadata": {},
   "source": [
    "## Problème de programmation\n",
    "\n",
    "Il était une fois, dans un monde englouti par la mer et peuplé de quelques îles, un jeune pirate, appelé Lyffu, qui aime développer en Python lorsqu'il s'ennuie dans le bâteau. Un beau jour, Lyffu trouve une carte aux trésors qui lui donne les coordonnées de plusieurs îles. Il décide alors de les visiter pour trouver des trésors. Les corrdonnées sont données sous forme d'une liste de dictionnaires de la forme `{'nom': 'Nom de l'île', 'x': x, 'y': y, 'proba': p}` où `x` et `y` sont les coordonnées de l'île et `p` est une valeur entre 0 et 100. Les coordonnées sont des entiers positifs. La liste îles est donnée ainsi: \n",
    "```python\n",
    "iles = [\n",
    "    {'nom': 'A', 'x': 1, 'y': 2, 'proba': 10},\n",
    "    {'nom': 'B', 'x': 3, 'y': 4, 'proba': 20},\n",
    "    {'nom': 'C', 'x': 5, 'y': 6, 'proba': 30},\n",
    "    {'nom': 'D', 'x': 7, 'y': 8, 'proba': 40},\n",
    "    {'nom': 'E', 'x': 9, 'y': 10, 'proba': 50},\n",
    "    {'nom': 'F', 'x': 11, 'y': 12, 'proba': 60},\n",
    "    {'nom': 'G', 'x': 13, 'y': 14, 'proba': 70},\n",
    "    {'nom': 'H', 'x': 15, 'y': 16, 'proba': 80},\n",
    "    {'nom': 'I', 'x': 17, 'y': 18, 'proba': 90},\n",
    "    {'nom': 'J', 'x': 19, 'y': 20, 'proba': 100},\n",
    "]\n",
    "```\n",
    "- Ecrire une fonction `compter_tresors(iles)` qui compte le nombre de trésors trouvés en parcourant les îles. Un trésor est trouvé dans l'île si un nombre aléatoire entre 0 et 100 est inférieur ou égal à la probabilité de l'île. La fonction renvoie le nombre de trésors trouvés. Par exemple `compter_tresors(iles)` doit renvoyer un nombre entre 0 et 10.\n",
    "\n",
    "Après avoir parcouru les îles, Fyllu tombe sur une lampe magique. Fully assoifé, prépare alors un thé à la menthe dans cette lampe. Tout à coup, le génie Rozzo sort de la lampe brûlé et furieux. Il décide ainsi pour se venger de lui change la configuration des îles. Il compte détruire toutes les îles existantes et en générer de nouvelles. Le génie applique l'algorithme suivant:\n",
    "- Le génie génère un nombre aléatoire `n` entre 5 et 20. Ceci correspond au nombre d'îles qu'il va générer.\n",
    "- Le génie génère `n` îles aléatoirement. Chaque île est un dictionnaire de la forme `{'nom': 'Nom de l'île', 'x': x, 'y': y, 'proba': p}` où `x` et `y` sont les coordonnées de l'île et `p` un entier en 1 et 100. Les coordonnées sont des entiers positifs.\n",
    "    - Les coordonnées de chaque île sont des entiers positifs entre 1 et 100.\n",
    "    - Le génie donne un nom aléatoire à chaque île parmi les noms suivants: `['A', 'B', 'C', 'D', 'E', 'F', 'G', 'H', 'I', 'J', 'K', 'L', 'M', 'N', 'O', 'P', 'Q', 'R', 'S', 'T', 'U', 'V', 'W', 'X', 'Y', 'Z']`.\n",
    "    - `p` est une valeur aléatoire entre 5 et 100.\n",
    "    - Le génie s'assure qu'il n'y a pas deux îles avec les mêmes coordonnées ou le même nom. Si c'est le cas, il génère de nouvelles coordonnées ou un nouveau nom.\n",
    "\n",
    "- Créer une fonction `generer_iles()` qui génère les îles selon l'algorithme du génie Rozzo. La fonction renvoie la liste des îles générées.\n",
    "\n"
   ]
  }
 ],
 "metadata": {
  "kernelspec": {
   "display_name": "Python 3",
   "language": "python",
   "name": "python3"
  },
  "language_info": {
   "name": "python",
   "version": "3.12.8"
  }
 },
 "nbformat": 4,
 "nbformat_minor": 2
}
