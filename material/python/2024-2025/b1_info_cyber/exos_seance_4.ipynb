{
 "cells": [
  {
   "cell_type": "markdown",
   "metadata": {},
   "source": [
    "# Exercices séance 4\n",
    "\n",
    "## Questions à réponse libre\n",
    "\n",
    "Répondre sans exécuter le code et sans calculatrice.\n",
    "\n",
    "1. Quelle est la valeur de chaque expression ?\n",
    "    - `3 + 2 * 4`\n",
    "    - `f\"Hello {2024 + 1}\"`\n",
    "    - `len(str(41654614654156 % 7))`\n",
    "    - `2025 == \"2025\"`\n",
    "    - `range(22)[-1]`\n",
    "    - ``"
   ]
  }
 ],
 "metadata": {
  "language_info": {
   "name": "python"
  }
 },
 "nbformat": 4,
 "nbformat_minor": 2
}
