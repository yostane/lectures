{
 "cells": [
  {
   "cell_type": "markdown",
   "metadata": {},
   "source": [
    "# Exercices séance 4\n",
    "\n",
    "## Questions d'interprêtation\t\n",
    "\n",
    "Répondre sans exécuter le code et sans calculatrice.\n",
    "\n",
    "1. Quelle est la valeur de chaque expression ?\n",
    "    - `3 + 2 * 4`\n",
    "    - `f\"Hello {2024 + 1}\"`\n",
    "    - `len(str(41654614654156 % 7))`\n",
    "    - `2025 == \"2025\"`\n",
    "    - `range(22)[-1]`\n",
    "    - `2025 == int(\"2025\")`\n",
    "    - `len(str(2025))`\n",
    "    - `len(str(2025)) == 4`\n",
    "1. Quelle est la valeur de `t` après l'exécution du code suivant ?\n",
    "    ```python\n",
    "    t = 0\n",
    "    i = range(-2, 22, 5)\n",
    "    for j in i:\n",
    "        t += j\n",
    "    ```\n",
    "1. Quelle est la valeur de `t` après l'exécution du code suivant ?\n",
    "    ```python\n",
    "    x = 1\n",
    "    def f(x):\n",
    "        return x + 1\n",
    "    x = 1\n",
    "    t = f(10)\n",
    "    ```\n",
    "1. Quelle est la valeur de `t` après l'exécution du code suivant ?\n",
    "    ```python\n",
    "    def g(x, y, z):\n",
    "        return len(x) > y + len(z)\n",
    "    t = g([1, 2], 2, \"World\") and g(\"Helloooooo\", 2, \"Worlddddddd\")\n",
    "    ```"
   ]
  },
  {
   "cell_type": "markdown",
   "metadata": {},
   "source": [
    "## Questions de programmation\n",
    "\n",
    "1. Écrire une fonction `calculer_somme(n)` qui prend en paramètre un entier `n` et qui renvoie la somme des entiers de 1 à `n`. Par exemple, `calculer_somme(5)` doit renvoyer 15.\n",
    "1. Écrire une fonction `calculer_somme_carres(n)` qui prend en paramètre un entier `n` et qui renvoie la somme des carrés des entiers de 1 à `n`. Par exemple, `calculer_somme_carres(5)` doit renvoyer 55.\n",
    "1. Écrire une fonction `calculer_somme_pairs(n)` qui prend en paramètre un entier `n` et qui renvoie la somme des entiers pairs de 1 à `n`. Par exemple, `calculer_somme_pairs(5)` doit renvoyer 6."
   ]
  }
 ],
 "metadata": {
  "language_info": {
   "name": "python"
  }
 },
 "nbformat": 4,
 "nbformat_minor": 2
}
