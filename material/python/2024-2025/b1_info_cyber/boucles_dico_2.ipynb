{
 "cells": [
  {
   "cell_type": "markdown",
   "metadata": {},
   "source": [
    "# Boucles et dictionnaires (suite)\n",
    "\n",
    "## Boucles (suite)"
   ]
  },
  {
   "cell_type": "code",
   "execution_count": 4,
   "metadata": {},
   "outputs": [
    {
     "name": "stdout",
     "output_type": "stream",
     "text": [
      "L'élément de l'itération actuelle 10\n",
      "L'élément de l'itération actuelle -8\n",
      "L'élément de l'itération actuelle 3\n",
      "Nouvelle itération\n",
      "H\n",
      "Nouvelle itération\n",
      "e\n",
      "Nouvelle itération\n",
      "l\n",
      "Nouvelle itération\n",
      "l\n",
      "Nouvelle itération\n",
      "o\n",
      "Nouvelle itération\n",
      " \n",
      "Nouvelle itération\n",
      "B\n",
      "Nouvelle itération\n",
      "1\n",
      "Nouvelle itération\n",
      " \n",
      "Nouvelle itération\n",
      "2\n",
      "Nouvelle itération\n",
      "0\n",
      "Nouvelle itération\n",
      "2\n",
      "Nouvelle itération\n",
      "5\n",
      "Nouvelle itération\n",
      " \n",
      "Nouvelle itération\n",
      "!\n",
      "Clé de l'itération actuelle name\n",
      "valeur de l'itératon actuelle Sacourroie\n",
      "Clé de l'itération actuelle Jutsu\n",
      "valeur de l'itératon actuelle Super force\n"
     ]
    }
   ],
   "source": [
    "items = [10, -8, 3]\n",
    "# Boucler sur chaque élément de la liste\n",
    "for item in items:\n",
    "    print(\"L'élément de l'itération actuelle\", item)\n",
    "\n",
    "# Boucler sur chaque caractère de la string\n",
    "text = \"Hello B1 2025 !\"\n",
    "for c in text:\n",
    "    print(\"Nouvelle itération\")\n",
    "    print(c)\n",
    "\n",
    "ninja = {\"name\": \"Sacourroie\", \"Jutsu\": \"Super force\"}\n",
    "for key, value in ninja.items():\n",
    "    print(\"Clé de l'itération actuelle\", key)\n",
    "    print(\"valeur de l'itératon actuelle\", value)"
   ]
  },
  {
   "cell_type": "markdown",
   "metadata": {},
   "source": [
    "### Range"
   ]
  },
  {
   "cell_type": "code",
   "execution_count": 6,
   "metadata": {},
   "outputs": [
    {
     "name": "stdout",
     "output_type": "stream",
     "text": [
      "[0, 1, 2, 3, 4, 5] [0, 1, 2, 3, 4, 5]\n",
      "[-2, -1, 0, 1, 2, 3] [-2, -1, 0, 1, 2, 3]\n",
      "[4, 7, 10, 13] [4, 7, 10, 13]\n",
      "[5, 4, 3, 2] [5, 4, 3, 2]\n"
     ]
    }
   ],
   "source": [
    "r1 = [0, 1, 2, 3, 4, 5] # début 0, fin 6 exclu, pas ou \"step\" de 1, \n",
    "r2 = [-2, -1, 0, 1, 2, 3] # début -2, fin 4 exclu, pas ou \"step\" de 1\n",
    "r3 = [4, 7, 10, 13] # début 4, fin 14, ou 15 ou 16 exclu exclu, pas ou \"step\" de 3\n",
    "r4 = [5, 4, 3, 2] # début 5, fin 1 exclu, pas ou \"step\" de -1\n",
    "\n",
    "# On génère les mêmes listes avec range range(début, fin exclue, pas)\n",
    "r1_bis = range(0, 6, 1)\n",
    "r2_bis = range(-2, 4, 1)\n",
    "r3_bis = range(4, 15, 3)\n",
    "r4_bis = range(5, 1, -1)\n",
    "\n",
    "# pour afficher le contenu d'un range, il faut faire list(variable_range)\n",
    "print(r1, list(r1_bis))\n",
    "print(r2, list(r2_bis))\n",
    "print(r3, list(r3_bis))\n",
    "print(r4, list(r4_bis))"
   ]
  }
 ],
 "metadata": {
  "kernelspec": {
   "display_name": "Python 3",
   "language": "python",
   "name": "python3"
  },
  "language_info": {
   "codemirror_mode": {
    "name": "ipython",
    "version": 3
   },
   "file_extension": ".py",
   "mimetype": "text/x-python",
   "name": "python",
   "nbconvert_exporter": "python",
   "pygments_lexer": "ipython3",
   "version": "3.12.8"
  }
 },
 "nbformat": 4,
 "nbformat_minor": 2
}
