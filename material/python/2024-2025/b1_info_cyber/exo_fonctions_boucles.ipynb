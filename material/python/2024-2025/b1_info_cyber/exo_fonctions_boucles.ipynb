{
 "cells": [
  {
   "cell_type": "markdown",
   "metadata": {},
   "source": [
    "# Exercices sur les boucles et les fonctions\n",
    "\n",
    "Ne pas utiliser la fonction `sum` de Python pour les exercices suivants.\n",
    "\n",
    "## Série 1\n",
    "\n",
    "1. Écrire une fonction `sum_first_n` qui prend en argument un entier `n` et qui renvoie la somme des entiers de 1 à `n`. Par exemple, `sum_first_n(5)` doit renvoyer 15.\n",
    "1. Écrire une fonction `sum_first_n_odd` qui prend en paramètre (ou argument) un entier `n` et qui renvoie la somme des 1 à `n` qui sont impairs. Par exemple, `sum_first_n_odd(5)` doit renvoyer 9.\n",
    "1. Écrire une fonction `count_vowels` qui prend en argument une chaine de caractères et qui renvoie le nombre de voyelles dans cette chaine. Par exemple, `count_vowels(\"hello\")` doit renvoyer 2.\n",
    "1. Écrire une fonction `print_info` qui prend une chaine de caractères en paramètre et qui affiche le nombre de caractères, le nombre de lettres et le nombre de chiffres de cette chaine. Par exemple, `print_info(\"abc123\")` doit afficher `6 caractères, 3 lettres, 3 chiffres`.\n",
    "    - ⚠️ Attention ! cette fonction doit juste afficher sans rien renvoyer. Donc pas de `return` dans cette fonction et il faut faire un `print` à sa fin.\n"
   ]
  }
 ],
 "metadata": {
  "language_info": {
   "name": "python"
  }
 },
 "nbformat": 4,
 "nbformat_minor": 2
}
