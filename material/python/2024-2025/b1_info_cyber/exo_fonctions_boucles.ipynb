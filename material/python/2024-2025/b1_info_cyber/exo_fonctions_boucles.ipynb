{
 "cells": [
  {
   "cell_type": "markdown",
   "metadata": {},
   "source": [
    "# Exercices sur les boucles et les fonctions\n",
    "\n",
    "## ⚠️ Consignes\n",
    "\n",
    "- Ne pas utiliser la fonction `sum` de Python pour les exercices suivants.\n",
    "\n",
    "## Série 1\n",
    "\n",
    "1. Écrire une fonction `sum_first_n` qui prend en argument un entier `n` et qui renvoie la somme des entiers de 1 à `n`. Par exemple, `sum_first_n(5)` doit renvoyer 15 (1 + 2 + 3 + 4 + 5).\n",
    "1. Écrire une fonction `sum_first_n_odd` qui prend en paramètre (ou argument) un entier `n` et qui renvoie la somme des 1 à `n` qui sont impairs. Par exemple, `sum_first_n_odd(5)` doit renvoyer 9 (1 + 3 + 5).\n",
    "1. Écrire une fonction `count_vowels` qui prend en argument une chaine de caractères et qui renvoie le nombre de voyelles dans cette chaine. Par exemple, `count_vowels(\"hello\")` doit renvoyer 2.\n",
    "1. Écrire une fonction `print_info` qui prend une chaine de caractères en paramètre et qui affiche le nombre de caractères, le nombre de lettres et le nombre de chiffres de cette chaine. Par exemple, `print_info(\"abc123\")` doit afficher `6 caractères, 3 lettres, 3 chiffres`.\n",
    "    - ⚠️ Attention ! cette fonction doit juste afficher sans rien renvoyer. Donc pas de `return` dans cette fonction et il faut faire un `print` à sa fin."
   ]
  },
  {
   "cell_type": "markdown",
   "metadata": {},
   "source": [
    "## Série 2\n",
    "\n",
    "Répondre sans exécuter le code.\n",
    "\n",
    "1. Que va afficher le code suivant:\n",
    "    ```python\n",
    "    print(list(range(2, 5, 1)))\n",
    "    print(list(range(2)), 5, 1)\n",
    "    print(list(range(2, 5)), 1)\n",
    "    ```\n",
    "1. Quelle est la valeur de t suite à l'exécution du code suivant:\n",
    "    ```python\n",
    "    t = 0\n",
    "    for i in range(1, 5):\n",
    "        t += i\n",
    "    ```\n",
    "1. Quelle est la valeur de u (`str(x)` convertit x en chaine de caractères):\n",
    "    ```python\n",
    "    u = len(str(3541354198 % 7))\n",
    "    ```\n",
    "1. Que va afficher le code suivant:\n",
    "    ```python\n",
    "    def ask_question(message):\n",
    "        if message[-1] == \"?\":\n",
    "            print(message)\n",
    "        else:\n",
    "            print(message, \"?\")\n",
    "    ```\n",
    "1. Que va afficher le code suivant:\n",
    "    ```python\n",
    "    def ask_question(message):\n",
    "        if message[-1] == \"?\":\n",
    "            print(message)\n",
    "        else :\n",
    "            print(message, \"?\")\n",
    "    ask_question(\"ça va ?\")\n",
    "    ask_question(\"tu vas bien\")\n",
    "    ```"
   ]
  },
  {
   "cell_type": "markdown",
   "metadata": {},
   "source": [
    "## Série 3\n",
    "\n",
    "Python permet de générer des nombres pseudo-aléatoires avec le paquêt `random`.\n",
    "\n",
    "```python\t\n",
    "import random\n",
    "# x est un entier alétoire entre 1 et 6\n",
    "x = random.randint(1, 6)\n",
    "```\n",
    "\n",
    "1. Générer un entier aléatoir entre 1 et 100 et afficher s'il est pair ou impair.\n",
    "1. Définir une fonction `roll_two_dices` qui simule le lancer de deux dés et qui renvoie la somme des deux dés. Par exemple, `roll_two_dices()` peut renvoyer 7.\n",
    "1. Définir une fonction `roll_dices(n)` qui simule le lancer de `n` dés et qui renvoie la somme des `n` dés. Par exemple, `roll_dices(3)` peut renvoyer 10.\n",
    "1. Soit la liste suivante `names = [\"100Goku\", \"Végétal\", \"Pique à chou\", \"Tortue normale\"]`. \n",
    "    - Créer une fonction `get_random_name` qui renvoie un élément aléatoire de cette liste.\n",
    "    - Par exemple `get_random_name()` peut renvoyer `\"Végétal\"`.\n",
    "1. Soit les listes suivantes `names = [\"100Goku\", \"Végétal\", \"Pique à chou\", \"Tortue normale\"]` et `adjectives = [\"super\", \"méchant\", \"gentil\", \"marrant\"]`.\n",
    "    - Définir une fonction `get_random_character()`"
   ]
  }
 ],
 "metadata": {
  "kernelspec": {
   "display_name": "Python 3",
   "language": "python",
   "name": "python3"
  },
  "language_info": {
   "codemirror_mode": {
    "name": "ipython",
    "version": 3
   },
   "file_extension": ".py",
   "mimetype": "text/x-python",
   "name": "python",
   "nbconvert_exporter": "python",
   "pygments_lexer": "ipython3",
   "version": "3.12.8"
  }
 },
 "nbformat": 4,
 "nbformat_minor": 2
}
