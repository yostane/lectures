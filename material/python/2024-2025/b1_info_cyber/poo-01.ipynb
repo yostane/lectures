{
 "cells": [
  {
   "cell_type": "markdown",
   "metadata": {},
   "source": [
    "# Intro à la POO\n",
    "\n",
    "## Motivation\n",
    "\n",
    "Regardons le code suivant :"
   ]
  },
  {
   "cell_type": "code",
   "execution_count": null,
   "metadata": {},
   "outputs": [],
   "source": [
    "p1 = {\"name\": \"pique à chou\", \"level\": 1}\n",
    "p2 = {\"name\": \"bulle étrange\", \"level\": 22}\n",
    "\n",
    "def level_up(p):\n",
    "    p[\"level\"] += 1\n",
    "\n",
    "level_up(p1)\n",
    "level_up({\"level\": 6, \"address\": \"address\"})"
   ]
  },
  {
   "cell_type": "markdown",
   "metadata": {},
   "source": [
    "- p1 et p2 on les mêmes champs `name` et `level` mais on ne peut pas forcer cela avec les dictionnaires\n",
    "- `level_up` fonctionne sur le pokemons et sur n'importe quel objet qui a un champ `level` et on ne peut frocer que ça ne fonctionne que sur les dictionnaires qui ont un champ `level` et `name`\n",
    "\n",
    "On peut résoudre cela avec la POO (Programmation Orientée Objet). Voici l'équivalent de l'exemple plus haut avec de la POO: "
   ]
  },
  {
   "cell_type": "code",
   "execution_count": null,
   "metadata": {},
   "outputs": [],
   "source": [
    "class Pikamon:\n",
    "    def __init__(self, name, level):\n",
    "        self.name = name\n",
    "        self.level = level\n",
    "    \n",
    "    def level_up(self):\n",
    "        self.level += 1\n",
    "\n"
   ]
  }
 ],
 "metadata": {
  "kernelspec": {
   "display_name": "Python 3",
   "language": "python",
   "name": "python3"
  },
  "language_info": {
   "name": "python",
   "version": "3.12.9"
  }
 },
 "nbformat": 4,
 "nbformat_minor": 2
}
