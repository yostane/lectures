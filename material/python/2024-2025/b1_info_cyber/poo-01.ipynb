{
 "cells": [
  {
   "cell_type": "markdown",
   "metadata": {},
   "source": [
    "# Intro à la POO\n",
    "\n",
    "## Motivation\n",
    "\n",
    "Regardons le code suivant :"
   ]
  },
  {
   "cell_type": "code",
   "execution_count": null,
   "metadata": {},
   "outputs": [],
   "source": [
    "p1 = {\"name\": \"pique à chou\", \"level\": 1}\n",
    "p2 = {\"name\": \"bulle étrange\", \"level\": 22}\n",
    "\n",
    "def level_up(p):\n",
    "    p[\"level\"] += 1\n",
    "\n",
    "level_up(p1)\n",
    "level_up({\"level\": 6, \"address\": \"address\"})"
   ]
  },
  {
   "cell_type": "markdown",
   "metadata": {},
   "source": [
    "- p1 et p2 on les mêmes champs `name` et `level` mais on ne peut pas forcer cela avec les dictionnaires\n",
    "- `level_up` fonctionne sur le pokemons et sur n'importe quel objet qui a un champ `level` et on ne peut frocer que ça ne fonctionne que sur les dictionnaires qui ont un champ `level` et `name`\n",
    "\n",
    "On peut résoudre cela avec la POO (Programmation Orientée Objet). Voici l'équivalent de l'exemple plus haut avec de la POO: "
   ]
  },
  {
   "cell_type": "code",
   "execution_count": null,
   "metadata": {},
   "outputs": [
    {
     "name": "stdout",
     "output_type": "stream",
     "text": [
      "racaille où 5\n",
      "Cercle Doudou 8\n"
     ]
    }
   ],
   "source": [
    "# Ce code définit un classe Pikamon qui a deux propriétés et une méthode\n",
    "class Pikamon:\n",
    "    # les arguments name et level sont les valeurs initiales des propriétés\n",
    "    def __init__(self, name, level):\n",
    "        # Création de la propriété name en écrivant \"self.name = ...\"\n",
    "        self.name = name\n",
    "        # Création de la propriété level en écrivant \"self.level = ...\"\n",
    "        self.level = level\n",
    "    \n",
    "    # Définition de la méthode level_up\n",
    "    def level_up(self):\n",
    "        self.level += 1\n",
    "\n",
    "# Instancier des objets de type Pikamon\n",
    "pikamon1 = Pikamon(\"racaille où\", 5)\n",
    "# (\"Cercle Doudou\", 8) vient de l'init (name, level)\n",
    "pikamon2 = Pikamon(\"Cercle Doudou\", 8)\n",
    "print(pikamon1.name, pikamon1.level)\n",
    "print(pikamon2.name, pikamon2.level)"
   ]
  },
  {
   "cell_type": "markdown",
   "metadata": {},
   "source": [
    "- pikamon1 et pikamon2 sont des instances de la classe Pikamon\n",
    "    - On dit aussi que pikamon1 et pikamon2 sont des objets (de la classe Pikamon)\n",
    "    - On dit aussi que pikamon1 et pikamon2 sont de type Pikamon\n",
    "- `level_up` est une méthode de la classe Pikamon\n"
   ]
  }
 ],
 "metadata": {
  "kernelspec": {
   "display_name": "Python 3",
   "language": "python",
   "name": "python3"
  },
  "language_info": {
   "codemirror_mode": {
    "name": "ipython",
    "version": 3
   },
   "file_extension": ".py",
   "mimetype": "text/x-python",
   "name": "python",
   "nbconvert_exporter": "python",
   "pygments_lexer": "ipython3",
   "version": "3.12.9"
  }
 },
 "nbformat": 4,
 "nbformat_minor": 2
}
