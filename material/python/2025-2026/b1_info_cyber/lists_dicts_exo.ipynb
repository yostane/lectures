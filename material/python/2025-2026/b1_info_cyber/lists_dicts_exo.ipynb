{
 "cells": [
  {
   "cell_type": "markdown",
   "metadata": {},
   "source": [
    "# Exercices sur les listes et les dictionnaires\n",
    "\n",
    "## Série 1\n",
    "\n",
    "1. Créez une liste `numbers` contenant 10 éléments (donnez les valeurs que vous voulez) et effectuer les traitements suivantes:\n",
    "  - Echanger le 2ème élément avec le dernier élement.\n",
    "  - Afficher le nombre d'éléments pairs et impairs.\n",
    "  - Afficher la somme de tous les éléments.\n",
    "  - Afficher le plus grand élément sans utiliser la fonction `max()`.\n",
    "1. Créez une liste `numbers` contenant 10 éléments (donnez les valeurs que vous voulez). Ensuite: \n",
    "  - Demander à l'utilisateur de saisir un nombre (avec `input`) et afficher si ce nombre existe dans la liste.\n",
    "  - Afficher le nombre d'occurences de ce nombre dans la liste.\n",
    "1. Les chaînes de caractères sont des listes de caractères (par exemple `\"Hello\"` est equivalent à `[\"H\", \"e\", \"l\", \"l\", \"o\"]` et si on a `s = \"Hello\"` alors `s[1]` vaut `e`). Utiliser Python pour afficher les informations suivante sur la string `\"J'aime le langage Python\"`:\n",
    "  - Le nombre de caractères.\n",
    "  - Le nombre de fois qu'on trouve la lettre `'l'`.\n",
    "  - Le nombre de voyelles.\n",
    "  - Le nombre de consonnes.\n",
    "  - Refaire le même exercice avec la string `\"Le développement c'est la VIE !\"`.\n",
    "\n",
    "## Série 2\n",
    "\n",
    "1. Créer quelues dictionnaires\n",
    "  - Un dictionnaire qui contient les informations suivantes sur une voiture 4 portes avec les champs suivants: marque, modèle, année, couleur, nombre de portes, est neuf (booléen). Vous pouvez donner les valeurs que vous voulez.\n",
    "  - Un dictionnaire qui contient les informations suivantes sur un outil de bricolage avec les champs suivants: nom, type, prix, quantité en stock. Vous pouvez donner les valeurs que vous voulez.\n",
    "1. Créer un dictionnaire qui contient les informations suivantes sur un livre avec les champs suivants: ISBN, titre, auteur, année de publication, nombre de pages, prix. Vous pouvez donner les valeurs que vous voulez.\n",
    "1. Créer un dictionnaire contenant les informations d'un objet de votre choix en y mettant au moins 4 champs comprenant des au moins une valeur de type entier et une valeur de type booléen."
   ]
  }
 ],
 "metadata": {
  "language_info": {
   "name": "python"
  }
 },
 "nbformat": 4,
 "nbformat_minor": 2
}
