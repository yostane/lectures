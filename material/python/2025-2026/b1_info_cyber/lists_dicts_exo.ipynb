{
 "cells": [
  {
   "cell_type": "markdown",
   "metadata": {},
   "source": [
    "# Exercices sur les listes et les dictionnaires\n",
    "\n",
    "## Série 1\n",
    "\n",
    "1. Créez une liste `numbers` contenant 10 éléments (donnez les valeurs que vous voulez) et effectuer les traitements suivantes:\n",
    "    - Echanger le 2ème élément avec le dernier élement.\n",
    "    - Afficher le nombre d'éléments pairs et impairs.\n",
    "    - Afficher la somme de tous les éléments.\n",
    "    - Afficher le plus grand élément sans utiliser la fonction `max()`.\n",
    "1. Créez une liste `numbers` contenant 10 éléments (donnez les valeurs que vous voulez). Ensuite: \n",
    "    - Demander à l'utilisateur de saisir un nombre (avec `input`) et afficher si ce nombre existe dans la liste.\n",
    "    - Afficher le nombre d'occurences de ce nombre dans la liste.\n",
    "1. Les chaînes de caractères sont des listes de caractères (par exemple `\"Hello\"` est equivalent à `[\"H\", \"e\", \"l\", \"l\", \"o\"]` et si on a `s = \"Hello\"` alors `s[1]` vaut `e`). Utiliser Python pour afficher les informations suivante sur la string `\"J'aime le langage Python\"`:\n",
    "    - Le nombre de caractères.\n",
    "    - Le nombre de fois qu'on trouve la lettre `'l'`.\n",
    "    - Le nombre de voyelles.\n",
    "    - Le nombre de consonnes.\n",
    "    - Refaire le même exercice avec la string `\"Le développement c'est la VIE !\"`."
   ]
  },
  {
   "cell_type": "code",
   "execution_count": 7,
   "metadata": {},
   "outputs": [
    {
     "name": "stdout",
     "output_type": "stream",
     "text": [
      "Q1\n",
      "après inversion technique 1 : 11 -44\n",
      "après inversion Technique 2 : -44 11\n",
      "Nombre de pairs 7 . Nombre d'impairs 3\n",
      "Somme 11 ou bien 11 . Max 97 Ou bien 97\n",
      "Q2\n",
      "11 apparaît 1 fois dans [5, 4, -44, 58, 97, -146, 4, 22, 0, 11]\n",
      "Autre façon de calculer le nombre d'occurences 1\n"
     ]
    }
   ],
   "source": [
    "numbers = [5, 4, -44, 58, 97, -146, 4, 22, 0, 11]\n",
    "print(\"Q1\")\n",
    "temp = numbers[2]\n",
    "numbers[2] = numbers[-1]\n",
    "numbers[-1] = temp \n",
    "print(\"après inversion technique 1 :\", numbers[2], numbers[-1])\n",
    "numbers[2], numbers[-1] = numbers[-1], numbers[2]\n",
    "print(\"après inversion Technique 2 :\", numbers[2], numbers[-1])\n",
    "count_even = 0\n",
    "numbers_sum = 0\n",
    "numbers_max = numbers[0]\n",
    "for n in numbers:\n",
    "    numbers_sum += n\n",
    "    if n % 2 == 0:\n",
    "        count_even += 1\n",
    "    if numbers_max < n:\n",
    "        numbers_max = n\n",
    "print(\"Nombre de pairs\", count_even, \". Nombre d'impairs\", len(numbers) - count_even)\n",
    "print(\"Somme\", numbers_sum, \"ou bien\", sum(numbers) , \". Max\", numbers_max, \"Ou bien\", max(numbers))\n",
    "\n",
    "print(\"Q2\")\n",
    "user_input = int(input(\"Veuillez saisir un nombre : \"))\n",
    "count = 0\n",
    "for n in numbers:\n",
    "    if n == user_input:\n",
    "        count += 1\n",
    "if count == 0:\n",
    "    print(user_input, \"n'est pas présent dans le tableau\", numbers)\n",
    "else:\n",
    "    print(user_input, \"apparaît\", count, \"fois dans\", numbers)\n",
    "print(\"Autre façon de calculer le nombre d'occurences\", numbers.count(user_input))\n"
   ]
  },
  {
   "cell_type": "markdown",
   "metadata": {},
   "source": [
    "## Série 2\n",
    "\n",
    "1. Créer quelues dictionnaires\n",
    "    - un dictionnaire qui contient les informations suivantes sur une voiture 4 portes avec les champs suivants: marque, modèle, année, couleur, nombre de portes, est neuf (booléen). Vous pouvez donner les valeurs que vous voulez.\n",
    "    - Un dictionnaire qui contient les informations suivantes sur un outil de bricolage avec les champs suivants: nom, type, prix, quantité en stock. Vous pouvez donner les valeurs que vous voulez.\n",
    "    - Un dictionnaire qui contient les informations suivantes sur un livre avec les champs suivants: ISBN, titre, auteur, année de publication, nombre de pages, prix. Vous pouvez donner les valeurs que vous voulez.\n",
    "    - Un dictionnaire contenant les informations d'un objet de votre choix en y mettant au moins 4 champs comprenant des au moins une valeur de type entier et une valeur de type booléen."
   ]
  }
 ],
 "metadata": {
  "kernelspec": {
   "display_name": "Python 3",
   "language": "python",
   "name": "python3"
  },
  "language_info": {
   "codemirror_mode": {
    "name": "ipython",
    "version": 3
   },
   "file_extension": ".py",
   "mimetype": "text/x-python",
   "name": "python",
   "nbconvert_exporter": "python",
   "pygments_lexer": "ipython3",
   "version": "3.12.8"
  }
 },
 "nbformat": 4,
 "nbformat_minor": 2
}
