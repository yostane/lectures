{
 "cells": [
  {
   "cell_type": "markdown",
   "metadata": {},
   "source": [
    "# Listes et dictionnaires\n",
    "\n",
    "## Listes"
   ]
  },
  {
   "cell_type": "code",
   "execution_count": 7,
   "metadata": {},
   "outputs": [
    {
     "name": "stdout",
     "output_type": "stream",
     "text": [
      "[10, -1, 6]\n",
      "10 -1 6\n",
      "-1\n",
      "6 -1 10\n",
      "len before appends 3\n",
      "after two appends [10, -1, 6, -55, 2] len 5\n",
      "after a single pop [10, -1, 6, -55] len 4\n"
     ]
    }
   ],
   "source": [
    "l = [10, -1, 6]\n",
    "print(l)\n",
    "# On peut récupérer des éléments individuels via leur indice (le premier éléments a l'indice 0)\n",
    "print(l[0], l[1], l[2])\n",
    "# assigner le deuxième élement de l à la variable x\n",
    "x = l[1]\n",
    "print(x)\n",
    "# l'indexation négative permet d'indexer à partir du dernier élément (-1) en allant jusqu'au premier\n",
    "print(l[-1], l[-2], l[-3])\n",
    "print(\"len before appends\", len(l)) # len(liste) renvoie le nombde de ses éléments\n",
    "l.append(-55) # append permet de rajouter des élements à une liste\n",
    "l.append(2)\n",
    "print(\"after two appends\", l, \"len\", len(l))\n",
    "l.pop() # permet d'enlever le dernier élément de la liste\n",
    "print(\"after a single pop\", l, \"len\", len(l))"
   ]
  },
  {
   "cell_type": "markdown",
   "metadata": {},
   "source": [
    "### Parcourir une liste"
   ]
  },
  {
   "cell_type": "code",
   "execution_count": 12,
   "metadata": {},
   "outputs": [
    {
     "name": "stdout",
     "output_type": "stream",
     "text": [
      "l + 5 for each element [-5, 261, 36]\n",
      "-10\n",
      "256\n",
      "31\n",
      "l + 5 of each element done with a for loop [-5, 261, 36]\n"
     ]
    }
   ],
   "source": [
    "l = [-10, 256, 31]\n",
    "# Je souhaite créer une nouvelle liste qui fait un +5 de chaque élément de l\n",
    "values = [] # on crée une liste vide\n",
    "values.append(l[0] + 5)\n",
    "values.append(l[1] + 5)\n",
    "values.append(l[2] + 5)\n",
    "print(\"l + 5 for each element\", values)\n",
    "\n",
    "# for permet de parcourir les éléments d'une liste\n",
    "for item in l:\n",
    "  print(item)\n",
    "\n",
    "# on refait une nouvelle liste qui fait un +5 de chaque élément de l\n",
    "values2 = []\n",
    "for item in l:\n",
    "  values2.append(item + 5)\n",
    "print(\"l + 5 of each element done with a for loop\", values2)"
   ]
  },
  {
   "cell_type": "markdown",
   "metadata": {},
   "source": [
    "### Tester l'existance d'un élément"
   ]
  },
  {
   "cell_type": "code",
   "execution_count": 14,
   "metadata": {},
   "outputs": [
    {
     "name": "stdout",
     "output_type": "stream",
     "text": [
      "False True\n",
      "The universal number is in l\n"
     ]
    }
   ],
   "source": [
    "l = [-10, 256, 31, 62, 24, 42]\n",
    "# in est un opérateur binaire qui renvoie un booléen si le premier opérande existe dans le deuxième opérande\n",
    "print(1 in l, 256 in l)\n",
    "if 42 in l:\n",
    "  print(\"The universal reply 42 is in l\")\n"
   ]
  }
 ],
 "metadata": {
  "kernelspec": {
   "display_name": "Python 3",
   "language": "python",
   "name": "python3"
  },
  "language_info": {
   "codemirror_mode": {
    "name": "ipython",
    "version": 3
   },
   "file_extension": ".py",
   "mimetype": "text/x-python",
   "name": "python",
   "nbconvert_exporter": "python",
   "pygments_lexer": "ipython3",
   "version": "3.12.8"
  }
 },
 "nbformat": 4,
 "nbformat_minor": 2
}
