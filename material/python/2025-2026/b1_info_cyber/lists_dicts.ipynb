{
 "cells": [
  {
   "cell_type": "markdown",
   "metadata": {},
   "source": [
    "# Listes et dictionnaires\n",
    "\n",
    "## Listes"
   ]
  },
  {
   "cell_type": "code",
   "execution_count": 5,
   "metadata": {},
   "outputs": [
    {
     "name": "stdout",
     "output_type": "stream",
     "text": [
      "[10, -1, 6]\n",
      "10 -1 6\n",
      "-1\n",
      "6 -1 10\n",
      "after append [10, -1, 6, -55, 2]\n",
      "after pop [10, -1, 6, -55]\n"
     ]
    }
   ],
   "source": [
    "l = [10, -1, 6]\n",
    "print(l)\n",
    "# On peut récupérer des éléments individuels via leur indice (le premier éléments a l'indice 0)\n",
    "print(l[0], l[1], l[2])\n",
    "# assigner le deuxième élement de l à la variable x\n",
    "x = l[1]\n",
    "print(x)\n",
    "# l'indexation négative permet d'indexer à partir du dernier élément (-1) en allant jusqu'au premier\n",
    "print(l[-1], l[-2], l[-3])\n",
    "l.append(-55) # append permet de rajouter des élements à une liste\n",
    "l.append(2)\n",
    "print(\"after two appends\", l)\n",
    "l.pop() # permet d'enlever le dernier éléments de la liste\n",
    "print(\"after a single pop\", l)"
   ]
  }
 ],
 "metadata": {
  "kernelspec": {
   "display_name": "Python 3",
   "language": "python",
   "name": "python3"
  },
  "language_info": {
   "codemirror_mode": {
    "name": "ipython",
    "version": 3
   },
   "file_extension": ".py",
   "mimetype": "text/x-python",
   "name": "python",
   "nbconvert_exporter": "python",
   "pygments_lexer": "ipython3",
   "version": "3.12.8"
  }
 },
 "nbformat": 4,
 "nbformat_minor": 2
}
