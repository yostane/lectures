{
 "cells": [
  {
   "cell_type": "markdown",
   "id": "24ddf921",
   "metadata": {},
   "source": [
    "# Extra information\n",
    "\n",
    "## Snake case and others\n",
    "\n",
    "- In Python, identifiers (variable name, function name, class name, etc.) for variables and functions that contain multiple words are seperated with an underscore `_`. This technique is called snake case and it is a recommendation.\n",
    "- We usually give longer names for identifiers for the sake of clarity.\n",
    "- **Snake case**: seperate multiple words in an identifier with an underscrore.\n",
    "  - Example: `even_count`, `random_integer`, `player_guess`, `player_first_guess`, etc.\n",
    "- **Camel case**: seperate multiple words in an identifier with a captial letter\n",
    "  - Example: `evenCount`, `randomInteger`, `playerGuess`, `playerFirstGuess`, etc.\n",
    "- **Kebab case**: separate words with `-` (dash, tiret in french). This is usually not used in programming, but for file names and URLs (web site address).\n",
    "  - Example: `junia-learning.com`"
   ]
  },
  {
   "cell_type": "markdown",
   "id": "234900d2",
   "metadata": {},
   "source": [
    "## Data types\n",
    "\n",
    "Some data types in Python (this list is not exhaustive):\n",
    "\n",
    "- Integer, or int\n",
    "- String: text surrounded by double quotes or signle quotes. `\"Hello\"`, or `'Hello'`\n",
    "- Boolean: `True` or `False`. Comes from [**George Boole**](https://en.wikipedia.org/wiki/George_Boole) who defined an algera for a set that contains two values (true, false), or (1, 0), (5V, 0V)."
   ]
  },
  {
   "cell_type": "markdown",
   "id": "39235392",
   "metadata": {},
   "source": [
    "## Boolean algebra"
   ]
  },
  {
   "cell_type": "markdown",
   "id": "18d9f82a",
   "metadata": {},
   "source": [
    "### and operator\n",
    "\n",
    "It is a binary operator (takes two operands): operand1 and operand2.\n",
    "\n",
    "In other languages, it cas written `&&`"
   ]
  },
  {
   "cell_type": "code",
   "execution_count": 3,
   "id": "cc12a140",
   "metadata": {},
   "outputs": [
    {
     "name": "stdout",
     "output_type": "stream",
     "text": [
      "True and True -> True\n",
      "True and False -> False\n",
      "False and True -> False\n",
      "False and False -> False\n"
     ]
    }
   ],
   "source": [
    "print(\"True and True ->\", True and True)\n",
    "print(\"True and False ->\", True and False)\n",
    "print(\"False and True ->\", False and True)\n",
    "print(\"False and False ->\", False and False)"
   ]
  },
  {
   "cell_type": "markdown",
   "id": "fd2aa98a",
   "metadata": {},
   "source": [
    "## or operator\n",
    "\n",
    "Binary operator, written `||` in other languages"
   ]
  },
  {
   "cell_type": "code",
   "execution_count": 4,
   "id": "076c61d9",
   "metadata": {},
   "outputs": [
    {
     "name": "stdout",
     "output_type": "stream",
     "text": [
      "True or True -> True\n",
      "True or False -> True\n",
      "False or True -> True\n",
      "False or False -> False\n"
     ]
    }
   ],
   "source": [
    "print(\"True or True ->\", True or True)\n",
    "print(\"True or False ->\", True or False)\n",
    "print(\"False or True ->\", False or True)\n",
    "print(\"False or False ->\", False or False)"
   ]
  }
 ],
 "metadata": {
  "kernelspec": {
   "display_name": "3.12.1",
   "language": "python",
   "name": "python3"
  },
  "language_info": {
   "codemirror_mode": {
    "name": "ipython",
    "version": 3
   },
   "file_extension": ".py",
   "mimetype": "text/x-python",
   "name": "python",
   "nbconvert_exporter": "python",
   "pygments_lexer": "ipython3",
   "version": "3.12.1"
  }
 },
 "nbformat": 4,
 "nbformat_minor": 5
}
