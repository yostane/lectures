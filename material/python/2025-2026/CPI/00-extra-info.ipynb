{
 "cells": [
  {
   "cell_type": "markdown",
   "id": "24ddf921",
   "metadata": {},
   "source": [
    "# Extra information\n",
    "\n",
    "## Snake case and others\n",
    "\n",
    "- In Python, identifiers (variable name, function name, class name, etc.) for variables and functions that contain multiple words are seperated with an underscore `_`. This technique is called snake case and it is a recommendation.\n",
    "- We usually give longer names for identifiers for the sake of clarity.\n",
    "- **Snake case**: seperate multiple words in an identifier with an underscrore.\n",
    "  - Example: `even_count`, `random_integer`, `player_guess`, `player_first_guess`, etc.\n",
    "- **Camel case**: seperate multiple words in an identifier with a captial letter\n",
    "  - Example: `evenCount`, `randomInteger`, `playerGuess`, `playerFirstGuess`, etc.\n",
    "- **Kebab case**: separate words with `-` (dash, tiret in french). This is usually not used in programming, but for file names and URLs (web site address).\n",
    "  - Example: `junia-learning.com`"
   ]
  }
 ],
 "metadata": {
  "language_info": {
   "name": "python"
  }
 },
 "nbformat": 4,
 "nbformat_minor": 5
}
