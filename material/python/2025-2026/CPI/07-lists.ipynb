{
 "cells": [
  {
   "cell_type": "markdown",
   "id": "728aa914",
   "metadata": {},
   "source": [
    "# Lists\n",
    "\n",
    "A list holds a collection of data"
   ]
  },
  {
   "cell_type": "code",
   "execution_count": 1,
   "id": "e13f6f51",
   "metadata": {},
   "outputs": [
    {
     "name": "stdout",
     "output_type": "stream",
     "text": [
      "[3, -4, 10, 11]\n",
      "['I', 'love', 'programming']\n",
      "[False, 1, 'Python', True]\n"
     ]
    }
   ],
   "source": [
    "numbers = [3, -4, 10, 11]\n",
    "print(numbers)\n",
    "\n",
    "words = [\"I\", \"love\", \"programming\"]\n",
    "print(words)\n",
    "\n",
    "mixed_items = [False, 1, \"Python\", True]\n",
    "print(mixed_items)"
   ]
  },
  {
   "cell_type": "markdown",
   "id": "7dceae1f",
   "metadata": {},
   "source": [
    "`len(list)` retuns the numbers of elements in the list."
   ]
  },
  {
   "cell_type": "code",
   "execution_count": 6,
   "id": "186e7d59",
   "metadata": {},
   "outputs": [
    {
     "name": "stdout",
     "output_type": "stream",
     "text": [
      "4\n",
      "3\n"
     ]
    }
   ],
   "source": [
    "numbers = [3, -4, 10, 11]\n",
    "print(len(numbers))\n",
    "\n",
    "words = [\"I\", \"love\", \"Python\"]\n",
    "print(len(words))"
   ]
  },
  {
   "cell_type": "markdown",
   "id": "aece06d4",
   "metadata": {},
   "source": [
    "There are many ways to access elements of a list.\n",
    "\n",
    "- `numbers[index_of_element]` the index starts at 0 from first to last and at -1 from last to first\n",
    "- `for n in list:` for loop that iterates over each item of the list\n",
    "- `for i in range(len(list))`: for loop that iterates overs the indices of the list. For example, if list contains 7 items, then `len(list)` is 7. Thus, `range(7)` will go from 0 to 6"
   ]
  },
  {
   "cell_type": "code",
   "execution_count": 3,
   "id": "7d38d64c",
   "metadata": {},
   "outputs": [
    {
     "name": "stdout",
     "output_type": "stream",
     "text": [
      "First item 3\n",
      "Second item -4\n",
      "Last item 11 11\n"
     ]
    }
   ],
   "source": [
    "numbers = [3, -4, 10, 11]\n",
    "print(\"First item\", numbers[0])\n",
    "print(\"Second item\", numbers[1])\n",
    "print(\"Last item\", numbers[3], numbers[-1])"
   ]
  },
  {
   "cell_type": "code",
   "execution_count": 4,
   "id": "8123496a",
   "metadata": {},
   "outputs": [
    {
     "name": "stdout",
     "output_type": "stream",
     "text": [
      "False\n",
      "1\n",
      "Python\n",
      "True\n"
     ]
    }
   ],
   "source": [
    "mixed_items = [False, 1, \"Python\", True]\n",
    "for m in mixed_items:\n",
    "  print(m)"
   ]
  },
  {
   "cell_type": "code",
   "execution_count": 7,
   "id": "66b8c2fb",
   "metadata": {},
   "outputs": [
    {
     "name": "stdout",
     "output_type": "stream",
     "text": [
      "The value of the item at index 0 is 3\n",
      "The value of the item at index 1 is -4\n",
      "The value of the item at index 2 is 10\n",
      "The value of the item at index 3 is 11\n"
     ]
    }
   ],
   "source": [
    "numbers = [3, -4, 10, 11]\n",
    "\n",
    "for i in range(len(numbers)):\n",
    "  print(\"The value of the item at index\", i, \"is\", numbers[i])"
   ]
  },
  {
   "cell_type": "markdown",
   "id": "d141f7c4",
   "metadata": {},
   "source": [
    "An empty list is defined like this: `[]`.\n",
    "\n",
    "We can add items to any list (empty or not) with `append`"
   ]
  },
  {
   "cell_type": "code",
   "execution_count": 10,
   "id": "9d959e9d",
   "metadata": {},
   "outputs": [
    {
     "name": "stdout",
     "output_type": "stream",
     "text": [
      "[]\n",
      "[2025]\n",
      "[2025, 'Python']\n"
     ]
    }
   ],
   "source": [
    "items = []\n",
    "print(items)\n",
    "items.append(2025)\n",
    "print(items)\n",
    "items.append(\"Python\")\n",
    "print(items)"
   ]
  },
  {
   "cell_type": "markdown",
   "id": "d6f3ac42",
   "metadata": {},
   "source": [
    "`len` and `[]` works also on strings. We can imagine a string as a list of characters."
   ]
  },
  {
   "cell_type": "code",
   "execution_count": 11,
   "id": "82ad4a7f",
   "metadata": {},
   "outputs": [
    {
     "name": "stdout",
     "output_type": "stream",
     "text": [
      "I g d\n",
      "number of characters 28\n"
     ]
    }
   ],
   "source": [
    "message = \"I'm waiting for the week-end\"\n",
    "print(message[0], message[10], message[-1])\n",
    "print(\"number of characters\", len(message))"
   ]
  },
  {
   "cell_type": "markdown",
   "id": "ecf26a7c",
   "metadata": {},
   "source": [
    "## Exercises\n",
    "\n",
    "- Generate a list of 5 random integers between 1 and 10 and print:\n",
    "  - the content of the list,\n",
    "  - it's sum,\n",
    "  - the max and min values\n",
    "  - ⚠️ do not use the `sum`, `max` and `min` functions"
   ]
  },
  {
   "cell_type": "markdown",
   "id": "469eef00",
   "metadata": {},
   "source": [
    "- "
   ]
  }
 ],
 "metadata": {
  "kernelspec": {
   "display_name": "3.12.1",
   "language": "python",
   "name": "python3"
  },
  "language_info": {
   "codemirror_mode": {
    "name": "ipython",
    "version": 3
   },
   "file_extension": ".py",
   "mimetype": "text/x-python",
   "name": "python",
   "nbconvert_exporter": "python",
   "pygments_lexer": "ipython3",
   "version": "3.12.1"
  }
 },
 "nbformat": 4,
 "nbformat_minor": 5
}
