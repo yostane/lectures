{
 "cells": [
  {
   "cell_type": "markdown",
   "id": "728aa914",
   "metadata": {},
   "source": [
    "# Lists\n",
    "\n",
    "A list holds a collection of data"
   ]
  },
  {
   "cell_type": "code",
   "execution_count": 1,
   "id": "e13f6f51",
   "metadata": {},
   "outputs": [
    {
     "name": "stdout",
     "output_type": "stream",
     "text": [
      "[3, -4, 10, 11]\n",
      "['I', 'love', 'programming']\n",
      "[False, 1, 'Python', True]\n"
     ]
    }
   ],
   "source": [
    "numbers = [3, -4, 10, 11]\n",
    "print(numbers)\n",
    "\n",
    "words = [\"I\", \"love\", \"programming\"]\n",
    "print(words)\n",
    "\n",
    "mixed_items = [False, 1, \"Python\", True]\n",
    "print(mixed_items)"
   ]
  },
  {
   "cell_type": "markdown",
   "id": "aece06d4",
   "metadata": {},
   "source": [
    "There are many ways to access elements of a list"
   ]
  }
 ],
 "metadata": {
  "kernelspec": {
   "display_name": "3.12.1",
   "language": "python",
   "name": "python3"
  },
  "language_info": {
   "codemirror_mode": {
    "name": "ipython",
    "version": 3
   },
   "file_extension": ".py",
   "mimetype": "text/x-python",
   "name": "python",
   "nbconvert_exporter": "python",
   "pygments_lexer": "ipython3",
   "version": "3.12.1"
  }
 },
 "nbformat": 4,
 "nbformat_minor": 5
}
