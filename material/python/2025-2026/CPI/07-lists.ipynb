{
 "cells": [
  {
   "cell_type": "markdown",
   "id": "728aa914",
   "metadata": {},
   "source": [
    "# Lists\n",
    "\n",
    "A list holds a collection of data"
   ]
  },
  {
   "cell_type": "code",
   "execution_count": 1,
   "id": "e13f6f51",
   "metadata": {},
   "outputs": [
    {
     "name": "stdout",
     "output_type": "stream",
     "text": [
      "[3, -4, 10, 11]\n",
      "['I', 'love', 'programming']\n",
      "[False, 1, 'Python', True]\n"
     ]
    }
   ],
   "source": [
    "numbers = [3, -4, 10, 11]\n",
    "print(numbers)\n",
    "\n",
    "words = [\"I\", \"love\", \"programming\"]\n",
    "print(words)\n",
    "\n",
    "mixed_items = [False, 1, \"Python\", True]\n",
    "print(mixed_items)"
   ]
  },
  {
   "cell_type": "markdown",
   "id": "7dceae1f",
   "metadata": {},
   "source": [
    "`len(list)` retuns the numbers of elements in the list."
   ]
  },
  {
   "cell_type": "code",
   "execution_count": 6,
   "id": "186e7d59",
   "metadata": {},
   "outputs": [
    {
     "name": "stdout",
     "output_type": "stream",
     "text": [
      "4\n",
      "3\n"
     ]
    }
   ],
   "source": [
    "numbers = [3, -4, 10, 11]\n",
    "print(len(numbers))\n",
    "\n",
    "words = [\"I\", \"love\", \"Python\"]\n",
    "print(len(words))"
   ]
  },
  {
   "cell_type": "markdown",
   "id": "aece06d4",
   "metadata": {},
   "source": [
    "There are many ways to access elements of a list.\n",
    "\n",
    "- `numbers[index_of_element]` the index starts at 0 from first to last and at -1 from last to first\n",
    "- `for n in list:` for loop that iterates over each item of the list\n",
    "- `for i in range(len(list))`: for loop that iterates overs the indices of the list. For example, if list contains 7 items, then `len(list)` is 7. Thus, `range(7)` will go from 0 to 6"
   ]
  },
  {
   "cell_type": "code",
   "execution_count": 3,
   "id": "7d38d64c",
   "metadata": {},
   "outputs": [
    {
     "name": "stdout",
     "output_type": "stream",
     "text": [
      "First item 3\n",
      "Second item -4\n",
      "Last item 11 11\n"
     ]
    }
   ],
   "source": [
    "numbers = [3, -4, 10, 11]\n",
    "print(\"First item\", numbers[0])\n",
    "print(\"Second item\", numbers[1])\n",
    "print(\"Last item\", numbers[3], numbers[-1])"
   ]
  },
  {
   "cell_type": "code",
   "execution_count": 4,
   "id": "8123496a",
   "metadata": {},
   "outputs": [
    {
     "name": "stdout",
     "output_type": "stream",
     "text": [
      "False\n",
      "1\n",
      "Python\n",
      "True\n"
     ]
    }
   ],
   "source": [
    "mixed_items = [False, 1, \"Python\", True]\n",
    "for m in mixed_items:\n",
    "  print(m)"
   ]
  },
  {
   "cell_type": "code",
   "execution_count": 7,
   "id": "66b8c2fb",
   "metadata": {},
   "outputs": [
    {
     "name": "stdout",
     "output_type": "stream",
     "text": [
      "The value of the item at index 0 is 3\n",
      "The value of the item at index 1 is -4\n",
      "The value of the item at index 2 is 10\n",
      "The value of the item at index 3 is 11\n"
     ]
    }
   ],
   "source": [
    "numbers = [3, -4, 10, 11]\n",
    "\n",
    "for i in range(len(numbers)):\n",
    "  print(\"The value of the item at index\", i, \"is\", numbers[i])"
   ]
  },
  {
   "cell_type": "markdown",
   "id": "d141f7c4",
   "metadata": {},
   "source": [
    "An empty list is defined like this: `[]`.\n",
    "\n",
    "We can add items to any list (empty or not) with `append`"
   ]
  },
  {
   "cell_type": "code",
   "execution_count": 10,
   "id": "9d959e9d",
   "metadata": {},
   "outputs": [
    {
     "name": "stdout",
     "output_type": "stream",
     "text": [
      "[]\n",
      "[2025]\n",
      "[2025, 'Python']\n"
     ]
    }
   ],
   "source": [
    "items = []\n",
    "print(items)\n",
    "items.append(2025)\n",
    "print(items)\n",
    "items.append(\"Python\")\n",
    "print(items)"
   ]
  },
  {
   "cell_type": "markdown",
   "id": "d6f3ac42",
   "metadata": {},
   "source": [
    "`len` and `[]` works also on strings. We can imagine a string as a list of characters."
   ]
  },
  {
   "cell_type": "code",
   "execution_count": 11,
   "id": "82ad4a7f",
   "metadata": {},
   "outputs": [
    {
     "name": "stdout",
     "output_type": "stream",
     "text": [
      "I g d\n",
      "number of characters 28\n"
     ]
    }
   ],
   "source": [
    "message = \"I'm waiting for the week-end\"\n",
    "print(message[0], message[10], message[-1])\n",
    "print(\"number of characters\", len(message))"
   ]
  },
  {
   "cell_type": "markdown",
   "id": "ecf26a7c",
   "metadata": {},
   "source": [
    "## Exercises"
   ]
  },
  {
   "cell_type": "markdown",
   "id": "c6fdeb5a",
   "metadata": {},
   "source": [
    "- Suppose we have a list of strings (for example `[\"Raichu\", \"is\", \"the\", \"evolution\", \"of\", \"Pikachu\"]`). print only the elements that have at least 3 characters."
   ]
  },
  {
   "cell_type": "code",
   "execution_count": 14,
   "id": "b43ca827",
   "metadata": {},
   "outputs": [
    {
     "name": "stdout",
     "output_type": "stream",
     "text": [
      "Raichu\n",
      "the\n",
      "evolution\n",
      "Pikachu\n"
     ]
    }
   ],
   "source": [
    "words = [\"Raichu\", \"is\", \"the\", \"evolution\", \"of\", \"Pikachu\"]\n",
    "for w in words:\n",
    "  if len(w) >= 3:\n",
    "    print(w)"
   ]
  },
  {
   "cell_type": "markdown",
   "id": "469eef00",
   "metadata": {},
   "source": [
    "- Generate a list of 15 random integers between 1 and 10 and print:\n",
    "  - the content of the list,\n",
    "  - it's sum,\n",
    "  - the max and min values\n",
    "  - ⚠️ do not use the `sum`, `max` and `min` functions"
   ]
  },
  {
   "cell_type": "code",
   "execution_count": null,
   "id": "626591b1",
   "metadata": {},
   "outputs": [
    {
     "name": "stdout",
     "output_type": "stream",
     "text": [
      "[1, 8, 7, 10, 8, 5, 8, 2, 1, 2, 1, 9, 5, 4, 1]\n",
      "sum 72 min 1 max 10\n"
     ]
    }
   ],
   "source": [
    "import random\n",
    "random_integers = []\n",
    "for i in range(15):\n",
    "  x = random.randint(1, 10)\n",
    "  random_integers.append(x)\n",
    "\n",
    "print(random_integers)\n",
    "\n",
    "s = 0\n",
    "mi = random_integers[0]\n",
    "ma = random_integers[0]\n",
    "\n",
    "for i in random_integers:\n",
    "  s += i\n",
    "  if mi > i:\n",
    "    mi = i\n",
    "  if ma < i:\n",
    "    ma = i\n",
    "\n",
    "print(\"sum\", s, \"min\", mi, \"max\", ma)\n",
    "# Python provides utility functions. I don't allow them for the sake of learning.\n",
    "print(\"sum\", sum(random_integers), \"min\", min(random_integers), \"max\", max(random_integers))\n"
   ]
  },
  {
   "cell_type": "markdown",
   "id": "1fe31795",
   "metadata": {},
   "source": [
    "- Generate a list of 15 random integers between 1 and 10 and\n",
    "  - Create a new list that contains the even values of the original list.\n",
    "  - Create a new list that contains the prime numbers of the original list."
   ]
  },
  {
   "cell_type": "code",
   "execution_count": null,
   "id": "a398bc51",
   "metadata": {},
   "outputs": [
    {
     "name": "stdout",
     "output_type": "stream",
     "text": [
      "numbers: [4, 9, 2, 3, 3, 1, 7, 2, 8, 4, 7, 2, 3, 7, 4]\n",
      "even numbers: [4, 2, 2, 8, 4, 2, 4]\n",
      "Prime numbers [9, 3, 3, 7, 7, 7, 7, 7, 7, 7, 7, 7, 7, 3, 7, 7, 7, 7, 7]\n"
     ]
    }
   ],
   "source": [
    "import random\n",
    "random_integers = []\n",
    "for i in range(15):\n",
    "  x = random.randint(1, 10)\n",
    "  random_integers.append(x)\n",
    "\n",
    "even_numbers = []\n",
    "for i in random_integers:\n",
    "  if i % 2 == 0:\n",
    "    even_numbers.append(i)\n",
    "\n",
    "print(\"numbers:\", random_integers)\n",
    "print(\"even numbers:\", even_numbers)\n",
    "\n",
    "prime_numbers = []\n",
    "for random_integer in random_integers:\n",
    "  # Nested or inner for loop (Fr boucle imbriquée)\n",
    "  is_prime = True\n",
    "  for n in range(2, random_integer):\n",
    "    if random_integer % n == 0:\n",
    "      is_prime = False\n",
    "      # This breaks from the inner loop (because it's inside it)\n",
    "      break\n",
    "  if is_prime:\n",
    "    prime_numbers.append(random_integer)\n",
    "\n",
    "print(\"Prime numbers\", prime_numbers)"
   ]
  },
  {
   "cell_type": "markdown",
   "id": "0d453dd3",
   "metadata": {},
   "source": [
    "- Write a script that tells if a hard-coded string (a string that you define in code) is a palindrome (a word that be reveresed). ⚠️ Do not use the reverse function. For example: *madam* is a palindrome."
   ]
  },
  {
   "cell_type": "markdown",
   "id": "936f5783",
   "metadata": {},
   "source": [
    "- Generate a list of 20 random numbers between 0 and 5. Generate a new list that contains the count of each number in the original list, where each index represent a numbers. For example, if the original list contains: `[1, 1, 2, 4, 2, 1, 5, 0]`. Then the second list will contain `[1, 3, 2, 1, 1]` (Since we have one zero, so the value of index 0 is 1. Since we have three 1s, the value of index 1 is 3, an so on)."
   ]
  }
 ],
 "metadata": {
  "kernelspec": {
   "display_name": "3.12.1",
   "language": "python",
   "name": "python3"
  },
  "language_info": {
   "codemirror_mode": {
    "name": "ipython",
    "version": 3
   },
   "file_extension": ".py",
   "mimetype": "text/x-python",
   "name": "python",
   "nbconvert_exporter": "python",
   "pygments_lexer": "ipython3",
   "version": "3.12.1"
  }
 },
 "nbformat": 4,
 "nbformat_minor": 5
}
