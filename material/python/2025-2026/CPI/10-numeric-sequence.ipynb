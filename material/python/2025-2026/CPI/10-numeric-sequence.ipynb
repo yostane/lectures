{
 "cells": [
  {
   "cell_type": "markdown",
   "id": "65b87f47",
   "metadata": {},
   "source": [
    "# Numeric sequences\n",
    "\n",
    "A numeric sequence is a set of numbers where each term is derived from the previous ones."
   ]
  },
  {
   "cell_type": "markdown",
   "id": "7d8db856",
   "metadata": {},
   "source": [
    "## Example 1\n",
    "U(n + 2) = 2 U(n+1) + U(n) + 3. With U(0) = -10 and U(1) = 5."
   ]
  },
  {
   "cell_type": "code",
   "execution_count": 7,
   "id": "e0ef34fb",
   "metadata": {},
   "outputs": [
    {
     "name": "stdout",
     "output_type": "stream",
     "text": [
      "-10\n",
      "5\n",
      "3\n",
      "14\n"
     ]
    }
   ],
   "source": [
    "def compute_example1_U(n):\n",
    "  if n == 0:\n",
    "    return -10\n",
    "  if n == 1:\n",
    "    return 5\n",
    "  u_n = -10\n",
    "  u_np1 = 5\n",
    "  u_np2 = None\n",
    "  for i in range(2, n+1):\n",
    "    u_np2 = 2 * u_np1 + u_n + 3\n",
    "    u_n = u_np1\n",
    "    u_np1 = u_np2\n",
    "  return u_np2\n",
    "\n",
    "print(compute_example1_U(0))\n",
    "print(compute_example1_U(1))\n",
    "print(compute_example1_U(2))\n",
    "print(compute_example1_U(3))"
   ]
  },
  {
   "cell_type": "markdown",
   "id": "d33a4188",
   "metadata": {},
   "source": [
    "## Example 2\n",
    "\n",
    "U(n + 1) = 3 U(n) + 2. With U(0) = 1."
   ]
  },
  {
   "cell_type": "code",
   "execution_count": 8,
   "id": "51568983",
   "metadata": {},
   "outputs": [
    {
     "name": "stdout",
     "output_type": "stream",
     "text": [
      "[1, 5, 17, 53, 161, 485, 1457, 4373, 13121, 39365, 118097, 354293, 1062881, 3188645, 9565937, 28697813, 86093441, 258280325, 774840977, 2324522933, 6973568801, 20920706405, 62762119217, 188286357653, 564859072961, 1694577218885, 5083731656657, 15251194969973, 45753584909921, 137260754729765]\n"
     ]
    }
   ],
   "source": [
    "def compute_example2_U(n):\n",
    "  if n == 0:\n",
    "    return 1\n",
    "  u_n = 1\n",
    "  u_np1 = None\n",
    "  for i in range(1, n + 1):\n",
    "    u_np1 = 3 * u_n + 2\n",
    "    u_n = u_np1\n",
    "  return u_np1\n",
    "\n",
    "# print multiple terms with a for loop\n",
    "terms = []\n",
    "for n in range(30):\n",
    "  terms.append(compute_example2_U(n))\n",
    "print(terms)"
   ]
  },
  {
   "cell_type": "markdown",
   "id": "236a1748",
   "metadata": {},
   "source": [
    "## Exercices\n",
    "\n",
    "Write the a function that computes the n-th term of the following sequences (a function for each sequence):\n",
    "\n",
    "- U(n + 1) = -3 (U(n) * U(n)) + 9 U(n) - 2. With U(0) = 7."
   ]
  },
  {
   "cell_type": "code",
   "execution_count": 9,
   "id": "f062dbd4",
   "metadata": {},
   "outputs": [
    {
     "name": "stdout",
     "output_type": "stream",
     "text": [
      "[7, -86, -22964, -1582242566, -7510474627226976164, -169221687378660559778683571150115250166, -85907938437843379786830541890960180100586088629392159234527253853553326334164, -22140521659920864121745424125114243304241134609219125603994265766914603924194082430870614912166810797706659199169616036203007720533211262584272091717744166, -1470608098120274809040547426549552092276819505733451202203071974247512943683799323529386344076769690481233203755861673537966301627243764253477244301710154648670695523621171640902629012175036733574439602125827308730491295632278067564662616487471907773420055836653237156461631206148923555570467835145524940804164, -6488064534770795461005994024090209477957869859900067617437889573288201066741386966353070874891446998733999069230252875737897888094480471862380098808860690993719943743969817571044347996097778928984874485805928058620307426868142883574616815607521736637326455043001587010405209108108686806177121001284929492121456742328232402610861060923812741257137267377594228323869595267608942363716078665839799908049240005936888449092226001475897152546135755553920089911444206264022610676226433369718476718311780632555243216056541659680225433118951047820438693148768454125645043602914392713394929492748772987980235788322618765466454166]\n"
     ]
    }
   ],
   "source": [
    "def compute_ex1(n):\n",
    "  if n == 0:\n",
    "    return 7\n",
    "  u_n = 7\n",
    "  u_np1 = None\n",
    "  for i in range(1, n + 1):\n",
    "    u_np1 = - 3 * u_n * u_n + 9 * u_n - 2\n",
    "    u_n = u_np1\n",
    "  return u_np1\n",
    "\n",
    "# print the value to check the terms\n",
    "terms = []\n",
    "for n in range(10):\n",
    "  terms.append(compute_ex1(n))\n",
    "print(terms)"
   ]
  },
  {
   "cell_type": "markdown",
   "id": "9d57e099",
   "metadata": {},
   "source": [
    "- U(n + 2) = U(n + 1) * U(n) + 2 U(n). With U(0) = 1 and U(1) = 2."
   ]
  },
  {
   "cell_type": "code",
   "execution_count": 10,
   "id": "edff5811",
   "metadata": {},
   "outputs": [
    {
     "name": "stdout",
     "output_type": "stream",
     "text": [
      "U(2) = 4 U(1) = 2 U(0) = 1\n",
      "U(2) = 4 U(1) = 2 U(0) = 1\n",
      "U(3) = 12 U(2) = 4 U(1) = 2\n",
      "U(2) = 4 U(1) = 2 U(0) = 1\n",
      "U(3) = 12 U(2) = 4 U(1) = 2\n",
      "U(4) = 56 U(3) = 12 U(2) = 4\n",
      "U(2) = 4 U(1) = 2 U(0) = 1\n",
      "U(3) = 12 U(2) = 4 U(1) = 2\n",
      "U(4) = 56 U(3) = 12 U(2) = 4\n",
      "U(5) = 696 U(4) = 56 U(3) = 12\n",
      "U(2) = 4 U(1) = 2 U(0) = 1\n",
      "U(3) = 12 U(2) = 4 U(1) = 2\n",
      "U(4) = 56 U(3) = 12 U(2) = 4\n",
      "U(5) = 696 U(4) = 56 U(3) = 12\n",
      "U(6) = 39088 U(5) = 696 U(4) = 56\n",
      "[1, 2, 4, 12, 56, 696, 39088]\n"
     ]
    }
   ],
   "source": [
    "def compute_ex_sequence2(n):\n",
    "  if n == 0:\n",
    "    return 1\n",
    "  if n == 1:\n",
    "    return 2\n",
    "  u_n = 1\n",
    "  u_np1 = 2\n",
    "  u_np2 = None\n",
    "  for i in range(2, n + 1):\n",
    "    u_np2 = u_np1 * u_n + 2 * u_n\n",
    "    print(f\"U({i}) = {u_np2}\", f\"U({i - 1}) = {u_np1}\", f\"U({i - 2}) = {u_n}\")\n",
    "    u_n = u_np1\n",
    "    u_np1 = u_np2\n",
    "  return u_np2\n",
    "\n",
    "terms = []\n",
    "for n in range(7):\n",
    "  terms.append(compute_ex_sequence2(n))\n",
    "print(terms)"
   ]
  },
  {
   "cell_type": "markdown",
   "id": "7dbd1543",
   "metadata": {},
   "source": [
    "- U(n + 3) = 5 U(n + 2) - 7 U(n + 1) + 3 U(n) - 3. With U(0) = 0, U(1) = 1 and U(2) = 1."
   ]
  },
  {
   "cell_type": "code",
   "execution_count": 11,
   "id": "b8885fd8",
   "metadata": {},
   "outputs": [
    {
     "name": "stdout",
     "output_type": "stream",
     "text": [
      "[0, 1, 1, -5, -32, -125, -419, -1319, -4040, -12227]\n"
     ]
    }
   ],
   "source": [
    "def compute_ex_sequence3(n):\n",
    "  if n == 0:\n",
    "    return 0\n",
    "  if n == 1:\n",
    "    return 1\n",
    "  if n == 2:\n",
    "    return 1\n",
    "  u_n = 0\n",
    "  u_np1 = 1\n",
    "  u_np2 = 1\n",
    "  u_np3 = None\n",
    "  for i in range(3, n+1):\n",
    "    u_np3 = 5 * u_np2 - 7 * u_np1 + 3 * u_n - 3\n",
    "    # Transfer the values by 1 level to prepare for the next iteration\n",
    "    u_n = u_np1\n",
    "    u_np1 = u_np2\n",
    "    u_np2 = u_np3\n",
    "  return u_np3\n",
    "\n",
    "terms = []\n",
    "for n in range(10):\n",
    "  terms.append(compute_ex_sequence3(n))\n",
    "print(terms)"
   ]
  },
  {
   "cell_type": "markdown",
   "id": "26c82a0c",
   "metadata": {},
   "source": [
    "Write a function that computes the n-th term of the following sequence:\n",
    "\n",
    "- U(n + 1) = (a * U(n) + c) % m. The function should take a, c, m, U(0) (the seed) and n parameters. This is a linear congruential generator, a type of pseudorandom number generator."
   ]
  },
  {
   "cell_type": "code",
   "execution_count": 12,
   "id": "2a64c71e",
   "metadata": {},
   "outputs": [
    {
     "name": "stdout",
     "output_type": "stream",
     "text": [
      "[10, 17411, 10488, 3565, 20966, 14043, 7120, 197, 17598, 10675]\n"
     ]
    }
   ],
   "source": [
    "def linear_congruential_generator(n, seed, a, c, m):\n",
    "  if n == 0:\n",
    "    return seed\n",
    "  u_n = seed\n",
    "  u_np1 = None\n",
    "  for i in range(1, n + 1):\n",
    "    u_np1 = (a + u_n + c) % m\n",
    "    u_n = u_np1\n",
    "  return u_np1\n",
    "\n",
    "random_ints = []\n",
    "for n in range(10):\n",
    "  random_ints.append(linear_congruential_generator(n, 10, 2344, 3298797, 24324))\n",
    "print(random_ints)"
   ]
  },
  {
   "cell_type": "markdown",
   "id": "d7bb6b54",
   "metadata": {},
   "source": [
    "With a seed from the current time"
   ]
  },
  {
   "cell_type": "code",
   "execution_count": 13,
   "id": "bf3a726d",
   "metadata": {},
   "outputs": [
    {
     "name": "stdout",
     "output_type": "stream",
     "text": [
      "seed 1760349860797\n",
      "[1760349860797, 9302, 2379, 19780, 12857, 5934, 23335, 16412, 9489, 2566]\n"
     ]
    }
   ],
   "source": [
    "import time\n",
    "# number of micro second since Epoch (the initial date for computers)\n",
    "seed = int(time.time() * 1000) \n",
    "print(\"seed\", seed)\n",
    "random_ints = []\n",
    "for n in range(10):\n",
    "  random_ints.append(linear_congruential_generator(n, seed, 2344, 3298797, 24324))\n",
    "print(random_ints)"
   ]
  },
  {
   "cell_type": "markdown",
   "id": "203bd38a",
   "metadata": {},
   "source": [
    "Write the a function that computes the n-th term of the following sequences (a function for each sequence):\n",
    "\n",
    "- g(n) = 12 g(n - 1) + 4. With g(0) = 3."
   ]
  },
  {
   "cell_type": "code",
   "execution_count": 14,
   "id": "205ca599",
   "metadata": {},
   "outputs": [
    {
     "name": "stdout",
     "output_type": "stream",
     "text": [
      "[3, 40, 484, 5812, 69748, 836980, 10043764, 120525172, 1446302068, 17355624820]\n"
     ]
    }
   ],
   "source": [
    "def compute_first_g(n):\n",
    "  if n == 0:\n",
    "    return 3\n",
    "  g_nm1 = 3\n",
    "  g_n = None\n",
    "  for i in range(1, n+1):\n",
    "    g_n = 12 * g_nm1 + 4\n",
    "    g_nm1 = g_n\n",
    "  return g_n\n",
    "\n",
    "terms = []\n",
    "for n in range(10):\n",
    "  terms.append(compute_first_g(n))\n",
    "print(terms)"
   ]
  },
  {
   "cell_type": "markdown",
   "id": "1a89a472",
   "metadata": {},
   "source": [
    "- g(n) = 9 * g(n - 1) * g(n - 1) + 2 g(n - 1) - 1. With g(0) = 4."
   ]
  },
  {
   "cell_type": "code",
   "execution_count": 15,
   "id": "7e560da3",
   "metadata": {},
   "outputs": [
    {
     "name": "stdout",
     "output_type": "stream",
     "text": [
      "[4, 151, 205510, 380109651919, 1300350127338610282746886, 15218194083025859797153459054118985421714449766735, 2084340880337789607417516333328753135449549653518068720911813458993135523841131868061362692112575494, 39100292149025805977457565759160397762912611786505795256149225444389335208818765154044788709926229855168404784415391754715311959840563881059803611198735013333165841171150831598358604808041824869247311, 13759495615252521726449069923340162322185832995729208004939692769122710597278499986799249077301893643655060853057775263577273933785868622260578171776945720376485092195229368394285732320327033886948872866425391951726908087632379090735650591400266057609425974050177931417906835077802998217772480077132479835519599757093822403574474775166041915061701055588066074539544860419381571776480792036390865071110, 1703913476275380342605401633359451663363348146466822599802966313664214840748054155837874309853660835394472819931615662850813991056473431451403738846824875829599817995782564913005965682694775855190281849859757452031845550732969852658248586609373578284395911634556211757107404556729615394845173990102698713307284479778510918102184839598763717065535956386509606091676969570527862846583958184411028416767610791763601212272819467734705882956272161788025325825515959329510551566227817282928580794029882383514788942831514946282465132805881232719465910396202856075437130853852915437629755297147929744169887235956048214720536371405933644499488970547573497871216141935161883159044514777752822336305115370148076838603912297426642470366092358879933958458899400724999038073715549949247199293532651357677209939831119]\n"
     ]
    }
   ],
   "source": [
    "def compute_second_g(n):\n",
    "  if n == 0:\n",
    "    return 4\n",
    "  g_nm1 = 4\n",
    "  g_n = None\n",
    "  for i in range(1, n+1):\n",
    "    g_n = 9 * g_nm1 * g_nm1 + 2 * g_nm1 - 1\n",
    "    g_nm1 = g_n\n",
    "  return g_n\n",
    "\n",
    "terms = []\n",
    "for n in range(10):\n",
    "  terms.append(compute_second_g(n))\n",
    "print(terms)"
   ]
  },
  {
   "cell_type": "markdown",
   "id": "87a40109",
   "metadata": {},
   "source": [
    "- g(n) = 4 g(n - 2) g(n - 1) + 5 g(n - 1) + 9. With g(0) = 1 and g(1) = 2."
   ]
  },
  {
   "cell_type": "code",
   "execution_count": 16,
   "id": "3d6eef3a",
   "metadata": {},
   "outputs": [
    {
     "name": "stdout",
     "output_type": "stream",
     "text": [
      "[1, 2, 360, 40689, 58795614, 9569632930263, 2250609823405893717252, 86150039516964995674119422892575373, 775560500894749416769523936791399386623688130788704616858, 267258271199519312559975064855870456660439659032846991497482446819494893636229548562928836435]\n"
     ]
    }
   ],
   "source": [
    "def compute_third_g(n):\n",
    "  if n == 0:\n",
    "    return 1\n",
    "  if n == 1:\n",
    "    return 2\n",
    "  g_nm2 = 1\n",
    "  g_nm1 = 2\n",
    "  g_n = None\n",
    "  for i in range(1, n+1):\n",
    "    g_n = 4 * g_nm2 * g_nm1 + 5 * g_nm1 + 9\n",
    "    g_nm2 = g_nm1\n",
    "    g_nm1 = g_n\n",
    "  return g_n\n",
    "\n",
    "terms = []\n",
    "for n in range(10):\n",
    "  terms.append(compute_third_g(n))\n",
    "print(terms)"
   ]
  }
 ],
 "metadata": {
  "kernelspec": {
   "display_name": "3.12.1",
   "language": "python",
   "name": "python3"
  },
  "language_info": {
   "codemirror_mode": {
    "name": "ipython",
    "version": 3
   },
   "file_extension": ".py",
   "mimetype": "text/x-python",
   "name": "python",
   "nbconvert_exporter": "python",
   "pygments_lexer": "ipython3",
   "version": "3.12.1"
  }
 },
 "nbformat": 4,
 "nbformat_minor": 5
}
