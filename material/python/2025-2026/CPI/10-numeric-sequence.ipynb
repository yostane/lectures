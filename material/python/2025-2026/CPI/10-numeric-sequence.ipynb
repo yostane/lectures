{
 "cells": [
  {
   "cell_type": "markdown",
   "id": "65b87f47",
   "metadata": {},
   "source": [
    "# Numeric sequences\n",
    "\n",
    "A numeric sequence is a set of numbers where each term is derived from the previous ones."
   ]
  },
  {
   "cell_type": "markdown",
   "id": "7d8db856",
   "metadata": {},
   "source": [
    "## Example 1\n",
    "U(n + 2) = 2 U(n+1) + U(n) + 3. With U(0) = -10 and U(1) = 5."
   ]
  },
  {
   "cell_type": "code",
   "execution_count": 3,
   "id": "e0ef34fb",
   "metadata": {},
   "outputs": [
    {
     "name": "stdout",
     "output_type": "stream",
     "text": [
      "-10\n",
      "5\n",
      "3\n",
      "14\n"
     ]
    }
   ],
   "source": [
    "def compute_example1_U(n):\n",
    "  if n == 0:\n",
    "    return -10\n",
    "  if n == 1:\n",
    "    return 5\n",
    "  u_n = -10\n",
    "  u_np1 = 5\n",
    "  u_np2 = None\n",
    "  for i in range(2, n+1):\n",
    "    u_np2 = 2 * u_np1 + u_n + 3\n",
    "    u_n = u_np1\n",
    "    u_np1 = u_np2\n",
    "  return u_np2\n",
    "\n",
    "print(compute_example1_U(0))\n",
    "print(compute_example1_U(1))\n",
    "print(compute_example1_U(2))\n",
    "print(compute_example1_U(3))"
   ]
  },
  {
   "cell_type": "markdown",
   "id": "d33a4188",
   "metadata": {},
   "source": [
    "## Example 2\n",
    "\n",
    "U(n + 1) = 3 U(n) + 2. With U(0) = 1."
   ]
  },
  {
   "cell_type": "markdown",
   "id": "236a1748",
   "metadata": {},
   "source": [
    "## Exercices\n",
    "\n",
    "Write the a function that computes the n-th term of the following sequences (a function for each sequence):\n",
    "\n",
    "- U(n + 1) = -3 (U(n) * U(n)) + 9 U(n) - 2. With U(0) = 7.\n",
    "- U(n + 2) = U(n + 1) * U(n) + 2 U(n). With U(0) = 1 and U(1) = 2.\n",
    "- U(n + 3) = 5 U(n + 2) - 7 U(n + 1) + 3 U(n) - 3. With U(0) = 0, U(1) = 1 and U(2) = 1."
   ]
  },
  {
   "cell_type": "markdown",
   "id": "26c82a0c",
   "metadata": {},
   "source": [
    "Write a function that computes the n-th term of the following sequence:\n",
    "\n",
    "- U(n + 1) = (a * U(n) + c) % m. The function should take a, c, m, U(0) and n parameters. This is a linear congruential generator, a type of pseudorandom number generator."
   ]
  }
 ],
 "metadata": {
  "kernelspec": {
   "display_name": "3.12.1",
   "language": "python",
   "name": "python3"
  },
  "language_info": {
   "codemirror_mode": {
    "name": "ipython",
    "version": 3
   },
   "file_extension": ".py",
   "mimetype": "text/x-python",
   "name": "python",
   "nbconvert_exporter": "python",
   "pygments_lexer": "ipython3",
   "version": "3.12.1"
  }
 },
 "nbformat": 4,
 "nbformat_minor": 5
}
