{
 "cells": [
  {
   "cell_type": "markdown",
   "id": "65b87f47",
   "metadata": {},
   "source": [
    "# Numeric sequences\n",
    "\n",
    "A numeric sequence is a set of numbers where each term is derived from the previous ones."
   ]
  },
  {
   "cell_type": "markdown",
   "id": "7d8db856",
   "metadata": {},
   "source": [
    "## Example 1\n",
    "U(n + 2) = 2 U(n+1) + U(n) + 3. With U(0) = -10 and U(1) = 5."
   ]
  },
  {
   "cell_type": "code",
   "execution_count": 3,
   "id": "e0ef34fb",
   "metadata": {},
   "outputs": [
    {
     "name": "stdout",
     "output_type": "stream",
     "text": [
      "-10\n",
      "5\n",
      "3\n",
      "14\n"
     ]
    }
   ],
   "source": [
    "def compute_example1_U(n):\n",
    "  if n == 0:\n",
    "    return -10\n",
    "  if n == 1:\n",
    "    return 5\n",
    "  u_n = -10\n",
    "  u_np1 = 5\n",
    "  u_np2 = None\n",
    "  for i in range(2, n+1):\n",
    "    u_np2 = 2 * u_np1 + u_n + 3\n",
    "    u_n = u_np1\n",
    "    u_np1 = u_np2\n",
    "  return u_np2\n",
    "\n",
    "print(compute_example1_U(0))\n",
    "print(compute_example1_U(1))\n",
    "print(compute_example1_U(2))\n",
    "print(compute_example1_U(3))"
   ]
  },
  {
   "cell_type": "markdown",
   "id": "d33a4188",
   "metadata": {},
   "source": [
    "## Example 2\n",
    "\n",
    "U(n + 1) = 3 U(n) + 2. With U(0) = 1."
   ]
  },
  {
   "cell_type": "code",
   "execution_count": null,
   "id": "51568983",
   "metadata": {},
   "outputs": [
    {
     "name": "stdout",
     "output_type": "stream",
     "text": [
      "[1, 5, 17, 53, 161, 485, 1457, 4373, 13121, 39365, 118097, 354293, 1062881, 3188645, 9565937, 28697813, 86093441, 258280325, 774840977, 2324522933, 6973568801, 20920706405, 62762119217, 188286357653, 564859072961, 1694577218885, 5083731656657, 15251194969973, 45753584909921, 137260754729765]\n"
     ]
    }
   ],
   "source": [
    "def compute_example2_U(n):\n",
    "  if n == 0:\n",
    "    return 1\n",
    "  u_n = 1\n",
    "  u_np1 = None\n",
    "  for i in range(1, n + 1):\n",
    "    u_np1 = 3 * u_n + 2\n",
    "    u_n = u_np1\n",
    "  return u_np1\n",
    "\n",
    "# print multiple terms with a for loop\n",
    "terms = []\n",
    "for n in range(30):\n",
    "  terms.append(compute_example2_U(n))\n",
    "print(terms)"
   ]
  },
  {
   "cell_type": "markdown",
   "id": "236a1748",
   "metadata": {},
   "source": [
    "## Exercices\n",
    "\n",
    "Write the a function that computes the n-th term of the following sequences (a function for each sequence):\n",
    "\n",
    "- U(n + 1) = -3 (U(n) * U(n)) + 9 U(n) - 2. With U(0) = 7."
   ]
  },
  {
   "cell_type": "code",
   "execution_count": 6,
   "id": "f062dbd4",
   "metadata": {},
   "outputs": [
    {
     "name": "stdout",
     "output_type": "stream",
     "text": [
      "[7, -86, -22964, -1582242566, -7510474627226976164, -169221687378660559778683571150115250166, -85907938437843379786830541890960180100586088629392159234527253853553326334164, -22140521659920864121745424125114243304241134609219125603994265766914603924194082430870614912166810797706659199169616036203007720533211262584272091717744166, -1470608098120274809040547426549552092276819505733451202203071974247512943683799323529386344076769690481233203755861673537966301627243764253477244301710154648670695523621171640902629012175036733574439602125827308730491295632278067564662616487471907773420055836653237156461631206148923555570467835145524940804164, -6488064534770795461005994024090209477957869859900067617437889573288201066741386966353070874891446998733999069230252875737897888094480471862380098808860690993719943743969817571044347996097778928984874485805928058620307426868142883574616815607521736637326455043001587010405209108108686806177121001284929492121456742328232402610861060923812741257137267377594228323869595267608942363716078665839799908049240005936888449092226001475897152546135755553920089911444206264022610676226433369718476718311780632555243216056541659680225433118951047820438693148768454125645043602914392713394929492748772987980235788322618765466454166]\n"
     ]
    }
   ],
   "source": [
    "def compute_ex1(n):\n",
    "  if n == 0:\n",
    "    return 7\n",
    "  u_n = 7\n",
    "  u_np1 = None\n",
    "  for i in range(1, n + 1):\n",
    "    u_np1 = - 3 * u_n * u_n + 9 * u_n - 2\n",
    "    u_n = u_np1\n",
    "  return u_np1\n",
    "\n",
    "# print the value to check the terms\n",
    "terms = []\n",
    "for n in range(10):\n",
    "  terms.append(compute_ex1(n))\n",
    "print(terms)"
   ]
  },
  {
   "cell_type": "markdown",
   "id": "9d57e099",
   "metadata": {},
   "source": [
    "- U(n + 2) = U(n + 1) * U(n) + 2 U(n). With U(0) = 1 and U(1) = 2."
   ]
  },
  {
   "cell_type": "code",
   "execution_count": 8,
   "id": "edff5811",
   "metadata": {},
   "outputs": [
    {
     "name": "stdout",
     "output_type": "stream",
     "text": [
      "U(2) = 4 U(1) = 2 U(0) = 1\n",
      "U(2) = 4 U(1) = 2 U(0) = 1\n",
      "U(3) = 12 U(2) = 4 U(1) = 2\n",
      "U(2) = 4 U(1) = 2 U(0) = 1\n",
      "U(3) = 12 U(2) = 4 U(1) = 2\n",
      "U(4) = 56 U(3) = 12 U(2) = 4\n",
      "U(2) = 4 U(1) = 2 U(0) = 1\n",
      "U(3) = 12 U(2) = 4 U(1) = 2\n",
      "U(4) = 56 U(3) = 12 U(2) = 4\n",
      "U(5) = 696 U(4) = 56 U(3) = 12\n",
      "U(2) = 4 U(1) = 2 U(0) = 1\n",
      "U(3) = 12 U(2) = 4 U(1) = 2\n",
      "U(4) = 56 U(3) = 12 U(2) = 4\n",
      "U(5) = 696 U(4) = 56 U(3) = 12\n",
      "U(6) = 39088 U(5) = 696 U(4) = 56\n",
      "[1, 2, 4, 12, 56, 696, 39088]\n"
     ]
    }
   ],
   "source": [
    "def compute_ex_sequence2(n):\n",
    "  if n == 0:\n",
    "    return 1\n",
    "  if n == 1:\n",
    "    return 2\n",
    "  u_n = 1\n",
    "  u_np1 = 2\n",
    "  u_np2 = None\n",
    "  for i in range(2, n + 1):\n",
    "    u_np2 = u_np1 * u_n + 2 * u_n\n",
    "    print(f\"U({i}) = {u_np2}\", f\"U({i - 1}) = {u_np1}\", f\"U({i - 2}) = {u_n}\")\n",
    "    u_n = u_np1\n",
    "    u_np1 = u_np2\n",
    "  return u_np2\n",
    "\n",
    "terms = []\n",
    "for n in range(7):\n",
    "  terms.append(compute_ex_sequence2(n))\n",
    "print(terms)"
   ]
  },
  {
   "cell_type": "markdown",
   "id": "7dbd1543",
   "metadata": {},
   "source": [
    "- U(n + 3) = 5 U(n + 2) - 7 U(n + 1) + 3 U(n) - 3. With U(0) = 0, U(1) = 1 and U(2) = 1."
   ]
  },
  {
   "cell_type": "code",
   "execution_count": 10,
   "id": "b8885fd8",
   "metadata": {},
   "outputs": [
    {
     "name": "stdout",
     "output_type": "stream",
     "text": [
      "[0, 1, 1, 0, -14, -67, -240, -776, -2404, -7311]\n"
     ]
    }
   ],
   "source": [
    "def compute_ex_sequence3(n):\n",
    "  if n == 0:\n",
    "    return 0\n",
    "  if n == 1:\n",
    "    return 1\n",
    "  if n == 2:\n",
    "    return 1\n",
    "  u_n = 0\n",
    "  u_np1 = 1\n",
    "  u_np2 = 2\n",
    "  u_np3 = None\n",
    "  for i in range(3, n+1):\n",
    "    u_np3 = 5 * u_np2 - 7 * u_np1 + 3 * u_n - 3\n",
    "    # Transfer the values by 1 level to prepare for the next iteration\n",
    "    u_n = u_np1\n",
    "    u_np1 = u_np2\n",
    "    u_np2 = u_np3\n",
    "  return u_np3\n",
    "\n",
    "terms = []\n",
    "for n in range(10):\n",
    "  terms.append(compute_ex_sequence3(n))\n",
    "print(terms)"
   ]
  },
  {
   "cell_type": "markdown",
   "id": "26c82a0c",
   "metadata": {},
   "source": [
    "Write a function that computes the n-th term of the following sequence:\n",
    "\n",
    "- U(n + 1) = (a * U(n) + c) % m. The function should take a, c, m, U(0) and n parameters. This is a linear congruential generator, a type of pseudorandom number generator."
   ]
  },
  {
   "cell_type": "markdown",
   "id": "203bd38a",
   "metadata": {},
   "source": [
    "Write the a function that computes the n-th term of the following sequences (a function for each sequence):\n",
    "\n",
    "- g(n - 1) = 12 g(n) + 4. With g(0) = 3.\n",
    "- g(n - 1) = 9 (g(n) * g(n)) + 2 g(n) - 1. With g(0) = 4.\n",
    "- g(n - 2) = 4 g(n - 1) g(n) + 5 g(n) + 9. With g(0) = 1 and g(1) = 2."
   ]
  }
 ],
 "metadata": {
  "kernelspec": {
   "display_name": "3.12.1",
   "language": "python",
   "name": "python3"
  },
  "language_info": {
   "codemirror_mode": {
    "name": "ipython",
    "version": 3
   },
   "file_extension": ".py",
   "mimetype": "text/x-python",
   "name": "python",
   "nbconvert_exporter": "python",
   "pygments_lexer": "ipython3",
   "version": "3.12.1"
  }
 },
 "nbformat": 4,
 "nbformat_minor": 5
}
