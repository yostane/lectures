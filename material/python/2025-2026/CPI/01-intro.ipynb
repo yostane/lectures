{
 "cells": [
  {
   "cell_type": "code",
   "execution_count": 1,
   "id": "3a8cbad9",
   "metadata": {},
   "outputs": [
    {
     "name": "stdout",
     "output_type": "stream",
     "text": [
      "Hello CPI\n"
     ]
    }
   ],
   "source": [
    "print(\"Hello CPI\")"
   ]
  },
  {
   "cell_type": "code",
   "execution_count": 1,
   "id": "d6b700f0",
   "metadata": {},
   "outputs": [
    {
     "data": {
      "text/plain": [
       "7"
      ]
     },
     "execution_count": 1,
     "metadata": {},
     "output_type": "execute_result"
    }
   ],
   "source": [
    "2 + 5"
   ]
  },
  {
   "cell_type": "code",
   "execution_count": 2,
   "id": "3f778d27",
   "metadata": {},
   "outputs": [
    {
     "data": {
      "text/plain": [
       "-45"
      ]
     },
     "execution_count": 2,
     "metadata": {},
     "output_type": "execute_result"
    }
   ],
   "source": [
    "10 - 55"
   ]
  },
  {
   "cell_type": "code",
   "execution_count": 3,
   "id": "6cfe336b",
   "metadata": {},
   "outputs": [
    {
     "data": {
      "text/plain": [
       "2206606644"
      ]
     },
     "execution_count": 3,
     "metadata": {},
     "output_type": "execute_result"
    }
   ],
   "source": [
    "66 * 33433434"
   ]
  },
  {
   "cell_type": "code",
   "execution_count": 4,
   "id": "423ed2f2",
   "metadata": {},
   "outputs": [
    {
     "data": {
      "text/plain": [
       "995163.8111274947"
      ]
     },
     "execution_count": 4,
     "metadata": {},
     "output_type": "execute_result"
    }
   ],
   "source": [
    "3232139798479 / 3247847"
   ]
  },
  {
   "cell_type": "markdown",
   "id": "4014857a",
   "metadata": {},
   "source": [
    "Remainder of a division\n",
    "If I divide 10 by 2, what is the remainder? 0\n",
    "remainder of dividing 55 by 7? 6\n",
    "\n",
    "We can compute it with the modulo operator %"
   ]
  },
  {
   "cell_type": "code",
   "execution_count": 5,
   "id": "a1d62e54",
   "metadata": {},
   "outputs": [
    {
     "data": {
      "text/plain": [
       "0"
      ]
     },
     "execution_count": 5,
     "metadata": {},
     "output_type": "execute_result"
    }
   ],
   "source": [
    "10 % 2"
   ]
  },
  {
   "cell_type": "code",
   "execution_count": 6,
   "id": "0f173b98",
   "metadata": {},
   "outputs": [
    {
     "data": {
      "text/plain": [
       "6"
      ]
     },
     "execution_count": 6,
     "metadata": {},
     "output_type": "execute_result"
    }
   ],
   "source": [
    "55 % 7"
   ]
  },
  {
   "cell_type": "markdown",
   "id": "41c8045f",
   "metadata": {},
   "source": [
    "import random\n",
    "\"random\" is called a library or a package\n",
    "import allows to use a library in our code that is not available by default"
   ]
  },
  {
   "cell_type": "code",
   "execution_count": 33,
   "id": "24cb1c4c",
   "metadata": {},
   "outputs": [
    {
     "data": {
      "text/plain": [
       "41"
      ]
     },
     "execution_count": 33,
     "metadata": {},
     "output_type": "execute_result"
    }
   ],
   "source": [
    "import random\n",
    "\n",
    "random.randint(0, 100)"
   ]
  },
  {
   "cell_type": "markdown",
   "id": "29c27213",
   "metadata": {},
   "source": [
    "To detect if the random number is even or odd, we compute % 2 and test if it's equal to 0 or 1"
   ]
  },
  {
   "cell_type": "code",
   "execution_count": 49,
   "id": "567ddae8",
   "metadata": {},
   "outputs": [
    {
     "data": {
      "text/plain": [
       "0"
      ]
     },
     "execution_count": 49,
     "metadata": {},
     "output_type": "execute_result"
    }
   ],
   "source": [
    "random.randint(0, 100) % 2"
   ]
  },
  {
   "cell_type": "markdown",
   "id": "d9ea7200",
   "metadata": {},
   "source": [
    "## Conditions with if\n",
    "\n",
    "== is used to test equality (please don't confuse with = which has a different purpose)"
   ]
  },
  {
   "cell_type": "code",
   "execution_count": 51,
   "id": "e73b6456",
   "metadata": {},
   "outputs": [
    {
     "name": "stdout",
     "output_type": "stream",
     "text": [
      "else branch\n"
     ]
    }
   ],
   "source": [
    "if 4 == 5:\n",
    "  print(\"True branch\")\n",
    "else:\n",
    "  print(\"else branch\")"
   ]
  },
  {
   "cell_type": "code",
   "execution_count": 52,
   "id": "e2bdd115",
   "metadata": {},
   "outputs": [
    {
     "name": "stdout",
     "output_type": "stream",
     "text": [
      "True branch\n"
     ]
    }
   ],
   "source": [
    "if 4 == 4:\n",
    "  print(\"True branch\")\n",
    "else:\n",
    "  print(\"else branch\")"
   ]
  },
  {
   "cell_type": "markdown",
   "id": "350cf83f",
   "metadata": {},
   "source": [
    "`!=` tests inequality (opposite of equality)"
   ]
  },
  {
   "cell_type": "code",
   "execution_count": null,
   "id": "e7d45e34",
   "metadata": {},
   "outputs": [],
   "source": [
    "x = 0\n",
    "if x != 4:\n",
    "  print(\"Here x is not equal to 4\")\n",
    "else:\n",
    "  print(\"Here x is equal to 4\")"
   ]
  },
  {
   "cell_type": "markdown",
   "id": "00d71197",
   "metadata": {},
   "source": [
    "Generate a random number between 25 and 50 and print \"even\" if the genreated number is even or \"odd\" if the generated number is odd"
   ]
  },
  {
   "cell_type": "code",
   "execution_count": null,
   "id": "a0b63d0c",
   "metadata": {},
   "outputs": [],
   "source": [
    "if random.randint(25, 50) % 2 == 0:\n",
    "  print(\"even\")\n",
    "else:\n",
    "  print(\"odd\")"
   ]
  },
  {
   "cell_type": "markdown",
   "id": "a1d4507c",
   "metadata": {},
   "source": [
    "Generate a random number between 25 and 50 that prints two lines:\n",
    "  - The first line prints \"even\" if the genreated number is even or \"odd\" if the generated number is odd\n",
    "  - The next line prints \"equal to 40\" if the generated value is equal to 40, or \"not equal to 40\" elsewhere\n",
    "\n",
    "We can do this exercise with variables.\n",
    "We can name them whatever we want (there are some rules though).\n",
    "The general names are \"x\", \"y\", \"i\", \"j\""
   ]
  },
  {
   "cell_type": "code",
   "execution_count": null,
   "id": "9b9200eb",
   "metadata": {},
   "outputs": [],
   "source": [
    "pikachu = random.randint(25, 50)\n",
    "if pikachu % 2 == 0:\n",
    "  print(\"even\")\n",
    "else:\n",
    "  print(\"odd\")\n",
    "if pikachu == 40:\n",
    "  print(\"equal to 40\")\n",
    "else:\n",
    "  print(\"not equal to 40\")"
   ]
  },
  {
   "cell_type": "markdown",
   "id": "d207e19a",
   "metadata": {},
   "source": [
    "## Keyboard input\n",
    "\n",
    "`x = input(\"message\")` -> x will contain the entered value"
   ]
  },
  {
   "cell_type": "code",
   "execution_count": 53,
   "id": "eb241200",
   "metadata": {},
   "outputs": [
    {
     "name": "stdout",
     "output_type": "stream",
     "text": [
      "I love python 2025\n"
     ]
    }
   ],
   "source": [
    "x = input(\"Enter something\")\n",
    "print(x)"
   ]
  },
  {
   "cell_type": "markdown",
   "id": "0286dae7",
   "metadata": {},
   "source": [
    "`int(input(\"message\"))` converts the text input into an int"
   ]
  },
  {
   "cell_type": "code",
   "execution_count": 55,
   "id": "6600040b",
   "metadata": {},
   "outputs": [
    {
     "name": "stdout",
     "output_type": "stream",
     "text": [
      "45\n"
     ]
    }
   ],
   "source": [
    "x = int(input(\"enter a number\"))\n",
    "print(x + 1)"
   ]
  }
 ],
 "metadata": {
  "kernelspec": {
   "display_name": "3.12.1",
   "language": "python",
   "name": "python3"
  },
  "language_info": {
   "codemirror_mode": {
    "name": "ipython",
    "version": 3
   },
   "file_extension": ".py",
   "mimetype": "text/x-python",
   "name": "python",
   "nbconvert_exporter": "python",
   "pygments_lexer": "ipython3",
   "version": "3.12.1"
  }
 },
 "nbformat": 4,
 "nbformat_minor": 5
}
