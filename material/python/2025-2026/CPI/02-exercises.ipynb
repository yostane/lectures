{
 "cells": [
  {
   "cell_type": "markdown",
   "id": "3786f21e",
   "metadata": {},
   "source": [
    "# Exercises\n",
    "\n",
    "- Write a Python script that asks the user to enter an integer. Then, it tells the user if the integer is strictly positive, strictly negative, or is zero."
   ]
  },
  {
   "cell_type": "code",
   "execution_count": 1,
   "id": "685cc9a1",
   "metadata": {},
   "outputs": [
    {
     "name": "stdout",
     "output_type": "stream",
     "text": [
      "Strictly positive\n"
     ]
    }
   ],
   "source": [
    "x = int(input(\"Enter an integer\"))\n",
    "if x > 0:\n",
    "  print(\"Strictly positive\")\n",
    "elif x < 0:\n",
    "  print(\"Strictly negative\")\n",
    "else:\n",
    "  print(\"zero\")"
   ]
  },
  {
   "cell_type": "markdown",
   "id": "23df274a",
   "metadata": {},
   "source": [
    "- Write a Python script that asks the user to enter two integers. Then, it shows them in the ascending order. (hints: you can use `>`, `>=`, `<` or `<=` operators)"
   ]
  },
  {
   "cell_type": "code",
   "execution_count": 2,
   "id": "5b90b673",
   "metadata": {},
   "outputs": [
    {
     "name": "stdout",
     "output_type": "stream",
     "text": [
      "4 2\n",
      "4, 2\n"
     ]
    }
   ],
   "source": [
    "x = int(input(\"Enter a first integer\"))\n",
    "y = int(input(\"Enter a second integer\"))\n",
    "\n",
    "if x >= y:\n",
    "  print(x, y)\n",
    "  print(f\"{x}, {y}\")\n",
    "else:\n",
    "  print(y, x)\n",
    "  print(f\"{y}, {x}\")"
   ]
  },
  {
   "cell_type": "markdown",
   "id": "1e5e1749",
   "metadata": {},
   "source": [
    "- Write a Python scripts that simluates guessing a dice roll as follows: the program generates a random number between 1 and 6. After that, the user then enters an integer. Finally, the program prints \"win\" if the user has found the same number as the dice roll. Otherwise, the program prints, \"you lose\""
   ]
  },
  {
   "cell_type": "code",
   "execution_count": null,
   "id": "85192198",
   "metadata": {},
   "outputs": [],
   "source": [
    "import random\n",
    "dice = random.randint(1, 6)\n",
    "x = int(input(\"Enter a number between 1 and 6\"))\n",
    "\n",
    "if dice == x:\n",
    "  print(\"win\")\n",
    "else:\n",
    "  print(\"you lose\")"
   ]
  }
 ],
 "metadata": {
  "kernelspec": {
   "display_name": "3.12.1",
   "language": "python",
   "name": "python3"
  },
  "language_info": {
   "codemirror_mode": {
    "name": "ipython",
    "version": 3
   },
   "file_extension": ".py",
   "mimetype": "text/x-python",
   "name": "python",
   "nbconvert_exporter": "python",
   "pygments_lexer": "ipython3",
   "version": "3.12.1"
  }
 },
 "nbformat": 4,
 "nbformat_minor": 5
}
