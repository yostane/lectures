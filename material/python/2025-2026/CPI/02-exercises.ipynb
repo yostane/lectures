{
 "cells": [
  {
   "cell_type": "markdown",
   "id": "3786f21e",
   "metadata": {},
   "source": [
    "# Exercises\n",
    "\n",
    "- Write a Python script that asks the user to enter an integer. Then, it tells the user if the integer is positive or negative."
   ]
  },
  {
   "cell_type": "markdown",
   "id": "23df274a",
   "metadata": {},
   "source": [
    "- Write a Python script that asks the user to enter two integers. Then, it shows them in the ascending order. (hints: you can use `>`, `>=`, `<` or `<=` operators)"
   ]
  },
  {
   "cell_type": "markdown",
   "id": "1e5e1749",
   "metadata": {},
   "source": [
    "- Write a Python scripts that simluates guessing a dice roll as follows: the program generates a random number between 1 and 6. After that, the user then enters an integer. Finally, the program prints \"win\" if the user has found the same number as the dice roll. Otherwise, the program prints, \"you lose\""
   ]
  }
 ],
 "metadata": {
  "language_info": {
   "name": "python"
  }
 },
 "nbformat": 4,
 "nbformat_minor": 5
}
