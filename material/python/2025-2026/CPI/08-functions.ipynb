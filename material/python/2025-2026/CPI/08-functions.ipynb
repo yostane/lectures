{
 "cells": [
  {
   "cell_type": "markdown",
   "id": "a428c0d9",
   "metadata": {},
   "source": [
    "# Functions\n",
    "\n",
    "They are defined by: a name, arguments, statements and a return value. Arguments and return value are optional. The default return value is `None`."
   ]
  },
  {
   "cell_type": "code",
   "execution_count": 1,
   "id": "0a43e95e",
   "metadata": {},
   "outputs": [],
   "source": [
    "def f(x):\n",
    "  return x * x + 2 * x - 5\n",
    "\n",
    "def g(x,y):\n",
    "  return 2 * y * x + 4 * x - y\n",
    "\n",
    "def say_hello():\n",
    "  print(\"Hello\")\n",
    "  print(\"CPI\")\n",
    "  print(\"2025\")"
   ]
  },
  {
   "cell_type": "markdown",
   "id": "ad4e626f",
   "metadata": {},
   "source": [
    "Wa can call functions as many times as we want by using their name followed by their arguments."
   ]
  },
  {
   "cell_type": "code",
   "execution_count": 2,
   "id": "8c483f3b",
   "metadata": {},
   "outputs": [
    {
     "data": {
      "text/plain": [
       "435"
      ]
     },
     "execution_count": 2,
     "metadata": {},
     "output_type": "execute_result"
    }
   ],
   "source": [
    "f(20)"
   ]
  },
  {
   "cell_type": "code",
   "execution_count": 3,
   "id": "076d3c5a",
   "metadata": {},
   "outputs": [
    {
     "data": {
      "text/plain": [
       "-2"
      ]
     },
     "execution_count": 3,
     "metadata": {},
     "output_type": "execute_result"
    }
   ],
   "source": [
    "f(-3)"
   ]
  },
  {
   "cell_type": "markdown",
   "id": "9100c6d7",
   "metadata": {},
   "source": [
    "We can immediatly print return values of functions"
   ]
  },
  {
   "cell_type": "code",
   "execution_count": 4,
   "id": "3cd4d04e",
   "metadata": {},
   "outputs": [
    {
     "name": "stdout",
     "output_type": "stream",
     "text": [
      "36 -313\n"
     ]
    }
   ],
   "source": [
    "print(g(9, 0), g(32, -7))"
   ]
  },
  {
   "cell_type": "markdown",
   "id": "52964598",
   "metadata": {},
   "source": [
    "Or we can store them in variables (for later use)"
   ]
  },
  {
   "cell_type": "code",
   "execution_count": null,
   "id": "73b0bcc8",
   "metadata": {},
   "outputs": [],
   "source": [
    "value1 = g(9, 6)\n",
    "value2 = f(100)\n",
    "print(value1, value2)"
   ]
  },
  {
   "cell_type": "markdown",
   "id": "9679f093",
   "metadata": {},
   "source": [
    "Functions embedded in Python that we have already seen: `print`, `range`, `len`, `input`, `int`, `random.randint`.\n",
    "\n",
    "These are not considered functions, but language syntax: `if`, `for`."
   ]
  },
  {
   "cell_type": "markdown",
   "id": "f777495f",
   "metadata": {},
   "source": [
    "## Exerecises\n",
    "\n",
    "- Write a function named `get_max` that takes two integers and returns their maximum value, withtout using the `max` function. Call this function with the following arguments and print the results: `(2, 4)`, `(10, -19)`, `(100, 9)`.\n",
    "  - Do the exercise once with and once without using `max` function."
   ]
  },
  {
   "cell_type": "code",
   "execution_count": null,
   "id": "4e28b2e6",
   "metadata": {},
   "outputs": [
    {
     "name": "stdout",
     "output_type": "stream",
     "text": [
      "4\n",
      "10\n",
      "100\n"
     ]
    }
   ],
   "source": [
    "# Write a function named `get_max` that takes two integers and returns their maximum value, withtout using the `max` function\n",
    "def get_max(a, b):\n",
    "  if a > b:\n",
    "    return a\n",
    "  else:\n",
    "    return b\n",
    "  \n",
    "def get_max2(a, b):\n",
    "  return max(a, b)\n",
    "\n",
    "# Call this function with the following arguments and print the results: `(2, 4)`, `(10, -19)`, `(100, 9)`\n",
    "print(get_max(2, 4), get_max2(2, 4))\n",
    "print(get_max(10, -19), get_max2(10, -19))\n",
    "print(get_max(100, 9), get_max2(100, 9))"
   ]
  },
  {
   "cell_type": "markdown",
   "id": "c7cf96a0",
   "metadata": {},
   "source": [
    "- Write a function named `compute_average` that takes one arguments as a list of numbers and returns their average. Call this function for the following lists and print the result: `[-8, 18, 6]`, `[0, 1, 2, 3, 4]`, `range(5)`\n",
    "  - Do the exercise once with and once without using the `sum` function."
   ]
  },
  {
   "cell_type": "code",
   "execution_count": 7,
   "id": "e59e3d87",
   "metadata": {},
   "outputs": [
    {
     "name": "stdout",
     "output_type": "stream",
     "text": [
      "5.333333333333333\n",
      "2.0\n",
      "2.0\n"
     ]
    }
   ],
   "source": [
    "def compute_average(l):\n",
    "  return sum(l) / len(l)\n",
    "\n",
    "avg1 = compute_average([-8, 18, 6])\n",
    "print(avg1)\n",
    "print(compute_average([0, 1, 2, 3, 4]))\n",
    "print(compute_average(range(5)))"
   ]
  },
  {
   "cell_type": "code",
   "execution_count": 8,
   "id": "26d93500",
   "metadata": {},
   "outputs": [
    {
     "name": "stdout",
     "output_type": "stream",
     "text": [
      "5.333333333333333\n",
      "2.0\n",
      "2.0\n"
     ]
    }
   ],
   "source": [
    "def compute_average2(l):\n",
    "  s = 0\n",
    "  for x in l:\n",
    "    s += x\n",
    "  return s / len(l)\n",
    "\n",
    "avg1 = compute_average2([-8, 18, 6])\n",
    "print(avg1)\n",
    "print(compute_average2([0, 1, 2, 3, 4]))\n",
    "print(compute_average2(range(5)))"
   ]
  },
  {
   "cell_type": "markdown",
   "id": "92a2c356",
   "metadata": {},
   "source": [
    "- Write a function named `print_vowels` that takes a string in small capitals as argument and prints the vowels that are in that string. Call this function with the following strings: `\"hello\"` (should print e and o), `\"cpi\"` (should print i), `i love the python class` (should print i, o, e, e, y, o, a)."
   ]
  },
  {
   "cell_type": "code",
   "execution_count": 10,
   "id": "72175fc3",
   "metadata": {},
   "outputs": [
    {
     "name": "stdout",
     "output_type": "stream",
     "text": [
      "Vowels of hello\n",
      "e\n",
      "o\n",
      "Vowels of cpi\n",
      "i\n"
     ]
    }
   ],
   "source": [
    "def print_vowels(text):\n",
    "  for c in text:\n",
    "    if c == 'a' or c == 'i' or c == 'e' or c == 'o' or c == 'u' or c == 'y':\n",
    "      print(c)\n",
    "\n",
    "print(\"Vowels of hello\")\n",
    "print_vowels(\"hello\")\n",
    "print(\"Vowels of cpi\")\n",
    "print_vowels(\"cpi\")"
   ]
  },
  {
   "cell_type": "markdown",
   "id": "8f30f4db",
   "metadata": {},
   "source": [
    "- Write a function named `find_animal_from_sound` that takes a string argument that represents an animal sound and return the name of that animal. To simplify, the function handles these animals: dog -> wof, cat -> miaou or nyan, chicken -> cocorico."
   ]
  },
  {
   "cell_type": "markdown",
   "id": "27dab45d",
   "metadata": {},
   "source": [
    "- Write a function named `computer_power` that takes two arguments, x and y and computer x to the power of y (x * x ... * x, y times). \n",
    "  - Do the exercise one with the `pow` embedded function and once without it."
   ]
  },
  {
   "cell_type": "markdown",
   "id": "8ef404a3",
   "metadata": {},
   "source": [
    "- Write a function named `pick_random_argument` that takes three arguments and returns randomly one of them."
   ]
  },
  {
   "cell_type": "markdown",
   "id": "345821d7",
   "metadata": {},
   "source": [
    "- Write a function named `pick_random_item` that takes a single argument that can be a list, a string, or a range and returns a random element from it."
   ]
  }
 ],
 "metadata": {
  "kernelspec": {
   "display_name": "3.12.1",
   "language": "python",
   "name": "python3"
  },
  "language_info": {
   "codemirror_mode": {
    "name": "ipython",
    "version": 3
   },
   "file_extension": ".py",
   "mimetype": "text/x-python",
   "name": "python",
   "nbconvert_exporter": "python",
   "pygments_lexer": "ipython3",
   "version": "3.12.1"
  }
 },
 "nbformat": 4,
 "nbformat_minor": 5
}
