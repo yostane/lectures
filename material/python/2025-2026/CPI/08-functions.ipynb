{
 "cells": [
  {
   "cell_type": "markdown",
   "id": "a428c0d9",
   "metadata": {},
   "source": [
    "# Functions\n",
    "\n",
    "They are defined by: a name, arguments, statements and a return value. Arguments and return value are optional. The default return value is `None`."
   ]
  },
  {
   "cell_type": "code",
   "execution_count": 1,
   "id": "0a43e95e",
   "metadata": {},
   "outputs": [],
   "source": [
    "def f(x):\n",
    "  return x * x + 2 * x - 5\n",
    "\n",
    "def g(x,y):\n",
    "  return 2 * y * x + 4 * x - y\n",
    "\n",
    "def say_hello():\n",
    "  print(\"Hello\")\n",
    "  print(\"CPI\")\n",
    "  print(\"2025\")"
   ]
  },
  {
   "cell_type": "markdown",
   "id": "ad4e626f",
   "metadata": {},
   "source": [
    "We can call functions as many times as we want by using their name followed by their arguments."
   ]
  },
  {
   "cell_type": "code",
   "execution_count": 2,
   "id": "8c483f3b",
   "metadata": {},
   "outputs": [
    {
     "data": {
      "text/plain": [
       "435"
      ]
     },
     "execution_count": 2,
     "metadata": {},
     "output_type": "execute_result"
    }
   ],
   "source": [
    "f(20)"
   ]
  },
  {
   "cell_type": "code",
   "execution_count": 3,
   "id": "076d3c5a",
   "metadata": {},
   "outputs": [
    {
     "data": {
      "text/plain": [
       "-2"
      ]
     },
     "execution_count": 3,
     "metadata": {},
     "output_type": "execute_result"
    }
   ],
   "source": [
    "f(-3)"
   ]
  },
  {
   "cell_type": "markdown",
   "id": "9100c6d7",
   "metadata": {},
   "source": [
    "We can immediately print return values of functions"
   ]
  },
  {
   "cell_type": "code",
   "execution_count": 4,
   "id": "3cd4d04e",
   "metadata": {},
   "outputs": [
    {
     "name": "stdout",
     "output_type": "stream",
     "text": [
      "36 -313\n"
     ]
    }
   ],
   "source": [
    "print(g(9, 0), g(32, -7))"
   ]
  },
  {
   "cell_type": "markdown",
   "id": "52964598",
   "metadata": {},
   "source": [
    "Or we can store them in variables (for later use)"
   ]
  },
  {
   "cell_type": "code",
   "execution_count": null,
   "id": "73b0bcc8",
   "metadata": {},
   "outputs": [],
   "source": [
    "value1 = g(9, 6)\n",
    "value2 = f(100)\n",
    "print(value1, value2)"
   ]
  },
  {
   "cell_type": "markdown",
   "id": "9679f093",
   "metadata": {},
   "source": [
    "Functions embedded in Python that we have already seen: `print`, `range`, `len`, `input`, `int`, `random.randint`.\n",
    "\n",
    "These are not considered functions, but language syntax: `if`, `for`."
   ]
  },
  {
   "cell_type": "markdown",
   "id": "f777495f",
   "metadata": {},
   "source": [
    "## Exercises\n",
    "\n",
    "- Write a function named `get_max` that takes two integers and returns their maximum value, without using the `max` function. Call this function with the following arguments and print the results: `(2, 4)`, `(10, -19)`, `(100, 9)`.\n",
    "  - Do the exercise once with and once without using `max` function."
   ]
  },
  {
   "cell_type": "code",
   "execution_count": null,
   "id": "4e28b2e6",
   "metadata": {},
   "outputs": [
    {
     "name": "stdout",
     "output_type": "stream",
     "text": [
      "4\n",
      "10\n",
      "100\n"
     ]
    }
   ],
   "source": [
    "# Write a function named `get_max` that takes two integers and returns their maximum value, without using the `max` function\n",
    "def get_max(a, b):\n",
    "  if a > b:\n",
    "    return a\n",
    "  else:\n",
    "    return b\n",
    "  \n",
    "def get_max2(a, b):\n",
    "  return max(a, b)\n",
    "\n",
    "# Call this function with the following arguments and print the results: `(2, 4)`, `(10, -19)`, `(100, 9)`\n",
    "print(get_max(2, 4), get_max2(2, 4))\n",
    "print(get_max(10, -19), get_max2(10, -19))\n",
    "print(get_max(100, 9), get_max2(100, 9))"
   ]
  },
  {
   "cell_type": "markdown",
   "id": "c7cf96a0",
   "metadata": {},
   "source": [
    "- Write a function named `compute_average` that takes one arguments as a list of numbers and returns their average. Call this function for the following lists and print the result: `[-8, 18, 6]`, `[0, 1, 2, 3, 4]`, `range(5)`\n",
    "  - Do the exercise once with and once without using the `sum` function."
   ]
  },
  {
   "cell_type": "code",
   "execution_count": 7,
   "id": "e59e3d87",
   "metadata": {},
   "outputs": [
    {
     "name": "stdout",
     "output_type": "stream",
     "text": [
      "5.333333333333333\n",
      "2.0\n",
      "2.0\n"
     ]
    }
   ],
   "source": [
    "def compute_average(l):\n",
    "  return sum(l) / len(l)\n",
    "\n",
    "avg1 = compute_average([-8, 18, 6])\n",
    "print(avg1)\n",
    "print(compute_average([0, 1, 2, 3, 4]))\n",
    "print(compute_average(range(5)))"
   ]
  },
  {
   "cell_type": "code",
   "execution_count": 8,
   "id": "26d93500",
   "metadata": {},
   "outputs": [
    {
     "name": "stdout",
     "output_type": "stream",
     "text": [
      "5.333333333333333\n",
      "2.0\n",
      "2.0\n"
     ]
    }
   ],
   "source": [
    "def compute_average2(l):\n",
    "  s = 0\n",
    "  for x in l:\n",
    "    s += x\n",
    "  return s / len(l)\n",
    "\n",
    "avg1 = compute_average2([-8, 18, 6])\n",
    "print(avg1)\n",
    "print(compute_average2([0, 1, 2, 3, 4]))\n",
    "print(compute_average2(range(5)))"
   ]
  },
  {
   "cell_type": "markdown",
   "id": "92a2c356",
   "metadata": {},
   "source": [
    "- Write a function named `print_vowels` that takes a string in small capitals as argument and prints the vowels that are in that string. Call this function with the following strings: `\"hello\"` (should print e and o), `\"cpi\"` (should print i), `i love the python class` (should print i, o, e, e, y, o, a)."
   ]
  },
  {
   "cell_type": "code",
   "execution_count": 10,
   "id": "72175fc3",
   "metadata": {},
   "outputs": [
    {
     "name": "stdout",
     "output_type": "stream",
     "text": [
      "Vowels of hello\n",
      "e\n",
      "o\n",
      "Vowels of cpi\n",
      "i\n"
     ]
    }
   ],
   "source": [
    "def print_vowels(text):\n",
    "  for c in text:\n",
    "    if c == 'a' or c == 'i' or c == 'e' or c == 'o' or c == 'u' or c == 'y':\n",
    "      print(c)\n",
    "\n",
    "print(\"Vowels of hello\")\n",
    "print_vowels(\"hello\")\n",
    "print(\"Vowels of cpi\")\n",
    "print_vowels(\"cpi\")"
   ]
  },
  {
   "cell_type": "markdown",
   "id": "8f30f4db",
   "metadata": {},
   "source": [
    "- Write a function named `find_animal_from_sound` that takes a string argument that represents an animal sound and return the name of that animal. To simplify, the function handles these animals: dog -> wof, cat -> miaou or nyan, chicken -> cocorico."
   ]
  },
  {
   "cell_type": "code",
   "execution_count": 14,
   "id": "330fdf7b",
   "metadata": {},
   "outputs": [
    {
     "name": "stdout",
     "output_type": "stream",
     "text": [
      "dog\n",
      "cat\n",
      "chicken\n",
      "cat\n",
      "unknown\n"
     ]
    }
   ],
   "source": [
    "def find_animal_from_sound(sound):\n",
    "  if sound == \"wof\":\n",
    "    return \"dog\"\n",
    "  elif sound == \"nyan\" or sound == \"miaou\":\n",
    "    return \"cat\"\n",
    "  elif sound == \"cocorico\":\n",
    "    return \"chicken\"\n",
    "  else:\n",
    "    return \"unknown\"\n",
    "\n",
    "print(find_animal_from_sound(\"wof\"))\n",
    "print(find_animal_from_sound(\"nyan\"))\n",
    "print(find_animal_from_sound(\"cocorico\"))\n",
    "print(find_animal_from_sound(\"miaou\"))\n",
    "print(find_animal_from_sound(\"mouuuuuuuuuu\"))"
   ]
  },
  {
   "cell_type": "markdown",
   "id": "27dab45d",
   "metadata": {},
   "source": [
    "- Write a function named `compute_power` that takes two arguments, x and y and computes x to the power of y (x * x ... * x, y times). \n",
    "  - Do the exercise once with the `pow` embedded function, once with the `**` operator, and once with a for loop."
   ]
  },
  {
   "cell_type": "code",
   "execution_count": null,
   "id": "4b86f74d",
   "metadata": {},
   "outputs": [
    {
     "name": "stdout",
     "output_type": "stream",
     "text": [
      "64 64 64\n",
      "125 125 125\n",
      "97421959163861389151445815184772553714607763426900121622273268938345448334283610693946065332765041331065358782852312831870516403886926277603027419398807751691182036046643025464185759432526446226673735743136339568233612507995974791380547100445851603843954906040718976570881596752991602134947030613020267421476811955421482242194521980759290601845335385970905890004725942948946870137767226597972019051609834000115470939145700123441246803481236602596851461180792739864122683101676959927916443223823894233693667937437769462253661388162396118307757396529940114676829035208186791692748086267173524885513630926921945500568032729983983736222815005557869211449002315110382993073799161663031933077306555810648965099432760936606239412111238532701880550611599868672084578695115098083032578351232444475092534898806383249175616417976641958631489615072496235370635986328125\n",
      "97421959163861389151445815184772553714607763426900121622273268938345448334283610693946065332765041331065358782852312831870516403886926277603027419398807751691182036046643025464185759432526446226673735743136339568233612507995974791380547100445851603843954906040718976570881596752991602134947030613020267421476811955421482242194521980759290601845335385970905890004725942948946870137767226597972019051609834000115470939145700123441246803481236602596851461180792739864122683101676959927916443223823894233693667937437769462253661388162396118307757396529940114676829035208186791692748086267173524885513630926921945500568032729983983736222815005557869211449002315110382993073799161663031933077306555810648965099432760936606239412111238532701880550611599868672084578695115098083032578351232444475092534898806383249175616417976641958631489615072496235370635986328125\n",
      "97421959163861389151445815184772553714607763426900121622273268938345448334283610693946065332765041331065358782852312831870516403886926277603027419398807751691182036046643025464185759432526446226673735743136339568233612507995974791380547100445851603843954906040718976570881596752991602134947030613020267421476811955421482242194521980759290601845335385970905890004725942948946870137767226597972019051609834000115470939145700123441246803481236602596851461180792739864122683101676959927916443223823894233693667937437769462253661388162396118307757396529940114676829035208186791692748086267173524885513630926921945500568032729983983736222815005557869211449002315110382993073799161663031933077306555810648965099432760936606239412111238532701880550611599868672084578695115098083032578351232444475092534898806383249175616417976641958631489615072496235370635986328125\n"
     ]
    }
   ],
   "source": [
    "def compute_power(x, y):\n",
    "  return pow(x, y)\n",
    "\n",
    "def compute_power2(x, y):\n",
    "  return x ** y\n",
    "\n",
    "def compute_power3(x, y):\n",
    "  p = 1\n",
    "  for _ in range(y):\n",
    "    p = p * x\n",
    "  return p\n",
    "\n",
    "print(compute_power(8, 2), compute_power2(8, 2), compute_power3(8, 2))\n",
    "print(compute_power(5, 3), compute_power2(5, 3), compute_power3(5, 3))\n",
    "print(compute_power(4765, 233))\n",
    "print(compute_power2(4765, 233))\n",
    "print(compute_power3(4765, 233))"
   ]
  },
  {
   "cell_type": "markdown",
   "id": "8ef404a3",
   "metadata": {},
   "source": [
    "- Write a function named `pick_random_argument` that takes three arguments and returns randomly one of them.\n",
    "  - Solve the exercise once with `random.choice` and once without using it."
   ]
  },
  {
   "cell_type": "code",
   "execution_count": null,
   "id": "69c5786e",
   "metadata": {},
   "outputs": [
    {
     "name": "stdout",
     "output_type": "stream",
     "text": [
      "Love\n",
      "CPI\n"
     ]
    }
   ],
   "source": [
    "import random\n",
    "def pick_random_argument(a, b, c):\n",
    "  return random.choice([a, b, c])\n",
    "\n",
    "print(pick_random_argument(\"I\", \"Love\", \"Python\"))\n",
    "print(pick_random_argument(\"Class\", \"CPI\", 2025))"
   ]
  },
  {
   "cell_type": "code",
   "execution_count": null,
   "id": "4ebf932d",
   "metadata": {},
   "outputs": [
    {
     "name": "stdout",
     "output_type": "stream",
     "text": [
      "Python\n",
      "2025\n"
     ]
    }
   ],
   "source": [
    "import random\n",
    "def pick_random_argument2(a, b, c):\n",
    "  r = random.randint(1, 3)\n",
    "  if r == 1:\n",
    "    return a\n",
    "  elif r == 2:\n",
    "    return b\n",
    "  else:\n",
    "    return c\n",
    "\n",
    "print(pick_random_argument(\"I\", \"Love\", \"Python\"))\n",
    "print(pick_random_argument(\"Class\", \"CPI\", 2025))"
   ]
  },
  {
   "cell_type": "markdown",
   "id": "345821d7",
   "metadata": {},
   "source": [
    "- Write a function named `pick_random_item` that takes a single argument that can be a list, a string, or a range and returns a random element from it.\n",
    "  - Solve the exercise once with `random.choice` and once without using it."
   ]
  },
  {
   "cell_type": "code",
   "execution_count": 48,
   "id": "82860752",
   "metadata": {},
   "outputs": [
    {
     "name": "stdout",
     "output_type": "stream",
     "text": [
      "1\n",
      "6\n",
      "w\n"
     ]
    }
   ],
   "source": [
    "import random\n",
    "def pick_random_item(items):\n",
    "  return random.choice(items)\n",
    "\n",
    "print(pick_random_item([1, 2, 3]))\n",
    "print(pick_random_item(range(10)))\n",
    "print(pick_random_item(\"Hello world\"))"
   ]
  },
  {
   "cell_type": "code",
   "execution_count": 55,
   "id": "d250621a",
   "metadata": {},
   "outputs": [
    {
     "name": "stdout",
     "output_type": "stream",
     "text": [
      "2\n",
      "1\n",
      "r\n"
     ]
    }
   ],
   "source": [
    "import random\n",
    "def pick_random_item2(items):\n",
    "  i = random.randint(0, len(items) - 1)\n",
    "  return items[i]\n",
    "\n",
    "print(pick_random_item2([1, 2, 3]))\n",
    "print(pick_random_item2(range(10)))\n",
    "print(pick_random_item2(\"Hello world\"))"
   ]
  },
  {
   "cell_type": "markdown",
   "id": "f5c316e1",
   "metadata": {},
   "source": [
    "- Write a function named `is_prime` that takes a single integer argument and return `True` if the argument is a prime number, and `False` otherwise."
   ]
  },
  {
   "cell_type": "markdown",
   "id": "b5275962",
   "metadata": {},
   "source": [
    "- Write a function named `remove_vowels` that takes a single argument (passed as small caps) and returns a list that contains the caracters of the string that are not vowels. For example `remove_vowels(\"hello\")` returns `['h', 'l', 'l']`"
   ]
  }
 ],
 "metadata": {
  "kernelspec": {
   "display_name": "3.12.1",
   "language": "python",
   "name": "python3"
  },
  "language_info": {
   "codemirror_mode": {
    "name": "ipython",
    "version": 3
   },
   "file_extension": ".py",
   "mimetype": "text/x-python",
   "name": "python",
   "nbconvert_exporter": "python",
   "pygments_lexer": "ipython3",
   "version": "3.12.1"
  }
 },
 "nbformat": 4,
 "nbformat_minor": 5
}
