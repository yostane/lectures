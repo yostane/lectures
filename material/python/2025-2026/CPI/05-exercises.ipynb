{
 "cells": [
  {
   "cell_type": "markdown",
   "id": "c97b8305",
   "metadata": {},
   "source": [
    "# Loops exercises"
   ]
  },
  {
   "cell_type": "markdown",
   "id": "c279a3f7",
   "metadata": {},
   "source": [
    "- Generate 20 random integers between -10 and 10 and print:\n",
    "  - How many even numbers were generated\n",
    "  - The max value\n",
    "  - The min value\n",
    "  - The sum of all values\n",
    "  - The average value\n",
    "  - Do not use lists, `max`, `min` and `sum` for this exercises"
   ]
  },
  {
   "cell_type": "code",
   "execution_count": null,
   "id": "f6def4fd",
   "metadata": {},
   "outputs": [
    {
     "name": "stdout",
     "output_type": "stream",
     "text": [
      "Even count 13 . Sum -3 . Average -0.15\n",
      "Min -8 . max 8\n"
     ]
    }
   ],
   "source": [
    "import random\n",
    "\n",
    "# _ underscore (fr: tiret bas)\n",
    "even_count = 0\n",
    "sum_result = 0\n",
    "min_value = 10 # or any value >= 10\n",
    "max_value = -10 # or any <= -10\n",
    "\n",
    "for i in range(20):\n",
    "  x = random.randint(-10, 10)\n",
    "  sum_result = sum_result + x\n",
    "  #print(\"x ->\", x)\n",
    "  if x % 2 == 0:\n",
    "    even_count += 1 # even_count = even_count + 1\n",
    "  if min_value > x:\n",
    "    min_value = x\n",
    "  if max_value < x:\n",
    "    max_value = x\n",
    "\n",
    "print(\"Even count\", even_count, \". Sum\", sum_result, \". Average\", sum_result / 20)\n",
    "print(\"Min\", min_value, \". max\", max_value)"
   ]
  },
  {
   "cell_type": "markdown",
   "id": "1f7a1150",
   "metadata": {},
   "source": [
    "- Generate 20 random integers between 1 and 5 and print how many times each number appears in succession more than 1 time. \n",
    "  - For example, if the program generates: 1, 1, 4, 4, 4, 3, 2, 2, 2, 1, 1, 1, 1. Then it prints: 1 x 2, 4 x 3, 2 x 3, 1 x 4 (we do not print 3 x 1 because we ignore this case of no repetition).\n",
    "  - For example, if the program generates: 4, 4, 4, 4, 4, 1, 1, 4. Then it prints: 4 x 5, 1 x 2"
   ]
  },
  {
   "cell_type": "code",
   "execution_count": null,
   "id": "8615ce81",
   "metadata": {},
   "outputs": [
    {
     "name": "stdout",
     "output_type": "stream",
     "text": [
      "New generated int 1\n",
      "New generated int 1\n",
      "New generated int 3\n",
      "1 x 2\n",
      "New generated int 2\n",
      "New generated int 2\n",
      "New generated int 2\n",
      "New generated int 1\n",
      "2 x 3\n",
      "New generated int 3\n",
      "New generated int 3\n",
      "New generated int 1\n",
      "3 x 2\n"
     ]
    }
   ],
   "source": [
    "import random\n",
    "\n",
    "last_rand_int = 0 # or any int < 1 and > 5\n",
    "repeat_count = 1\n",
    "\n",
    "for i in range(20):\n",
    "  x = random.randint(1, 5)\n",
    "  #print(\"New generated int\", x)\n",
    "  if x == last_rand_int:\n",
    "    #print(\"There is a repetition. Previous value is\", last_rand_int)\n",
    "    repeat_count += 1\n",
    "  else:\n",
    "    if repeat_count > 1:\n",
    "      print(last_rand_int, \"x\", repeat_count)\n",
    "    last_rand_int = x\n",
    "    repeat_count = 1\n",
    "\n",
    "# If the last generated number is a repetition, it is not printed in the loop.\n",
    "# We need to handle this case outside of the loop\n",
    "if repeat_count > 1:\n",
    "  print(last_rand_int, \"x\", repeat_count) "
   ]
  },
  {
   "cell_type": "markdown",
   "id": "ce769a4b",
   "metadata": {},
   "source": [
    "- Write a \"guess the number\" game. The computer generates a random number between 1 and 10. The player tries to guess it with 5 chances.\n",
    "  - If the number given by the player is bigger, the compter replies \"The result is smaller\" and the player tries again\n",
    "  - If the number given by the player is smaller, the compter replies \"The result is bigger\" and the player tries again\n",
    "  - If the number given is correct, the game prints \"you win\" and exits\n",
    "  - If the player fails after the last attempt, the game prints \"you lose\" and exits"
   ]
  },
  {
   "cell_type": "code",
   "execution_count": null,
   "id": "57919fb9",
   "metadata": {},
   "outputs": [
    {
     "name": "stdout",
     "output_type": "stream",
     "text": [
      "Generated number 8\n",
      "The result is bigger\n",
      "The correct number is smaller\n",
      "you win\n"
     ]
    }
   ],
   "source": [
    "import random\n",
    "computer_int = random.randint(1, 10)\n",
    "print(\"Generated number\", computer_int)\n",
    "has_lost = True\n",
    "for i in range(5):\n",
    "  user_guess = int(input(\"Enter your guess\"))\n",
    "  if user_guess > computer_int:\n",
    "    print(\"The correct number is smaller\")\n",
    "  elif user_guess < computer_int:\n",
    "    print(\"The result is bigger\")\n",
    "  else:\n",
    "    print(\"you win\")\n",
    "    has_lost = False\n",
    "    break\n",
    "  \n",
    "if has_lost:\n",
    "  print(\"You lose\")"
   ]
  },
  {
   "cell_type": "markdown",
   "id": "cbad8914",
   "metadata": {},
   "source": [
    "- Generate a ranadom number and print if it's prime or not (has exactly two dividers, 1 and itself. 1 is not prime)"
   ]
  },
  {
   "cell_type": "code",
   "execution_count": 74,
   "id": "0b98fa50",
   "metadata": {},
   "outputs": [
    {
     "name": "stdout",
     "output_type": "stream",
     "text": [
      "21 is not prime\n"
     ]
    }
   ],
   "source": [
    "import random\n",
    "x = random.randint(5, 25)\n",
    "\n",
    "is_prime = True\n",
    "\n",
    "for i in range(2, x):\n",
    "  if x % i == 0:\n",
    "    print(x, \"is not prime\")\n",
    "    is_prime = False\n",
    "    break\n",
    "\n",
    "if is_prime:\n",
    "  print(x, \"is prime\")"
   ]
  }
 ],
 "metadata": {
  "kernelspec": {
   "display_name": "3.12.1",
   "language": "python",
   "name": "python3"
  },
  "language_info": {
   "codemirror_mode": {
    "name": "ipython",
    "version": 3
   },
   "file_extension": ".py",
   "mimetype": "text/x-python",
   "name": "python",
   "nbconvert_exporter": "python",
   "pygments_lexer": "ipython3",
   "version": "3.12.1"
  }
 },
 "nbformat": 4,
 "nbformat_minor": 5
}
