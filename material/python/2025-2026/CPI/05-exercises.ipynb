{
 "cells": [
  {
   "cell_type": "markdown",
   "id": "c97b8305",
   "metadata": {},
   "source": [
    "# Loops exercises\n",
    "\n",
    "- Generate a ranadom number and print if it's prime or not (has exactly two dividers, 1 and itself. 1 is not prime)"
   ]
  },
  {
   "cell_type": "markdown",
   "id": "b73b98d1",
   "metadata": {},
   "source": [
    "- Write a \"guess the number\" game. The computer generates a random number between 1 and 10. The player tries to guess it with 5 chances.\n",
    "  - If the number given by the player is bigger, the compter replies \"bigger\" and the player tries again\n",
    "  - If the number given by the player is smaller, the compter replies \"smaller\" and the player tries again\n",
    "  - If the number given is correct, the game prints \"you win\" and exits\n",
    "  - If the player fails after the last attempt, the game prints \"you lose\" and exits"
   ]
  },
  {
   "cell_type": "markdown",
   "id": "c279a3f7",
   "metadata": {},
   "source": [
    "- Generate 20 random integers between -10 and 10 and print:\n",
    "  - How many even numbers were generated\n",
    "  - The max value\n",
    "  - The min value\n",
    "  - The sum of all values\n",
    "  - The average value\n",
    "  - Do not use lists, `max`, `min` and `sum` for this exercises"
   ]
  },
  {
   "cell_type": "markdown",
   "id": "1f7a1150",
   "metadata": {},
   "source": [
    "- Generate 20 random integers between 1 and 5 and print how many times each number appears in succession more than 1 time. For example, if the program generates: 1, 1, 4, 4, 4, 3, 2, 2, 2, 1, 1, 1, 1. Then it prints: 1 x 2, 4 x 3, 2 x 3, 1 x 4 (we do not print 3 x 1 because we ignore this case of no repetition)."
   ]
  }
 ],
 "metadata": {
  "language_info": {
   "name": "python"
  }
 },
 "nbformat": 4,
 "nbformat_minor": 5
}
