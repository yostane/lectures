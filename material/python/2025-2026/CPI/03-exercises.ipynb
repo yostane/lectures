{
 "cells": [
  {
   "cell_type": "markdown",
   "id": "88172a69",
   "metadata": {},
   "source": [
    "# Exercises\n",
    "\n",
    "- Write a Python script that genreates two randon integers (between -10 and 10) and prints:\n",
    "  - Their sum\n",
    "  - Their multiplication\n",
    "  - Which of the sum or multiplication is bigger"
   ]
  },
  {
   "cell_type": "markdown",
   "id": "372a8fd6",
   "metadata": {},
   "source": [
    "- Write a Python script that generates three random integers and prints them.\n",
    "After that, it prints them again in the ascending order (from smallest to biggest).\n",
    "\n",
    "⚠ Do not use the `max`, `min` or `sort` functions from Python.\n",
    "\n",
    "Hint: you can write `else if` conditions. For example:\n",
    "\n",
    "```python\n",
    "if a > b:\n",
    "  #some code where a > b\n",
    "else if a > c:\n",
    "  # some code where a > c\n",
    "else:\n",
    "  # some code where a <= b and a <= c\n",
    "```"
   ]
  }
 ],
 "metadata": {
  "language_info": {
   "name": "python"
  }
 },
 "nbformat": 4,
 "nbformat_minor": 5
}
