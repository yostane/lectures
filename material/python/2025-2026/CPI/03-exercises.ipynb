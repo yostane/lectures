{
 "cells": [
  {
   "cell_type": "markdown",
   "id": "88172a69",
   "metadata": {},
   "source": [
    "# Exercises\n",
    "\n",
    "- Write a Python script that genreates two randon integers (between -10 and 10) and prints:\n",
    "  - Their sum\n",
    "  - Their multiplication\n",
    "  - Which of the sum or multiplication is bigger"
   ]
  },
  {
   "cell_type": "code",
   "execution_count": 17,
   "id": "c64d5b67",
   "metadata": {},
   "outputs": [
    {
     "name": "stdout",
     "output_type": "stream",
     "text": [
      "-2 -8\n",
      "the sum -2 is bigger\n",
      "the sum -2 is bigger\n"
     ]
    }
   ],
   "source": [
    "import random\n",
    "\n",
    "x1 = random.randint(-10, 10)\n",
    "x2 = random.randint(-10, 10)\n",
    "s = x1 + x2\n",
    "m = x1 * x2\n",
    "print(s, m)\n",
    "if s > m:\n",
    "  print(\"the sum\", s, \"is bigger\")\n",
    "  print(f\"the sum {s} is bigger\")\n",
    "else:\n",
    "  print(\"the multiplication\", m, \"is bigger\")\n",
    "  print(f\"the multiplication {m} is bigger\")"
   ]
  },
  {
   "cell_type": "markdown",
   "id": "372a8fd6",
   "metadata": {},
   "source": [
    "- Write a Python script that generates three random integers and prints them.\n",
    "After that, it prints them again in the ascending order (from smallest to biggest).\n",
    "\n",
    "⚠ Do not use the `max`, `min` or `sort` functions from Python.\n",
    "\n",
    "Hint: you can write `else if` conditions with `elif`. For example:\n",
    "\n",
    "```python\n",
    "if a > b:\n",
    "  #some code where a > b\n",
    "elif a > c:\n",
    "  # some code where a > c\n",
    "else:\n",
    "  # some code where a <= b and a <= c\n",
    "```"
   ]
  },
  {
   "cell_type": "code",
   "execution_count": 26,
   "id": "e48d87db",
   "metadata": {},
   "outputs": [
    {
     "name": "stdout",
     "output_type": "stream",
     "text": [
      "-6 -35 34\n",
      "-35 -6 34\n",
      "-35 -6 34\n"
     ]
    }
   ],
   "source": [
    "import random\n",
    "\n",
    "b = 100\n",
    "r1 = random.randint(-b, b)\n",
    "r2 = random.randint(-b, b)\n",
    "r3 = random.randint(-b, b)\n",
    "\n",
    "print(r1, r2, r3)\n",
    "\n",
    "if r1 > r2:\n",
    "  if r2 > r3:\n",
    "    print(r3, r2, r1)\n",
    "  elif r3 > r1:\n",
    "    print(r2, r1, r3)\n",
    "  else:\n",
    "    print(r2, r3, r1)\n",
    "else: #r2 >= r1\n",
    "  if r1 > r3:\n",
    "    print(r3, r1, r2)\n",
    "  elif r2 > r3:\n",
    "    print(r1, r3, r2)\n",
    "  else:\n",
    "    print(r1, r2, r3)\n",
    "    \n",
    "if r1 < r2 < r3:\n",
    "  print(r1, r2, r3)\n",
    "elif r1 < r3 < r2:\n",
    "  print(r1, r3, r3)\n",
    "elif r2 < r1 < r3:\n",
    "  print(r2, r1, r3)\n",
    "elif r2 < r3 < r1:\n",
    "  print(r2, r3, r1)\n",
    "elif r3 < r1 < r2:\n",
    "  print(r3, r1, r2)\n",
    "else:\n",
    "  print(r3, r2, r1)"
   ]
  }
 ],
 "metadata": {
  "kernelspec": {
   "display_name": "3.12.1",
   "language": "python",
   "name": "python3"
  },
  "language_info": {
   "codemirror_mode": {
    "name": "ipython",
    "version": 3
   },
   "file_extension": ".py",
   "mimetype": "text/x-python",
   "name": "python",
   "nbconvert_exporter": "python",
   "pygments_lexer": "ipython3",
   "version": "3.12.1"
  }
 },
 "nbformat": 4,
 "nbformat_minor": 5
}
