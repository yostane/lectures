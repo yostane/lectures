{
 "cells": [
  {
   "cell_type": "markdown",
   "id": "81eb47b0",
   "metadata": {},
   "source": [
    "## Loop through Strings\n",
    "\n",
    "For loops can loop through Strings."
   ]
  },
  {
   "cell_type": "code",
   "execution_count": null,
   "id": "b8762b49",
   "metadata": {},
   "outputs": [
    {
     "name": "stdout",
     "output_type": "stream",
     "text": [
      "H\n",
      "e\n",
      "l\n",
      "l\n",
      "o\n"
     ]
    }
   ],
   "source": [
    "message = \"Hello\"\n",
    "\n",
    "for c in message:\n",
    "  print(c)"
   ]
  },
  {
   "cell_type": "code",
   "execution_count": null,
   "id": "735b80a2",
   "metadata": {},
   "outputs": [
    {
     "name": "stdout",
     "output_type": "stream",
     "text": [
      "Number of spaces 2\n"
     ]
    }
   ],
   "source": [
    "text = \"I love Python\"\n",
    "\n",
    "space_count = 0\n",
    "for char in text:\n",
    "  if char == \" \":\n",
    "    space_count += 1\n",
    "    \n",
    "print(\"Number of spaces\", space_count)"
   ]
  },
  {
   "cell_type": "markdown",
   "id": "10251541",
   "metadata": {},
   "source": [
    "## Exercises\n",
    "\n",
    "- Print the number of punctuation: `,` and `.` in a hard coded String of your choosing."
   ]
  },
  {
   "cell_type": "code",
   "execution_count": 1,
   "id": "5169f56f",
   "metadata": {},
   "outputs": [
    {
     "name": "stdout",
     "output_type": "stream",
     "text": [
      "The punctuation count is 2\n"
     ]
    }
   ],
   "source": [
    "text = \"Once upon a time, Sangoku became a super Saiyan.\"\n",
    "\n",
    "punctuation_count = 0\n",
    "for c in text:\n",
    "  if c == \".\" or c == \",\":\n",
    "    punctuation_count += 1\n",
    "print(\"The punctuation count is\", punctuation_count)"
   ]
  },
  {
   "cell_type": "markdown",
   "id": "ff91386c",
   "metadata": {},
   "source": [
    "- Print the number of vowels (a, e, i, o, u, y) in a hard coded String of your choosing"
   ]
  },
  {
   "cell_type": "code",
   "execution_count": null,
   "id": "5f605223",
   "metadata": {},
   "outputs": [],
   "source": [
    "text = \"The hidden village of the leaf is called Konohagakure. I never visited it.\"\n",
    "\n",
    "vowel_count = 0\n",
    "for c in text:\n",
    "  if c == \"a\" or c == \"e\" or c == \"i\" or c == \"o\" or c == \"u\":\n",
    "    vowel_count += 1\n",
    "  elif c == \"A\" or c == \"E\" or c == \"I\" or c == \"O\" or c == \"U\":\n",
    "    vowel_count += 1\n",
    "print(\"The vowel count is\", punctuation_count)"
   ]
  },
  {
   "cell_type": "markdown",
   "id": "f2f618fe",
   "metadata": {},
   "source": [
    "- Print the number of consonants in a hard coded String of your choosing."
   ]
  },
  {
   "cell_type": "code",
   "execution_count": null,
   "id": "93e2b905",
   "metadata": {},
   "outputs": [],
   "source": [
    "text = \"Kaiju n°8 is human who can transform to a Kaiju at will\"\n",
    "\n",
    "consonant_count = 0\n",
    "for c in text:\n",
    "  if c != \"a\" and c != \"e\" and c != \"i\" and c != \"o\" and c != \"u\" \\\n",
    "    and c != \"A\" and c != \"E\" and c != \"I\" and c != \"O\" and c != \"U\"\\\n",
    "      and c != \".\" and c != \",\" :\n",
    "    consonant_count += 1\n",
    "print(\"The consonant count is\", consonant_count)"
   ]
  },
  {
   "cell_type": "markdown",
   "id": "d5cbc34f",
   "metadata": {},
   "source": [
    "- Print the number of words in a hard coded String of your choosing. ⚠️ do not use the `split` function."
   ]
  },
  {
   "cell_type": "markdown",
   "id": "e48ff9f2",
   "metadata": {},
   "source": [
    "- Print the repetitions of each letter in String following these examples:\n",
    "  - If the input string is `Hello`, the output will be: `H x 1, e x 1, l x 2, o x 1`\n",
    "  - If the input string is `Hoothoot`, the output will be: `H x 1, o x 2, t x 1, h x 1, o x 2, t x 1`"
   ]
  }
 ],
 "metadata": {
  "kernelspec": {
   "display_name": "3.12.1",
   "language": "python",
   "name": "python3"
  },
  "language_info": {
   "codemirror_mode": {
    "name": "ipython",
    "version": 3
   },
   "file_extension": ".py",
   "mimetype": "text/x-python",
   "name": "python",
   "nbconvert_exporter": "python",
   "pygments_lexer": "ipython3",
   "version": "3.12.1"
  }
 },
 "nbformat": 4,
 "nbformat_minor": 5
}
