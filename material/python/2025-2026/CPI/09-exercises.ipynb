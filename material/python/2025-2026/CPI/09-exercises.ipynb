{
 "cells": [
  {
   "cell_type": "markdown",
   "id": "b808fee9",
   "metadata": {},
   "source": [
    "# Exercises\n",
    "\n",
    "## Part 1\n",
    "\n",
    "- What is the value of `t` at the end of each of the following code blocks. Find the reply without running the code."
   ]
  },
  {
   "cell_type": "code",
   "execution_count": null,
   "id": "336c8d0b",
   "metadata": {},
   "outputs": [],
   "source": [
    "x = 43242343 % 2\n",
    "t = 3\n",
    "if x % 2 == 0:\n",
    "  t += 5\n",
    "else:\n",
    "  t += 3"
   ]
  },
  {
   "cell_type": "code",
   "execution_count": null,
   "id": "97c60735",
   "metadata": {},
   "outputs": [],
   "source": [
    "import random\n",
    "r = random.randint(0, 200) % 2\n",
    "s = r * 2\n",
    "t = \"\"\n",
    "if s % 2 == 0:\n",
    "  t = \"Hello\"\n",
    "else:\n",
    "  t = \"World\""
   ]
  },
  {
   "cell_type": "code",
   "execution_count": null,
   "id": "7cffb82d",
   "metadata": {},
   "outputs": [],
   "source": [
    "t = len(\"4321\") + int(\"4321\")"
   ]
  },
  {
   "cell_type": "code",
   "execution_count": null,
   "id": "6708072c",
   "metadata": {},
   "outputs": [],
   "source": [
    "t = []\n",
    "for x in range(10):\n",
    "  if x + 1 % 2 == 0:\n",
    "    t.append(x)"
   ]
  },
  {
   "cell_type": "code",
   "execution_count": null,
   "id": "61a7b352",
   "metadata": {},
   "outputs": [],
   "source": [
    "import random\n",
    "t = random.randint(0, 10) > 200"
   ]
  },
  {
   "cell_type": "markdown",
   "id": "dfb901c0",
   "metadata": {},
   "source": [
    "## Part 2\n",
    "\n",
    "- What is the type of t in each of these code blocks?"
   ]
  },
  {
   "cell_type": "code",
   "execution_count": null,
   "id": "147a43f8",
   "metadata": {},
   "outputs": [],
   "source": [
    "t = 34 * 4"
   ]
  },
  {
   "cell_type": "code",
   "execution_count": null,
   "id": "fce8292a",
   "metadata": {},
   "outputs": [],
   "source": [
    "t = int(input(\"Please tell me a story\"))"
   ]
  },
  {
   "cell_type": "code",
   "execution_count": null,
   "id": "1b459caf",
   "metadata": {},
   "outputs": [],
   "source": [
    "t = input(\"How do you do?\")"
   ]
  },
  {
   "cell_type": "code",
   "execution_count": null,
   "id": "2396601c",
   "metadata": {},
   "outputs": [],
   "source": [
    "s = []\n",
    "s.append(\"Python is amazing\")\n",
    "t = s"
   ]
  },
  {
   "cell_type": "code",
   "execution_count": null,
   "id": "3ec48883",
   "metadata": {},
   "outputs": [],
   "source": [
    "import random\n",
    "t = random.randint(0, 10) > 200"
   ]
  },
  {
   "cell_type": "markdown",
   "id": "cd4aac7f",
   "metadata": {},
   "source": [
    "## Part 3\n",
    "\n"
   ]
  }
 ],
 "metadata": {
  "kernelspec": {
   "display_name": "3.12.1",
   "language": "python",
   "name": "python3"
  },
  "language_info": {
   "codemirror_mode": {
    "name": "ipython",
    "version": 3
   },
   "file_extension": ".py",
   "mimetype": "text/x-python",
   "name": "python",
   "nbconvert_exporter": "python",
   "pygments_lexer": "ipython3",
   "version": "3.12.1"
  }
 },
 "nbformat": 4,
 "nbformat_minor": 5
}
