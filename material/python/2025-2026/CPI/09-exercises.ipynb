{
 "cells": [
  {
   "cell_type": "markdown",
   "id": "b808fee9",
   "metadata": {},
   "source": [
    "# Exercises\n",
    "\n",
    "## Part 1\n",
    "\n",
    "- What is the value of `t` at the end of each of the following code blocks. Find the reply without running the code."
   ]
  },
  {
   "cell_type": "code",
   "execution_count": 2,
   "id": "336c8d0b",
   "metadata": {},
   "outputs": [
    {
     "data": {
      "text/plain": [
       "6"
      ]
     },
     "execution_count": 2,
     "metadata": {},
     "output_type": "execute_result"
    }
   ],
   "source": [
    "x = 43242343 % 2\n",
    "t = 3\n",
    "if x % 2 == 0:\n",
    "  t += 5\n",
    "else:\n",
    "  t += 3\n",
    "\n",
    "t"
   ]
  },
  {
   "cell_type": "code",
   "execution_count": 3,
   "id": "97c60735",
   "metadata": {},
   "outputs": [
    {
     "data": {
      "text/plain": [
       "'Hello'"
      ]
     },
     "execution_count": 3,
     "metadata": {},
     "output_type": "execute_result"
    }
   ],
   "source": [
    "import random\n",
    "r = random.randint(0, 200) * 2\n",
    "t = \"\"\n",
    "if r % 2 == 0:\n",
    "  t = \"Hello\"\n",
    "else:\n",
    "  t = \"World\"\n",
    "\n",
    "t"
   ]
  },
  {
   "cell_type": "code",
   "execution_count": 5,
   "id": "7cffb82d",
   "metadata": {},
   "outputs": [
    {
     "data": {
      "text/plain": [
       "4325"
      ]
     },
     "execution_count": 5,
     "metadata": {},
     "output_type": "execute_result"
    }
   ],
   "source": [
    "t = len(\"4321\") + int(\"4321\")\n",
    "t"
   ]
  },
  {
   "cell_type": "code",
   "execution_count": 7,
   "id": "6708072c",
   "metadata": {},
   "outputs": [
    {
     "data": {
      "text/plain": [
       "[1, 3, 5, 7, 9]"
      ]
     },
     "execution_count": 7,
     "metadata": {},
     "output_type": "execute_result"
    }
   ],
   "source": [
    "t = []\n",
    "for x in range(10):\n",
    "  if (x + 1) % 2 == 0:\n",
    "    t.append(x)\n",
    "    \n",
    "t"
   ]
  },
  {
   "cell_type": "code",
   "execution_count": 8,
   "id": "61a7b352",
   "metadata": {},
   "outputs": [
    {
     "data": {
      "text/plain": [
       "False"
      ]
     },
     "execution_count": 8,
     "metadata": {},
     "output_type": "execute_result"
    }
   ],
   "source": [
    "import random\n",
    "t = random.randint(0, 10) > 200\n",
    "\n",
    "t"
   ]
  },
  {
   "cell_type": "markdown",
   "id": "dfb901c0",
   "metadata": {},
   "source": [
    "## Part 2\n",
    "\n",
    "- What is the type of t in each of these code blocks?"
   ]
  },
  {
   "cell_type": "code",
   "execution_count": null,
   "id": "147a43f8",
   "metadata": {},
   "outputs": [],
   "source": [
    "t = 34 * 4"
   ]
  },
  {
   "cell_type": "code",
   "execution_count": null,
   "id": "fce8292a",
   "metadata": {},
   "outputs": [],
   "source": [
    "t = int(input(\"Please tell me how many stories shall I tell you\"))"
   ]
  },
  {
   "cell_type": "code",
   "execution_count": null,
   "id": "1b459caf",
   "metadata": {},
   "outputs": [],
   "source": [
    "t = input(\"How do you do?\")"
   ]
  },
  {
   "cell_type": "code",
   "execution_count": null,
   "id": "2396601c",
   "metadata": {},
   "outputs": [],
   "source": [
    "s = []\n",
    "s.append(\"Python is amazing\")\n",
    "t = s"
   ]
  },
  {
   "cell_type": "code",
   "execution_count": null,
   "id": "3ec48883",
   "metadata": {},
   "outputs": [],
   "source": [
    "import random\n",
    "t = random.randint(0, 10) > 200"
   ]
  },
  {
   "cell_type": "markdown",
   "id": "9a979614",
   "metadata": {},
   "source": [
    "## Part 3\n",
    "\n",
    "- Tell exactly what these code blocks will print"
   ]
  },
  {
   "cell_type": "code",
   "execution_count": null,
   "id": "fd5190e0",
   "metadata": {},
   "outputs": [],
   "source": [
    "animals = [\"dog\", \"cat\", \"mouse\"]\n",
    "for a in [0, 1, 2]:\n",
    "  print(a)\n",
    "for a in animals:\n",
    "  if len(a) == len(animals):\n",
    "    print(a, \"has same len\")\n",
    "  else:\n",
    "    print(a, \"does not have same len\")"
   ]
  },
  {
   "cell_type": "markdown",
   "id": "cd4aac7f",
   "metadata": {},
   "source": [
    "## Part 4\n",
    "\n",
    "- Write a function that takes two lists of integers as argument and returns the wighted average (moyenne pondérée) of the first list using the second list as wights\n",
    "  - Example: `[10, 5, 13]` with weights `[2, 1, 3]` will return: 10.66, which is computed from => `(10 * 2 + 5 + 13 * 3) / (2 + 1 + 3)`\n",
    "- Given the mathematical function `f(x) = x ** 5 + 3` (** means power in python). Print the value of `f(x)` for integers ranging from -10 to 10 (10 included)"
   ]
  }
 ],
 "metadata": {
  "kernelspec": {
   "display_name": "3.12.1",
   "language": "python",
   "name": "python3"
  },
  "language_info": {
   "codemirror_mode": {
    "name": "ipython",
    "version": 3
   },
   "file_extension": ".py",
   "mimetype": "text/x-python",
   "name": "python",
   "nbconvert_exporter": "python",
   "pygments_lexer": "ipython3",
   "version": "3.12.1"
  }
 },
 "nbformat": 4,
 "nbformat_minor": 5
}
