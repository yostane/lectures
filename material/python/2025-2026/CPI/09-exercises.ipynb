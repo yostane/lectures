{
 "cells": [
  {
   "cell_type": "markdown",
   "id": "b808fee9",
   "metadata": {},
   "source": [
    "# Exercises\n",
    "\n",
    "## Part 1\n",
    "\n",
    "- What is the value of `t` at the end of each of the following code blocks. Find the reply without running the code."
   ]
  },
  {
   "cell_type": "code",
   "execution_count": 9,
   "id": "336c8d0b",
   "metadata": {},
   "outputs": [
    {
     "data": {
      "text/plain": [
       "6"
      ]
     },
     "execution_count": 9,
     "metadata": {},
     "output_type": "execute_result"
    }
   ],
   "source": [
    "x = 43242343 % 2\n",
    "t = 3\n",
    "if x == 0:\n",
    "  t += 5\n",
    "else:\n",
    "  t += 3\n",
    "\n",
    "t"
   ]
  },
  {
   "cell_type": "code",
   "execution_count": 10,
   "id": "97c60735",
   "metadata": {},
   "outputs": [
    {
     "data": {
      "text/plain": [
       "'Hello'"
      ]
     },
     "execution_count": 10,
     "metadata": {},
     "output_type": "execute_result"
    }
   ],
   "source": [
    "import random\n",
    "r = random.randint(0, 200) * 2\n",
    "t = \"\"\n",
    "if r % 2 == 0:\n",
    "  t = \"Hello\"\n",
    "else:\n",
    "  t = \"World\"\n",
    "\n",
    "t"
   ]
  },
  {
   "cell_type": "code",
   "execution_count": 11,
   "id": "7cffb82d",
   "metadata": {},
   "outputs": [
    {
     "data": {
      "text/plain": [
       "4325"
      ]
     },
     "execution_count": 11,
     "metadata": {},
     "output_type": "execute_result"
    }
   ],
   "source": [
    "t = len(\"4321\") + int(\"4321\")\n",
    "t"
   ]
  },
  {
   "cell_type": "code",
   "execution_count": 12,
   "id": "6708072c",
   "metadata": {},
   "outputs": [
    {
     "data": {
      "text/plain": [
       "[1, 3, 5, 7, 9]"
      ]
     },
     "execution_count": 12,
     "metadata": {},
     "output_type": "execute_result"
    }
   ],
   "source": [
    "t = []\n",
    "for x in range(10):\n",
    "  if (x + 1) % 2 == 0:\n",
    "    t.append(x)\n",
    "    \n",
    "t"
   ]
  },
  {
   "cell_type": "code",
   "execution_count": 13,
   "id": "61a7b352",
   "metadata": {},
   "outputs": [
    {
     "data": {
      "text/plain": [
       "False"
      ]
     },
     "execution_count": 13,
     "metadata": {},
     "output_type": "execute_result"
    }
   ],
   "source": [
    "import random\n",
    "t = random.randint(0, 10) > 200\n",
    "\n",
    "t"
   ]
  },
  {
   "cell_type": "markdown",
   "id": "dfb901c0",
   "metadata": {},
   "source": [
    "## Part 2\n",
    "\n",
    "- What is the type of t in each of these code blocks?"
   ]
  },
  {
   "cell_type": "code",
   "execution_count": 14,
   "id": "147a43f8",
   "metadata": {},
   "outputs": [],
   "source": [
    "t = 34 * 4\n",
    "# Integer"
   ]
  },
  {
   "cell_type": "markdown",
   "id": "fce8292a",
   "metadata": {},
   "source": [
    "`t = int(input(\"Please tell me how many stories shall I tell you\"))`\n",
    "-> Integer (because int converts to an integer)"
   ]
  },
  {
   "cell_type": "markdown",
   "id": "1b459caf",
   "metadata": {},
   "source": [
    "`t = input(\"How do you do?\")`\n",
    "-> string because input returns a string"
   ]
  },
  {
   "cell_type": "code",
   "execution_count": 15,
   "id": "2396601c",
   "metadata": {},
   "outputs": [],
   "source": [
    "s = []\n",
    "s.append(\"Python is amazing\")\n",
    "t = s\n",
    "# list"
   ]
  },
  {
   "cell_type": "code",
   "execution_count": 16,
   "id": "3ec48883",
   "metadata": {},
   "outputs": [],
   "source": [
    "import random\n",
    "t = random.randint(0, 10) > 200\n",
    "# boolean"
   ]
  },
  {
   "cell_type": "markdown",
   "id": "9a979614",
   "metadata": {},
   "source": [
    "## Part 3\n",
    "\n",
    "- Tell exactly what these code blocks will print"
   ]
  },
  {
   "cell_type": "code",
   "execution_count": 17,
   "id": "fd5190e0",
   "metadata": {},
   "outputs": [
    {
     "name": "stdout",
     "output_type": "stream",
     "text": [
      "0\n",
      "1\n",
      "2\n"
     ]
    }
   ],
   "source": [
    "for a in [0, 1, 2]:\n",
    "  print(a)"
   ]
  },
  {
   "cell_type": "code",
   "execution_count": 18,
   "id": "5de9e10c",
   "metadata": {},
   "outputs": [
    {
     "name": "stdout",
     "output_type": "stream",
     "text": [
      "dog has same len\n",
      "cat has same len\n",
      "mouse does not have same len\n"
     ]
    }
   ],
   "source": [
    "animals = [\"dog\", \"cat\", \"mouse\"]\n",
    "for a in animals:\n",
    "  if len(a) == len(animals):\n",
    "    print(a, \"has same len\")\n",
    "  else:\n",
    "    print(a, \"does not have same len\")"
   ]
  },
  {
   "cell_type": "markdown",
   "id": "cd4aac7f",
   "metadata": {},
   "source": [
    "## Part 4\n",
    "\n",
    "- Write a function that takes two lists of integers as argument and returns the wighted average (moyenne pondérée) of the first list using the second list as wights.\n",
    "  - We suppose that the lists have the same length.\n",
    "  - Example: `[10, 5, 13]` with weights `[2, 1, 3]` will return: 10.66, which is computed from => `(10 * 2 + 5 + 13 * 3) / (2 + 1 + 3)`"
   ]
  },
  {
   "cell_type": "code",
   "execution_count": 19,
   "id": "1e9c7e07",
   "metadata": {},
   "outputs": [
    {
     "data": {
      "text/plain": [
       "10.666666666666666"
      ]
     },
     "execution_count": 19,
     "metadata": {},
     "output_type": "execute_result"
    }
   ],
   "source": [
    "def compute_weighted_sum(values, weights):\n",
    "  value_sum = 0\n",
    "  weight_sum = 0\n",
    "  for i in range(len(values)):\n",
    "    value_sum += values[i] * weights[i]\n",
    "    weight_sum += weights[i]\n",
    "  return value_sum / weight_sum\n",
    "\n",
    "compute_weighted_sum([10, 5, 13], [2, 1, 3])"
   ]
  },
  {
   "cell_type": "markdown",
   "id": "3277fe6b",
   "metadata": {},
   "source": [
    "- Given the mathematical function `f(x) = x ** 5 + 3` (** means power in python). Print the value of `f(x)` for integers ranging from -10 to 10 (10 included)"
   ]
  },
  {
   "cell_type": "markdown",
   "id": "79c39aab",
   "metadata": {},
   "source": [
    "## Part 5\n",
    "\n",
    "Answer these questions.\n",
    "\n",
    "1. Is Python a programming language?\n",
    "1. What is a variable?\n",
    "1. What is a function?\n",
    "1. What is a list?\n",
    "1. What is a loop?\n",
    "1. Can we change the value of a variable in Python?\n",
    "1. Can we change the type of a variable in Python?\n",
    "1. Can we change content of a list in Python?\n",
    "1. Is this a correct expression in Python: `3 + \"3\"`? Why?\n",
    "1. What is the difference between `=` and `==`?\n",
    "1. What is last value of range(n)?\n",
    "1. Give a common thing between a list and a string.\n"
   ]
  },
  {
   "cell_type": "markdown",
   "id": "e3cc7a9c",
   "metadata": {},
   "source": [
    "Answers\n",
    "\n",
    "1. yes\n",
    "1. a named location in memory to store a value\n",
    "1. a block of reusable code that performs a specific task\n",
    "1. a collection of items stored in a single variable\n",
    "1. a control structure that repeats a block of code\n",
    "1. yes\n",
    "1. yes\n",
    "1. yes\n",
    "1. no. because we cannot add an integer and a string.\n",
    "1. `=` is for assignment, `==` is for comparison\n",
    "1. n-1\n",
    "1. Possible responses:\n",
    "  - both can be indexed (access an element by its position `list[i]` or `string[i]`)\n",
    "  - both can be iterated over in a loop\n",
    "  - Both accept the `len()` function to get their length\n",
    "  - Both accept the `in` operator to check for membership"
   ]
  }
 ],
 "metadata": {
  "kernelspec": {
   "display_name": "3.12.1",
   "language": "python",
   "name": "python3"
  },
  "language_info": {
   "codemirror_mode": {
    "name": "ipython",
    "version": 3
   },
   "file_extension": ".py",
   "mimetype": "text/x-python",
   "name": "python",
   "nbconvert_exporter": "python",
   "pygments_lexer": "ipython3",
   "version": "3.12.1"
  }
 },
 "nbformat": 4,
 "nbformat_minor": 5
}
