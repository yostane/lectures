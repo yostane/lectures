{
 "cells": [
  {
   "cell_type": "markdown",
   "id": "b808fee9",
   "metadata": {},
   "source": [
    "# Exercises\n",
    "\n",
    "- What is the value of `t` at the end of each of the following code blocks. Find the reply without running the code."
   ]
  },
  {
   "cell_type": "code",
   "execution_count": null,
   "id": "336c8d0b",
   "metadata": {},
   "outputs": [],
   "source": [
    "x = 43242343 % 2\n",
    "t = 3\n",
    "if x % 2 == 0:\n",
    "  t += 5\n",
    "else:\n",
    "  t += 3"
   ]
  },
  {
   "cell_type": "code",
   "execution_count": null,
   "id": "97c60735",
   "metadata": {},
   "outputs": [],
   "source": [
    "import random\n",
    "r = random.randint(0, 200) % 2\n",
    "s = r * 2\n",
    "t = \"\"\n",
    "if s % 2 == 0:\n",
    "  t = \"Hello\"\n",
    "else:\n",
    "  t = \"World\""
   ]
  },
  {
   "cell_type": "code",
   "execution_count": null,
   "id": "7cffb82d",
   "metadata": {},
   "outputs": [],
   "source": [
    "t = len(\"4321\") + int(\"4321\")"
   ]
  }
 ],
 "metadata": {
  "kernelspec": {
   "display_name": "3.12.1",
   "language": "python",
   "name": "python3"
  },
  "language_info": {
   "name": "python",
   "version": "3.12.1"
  }
 },
 "nbformat": 4,
 "nbformat_minor": 5
}
