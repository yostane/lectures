{
 "cells": [
  {
   "cell_type": "markdown",
   "id": "0ed90719",
   "metadata": {},
   "source": [
    "# Loops\n",
    "\n",
    "If we want to do the dice game with 3 chances or lives"
   ]
  },
  {
   "cell_type": "code",
   "execution_count": null,
   "id": "65c8316a",
   "metadata": {},
   "outputs": [],
   "source": [
    "import random\n",
    "dice = random.randint(1, 6)\n",
    "x = int(input(\"Enter a number between 1 and 6\"))\n",
    "if dice == x:\n",
    "  print(\"win\")\n",
    "  exit(1)\n",
    "  \n",
    "x = int(input(\"Second chance to enter a number between 1 and 6\"))\n",
    "if dice == x:\n",
    "  print(\"win\")\n",
    "  exit(1)\n",
    "  \n",
    "x = int(input(\"Last chance to enter a number between 1 and 6\"))\n",
    "if dice == x:\n",
    "  print(\"win\")\n",
    "else:\n",
    "  print(\"you lose\")\n",
    "  "
   ]
  },
  {
   "cell_type": "markdown",
   "id": "f59dddac",
   "metadata": {},
   "source": [
    "But it's better to use a loop syntax.\n",
    "Since Jupyter have issues with `exit` in a for loop, we'll `break` and a boolean as a workaround"
   ]
  },
  {
   "cell_type": "code",
   "execution_count": 5,
   "id": "c12c718e",
   "metadata": {},
   "outputs": [
    {
     "name": "stdout",
     "output_type": "stream",
     "text": [
      "2\n",
      "you lose\n"
     ]
    }
   ],
   "source": [
    "import random\n",
    "dice = random.randint(1, 6)\n",
    "print(dice)\n",
    "\n",
    "won = False\n",
    "for i in range(3):\n",
    "  x = int(input(f\"Attempt {i}. Enter a number between 1 and 6\"))\n",
    "  if dice == x:\n",
    "    print(\"win\")\n",
    "    won = True\n",
    "    break\n",
    "\n",
    "if won == False:\n",
    "  print(\"you lose\")"
   ]
  },
  {
   "cell_type": "markdown",
   "id": "fd43a437",
   "metadata": {},
   "source": [
    "Basic loop syntax"
   ]
  },
  {
   "cell_type": "code",
   "execution_count": null,
   "id": "6955ad1f",
   "metadata": {},
   "outputs": [],
   "source": [
    "for i in range(6):\n",
    "  print(i)"
   ]
  }
 ],
 "metadata": {
  "kernelspec": {
   "display_name": "3.12.1",
   "language": "python",
   "name": "python3"
  },
  "language_info": {
   "codemirror_mode": {
    "name": "ipython",
    "version": 3
   },
   "file_extension": ".py",
   "mimetype": "text/x-python",
   "name": "python",
   "nbconvert_exporter": "python",
   "pygments_lexer": "ipython3",
   "version": "3.12.1"
  }
 },
 "nbformat": 4,
 "nbformat_minor": 5
}
