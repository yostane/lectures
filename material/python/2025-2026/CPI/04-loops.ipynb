{
 "cells": [
  {
   "cell_type": "markdown",
   "id": "0ed90719",
   "metadata": {},
   "source": [
    "# Loops\n",
    "\n",
    "If we want to do the dice game with 3 chances or lives"
   ]
  },
  {
   "cell_type": "code",
   "execution_count": null,
   "id": "65c8316a",
   "metadata": {},
   "outputs": [],
   "source": [
    "import random\n",
    "dice = random.randint(1, 6)\n",
    "x = int(input(\"Enter a number between 1 and 6\"))\n",
    "if dice == x:\n",
    "  print(\"win\")\n",
    "  exit(1)\n",
    "  \n",
    "x = int(input(\"Second chance to enter a number between 1 and 6\"))\n",
    "if dice == x:\n",
    "  print(\"win\")\n",
    "  exit(1)\n",
    "  \n",
    "x = int(input(\"Last chance to enter a number between 1 and 6\"))\n",
    "if dice == x:\n",
    "  print(\"win\")\n",
    "else:\n",
    "  print(\"you lose\")\n",
    "  "
   ]
  },
  {
   "cell_type": "markdown",
   "id": "f59dddac",
   "metadata": {},
   "source": [
    "But it's better to use a loop syntax.\n",
    "Since Jupyter have issues with `exit` in a for loop, we'll `break` and a boolean as a workaround"
   ]
  },
  {
   "cell_type": "code",
   "execution_count": 5,
   "id": "c12c718e",
   "metadata": {},
   "outputs": [
    {
     "name": "stdout",
     "output_type": "stream",
     "text": [
      "2\n",
      "you lose\n"
     ]
    }
   ],
   "source": [
    "import random\n",
    "dice = random.randint(1, 6)\n",
    "print(dice)\n",
    "\n",
    "won = False\n",
    "for i in range(3):\n",
    "  x = int(input(f\"Attempt {i}. Enter a number between 1 and 6\"))\n",
    "  if dice == x:\n",
    "    print(\"win\")\n",
    "    won = True\n",
    "    break\n",
    "\n",
    "if won == False:\n",
    "  print(\"you lose\")"
   ]
  },
  {
   "cell_type": "markdown",
   "id": "fd43a437",
   "metadata": {},
   "source": [
    "Basic loop syntax"
   ]
  },
  {
   "cell_type": "code",
   "execution_count": null,
   "id": "6955ad1f",
   "metadata": {},
   "outputs": [],
   "source": [
    "for i in range(6):\n",
    "  print(i)"
   ]
  },
  {
   "cell_type": "markdown",
   "id": "069f4fa2",
   "metadata": {},
   "source": [
    "If we don't care about the current value of the iteration, we can replace it with _"
   ]
  },
  {
   "cell_type": "code",
   "execution_count": null,
   "id": "c3366a81",
   "metadata": {},
   "outputs": [],
   "source": [
    "for _ in range(6):\n",
    "  print(\"I'm in an iteration\")"
   ]
  },
  {
   "cell_type": "markdown",
   "id": "55d7b0c9",
   "metadata": {},
   "source": [
    "Print all the even integers from 0 to 10 (10 included)"
   ]
  },
  {
   "cell_type": "code",
   "execution_count": 6,
   "id": "c628d901",
   "metadata": {},
   "outputs": [
    {
     "name": "stdout",
     "output_type": "stream",
     "text": [
      "0\n",
      "2\n",
      "4\n",
      "6\n",
      "8\n",
      "10\n"
     ]
    }
   ],
   "source": [
    "for i in range(11):\n",
    "  if i % 2 == 0:\n",
    "    print(i)"
   ]
  },
  {
   "cell_type": "markdown",
   "id": "f346ee55",
   "metadata": {},
   "source": [
    "Mr. Odd Todd wants to know the sum of **odd** values from 0 to 20 included."
   ]
  },
  {
   "cell_type": "code",
   "execution_count": 7,
   "id": "c0df253d",
   "metadata": {},
   "outputs": [
    {
     "name": "stdout",
     "output_type": "stream",
     "text": [
      "The response for Odd Todd is 100\n"
     ]
    }
   ],
   "source": [
    "s = 0\n",
    "for i in range(21):\n",
    "  if i % 2 == 1:\n",
    "    s = s + i\n",
    "print(\"The response for Odd Todd is\", s)"
   ]
  },
  {
   "cell_type": "markdown",
   "id": "8f2cd1b2",
   "metadata": {},
   "source": [
    "range(1, 21, 2) -> From 1 to 21 with an increment (or step) of 2: 1, 3, 5, ..., 19"
   ]
  },
  {
   "cell_type": "code",
   "execution_count": 8,
   "id": "c7b9ae82",
   "metadata": {},
   "outputs": [
    {
     "name": "stdout",
     "output_type": "stream",
     "text": [
      "1\n",
      "3\n",
      "5\n",
      "7\n",
      "9\n",
      "11\n",
      "13\n",
      "15\n",
      "17\n",
      "19\n",
      "The response for Odd Todd is 100\n"
     ]
    }
   ],
   "source": [
    "s = 0\n",
    "for i in range(1, 21, 2):\n",
    "  print(i)\n",
    "  s += i # same as s = s + i\n",
    "print(\"The response for Odd Todd is\", s)"
   ]
  }
 ],
 "metadata": {
  "kernelspec": {
   "display_name": "3.12.1",
   "language": "python",
   "name": "python3"
  },
  "language_info": {
   "codemirror_mode": {
    "name": "ipython",
    "version": 3
   },
   "file_extension": ".py",
   "mimetype": "text/x-python",
   "name": "python",
   "nbconvert_exporter": "python",
   "pygments_lexer": "ipython3",
   "version": "3.12.1"
  }
 },
 "nbformat": 4,
 "nbformat_minor": 5
}
